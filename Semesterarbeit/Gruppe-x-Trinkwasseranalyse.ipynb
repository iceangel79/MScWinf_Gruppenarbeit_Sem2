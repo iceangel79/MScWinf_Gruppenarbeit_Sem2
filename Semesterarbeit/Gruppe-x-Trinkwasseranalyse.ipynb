{
 "cells": [
  {
   "cell_type": "markdown",
   "metadata": {},
   "source": [
    "\n",
    "<p style=\"text-align: center;font-weight: bold;\">\n",
    "    <br>Datenwasseranalyse<br>\n",
    "    von <br>\n",
    "Gruppe 5 - Flavia xxx, Kay Jana, Murat Ayhekim, AdrianMartic, Adrian Wegmann<br> FFFHS/BFH HSLU und OST - Master of Science in Wirtschaftinformatik <br> März 2025\n",
    "</p"
   ]
  },
  {
   "cell_type": "markdown",
   "metadata": {},
   "source": [
    "# Einleitung\n",
    "In einer zunehmend datengetriebenen Welt sind fundierte Entscheidungen nicht nur für Unternehmen von grosser Bedeutung, sondern auch für Behörden, öffentliche Institutionen und die Gesellschaft insgesamt. Ob es um die Stadtentwicklung, Gesundheitsversorgung oder Umweltfragen geht – wer relevante Informationen aus komplexen Datenmengen gewinnen kann, schafft die Grundlage für nachhaltige und zielgerichtete Massnahmen.\n",
    "\n",
    "Diese Fallstudie orientiert sich am Framework „From Data to Decisions“ der CPA-Guideline und verfolgt das Ziel, datenbasierte Entscheidungsprozesse exemplarisch nachzuvollziehen – nicht nur im wirtschaftlichen Kontext, sondern auch mit Blick auf den öffentlichen Sektor und die Bevölkerung.\n",
    "\n",
    "Anhand einer konkreten Fragestellung zeigen wir, wie Daten sinnvoll erhoben, analysiert und so aufbereitet werden können, dass sie als Entscheidungsgrundlage für Verwaltungen, Organisationen oder gesellschaftliche Akteure dienen.\n",
    "\n",
    "Im Mittelpunkt stehen der Informationsbedarf, die Auswahl geeigneter Datenquellen, die Analyse sowie die klare und verständliche Präsentation der Ergebnisse – mit dem Ziel, datenbasierte Entscheidungen dort zu ermöglichen, wo sie einen echten Unterschied machen."
   ]
  },
  {
   "cell_type": "markdown",
   "metadata": {},
   "source": [
    "# Analyse\n",
    "## Strategische Ziele\n",
    "Die Analyse öffentlich zugänglicher Daten zur Trinkwasserqualität im Kanton Zürich soll dazu beitragen, durch datenbasierte Erkenntnisse Transparenz zu schaffen und Vertrauen in das lokale Hahnenwasser zu stärken.\n",
    "\n",
    "Positive Ergebnisse könnten genutzt werden, um den Konsum von Trinkwasser aus dem Wasserhahn gegenüber abgefülltem Wasser (z. B. in PET-Flaschen) zu fördern. Dies würde nicht nur das Umweltbewusstsein stärken, sondern auch zur Reduktion des CO₂-Fussabdrucks beitragen.\n",
    "\n",
    "Gleichzeitig können die Erkenntnisse auch von privaten Anbietern (z. B. Mineralwasserherstellern) strategisch genutzt werden, um gezielte Kommunikations- und Werbekampagnen zu entwickeln – entweder zur Abgrenzung oder zum Schulterschluss mit den Vorteilen des Hahnenwassers.\n",
    "## Informationsbedarfe / Zielgruppe\n",
    "Informationsbedarfe / Zielgruppen\n",
    "Aus den strategischen Zielen lassen sich folgende Informationsbedarfe und Zielgruppen ableiten:\n",
    "\n",
    "🎯 Zielgruppen:\n",
    "\n",
    "Bevölkerung: Bewusstsein für die eigene Trinkwasserqualität, Vertrauen in Hahnenwasser\n",
    "Behörden / Gesundheitsämter: Grundlage für transparente Kommunikation und gezielte Informationspolitik\n",
    "Private Anbieter (Wasser-/Getränkeindustrie): Nutzung von Daten zur Entwicklung von Produktstrategien und Argumentationen in der Markenkampagne\n",
    "📌 Informationsbedarfe:\n",
    "\n",
    "Ist das Hahnenwasser in meiner Region sicher und qualitativ hochwertig?\n",
    "Gibt es regionale oder saisonale Unterschiede in der Belastung durch Schadstoffe?\n",
    "Wie verhält sich die lokale Wasserqualität im Vergleich zu abgefülltem Mineralwasser?\n",
    "Welche kommunikativen Massnahmen könnten das Vertrauen in das Trinkwasser stärken?\n",
    "##  Key Analytics Questions (KAQs)\n",
    "\n",
    "| **Nr.** | **KAQ – Fragestellung**                                                                                                                                         | **Zweck / Relevanz**                                                                                       |\n",
    "|--------|------------------------------------------------------------------------------------------------------------------------------------------------------------------|-------------------------------------------------------------------------------------------------------------|\n",
    "| 1      | In welchen Gemeinden des Kantons Zürich wurden die höchsten Konzentrationen gemessen?                                                                           | Identifikation geografischer Risikozonen                                                                   |\n",
    "| 2      | Wie häufig und in welchen Konzentrationsbereichen tritt z. B. Chlorothalonil R471811 auf?                                                                       | Bewertung der Belastung durch einzelne Stoffe                                                              |\n",
    "| 3      | Gibt es saisonale Trends oder Korrelationen mit Niederschlag?                                                                                                    | Analyse wetterbedingter Einflüsse, Entwicklung von Frühwarnsystemen                                        |\n",
    "| 4      | Welche Verteilzonen weisen überdurchschnittlich viele kritische Messwerte auf?                                                                                   | Fokussierung von Massnahmen auf besonders betroffene Zonen                                                 |\n",
    "| 5      | Hat sich die Qualität bestimmter Stoffe seit 2020 verbessert oder verschlechtert?                                                                                | Wirkung bisheriger Massnahmen evaluieren                                                                   |\n",
    "| 6      | Gibt es signifikante Unterschiede in der Konzentration bestimmter Analyten zwischen verschiedenen Gemeinden oder Verteilzonen im Kanton Zürich?                  | Statistischer Vergleich zwischen Regionen – Priorisierung von Untersuchungen                               |\n",
    "| 7      | Wie haben sich die Konzentrationen spezifischer Schadstoffe im Trinkwasser des Kantons Zürich über die Jahre verändert?                                          | Langfristige Entwicklung, z. B. nach Einführung von Verboten oder technischer Verbesserungen                |\n",
    "| 8      | Gibt es einen Zusammenhang zwischen der Wasserhärte in verschiedenen Verteilzonen und der Anzahl der von Verbrauchern gemeldeten Beschwerden?                    | Verständnis für Qualitätsempfinden & potenzielle Ursache-Wirkung-Zusammenhänge mit Kundenzufriedenheit     |\n",
    "| 9      | Wie beeinflussen saisonale Veränderungen (z. B. Niederschlagsmengen) die Konzentrationen bestimmter Analyten im Trinkwasser?                                     | Untersuchung externer Einflussfaktoren wie Klima oder Jahreszeit                                           |\n",
    "| 10     | Wie effektiv sind die eingesetzten Wasseraufbereitungsverfahren in verschiedenen Gemeinden des Kantons Zürich in Bezug auf die Reduktion spezifischer Schadstoffe?| Performance-Bewertung von Technologien & Grundlage für Verbesserungen oder Investitionen                   |"
   ]
  },
  {
   "cell_type": "markdown",
   "metadata": {},
   "source": [
    "# Datenmanagement & Datensammlung\n"
   ]
  },
  {
   "cell_type": "markdown",
   "metadata": {},
   "source": [
    "# Implementierung / Datenanalyse "
   ]
  },
  {
   "cell_type": "markdown",
   "metadata": {},
   "source": [
    "# Resultate"
   ]
  },
  {
   "cell_type": "markdown",
   "metadata": {},
   "source": [
    "# Fazit"
   ]
  },
  {
   "cell_type": "markdown",
   "metadata": {},
   "source": [
    "# Referenzen"
   ]
  },
  {
   "cell_type": "markdown",
   "metadata": {},
   "source": [
    "Einleitung\n",
    "➤ Vorstellung der Thematik, Problemstellung & Zielsetzung\n",
    "Analyse / Bedarfsklärung (entspricht Step 1)\n",
    "➤ Strategische Ziele\n",
    "➤ Informationsbedarfe / Zielgruppe\n",
    "➤ Key Analytics Questions (KAQs)\n",
    "Datenmanagement & Datensammlung (entspricht Step 2)\n",
    "➤ Interne / externe Datenquellen\n",
    "➤ Datenformate, Datenschutz, Tools\n",
    "➤ Datenerhebungsmethoden\n",
    "Implementierung / Datenanalyse (entspricht Step 3)\n",
    "➤ Verwendete Analysemethoden (z. B. Data Mining, ML, Statistik)\n",
    "➤ Tools und Techniken\n",
    "➤ Interpretation der Ergebnisse\n",
    "Präsentation der Daten / Resultate (entspricht Step 4)\n",
    "➤ Visualisierungen, Dashboards\n",
    "➤ Erkenntnisse aus der Analyse\n",
    "➤ Antworten auf die KAQs\n",
    "Fazit & Handlungsempfehlungen (optional Step 5)\n",
    "➤ Management Summary\n",
    "➤ Empfohlene Massnahmen / Entscheidungen\n",
    "Referenzen\n",
    "➤ Quellen, verwendete Daten und Literatur"
   ]
  }
 ],
 "metadata": {
  "language_info": {
   "name": "python"
  }
 },
 "nbformat": 4,
 "nbformat_minor": 2
}
