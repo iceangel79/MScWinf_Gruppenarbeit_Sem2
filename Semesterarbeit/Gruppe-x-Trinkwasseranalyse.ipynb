{
 "cells": [
  {
   "cell_type": "markdown",
   "metadata": {},
   "source": [
    "\n",
    "<p style=\"text-align: center;font-weight: bold;\">\n",
    "    <br>Datenwasseranalyse<br>\n",
    "    von <br>\n",
    "Gruppe 5 - Flavia xxx, Kay Jana, Murat Ayhekim, AdrianMartic, Adrian Wegmann<br> FFFHS/BFH HSLU und OST - Master of Science in Wirtschaftinformatik <br> März 2025\n",
    "</p"
   ]
  },
  {
   "cell_type": "markdown",
   "metadata": {},
   "source": [
    "# Einleitung\n",
    "In einer zunehmend datengetriebenen Welt sind fundierte Entscheidungen nicht nur für Unternehmen von grosser Bedeutung, sondern auch für Behörden, öffentliche Institutionen und die Gesellschaft insgesamt. Ob es um die Stadtentwicklung, Gesundheitsversorgung oder Umweltfragen geht – wer relevante Informationen aus komplexen Datenmengen gewinnen kann, schafft die Grundlage für nachhaltige und zielgerichtete Massnahmen.\n",
    "\n",
    "Diese Fallstudie orientiert sich am Framework „From Data to Decisions“ der CPA-Guideline und verfolgt das Ziel, datenbasierte Entscheidungsprozesse exemplarisch nachzuvollziehen – nicht nur im wirtschaftlichen Kontext, sondern auch mit Blick auf den öffentlichen Sektor und die Bevölkerung.\n",
    "\n",
    "Anhand einer konkreten Fragestellung zeigen wir, wie Daten sinnvoll erhoben, analysiert und so aufbereitet werden können, dass sie als Entscheidungsgrundlage für Verwaltungen, Organisationen oder gesellschaftliche Akteure dienen.\n",
    "\n",
    "Im Mittelpunkt stehen der Informationsbedarf, die Auswahl geeigneter Datenquellen, die Analyse sowie die klare und verständliche Präsentation der Ergebnisse – mit dem Ziel, datenbasierte Entscheidungen dort zu ermöglichen, wo sie einen echten Unterschied machen."
   ]
  },
  {
   "cell_type": "markdown",
   "metadata": {},
   "source": [
    "# Analyse\n",
    "Die Analyse der Daten ermöglicht uns einerseits \n",
    "## Strategische Ziele\n",
    "## Informationsbedarfe / Zielgruppe\n",
    "## Key Analytics Questions (KAQs)"
   ]
  },
  {
   "cell_type": "markdown",
   "metadata": {},
   "source": [
    "# Datenmanagement & Datensammlung\n"
   ]
  },
  {
   "cell_type": "markdown",
   "metadata": {},
   "source": [
    "# Implementierung / Datenanalyse "
   ]
  },
  {
   "cell_type": "markdown",
   "metadata": {},
   "source": [
    "# Resultate"
   ]
  },
  {
   "cell_type": "markdown",
   "metadata": {},
   "source": [
    "# Fazit"
   ]
  },
  {
   "cell_type": "markdown",
   "metadata": {},
   "source": [
    "# Referenzen"
   ]
  },
  {
   "cell_type": "markdown",
   "metadata": {},
   "source": [
    "Einleitung\n",
    "➤ Vorstellung der Thematik, Problemstellung & Zielsetzung\n",
    "Analyse / Bedarfsklärung (entspricht Step 1)\n",
    "➤ Strategische Ziele\n",
    "➤ Informationsbedarfe / Zielgruppe\n",
    "➤ Key Analytics Questions (KAQs)\n",
    "Datenmanagement & Datensammlung (entspricht Step 2)\n",
    "➤ Interne / externe Datenquellen\n",
    "➤ Datenformate, Datenschutz, Tools\n",
    "➤ Datenerhebungsmethoden\n",
    "Implementierung / Datenanalyse (entspricht Step 3)\n",
    "➤ Verwendete Analysemethoden (z. B. Data Mining, ML, Statistik)\n",
    "➤ Tools und Techniken\n",
    "➤ Interpretation der Ergebnisse\n",
    "Präsentation der Daten / Resultate (entspricht Step 4)\n",
    "➤ Visualisierungen, Dashboards\n",
    "➤ Erkenntnisse aus der Analyse\n",
    "➤ Antworten auf die KAQs\n",
    "Fazit & Handlungsempfehlungen (optional Step 5)\n",
    "➤ Management Summary\n",
    "➤ Empfohlene Massnahmen / Entscheidungen\n",
    "Referenzen\n",
    "➤ Quellen, verwendete Daten und Literatur"
   ]
  }
 ],
 "metadata": {
  "language_info": {
   "name": "python"
  }
 },
 "nbformat": 4,
 "nbformat_minor": 2
}
