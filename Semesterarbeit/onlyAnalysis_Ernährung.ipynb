{
  "cells": [
    {
      "cell_type": "markdown",
      "metadata": {
        "id": "view-in-github",
        "colab_type": "text"
      },
      "source": [
        "<a href=\"https://colab.research.google.com/github/iceangel79/MScWinf_Gruppenarbeit_Sem2/blob/main/Semesterarbeit/onlyAnalysis_Ern%C3%A4hrung.ipynb\" target=\"_parent\"><img src=\"https://colab.research.google.com/assets/colab-badge.svg\" alt=\"Open In Colab\"/></a>"
      ]
    },
    {
      "cell_type": "markdown",
      "metadata": {
        "id": "kx370sdjBAfg"
      },
      "source": [
        "<div align=\"center\">\n",
        "\n",
        "# **Personalisierte Ernährung zur Prävention ernährungsbedingter Krankheiten**\n",
        "\n",
        "<br>\n",
        "\n",
        "**Gruppe 5**  \n",
        "Flavia De Solda, Kay Sheppard, Murat Ayhekim, Adrian Martic, Adrian Wegmann  \n",
        "<br>\n",
        "FFHS / BFH / HSLU und OST  \n",
        "Master of Science in Wirtschaftsinformatik  \n",
        "<br>\n",
        "**März 2025**\n",
        "\n",
        "</div>\n",
        "\n",
        "---\n",
        "\n",
        "##  Erklärung\n",
        "\n",
        "Wir erklären hiermit, dass wir die vorliegende Arbeit für das Modul **BINA** bzw. die von uns ausgewiesene Leistung **selbständig**, ohne unzulässige Hilfe Dritter und ausschließlich unter Verwendung der angegebenen Quellen verfasst bzw. erbracht haben.\n",
        "\n",
        "Zur sprachlichen Überprüfung, zur besseren Verständlichkeit der Zusammenhänge sowie zur Sicherstellung eines konsistenten roten Fadens wurde unterstützend ein KI-Tool eingesetzt.\n",
        "\n",
        "<div align=\"right\">Zürich, 02.06.2025</div>  \n",
        "<div align=\"right\">Die unterschriebene Selbständigkeitserklärung befindet sich im Anhang.</div>\n",
        "\n",
        "---\n",
        "\n",
        "## Einleitung\n",
        "\n",
        "Ernährungsbedingte Krankheiten wie Typ-2-Diabetes, Bluthochdruck und Adipositas nehmen weltweit zu. Gleichzeitig bleibt der Zugang zu individueller, präventiv wirksamer Ernährungsberatung beschränkt: Klassische Beratungen sind kostenintensiv und nicht skalierbar, während pauschale Ernährungsempfehlungen oft an den tatsächlichen Bedürfnissen vorbeigehen. Dank moderner Datenanalyse und Machine Learning eröffnen sich heute jedoch neue Möglichkeiten, personalisierte Ernährungsempfehlungen datenbasiert, automatisiert und massentauglich zu gestalten.\n",
        "Im Rahmen dieser Fallstudie simulieren wir die Entwicklung eines fiktiven digitalen Empfehlungstools namens „NutriDecide“. Dieses Tool soll auf Basis realer Essgewohnheiten, Nährstoffverteilungen und Gesundheitsdaten konkrete Empfehlungen für eine ausgewogene, gesundheitsfördernde Ernährung ableiten.\n",
        "\n",
        "Wir orientieren uns dabei am **CPA-Framework _\"From Data to Decisions\"_** und fokussieren uns insbesondere auf folgende Schritte:\n",
        "\n",
        "1. Zieldefinition und Informationsbedarf  \n",
        "2. Datenerhebung und -integration  \n",
        "3. Datenanalyse  \n",
        "4. Kommunikation der Erkenntnisse für Entscheider\n",
        "\n",
        "Zwar existieren bereits zahlreiche virtuelle Ernährungstools und -Apps auf dem Markt, jedoch fokussieren sich diese häufig primär auf Gewichtsverlust oder allgemeine Kalorienziele. Eine fundierte, auf wissenschaftlichen Empfehlungen basierende Risikoabschätzung hinsichtlich chronischer Erkrankungen fehlt meist.\n",
        "\n",
        "NutriDecide setzt genau hier an und verfolgt einen präventiven, individualisierten Ansatz mit klarer Zielsetzung: Die Identifikation gesundheitlich bedenklicher Ernährungsmuster und die Ableitung konkreter Verbesserungsvorschläge auf Basis anerkannter Referenzwerte (z.B. BLV).\n",
        "Das Tool adressiert den steigenden Bedarf an Gesundheitsprävention und soll potenziell über Krankenkassen angeboten werden. Diese können damit ihren Versicherten einen kostenlosen Zugang zu individuellen Ernährungsempfehlungen bieten – und gleichzeitig durch gezielte Prävention langfristig die Gesundheitskosten senken. „NutriDecide“ positioniert sich damit als innovatives Bindeglied zwischen Versicherer, Nutzer:in und Gesundheitsförderung.\n",
        "\n",
        "\n",
        "## Theoretische Grundlage\n",
        "-  Was ist Makronährstoffe: Makronährstoffe sind die grossen Nährstoffe, die unser Körper in grösseren Mengen braucht, im Gegensatz zu Mikronährstoffen wie Vitaminen oder Mineralstoffen.\n",
        "Wichtigkeit für Körper:\n",
        "- Ohne Proteine → keine Muskeln, kein Immunsystem.\n",
        "- Ohne Kohlenhydrate → keine schnelle Energie für Gehirn & Muskeln.\n",
        "- Ohne Fette → keine fettlöslichen Vitamine, keine Hormone.\n",
        "\n",
        "---\n",
        "## 1 Zieldefinition und Informationsbedarf\n",
        "Damit ein digitales Ernährungstool wie NutriDecide überhaupt sinnvoll entwickelt und eingesetzt werden kann, braucht es zuerst eine solide Datengrundlage.\n",
        "Dazu gehört nicht nur, zu wissen, was Menschen essen, sondern auch, wie sich diese Essgewohnheiten auf ihre Gesundheit auswirken – und welche Empfehlungen daraus abgeleitet werden können.\n",
        "\n",
        "Im Sinne des CPA-Frameworks ist es deshalb entscheidend, sich zuerst die richtigen Fragen zu stellen, bevor man technische Lösungen entwickelt.\n",
        "Nur wenn klar ist, welche Informationen wirklich gebraucht werden, lässt sich ein Tool gestalten, das am Ende für Nutzer:innen oder Organisationen einen echten Mehrwert bringt.\n",
        "\n",
        "Genau deshalb haben wir vier zentrale Key Analytics Questions (KAQs) formuliert, die unsere Analyse leiten. Sie helfen uns zu verstehen, welche Daten wir brauchen, wie wir sie kombinieren müssen – und was wir daraus lernen wollen.\n",
        "\n",
        "\n",
        "| **KAQ Nr.** | **Key Analytics Question** | **Daten** | **Vorgehen / Schritte** |\n",
        "|------------:|----------------------------|-----------|--------------------------|\n",
        "| 1 | In welchen Ernährungsmustern liegt eine potenziell unausgewogene Nährstoffzufuhr vor? | `diet.csv, examination.csv, questionnaire.csv` | Identifikation von Clustern |\n",
        "| 2 | Welche Ernährungsmuster sind statistisch signifikant mit bestimmten Krankheitsbildern assoziiert – und lassen sich Risikogruppen identifizieren? | `diet.csv, examination.csv, questionnaire.csv` | Korrelation von Clustern |\n",
        "| 3 | Wie stark weichen die identifizierten Ernährungsmuster (Cluster/Risikogruppen) von den offiziellen Nährstoffempfehlungen (z. B. BLV) ab – und welche Nährstoffe sind dabei besonders kritisch in Bezug auf präventive Gesundheit? | `diet.csv, examination.csv, questionnaire.csv` | Gruppenvergleich (Mittelwerte), Abweichungsberechnung in %, Heatmap oder Radarplot |\n",
        "| 4 | Wie können auf Basis individueller Ernährungsmuster und assoziierter Krankheitsrisiken personalisierte Ernährungsempfehlungen abgeleitet werden, um präventiv gegenzusteuern – und welche konkreten Lebensmittel(-gruppen) eignen sich zur Umsetzung? | `diet.csv, examination.csv, questionnaire.csv` | Matching Nährstoffdefizite ↔ Nährstoffreiche Lebensmittel, Scoring, Ranking, einfache Optimierungslogik |\n",
        "\n",
        "---\n",
        "\n",
        "##  2 Datenerhebung und -integration\n",
        "\n",
        "Für die Beantwortung unsere Fragen und dem entwickeln des Tools benötigen, wir Daten welche sich dafür eignen.\n",
        "\n",
        "**Datenquelle**\n",
        "Bei der Auswahl unserer Datenquellen haben wir uns an folgenden Kriterien orientiert:\n",
        "\n",
        "- Die Daten mussten die für unsere Fragestellungen relevanten Informationen enthalten, insbesondere Angaben zur individuellen Nährstoffzufuhr und zum Gesundheitszustand.\n",
        "\n",
        "- Die Daten sollten eine ausreichende Anzahl von Beobachtungen aufweisen, um statistische Analysen (z.B. Clustering) mit gewisser Aussagekraft durchführen zu können.\n",
        "\n",
        "- Die Struktur der Datensätze sollte grundsätzlich verständlich und weiterverarbeitbar sein – auch wenn wir eine eigene Bereinigung und Aufbereitung vornehmen würden.\n",
        "\n",
        "Folgende Datensätze von Kaggle haben unsere Anforderungene erfüllt:\n",
        "- NHANES-Daten: Ernährungsdaten (diet.csv), Untersuchungsdaten (examination.csv), Diesagnosedaten, Gesundheitsdaten (questionnaire.csv);\n",
        "- Detailed Meals Macros CLEANED und Food and Nutrition\n",
        "\n",
        "Für den Abgleich mit offiziellen Nährstoffzufuhrs Empfehlungen greifen wir auf die Richtwerte des Bundesamts für Lebensmittelsicherheit und Veterinärwesen (BLV) zurück. Diese gelten als anerkannter Standard in der Schweiz und kommen in der Gesundheitsförderung sowie Ernährungsberatung zum Einsatz. Im Vergleich mit internationalen Richtwerten der WHO stimmen die grundlegenden Zielwerte weitgehend überein.\n",
        "\n",
        " **Verwendete Datensätze**\n",
        "\n",
        "1. **National Health and Nutrition Examination-Survey (NHANES)-Daten** (Kaggle)\n",
        "   - Ernährungsdaten (diet.csv): Kalorien, Zucker, Fette, Vitamine\n",
        "   - Untersuchungsdaten (examination.csv): Blutdruck, Körpergrösse, Gewicht, BMI\n",
        "   - Fragebogen (questionnaire.csv): Diagnosedaten, Gesundheitsverhalten\n",
        "\n",
        "   https://www.kaggle.com/datasets/cdc/national-health-and-nutrition-examination-survey\n",
        "\n",
        "2. **Detailed Meals Macros CLEANED** (Kaggle)  \n",
        "   - Personenbezogene Merkmale: Alter, Geschlecht, Grösse, Gewicht, Aktivitätslevel  \n",
        "   - Nährwertprofile der Mahlzeiten (Frühstück, Mittagessen, Abendessen, Snacks)  \n",
        "   - Krankheitsstatus (z. B. Hypertension, Diabetes, Weight Gain)\n",
        "\n",
        "   https://www.kaggle.com/code/chaitanya99/eda-nutritional-patterns-dite-recommendation/input?scriptVersionId=211165422&select=detailed_meals_macros_CLEANED.csv\n",
        "\n",
        "3. **Food and Nutrition Dataset** (Kaggle)  \n",
        "   - Nährwerte einzelner Lebensmittel (Makros & Mikros)  \n",
        "   - Ermöglicht detaillierte Aufschlüsselung komplexer Mahlzeiten\n",
        "\n",
        "   https://www.kaggle.com/datasets/utsavdey1410/food-nutrition-dataset/data\n",
        "\n",
        "4. **BLV Schweizer Referenzwerte**  \n",
        "   - Offizielle Empfehlungen zur idealen Nährstoffzufuhr\n",
        "\n",
        "   https://www.blv.admin.ch/blv/de/home/lebensmittel-und-ernaehrung/ernaehrung/empfehlungen-informationen/naehrstoffe/naehrstoffzufuhr-dynamische-tabelle.html\n",
        "\n",
        "\n",
        "\n",
        "**Datenqualität**\n",
        "Die von uns verwendeten Datensätze stammen aus verschiedenen öffentlich zugänglichen Quellen (z. B. Kaggle oder offizielle Webseiten) und unterscheiden sich hinsichtlich Struktur, Umfang und Granularität.\n",
        "Der Datensatz „detailed_meals_macros_CLEANED.csv“ enthält 1’697 Einträge zu individuellen Tagesmahlzeiten inklusive Angabe von möglichen Erkrankungen.\n",
        "Der Datensatz „Food_and_Nutrition__.csv“ umfasst 1’698 Lebensmittelprofile mit Angaben zu Makro- und Mikronährstoffen.\n",
        "Zusätzlich wurden fünf Dateien aus einer erweiterten Lebensmitteldatenbank (FOOD-DATA-GROUP1 bis GROUP5) kombiniert, welche in Summe 2’395 Einträge enthalten.\n",
        "\n",
        "Die Datensätze wiesen bei erster Sichtung eine grundsätzlich saubere Struktur auf. Trotzdem war eine eigenständige Prüfung und Bereinigung notwendig. Vor allem im Ernährungsdatensatz mussten wir sicherstellen, dass alle relevanten Spalten vollständig befüllt und keine Duplikate vorhanden waren.\n",
        "Auch bei den Nährwertangaben war eine Überprüfung auf Konsistenz und Redundanz notwendig.\n",
        "Die BLV-Referenzwerte wurden als externe Normquelle verwendet. Diese blieben inhaltlich unverändert, wurden jedoch bezüglich Formatierung und Spaltenstruktur angepasst, um sie in die Analyse zu integrieren.\n",
        "\n",
        "- **Datenbereinigung:**\n",
        "Zur Bereinigung der Ernährungsdaten (detailed_meals_macros_CLEANED.csv) wurden zunächst einzelne fehlende Werte in kritischen Spalten überprüft. Es wurde eine Zeile entfernt, in der der Wert für „Breakfast Carbohydrates“ fehlte.\n",
        "Anschliessend wurden Duplikate bereinigt, wobei die Spalte Disease_List ausgenommen wurde, um unterschiedliche Krankheitsprofile nicht zu verlieren.\n",
        "\n",
        "Die Krankheitsangaben wurden in strukturierte Listen umgewandelt, sodass auch Mehrfacherkrankungen korrekt berücksichtigt werden konnten. Daraus wurde eine zusätzliche Spalte Disease_Count (Anzahl Krankheiten pro Person) sowie ein Disease_Tuple für Gruppierungen erstellt.\n",
        "\n",
        "Im Datensatz „Food_and_Nutrition__.csv“ waren keine fehlenden Werte vorhanden. Es wurden ausschliesslich Dubletten entfernt.\n",
        "Bei den kombinierten Lebensmitteldaten (GROUP1–GROUP5) verhielt es sich gleich: Es gab keine fehlenden Einträge, jedoch wurden Doppelerfassungen eliminiert. Der kombinierte Datensatz bestand am Ende aus 2’395 vollständigen Einträgen.\n",
        "\n",
        "Die BLV-Daten wurden ausschliesslich formatiert (Spaltennamen bereinigt, leere Zeilen entfernt), jedoch inhaltlich nicht verändert, da sie als offizielle Referenz gelten und keine Manipulation vorgenommen werden sollte.\n",
        "- **Feature Engineering:** Erstellung neuer Features, die für die Analyse relevant sind (z.B. Mikronährstoffe, Kalorien).\n",
        "\n",
        "\n",
        "\n",
        "---\n",
        "\n",
        "##  3 Datenanalyse\n",
        "\n",
        "**1. Explorative Datenanalyse (EDA)**\n",
        "- **Deskriptive Statistiken:** Berechnung von Mittelwerten, Medianen und Standardabweichungen für die Mikronährstoffprofile.\n",
        "- **Visualisierungen:** Erstellung von Diagrammen (Boxplots, Histogramme) zur Visualisierung der Verteilung der Nährstoffe.\n",
        "\n",
        "**2. Ernährungsmuster identifizieren**\n",
        "- **Clusteranalyse:** Verwendung von Algorithmen wie K-Means oder Hierarchical Clustering, um Ernährungsmuster zu identifizieren.\n",
        "- **Interpretation der Cluster:** Analysiere die Cluster, um typische Ernährungsmuster zu beschreiben.\n",
        "\n",
        "**3. Zusammenhang zwischen Ernährung und Krankheitsrisiken**\n",
        "- **Korrelationsanalyse:** Untersuchung der Korrelation zwischen Ernährungsmustern und Krankheitsrisiken.\n",
        "- **Regressionsmodelle:** Erstelle Regressionsmodelle, um den Einfluss der Ernährung auf Krankheitsrisiken zu quantifizieren.\n",
        "\n",
        "**4. Identifikation unausgewogener Ernährungsmuster**\n",
        "- **Vergleich mit Empfehlungen:** Vergleiche der identifizierten Ernährungsmuster mit offiziellen Ernährungsempfehlungen.\n",
        "- **Identifikation von Defizien/Überschüssen:** Bestimmung, welche Muster potenziell unausgewogen sind (z.B. zu wenig Protein, zu viel Zucker).\n",
        "\n",
        "**5. Vergleich von Personen mit und ohne Krankheit**\n",
        "- **Gruppenvergleich:** Vergleich der Ernähungsprofile von Personen mit und ohne Krankheiten.\n",
        "- **Statistische Tests:** Verwendung von Tests wie dem t-Test, um signifikante Unterschiede zu identifizieren.\n",
        "\n",
        "**6. Empfehlungen basierend auf Clusterbildung**\n",
        "- **Personalisierte Empfehlungen:** Erstellung von personalisierten Ernährungsempfehlungen basierend auf den identifizierten Clustern.\n",
        "- **Berücksichtigung von Krankheiten:** Integration von offiziellen Empfehlungen für bestimmte Krankheiten in die personalisierten Empfehlungen.\n",
        "\n",
        "\n",
        "---\n",
        "\n",
        "## 4 Kommunikation der Erkenntnisse für Entscheider\n",
        "\n",
        "- Visualisierung der Resultate (Dashboards, Diagramme)  \n",
        "- Empfehlungen je Zielgruppe  \n",
        "- Ableitung konkreter Maßnahmen oder Produktideen\n",
        "\n",
        "---\n"
      ]
    },
    {
      "cell_type": "code",
      "execution_count": null,
      "metadata": {
        "id": "6dWVwuvTBJvI"
      },
      "outputs": [],
      "source": []
    },
    {
      "cell_type": "code",
      "execution_count": null,
      "metadata": {
        "id": "pzdSirXnBJz1"
      },
      "outputs": [],
      "source": []
    },
    {
      "cell_type": "markdown",
      "metadata": {
        "id": "lArqhOtv10mK"
      },
      "source": [
        "# Wir wollen dich zuerst kennenlernen. Berehcne deine Tagesbedarf"
      ]
    },
    {
      "cell_type": "code",
      "execution_count": null,
      "metadata": {
        "id": "U1KIYYfgBJ3M",
        "outputId": "02b82836-5fea-4cb1-eb9c-77f232b61f9f"
      },
      "outputs": [
        {
          "name": "stdout",
          "output_type": "stream",
          "text": [
            "🔍 Persönliche Angaben:\n"
          ]
        }
      ],
      "source": []
    },
    {
      "cell_type": "code",
      "execution_count": null,
      "metadata": {
        "id": "VhVXshesBJ6Y"
      },
      "outputs": [],
      "source": []
    },
    {
      "cell_type": "code",
      "execution_count": null,
      "metadata": {
        "id": "VEm2Iz4yBJ-U"
      },
      "outputs": [],
      "source": []
    },
    {
      "cell_type": "code",
      "execution_count": null,
      "metadata": {
        "id": "Iwdzl-3OBKBZ"
      },
      "outputs": [],
      "source": []
    },
    {
      "cell_type": "code",
      "execution_count": null,
      "metadata": {
        "id": "_3pQYa3WBKEk"
      },
      "outputs": [],
      "source": []
    },
    {
      "cell_type": "code",
      "execution_count": null,
      "metadata": {
        "id": "1J4x014UBKIt"
      },
      "outputs": [],
      "source": []
    },
    {
      "cell_type": "code",
      "execution_count": null,
      "metadata": {
        "id": "naq3Kb8d-yRg"
      },
      "outputs": [],
      "source": [
        "#pip install scikit-learn\n",
        "#pip install kaggle"
      ]
    },
    {
      "cell_type": "code",
      "execution_count": 3,
      "metadata": {
        "id": "h0lCli_GXZmD"
      },
      "outputs": [],
      "source": [
        "# Datenverarbeitung und Analyse\n",
        "import pandas as pd\n",
        "import numpy as np\n",
        "\n",
        "# Visualisierung\n",
        "import matplotlib.pyplot as plt\n",
        "import seaborn as sns\n",
        "import plotly.express as px\n",
        "\n",
        "# Preprocessing & Reduktion\n",
        "from sklearn.preprocessing import StandardScaler\n",
        "from sklearn.decomposition import PCA\n",
        "\n",
        "# Clustering\n",
        "from sklearn.cluster import KMeans\n",
        "\n",
        "# Klassifikation & Modellbewertung\n",
        "from sklearn.model_selection import train_test_split\n",
        "from sklearn.tree import DecisionTreeClassifier\n",
        "from sklearn.ensemble import RandomForestClassifier\n",
        "from sklearn.metrics import classification_report\n",
        "\n",
        "# Interaktive Umgebung (optional, z. B. in Jupyter Notebooks)\n",
        "from IPython.core.interactiveshell import InteractiveShell\n",
        "InteractiveShell.ast_node_interactivity = \"all\"\n",
        "\n",
        "#MarkDown\n",
        "from IPython.display import display, Markdown\n",
        "\n"
      ]
    },
    {
      "cell_type": "code",
      "execution_count": 4,
      "metadata": {
        "id": "IHCOlsVR10mP",
        "outputId": "f427dd88-64a3-457d-b287-63b4f828cb8b",
        "colab": {
          "base_uri": "https://localhost:8080/"
        }
      },
      "outputs": [
        {
          "output_type": "stream",
          "name": "stdout",
          "text": [
            "🔍 Persönliche Angaben:\n",
            "Gewicht (kg): 70\n",
            "Grösse (cm): 177\n",
            "Alter (Jahre): 37\n",
            "Geschlecht (m/w): m\n",
            "\n",
            "⚡ Aktivitätslevel:\n",
            "1 = Keine Bewegung (Bürojob)\n",
            "2 = Wenig aktiv (1–2x pro Woche Sport)\n",
            "3 = Mässig aktiv (3–5x pro Woche Sport)\n",
            "4 = Sehr aktiv (tägliches Training)\n",
            "5 = Extrem aktiv (körperlich harte Arbeit)\n",
            "Wähle dein Aktivitätslevel (1–5): 3\n",
            "\n",
            "📊 Ergebnisse:\n",
            "- Grundumsatz (BMR): 1626 kcal\n",
            "- Leistungsumsatz:   894 kcal\n",
            "- Gesamtumsatz (TDEE): 2521 kcal\n"
          ]
        }
      ],
      "source": [
        "def get_user_inputs():\n",
        "    print(\"🔍 Persönliche Angaben:\")\n",
        "    gewicht = float(input(\"Gewicht (kg): \"))\n",
        "    groesse = float(input(\"Grösse (cm): \"))\n",
        "    alter = int(input(\"Alter (Jahre): \"))\n",
        "    geschlecht = input(\"Geschlecht (m/w): \").lower()\n",
        "\n",
        "    print(\"\\n⚡ Aktivitätslevel:\")\n",
        "    print(\"1 = Keine Bewegung (Bürojob)\")\n",
        "    print(\"2 = Wenig aktiv (1–2x pro Woche Sport)\")\n",
        "    print(\"3 = Mässig aktiv (3–5x pro Woche Sport)\")\n",
        "    print(\"4 = Sehr aktiv (tägliches Training)\")\n",
        "    print(\"5 = Extrem aktiv (körperlich harte Arbeit)\")\n",
        "    aktivitaetslevel = int(input(\"Wähle dein Aktivitätslevel (1–5): \"))\n",
        "\n",
        "    return gewicht, groesse, alter, geschlecht, aktivitaetslevel\n",
        "\n",
        "def berechne_umsatz(gewicht, groesse, alter, geschlecht, aktivitaetslevel):\n",
        "    # Grundumsatz berechnen (Mifflin-St. Jeor-Formel)\n",
        "    if geschlecht == 'm':\n",
        "        grundumsatz = 10 * gewicht + 6.25 * groesse - 5 * alter + 5\n",
        "    elif geschlecht == 'w':\n",
        "        grundumsatz = 10 * gewicht + 6.25 * groesse - 5 * alter - 161\n",
        "    else:\n",
        "        print(\"❌ Ungültiges Geschlecht.\")\n",
        "        return None, None, None\n",
        "\n",
        "    aktivitaetsfaktor = {\n",
        "        1: 1.2,\n",
        "        2: 1.375,\n",
        "        3: 1.55,\n",
        "        4: 1.725,\n",
        "        5: 1.9\n",
        "    }\n",
        "\n",
        "    faktor = aktivitaetsfaktor.get(aktivitaetslevel, 1.2)\n",
        "    gesamtumsatz = grundumsatz * faktor\n",
        "    leistungsumsatz = gesamtumsatz - grundumsatz\n",
        "\n",
        "    return grundumsatz, leistungsumsatz, gesamtumsatz\n",
        "\n",
        "# Ablauf\n",
        "gewicht, groesse, alter, geschlecht, aktivitaetslevel = get_user_inputs()\n",
        "grundumsatz, leistungsumsatz, gesamtumsatz = berechne_umsatz(gewicht, groesse, alter, geschlecht, aktivitaetslevel)\n",
        "\n",
        "if grundumsatz:\n",
        "    print(\"\\n📊 Ergebnisse:\")\n",
        "    print(f\"- Grundumsatz (BMR): {round(grundumsatz)} kcal\")\n",
        "    print(f\"- Leistungsumsatz:   {round(leistungsumsatz)} kcal\")\n",
        "    print(f\"- Gesamtumsatz (TDEE): {round(gesamtumsatz)} kcal\")\n"
      ]
    },
    {
      "cell_type": "code",
      "execution_count": 5,
      "metadata": {
        "id": "myHHCjt110mP",
        "outputId": "d11fb27d-d0d6-4601-acc6-fdbe0b7a89f3",
        "colab": {
          "base_uri": "https://localhost:8080/"
        }
      },
      "outputs": [
        {
          "output_type": "stream",
          "name": "stdout",
          "text": [
            "Gewicht (kg): 70\n",
            "Grösse (cm): 177\n",
            "Alter: 37\n",
            "Kalorienzufuhr (kcal): 2000\n",
            "Fett (g): 60\n",
            "Zucker (g): 60\n",
            "Natrium (mg): 0\n",
            "++++++++++2520.6875++++++++\n",
            "\n",
            "🔎 Ergebnis für deine Eingaben:\n",
            "- BMI: 22.3\n",
            "- Ernährungsmuster: Zuckerreich\n",
            "\n",
            "✅ Empfohlene Lebensmittel:\n",
            "Beeren, Äpfel, Wasser, Ungesüsster Tee\n",
            "\n",
            "⛔ Zu meiden:\n",
            "Softdrinks, Süssigkeiten, gezuckertes Müsli\n"
          ]
        }
      ],
      "source": [
        "def get_user_inputs():\n",
        "    gewicht = float(input(\"Gewicht (kg): \"))\n",
        "    groesse = float(input(\"Grösse (cm): \"))\n",
        "    alter = int(input(\"Alter: \"))\n",
        "    kalorien = int(input(\"Kalorienzufuhr (kcal): \"))\n",
        "    fett = int(input(\"Fett (g): \"))\n",
        "    zucker = int(input(\"Zucker (g): \"))\n",
        "    natrium = int(input(\"Natrium (mg): \"))\n",
        "    return gewicht, groesse, alter, kalorien, fett, zucker, natrium\n",
        "\n",
        "def berechne_und_empfehle(gewicht, groesse, alter, kalorien, fett, zucker, natrium):\n",
        "    bmi = gewicht / (groesse / 100) ** 2\n",
        "\n",
        "    print(\"++++++++++\" + str(gesamtumsatz) + \"++++++++\")\n",
        "    zu_viel_kcal = kalorien > gesamtumsatz #2500\n",
        "    zu_viel_fett = fett > 75\n",
        "    zu_viel_zucker = zucker > 50\n",
        "    zu_viel_natrium = natrium > 2000\n",
        "\n",
        "    if zu_viel_kcal and zu_viel_fett:\n",
        "        muster = 'Fett- & kalorienreich'\n",
        "    elif zu_viel_zucker:\n",
        "        muster = 'Zuckerreich'\n",
        "    elif zu_viel_natrium:\n",
        "        muster = 'Salzreich'\n",
        "    else:\n",
        "        muster = 'Unauffällig'\n",
        "\n",
        "    lebensmittel_empfehlungen = {\n",
        "        'Fett- & kalorienreich': {\n",
        "            'Empfohlen': \"Brokkoli, Kartoffeln, Vollkornreis, Hülsenfrüchte, Lachs\",\n",
        "            'Meiden': \"Fast Food, Wurst, Käse, Frittierte Speisen\"\n",
        "        },\n",
        "        'Zuckerreich': {\n",
        "            'Empfohlen': \"Beeren, Äpfel, Wasser, Ungesüsster Tee\",\n",
        "            'Meiden': \"Softdrinks, Süssigkeiten, gezuckertes Müsli\"\n",
        "        },\n",
        "        'Salzreich': {\n",
        "            'Empfohlen': \"Frisches Gemüse, Spinat, Banane, ungesalzene Nüsse\",\n",
        "            'Meiden': \"Chips, Fertiggerichte, Wurst, Instantnudeln\"\n",
        "        },\n",
        "        'Unauffällig': {\n",
        "            'Empfohlen': \"Ausgewogene Mischkost – Obst, Gemüse, Vollkorn\",\n",
        "            'Meiden': \"Keine besonderen Einschränkungen\"\n",
        "        }\n",
        "    }\n",
        "\n",
        "    emp = lebensmittel_empfehlungen[muster]['Empfohlen']\n",
        "    mei = lebensmittel_empfehlungen[muster]['Meiden']\n",
        "\n",
        "    print(f\"\\n🔎 Ergebnis für deine Eingaben:\")\n",
        "    print(f\"- BMI: {bmi:.1f}\")\n",
        "    print(f\"- Ernährungsmuster: {muster}\")\n",
        "    print(f\"\\n✅ Empfohlene Lebensmittel:\\n{emp}\")\n",
        "    print(f\"\\n⛔ Zu meiden:\\n{mei}\")\n",
        "\n",
        "# Ausführung\n",
        "werte = get_user_inputs()\n",
        "berechne_und_empfehle(*werte)\n"
      ]
    },
    {
      "cell_type": "markdown",
      "metadata": {
        "id": "Lpq4GnS_Tm_7"
      },
      "source": [
        "**Überblick über das Thema Ernährung und die Krankheiten Bluthochdruck, Diabetes und Übergewicht**"
      ]
    },
    {
      "cell_type": "markdown",
      "metadata": {
        "id": "N6S1UUYKByuL"
      },
      "source": [
        "<img src=\"https://raw.githubusercontent.com/iceangel79/MScWinf_Gruppenarbeit_Sem2/1a912ddf00236ad8302bc8cc1fbfa6225ad52127/Semesterarbeit/Images/Ernährung_und_Ges.png\" alt=\"Beispielbild\" width=\"300\" />"
      ]
    },
    {
      "cell_type": "code",
      "execution_count": null,
      "metadata": {
        "id": "qJ88yGMGThGq"
      },
      "outputs": [],
      "source": [
        "# =====================================\n",
        "# Author:\n",
        "# KAQ:\n",
        "# Description:\n",
        "# =====================================\n",
        "\n",
        "# 1. CSV-Dateien laden\n",
        "diet = pd.read_csv(\"https://raw.githubusercontent.com/iceangel79/MScWinf_Gruppenarbeit_Sem2/refs/heads/main/Semesterarbeit/Datasets/Kaggle/diet.csv\")\n",
        "examination = pd.read_csv(\"https://raw.githubusercontent.com/iceangel79/MScWinf_Gruppenarbeit_Sem2/refs/heads/main/Semesterarbeit/Datasets/Kaggle/examination.csv\")\n",
        "questionnaire = pd.read_csv(\"https://raw.githubusercontent.com/iceangel79/MScWinf_Gruppenarbeit_Sem2/refs/heads/main/Semesterarbeit/Datasets/Kaggle/questionnaire.csv\")\n",
        "\n",
        "# 2. Relevante Spalten auswählen\n",
        "diet_cols = ['SEQN', 'DR1TKCAL', 'DR1TSUGR', 'DR1TTFAT', 'DR1TSODI']  # Kalorien, Zucker, Fett, Natrium\n",
        "examination_cols = ['SEQN', 'BMXBMI', 'BPXSY1', 'BPXDI1']  # BMI, Blutdruck\n",
        "questionnaire_cols = ['SEQN', 'DIQ010']  # Frage: Hat ein Arzt Diabetes diagnostiziert?\n",
        "\n",
        "diet_small = diet[diet_cols]\n",
        "examination_small = examination[examination_cols]\n",
        "questionnaire_small = questionnaire[questionnaire_cols]\n",
        "\n",
        "# 3. Zusammenführen über SEQN\n",
        "df = diet_small.merge(examination_small, on=\"SEQN\", how=\"inner\")\n",
        "df = df.merge(questionnaire_small, on=\"SEQN\", how=\"inner\")\n",
        "\n",
        "# 4. Zeilen mit fehlenden Werten entfernen und Kopie erstellen\n",
        "df_clean = df.dropna().copy()  # <- .copy() vermeidet SettingWithCopyWarning\n",
        "\n",
        "# 5. Gesundheitsstatus klassifizieren\n",
        "def classify_health(row):\n",
        "    if row['DIQ010'] == 1:\n",
        "        return 'Diabetes'\n",
        "    elif row['BPXSY1'] >= 130 or row['BPXDI1'] >= 80:\n",
        "        return 'Bluthochdruck'\n",
        "    elif row['BMXBMI'] >= 25:\n",
        "        return 'Übergewicht'\n",
        "    else:\n",
        "        return 'Gesund'\n",
        "\n",
        "# Saubere Zuweisung ohne Warnung\n",
        "df_clean.loc[:, 'Gesundheitsstatus'] = df_clean.apply(classify_health, axis=1)\n",
        "\n",
        "# 6. Optional: Ergebnisse speichern oder anzeigen\n",
        "df_clean.to_csv(\"NHANES_bereinigt.csv\", index=False)\n",
        "print(df_clean.head())"
      ]
    },
    {
      "cell_type": "markdown",
      "metadata": {
        "id": "P-u5JejxT4k0"
      },
      "source": [
        "**Zusammenfassung der Datenbereinigung und Klassifikation (NHANES-Projekt)**\n",
        "\n",
        "**Ziel:**\n",
        "\n",
        "Vorbereitung der NHANES-Daten zur Analyse des Zusammenhangs zwischen **Ernährung** und **Gesundheitszustand**: Diabetes, Bluthochdruck, Übergewicht und \"Gesund\".\n",
        "\n",
        "\n",
        "\n",
        "---\n",
        "\n",
        "\n",
        "**Durchgeführte Bereinigungsschritte**\n",
        "\n",
        "**1. Relevante Spalten extrahiert**\n",
        "\n",
        "Aus den umfangreichen Rohdaten (jeweils hunderte Spalten) wurden nur die **für die Analyse relevanten Variablen** ausgewählt:\n",
        "\n",
        "- diet.csv: Kalorien, Zucker, Fett, Natrium\n",
        "- examination.csv: BMI, systolischer & diastolischer Blutdruck\n",
        "- questionnaire.csv: Diabetesdiagnose (Selbstauskunft)\n",
        "\n",
        "--> Reduktion auf ca. 8 Kernvariablen + SEQN.\n",
        "\n",
        "\n",
        "---\n",
        "\n",
        "\n",
        "\n",
        "**2. Zusammenführung über SEQN**\n",
        "\n",
        "Alle drei Dateien wurden anhand der eindeutigen Teilnehmer-ID SEQN zusammengeführt.\n",
        "\n",
        "--> Dadurch entsteht ein vollständiger Datensatz pro Person.\n",
        "\n",
        "\n",
        "---\n",
        "\n",
        "\n",
        "\n",
        "**3. Bereinigung unvollständiger Fälle**\n",
        "\n",
        "Zeilen mit fehlenden Werten in relevanten Variablen wurden entfernt (dropna() + .copy()).\n",
        "\n",
        "--> Ergebnis: nur vollständige, auswertbare Datensätze.\n",
        "\n",
        "\n",
        "---\n",
        "\n",
        "\n",
        "\n",
        "**Klassifikation in Gesundheitsgruppen**\n",
        "\n",
        "🔹 **Genutzte Kriterien pro Gesundheitsmerkmal:**\n",
        "\n",
        "| Gesundheitsmerkmal | Quelle            | Variable(n)                   | Klassifikationskriterium                                                |\n",
        "|--------------------|-------------------|-------------------------------|--------------------------------------------------------------------------|\n",
        "| Diabetes           | `questionnaire.csv` | `DIQ010`                      | Arzt hat Diabetes diagnostiziert (`== 1`)                               |\n",
        "| Bluthochdruck      | `examination.csv`   | `BPXSY1`, `BPXDI1`            | systolisch ≥ 130 oder diastolisch ≥ 80 mmHg                             |\n",
        "| Übergewicht        | `examination.csv`   | `BMXBMI`                      | BMI ≥ 25                                                                 |\n",
        "| Gesund             | —                 | abgeleitet                    | Wenn keines der oben genannten Kriterien erfüllt ist                    |\n",
        "\n",
        "\n",
        "\n",
        "**Wichtig:**\n",
        "\n",
        "Für Bluthochdruck und Übergewicht wurde **ausschliesslich auf objektive Messwerte** aus examination.csv zurückgegriffen.\n",
        "Die Fragebogendaten wurden hier **nicht verwendet**, da sie redundant oder subjektiv wären.\n",
        "\n",
        "> ### Zusätzliche Definition **\"Gesund\"**\n",
        ">\n",
        "> **\"Gesund\" heisst nicht:**\n",
        "> - dass die Person rundum medizinisch gesund ist  \n",
        "> - oder dass sie keinen Risikofaktor für andere Krankheiten aufweist\n",
        ">\n",
        "> **\"Gesund\" heisst nur:**  \n",
        "> keine der drei gewählten Bedingungen erfüllt:\n",
        "> - **BMI** < 25  \n",
        "> - **Systolisch** < 130 mmHg **und** **Diastolisch** < 80 mmHg  \n",
        "> - keine Angabe **„Diabetes diagnostiziert“**\n",
        "\n",
        "\n",
        "---\n",
        "\n",
        "\n",
        "\n",
        "**Zwei Klassifikationsformen möglich:**\n",
        "\n",
        "**1. Hauptgruppe (exklusiv):**\n",
        "- Jede Person gehört zu einer von vier Gruppen:\n",
        "  - Diabetes > Bluthochdruck > Übergewicht > Gesund (Prioritätsreihenfolge)\n",
        "\n",
        "**2. Mehrfachklassifikation (erweiterbar):**\n",
        "- Für jede Person wird zusätzlich gespeichert:\n",
        "  - hat_diabetes: ja/nein\n",
        "  - hat_bluthochdruck: ja/nein\n",
        "  - hat_übergewicht: ja/nein\n",
        "  - ist_gesund: ja/nein (wenn keine der anderen Merkmale zutrifft)\n",
        "\n",
        "--> Dies erlaubt flexiblere Filterung, z. B. „Zeige alle mit Diabetes UND Übergewicht“.\n",
        "\n",
        "\n",
        "---\n",
        "\n",
        "\n",
        "\n",
        "**Ergebnis:**\n",
        "Ein bereinigter und analysierbarer DataFrame:\n",
        "- Ohne fehlende Werte\n",
        "- Mit klassifizierten Gesundheitsgruppen\n",
        "- Ideal vorbereitet für:\n",
        " - Vergleichsanalyse (z. B. Kalorienaufnahme nach Gesundheitsstatus)\n",
        " - Visualisierung (Boxplots, Heatmaps etc.)"
      ]
    },
    {
      "cell_type": "markdown",
      "metadata": {
        "id": "fCoQ1QJ3W6Xo"
      },
      "source": [
        "**1. Häufigkeit von Gesundheitszuständen**\n",
        "\n",
        "**Erklärung:**\n",
        "\n",
        "Dieses Balkendiagramm zeigt, wie viele Personen in deinem Datensatz zu jeder Gesundheitsgruppe gehören: **Gesund, Übergewicht, Bluthochdruck, Diabetes**.\n",
        "\n",
        "--> Es vermittelt ein erstes Gefühl für die Verteilung und Relevanz dieser Zustände in der Bevölkerung."
      ]
    },
    {
      "cell_type": "code",
      "execution_count": null,
      "metadata": {
        "id": "a9dEfH0MThN6"
      },
      "outputs": [],
      "source": [
        "plt.figure(figsize=(8, 5))\n",
        "df_clean['Gesundheitsstatus'].value_counts().plot(kind='bar', color='skyblue')\n",
        "plt.title(\"Häufigkeit von Gesundheitszuständen\")\n",
        "plt.ylabel(\"Anzahl Personen\")\n",
        "plt.xlabel(\"Gesundheitsstatus\")\n",
        "plt.xticks(rotation=45)\n",
        "plt.tight_layout()\n",
        "plt.show()"
      ]
    },
    {
      "cell_type": "markdown",
      "metadata": {
        "id": "HJG7njinDZcY"
      },
      "source": [
        "**Interpretation: Häufigkeit von Gesundheitszuständen**\n",
        "\n",
        "Die Balkengrafik zeigt die Anzahl der Personen in den vier definierten Gesundheitsgruppen: **Diabetes, Bluthochdruck, Übergewicht** und **\"Gesund“** (im Sinne von: keine dieser drei Diagnosen).\n",
        "\n",
        "**Was sehen wir?**\n",
        "\n",
        "- Ein grosser Teil der Personen fällt in die Kategorien Übergewicht und Bluthochdruck.\n",
        "\n",
        "- Die Gruppe der Diabetiker ist kleiner, aber deutlich vertreten.\n",
        "\n",
        "- Die Gruppe „Gesund“ ist die Referenzgruppe – sie umfasst nur Personen, die keine der drei genannten Kriterien erfüllen.\n",
        "\n",
        "**Interpretation:**\n",
        "\n",
        "- Die hohe Anzahl übergewichtiger und bluthochdruckbetroffener Personen deutet darauf hin, dass **ernährungs- und lebensstilbedingte Erkrankungen weit verbreitet** sind.\n",
        "\n",
        "- Es wird deutlich, dass **nur ein vergleichsweise kleiner Teil der Bevölkerung** als „nicht betroffen“ gilt.\n",
        "\n",
        "- Allerdings ist zu beachten, dass „Gesund“ in diesem Kontext nur bedeutet, dass **keine der drei spezifischen Bedingungen** (Diabetes, Bluthochdruck, Übergewicht) vorliegt – andere gesundheitliche Einschränkungen sind dabei **nicht ausgeschlossen**.\n",
        "\n",
        "**Fazit:**\n",
        "\n",
        "Diese Visualisierung liefert einen klaren Überblick über die Verteilung der Gesundheitszustände und schafft ein Bewusstsein für die Relevanz dieser drei Volkskrankheiten in der Bevölkerung. Sie bildet eine solide Grundlage für die nachfolgenden Analysen zu Ernährungseinflüssen."
      ]
    },
    {
      "cell_type": "markdown",
      "metadata": {
        "id": "nll6ODodXJ7n"
      },
      "source": [
        "**BMI nach Gesundheitsgruppe (Boxplot)**\n",
        "\n",
        "**Erklärung:**\n",
        "\n",
        "Diese Boxplots zeigen die BMI-Verteilung (Körpergewicht) in den verschiedenen Gesundheitsgruppen.\n",
        "\n",
        "--> Man erkennt sofort, dass Übergewichtige einen deutlich höheren BMI haben, während Gesunde im Normalbereich liegen."
      ]
    },
    {
      "cell_type": "code",
      "execution_count": null,
      "metadata": {
        "id": "rTuIY3mdThTK"
      },
      "outputs": [],
      "source": [
        "plt.figure(figsize=(8, 5))\n",
        "sns.boxplot(data=df_clean, x='Gesundheitsstatus', y='BMXBMI')\n",
        "plt.title(\"BMI-Verteilung nach Gesundheitsgruppe\")\n",
        "plt.ylabel(\"BMI (kg/m²)\")\n",
        "plt.xlabel(\"Gesundheitsstatus\")\n",
        "plt.xticks(rotation=45)\n",
        "plt.tight_layout()\n",
        "plt.show()"
      ]
    },
    {
      "cell_type": "markdown",
      "metadata": {
        "id": "SwU8QVFPFXEn"
      },
      "source": [
        "**Interpretation: BMI-Verteilung nach Gesundheitsgruppe**\n",
        "\n",
        "Diese Boxplot-Grafik veranschaulicht die **Verteilung des Body Mass Index (BMI)** innerhalb der vier Gesundheitsgruppen:\n",
        "\n",
        "**Keine der drei Diagnosen (\"Gesund\"), Übergewicht, Bluthochdruck** und **Diabetes.**\n",
        "\n",
        "**Was sehen wir?**\n",
        "\n",
        "- Die Gruppe **\"Übergewicht“** zeigt erwartungsgemäss die höchsten BMI-Werte mit einem Median deutlich über dem Schwellenwert von 25 kg/m².\n",
        "\n",
        "- Auch Personen mit Bluthochdruck und Diabetes haben im Mittel erhöhte BMI-Werte – häufig im Bereich von Übergewicht oder Adipositas.\n",
        "\n",
        "- Die Gruppe „Keine der drei Diagnosen“ weist die niedrigsten BMI-Werte auf und liegt überwiegend im Normalbereich.\n",
        "\n",
        "**Interpretation:**\n",
        "\n",
        "- Der BMI unterscheidet sich **signifikant zwischen den Gruppen**, was zeigt:\n",
        "→ Ein **erhöhter BMI ist nicht nur bei Übergewicht**, sondern auch bei **Diabetes und Bluthochdruck** häufig zu beobachten.\n",
        "\n",
        "- Die Daten bestätigen den bekannten Zusammenhang zwischen **Übergewicht und dem Risiko für chronische Erkrankungen**.\n",
        "\n",
        "- Der Boxplot macht zudem deutlich, dass es innerhalb jeder Gruppe **eine gewisse Streuung** gibt – also z. B. auch normalgewichtige Personen mit Bluthochdruck vorkommen können.\n",
        "\n",
        "**Fazit:**\n",
        "\n",
        "Diese Visualisierung unterstützt die Annahme, dass **ein hoher BMI ein zentraler Risikofaktor für ernährungsbedingte Krankheiten** wie Bluthochdruck und Diabetes ist. Der Boxplot zeigt anschaulich, wie sich die Körpergewichtswerte über die Gesundheitsgruppen hinweg unterscheiden und unterstreicht die Bedeutung von Gewichtsmanagement in der Prävention."
      ]
    },
    {
      "cell_type": "markdown",
      "metadata": {
        "id": "380fRaGSXWKg"
      },
      "source": [
        "**3. Zuckeraufnahme nach Gesundheitsstatus**\n",
        "\n",
        "**Erklärung:**\n",
        "\n",
        "Dieser Plot zeigt, wie viel **Zucker** die Personen in den verschiedenen Gruppen zu sich nehmen.\n",
        "\n",
        "--> Besonders interessant ist der Vergleich zwischen **Diabetikern** und **Gesunden** – man erwartet hier eigentlich Unterschiede."
      ]
    },
    {
      "cell_type": "code",
      "execution_count": null,
      "metadata": {
        "id": "J2rie5uBThYz"
      },
      "outputs": [],
      "source": [
        "plt.figure(figsize=(8, 5))\n",
        "sns.boxplot(data=df_clean, x='Gesundheitsstatus', y='DR1TSUGR')\n",
        "plt.title(\"Zuckeraufnahme (g) nach Gesundheitsgruppe\")\n",
        "plt.ylabel(\"Zuckeraufnahme (g)\")\n",
        "plt.xlabel(\"Gesundheitsstatus\")\n",
        "plt.xticks(rotation=45)\n",
        "plt.tight_layout()\n",
        "plt.show()"
      ]
    },
    {
      "cell_type": "markdown",
      "metadata": {
        "id": "e22PuLwwHfBH"
      },
      "source": [
        "**Interpretation: Zuckeraufnahme nach Gesundheitsgruppe**\n",
        "\n",
        "Diese Boxplot-Grafik zeigt, wie viel **Zucker pro Tag (in Gramm)** Personen in den verschiedenen Gesundheitsgruppen zu sich nehmen:\n",
        "\n",
        "- **Diabetes**\n",
        "\n",
        "- **Bluthochdruck**\n",
        "\n",
        "- **Übergewicht**\n",
        "\n",
        "- **\"Gesund\" (Keine der drei Diagnosen)**\n",
        "\n",
        "**Was sehen wir?**\n",
        "\n",
        "- Die Verteilung der Zuckeraufnahme ist in allen Gruppen relativ breit – von sehr niedrigen bis sehr hohen Werten.\n",
        "\n",
        "- Überraschend: **Diabetiker konsumieren nicht deutlich weniger Zucker** als andere Gruppen.\n",
        "→ Der Median (mittlerer Wert) der Zuckeraufnahme ist bei Diabetikern **vergleichbar oder nur leicht niedriger** als bei Gesunden.\n",
        "\n",
        "- In der Gruppe **\"Gesund\"** gibt es ebenfalls hohe Zuckermengen, aber auch viele Personen mit niedrigem Konsum.\n",
        "\n",
        "**Interpretation:**\n",
        "\n",
        "- Man könnte erwarten, dass **Diabetiker bewusst weniger Zucker konsumieren** – entweder durch ärztliche Beratung oder eigene Vorsicht.\n",
        "\n",
        "- Die Daten zeigen jedoch, dass dies **nicht zwingend der Fall ist**:\n",
        "  - Entweder halten sich viele nicht an entsprechende Empfehlungen\n",
        "  - Oder die Messung (24-Stunden-Ernährungstag) bildet nicht das typische Verhalten ab.\n",
        "\n",
        "- Auch Menschen ohne Diagnose konsumieren teilweise **Zuckermengen, die als gesundheitlich bedenklich** gelten.\n",
        "\n",
        "**Fazit:**\n",
        "\n",
        "Diese Visualisierung macht deutlich, dass **Zuckeraufnahme nicht klar nach Gesundheitsstatus unterscheidbar ist**.\n",
        "Gerade im Hinblick auf **Prävention von Diabetes und Übergewicht** könnte dies ein Hinweis auf **Verbesserungspotenzial bei Aufklärung und Ernährung** sein.\n",
        "\n"
      ]
    },
    {
      "cell_type": "markdown",
      "metadata": {
        "id": "I9Qt8hMKXmwk"
      },
      "source": [
        "**4. Korrelation zwischen Ernährung und Gesundheitswerten (Heatmap)**\n",
        "\n",
        "**Erklärung:**\n",
        "\n",
        "Diese Heatmap zeigt die **Zusammenhänge zwischen ausgewählten Ernährungsfaktoren** (wie Kalorien, Fett, Zucker und Natrium) und **gesundheitsrelevanten Werten** (BMI und Blutdruck).\n",
        "\n",
        "--> Z. B. erkennst man, ob **mehr Kalorien oder Fett mit einem höheren BMI** verbunden sind oder **mehr Natrium mit einem erhöhten Blutdruck** zusammenhängt.\n",
        "\n",
        "Je **dunkler und grösser die Zahl im Feld**, desto **stärker der Zusammenhang**.\n",
        "Rote Felder bedeuten: positiver Zusammenhang – Blaue Felder: negativer Zusammenhang."
      ]
    },
    {
      "cell_type": "code",
      "execution_count": null,
      "metadata": {
        "id": "wQtz_AfeThfE"
      },
      "outputs": [],
      "source": [
        "# Relevante Spalten auswählen\n",
        "diet_small = diet[['SEQN', 'DR1TKCAL', 'DR1TSUGR', 'DR1TTFAT', 'DR1TSODI']]  # Kalorien, Zucker, Fett, Natrium\n",
        "examination_small = examination[['SEQN', 'BMXBMI', 'BPXSY1', 'BPXDI1']]     # BMI, Blutdruck\n",
        "questionnaire_small = questionnaire[['SEQN', 'DIQ010']]                     # Diabetes-Diagnose\n",
        "\n",
        "# Daten zusammenführen\n",
        "df = diet_small.merge(examination_small, on=\"SEQN\", how=\"inner\")\n",
        "df = df.merge(questionnaire_small, on=\"SEQN\", how=\"inner\")\n",
        "\n",
        "# Bereinigen: nur vollständige Einträge behalten\n",
        "df_clean = df.dropna().copy()\n",
        "\n",
        "# Klassifikation: Gesundheitsstatus zuweisen\n",
        "def classify_health(row):\n",
        "    if row['DIQ010'] == 1:\n",
        "        return 'Diabetes'\n",
        "    elif row['BPXSY1'] >= 130 or row['BPXDI1'] >= 80:\n",
        "        return 'Bluthochdruck'\n",
        "    elif row['BMXBMI'] >= 25:\n",
        "        return 'Übergewicht'\n",
        "    else:\n",
        "        return 'Keine der drei Diagnosen'\n",
        "\n",
        "df_clean['Gesundheitsstatus'] = df_clean.apply(classify_health, axis=1)\n",
        "\n",
        "# Variablennamen für bessere Lesbarkeit umbenennen\n",
        "corr_labels = {\n",
        "    'DR1TKCAL': 'Kalorien',\n",
        "    'DR1TTFAT': 'Fett',\n",
        "    'DR1TSUGR': 'Zucker',\n",
        "    'DR1TSODI': 'Natrium',\n",
        "    'BMXBMI': 'BMI',\n",
        "    'BPXSY1': 'Syst. Blutdruck',\n",
        "    'BPXDI1': 'Diast. Blutdruck'\n",
        "}\n",
        "\n",
        "# Korrelationen berechnen\n",
        "selected_cols = list(corr_labels.keys())\n",
        "corr = df_clean[selected_cols].corr()\n",
        "corr = corr.rename(index=corr_labels, columns=corr_labels)\n",
        "\n",
        "# Fokus: Ernährung (Zeilen) vs. Gesundheitswerte (Spalten)\n",
        "ernaehrung = ['Kalorien', 'Fett', 'Zucker', 'Natrium']\n",
        "gesundheit = ['BMI', 'Syst. Blutdruck', 'Diast. Blutdruck']\n",
        "corr_subset = corr.loc[ernaehrung, gesundheit]\n",
        "\n",
        "# Heatmap zeichnen\n",
        "plt.figure(figsize=(8, 6))\n",
        "sns.heatmap(corr_subset, annot=True, cmap=\"RdBu\", center=0, linewidths=0.5)\n",
        "plt.title(\"Zusammenhang zwischen Ernährung und Gesundheitswerten\")\n",
        "plt.xlabel(\"Gesundheitswert\")\n",
        "plt.ylabel(\"Ernährungsmerkmal\")\n",
        "plt.tight_layout()\n",
        "plt.show()\n",
        "\n"
      ]
    },
    {
      "cell_type": "markdown",
      "metadata": {
        "id": "BHcVwK-4M2T0"
      },
      "source": [
        "**Interpretation: Zusammenhang zwischen Ernährung und Gesundheitswerten (Heatmap)**\n",
        "\n",
        "Diese Heatmap zeigt, **wie stark ausgewählte Ernährungsfaktoren** mit **gesundheitsrelevanten Messwerten** (BMI und Blutdruck) zusammenhängen:\n",
        "\n",
        "- **Ernährung:** Kalorien, Fett, Zucker, Natrium\n",
        "\n",
        "- **Gesundheitswerte:** BMI, systolischer & diastolischer Blutdruck\n",
        "\n",
        "**Was sehen wir?**\n",
        "\n",
        "- Die **stärksten positiven Zusammenhänge** zeigen sich zwischen:\n",
        "\n",
        "  - **Kalorien & BMI**\n",
        "\n",
        "  - **Fett & BMI**\n",
        "\n",
        "  - **Natrium & systolischem Blutdruck**\n",
        "\n",
        "- Der **Zusammenhang zwischen Zuckeraufnahme und Gesundheitswerten** ist schwach oder leicht negativ.\n",
        "\n",
        "- Insgesamt sind die Korrelationen **moderat**, was typisch ist für komplexe Zusammenhänge im Bereich Ernährung und Gesundheit.\n",
        "\n",
        "**Interpretation:**\n",
        "\n",
        "- Es zeigt sich, dass **höherer Kalorien- und Fettkonsum tendenziell mit einem höheren BMI** einhergeht.\n",
        "\n",
        "- **Mehr Natrium (Salz) steht in Verbindung mit einem höheren systolischen Blutdruck**, was bekannte gesundheitliche Risiken widerspiegelt.\n",
        "\n",
        "- Die Zuckeraufnahme steht **nicht klar im Zusammenhang mit BMI oder Blutdruck** – das kann verschiedene Ursachen haben:\n",
        "\n",
        "  - Zucker wirkt kurzfristig und ist schwer messbar in einem einzelnen Tagesprotokoll.\n",
        "\n",
        "  - Es gibt viele individuelle Unterschiede (Bewegung, Stoffwechsel, Medikamente etc.)\n",
        "\n",
        "**Fazit:**\n",
        "\n",
        "Diese Visualisierung macht deutlich, dass **einige Ernährungsfaktoren – besonders Kalorien, Fett und Natrium – in einem messbaren Zusammenhang mit gesundheitlichen Werten stehen.**\n",
        "Sie unterstreicht die Bedeutung einer ausgewogenen Ernährung zur **Vorbeugung von Übergewicht und Bluthochdruck** – und zeigt, dass nicht alle Risikofaktoren sofort offensichtlich sind."
      ]
    },
    {
      "cell_type": "markdown",
      "metadata": {
        "id": "zdxZASBOX428"
      },
      "source": [
        "**5. Kalorienaufnahme vs. BMI (Scatterplot)**\n",
        "\n",
        "**Erklärung:**\n",
        "\n",
        "Dieses Streudiagramm zeigt den Zusammenhang zwischen **Kalorienaufnahme und Körpergewicht (BMI)**.\n",
        "\n",
        "--> Man sieht, ob tendenziell höhere Kalorien mit höherem Gewicht einhergehen – und wie sich das nach Gruppen unterscheidet."
      ]
    },
    {
      "cell_type": "code",
      "execution_count": null,
      "metadata": {
        "id": "sXdLFQxYYCXh"
      },
      "outputs": [],
      "source": [
        "sns.scatterplot(data=df_clean, x='DR1TKCAL', y='BMXBMI', hue='Gesundheitsstatus', palette='Set2')\n",
        "plt.title(\"Kalorienaufnahme vs. BMI\")\n",
        "plt.xlabel(\"Kalorienaufnahme (kcal)\")\n",
        "plt.ylabel(\"BMI (kg/m²)\")\n",
        "plt.tight_layout()\n",
        "plt.show()"
      ]
    },
    {
      "cell_type": "markdown",
      "metadata": {
        "id": "7fcsEaGwPWR3"
      },
      "source": [
        "**Interpretation: Kalorienaufnahme vs. BMI (Scatterplot)**\n",
        "\n",
        "Dieses Streudiagramm zeigt den **Zusammenhang zwischen der täglichen Kalorienaufnahme** und dem **Körpergewicht (BMI)**.\n",
        "\n",
        "Jeder Punkt steht für eine Person – farblich gruppiert nach Gesundheitsstatus:\n",
        "\n",
        "- **\"Gesund\" (Keine der drei Diagnosen)**\n",
        "\n",
        "- **Übergewicht**\n",
        "\n",
        "- **Bluthochdruck**\n",
        "\n",
        "- **Diabetes**\n",
        "\n",
        "**Was sehen wir?**\n",
        "\n",
        "- Es gibt **eine breite Streuung**: Personen mit ähnlicher Kalorienaufnahme haben sehr unterschiedliche BMI-Werte.\n",
        "\n",
        "- Trotzdem ist ein **leichter Trend erkennbar**:\n",
        "\n",
        "--> Bei höheren Kalorienwerten häufen sich Personen mit Übergewicht (orange Punkte).\n",
        "\n",
        "- Die Gruppe **\"Gesund\" (Keine der drei Diagnosen)** kommt überwiegend bei niedrigeren BMI-Werten vor, aber nicht unbedingt bei geringerer Kalorienaufnahme.\n",
        "\n",
        "- **Extrem hohe Kalorienwerte** sind selten, aber in allen Gruppen vertreten.\n",
        "\n",
        "**Interpretation:**\n",
        "\n",
        "Der Plot zeigt, dass eine **hohe Kalorienaufnahme nicht automatisch zu einem hohen BMI führt**, aber oft **damit einhergeht** – besonders in der Gruppe mit Übergewicht.\n",
        "\n",
        "Der Zusammenhang ist **nicht linear oder stark ausgeprägt**, was zeigt:\n",
        "\n",
        "Körpergewicht hängt nicht nur von Kalorien, sondern auch von **Bewegung, Genetik, Stoffwechsel und anderen Faktoren** ab.\n",
        "\n",
        "Es gibt Menschen mit hohem Kalorienkonsum und dennoch niedrigem BMI (z. B. sportlich aktive).\n",
        "\n",
        "**Fazit:**\n",
        "\n",
        "Die Visualisierung verdeutlicht, dass es **einen leichten Zusammenhang zwischen Kalorienzufuhr und Körpergewicht** gibt – aber keine einfache 1:1-Beziehung.\n",
        "Sie zeigt, wie wichtig es ist, **Ernährung ganzheitlich zu betrachten** – Kalorien sind ein wichtiger Faktor, aber **nicht der einzige**.\n",
        "\n",
        "\n",
        "---\n",
        "\n"
      ]
    },
    {
      "cell_type": "markdown",
      "metadata": {
        "id": "vTgteT_zbHH6"
      },
      "source": [
        "**Zusammenfassung der Erkenntnisse aus dem Überblick über das Thema Ernährung und die Krankheiten Bluthochdruck, Diabetes und Übergewicht**\n",
        "\n",
        "Die Analyse zeigt, dass Übergewicht und Bluthochdruck in der untersuchten Bevölkerung besonders häufig auftreten, während nur ein kleiner Anteil als \"gesund\" (keine der drei Diagnosen) gilt. Diabetes ist seltener, aber ebenfalls präsent. Besonders auffällig ist der Zusammenhang zwischen BMI und Gesundheitsstatus: Personen mit Übergewicht, Bluthochdruck oder Diabetes haben im Schnitt deutlich höhere BMI-Werte als gesunde Personen.\n",
        "\n",
        "Überraschend ist, dass Diabetiker im Mittel nicht deutlich weniger Zucker konsumieren als Gesunde. Die Zuckeraufnahme variiert stark innerhalb aller Gruppen, was auf unzureichende Umsetzung von Ernährungsempfehlungen oder methodische Einschränkungen hindeuten könnte.\n",
        "\n",
        "Die Korrelationen zeigen, dass höhere Kalorien-, Fett- und Natriumzufuhr mit ungünstigen Gesundheitswerten wie erhöhtem BMI und systolischem Blutdruck einhergehen. Zucker weist hingegen keine klare Verbindung zu diesen Werten auf. Auch der Zusammenhang zwischen Kalorienaufnahme und BMI ist nur schwach – viele Einflussfaktoren wie Bewegung oder Stoffwechsel spielen hier mit hinein.\n",
        "\n",
        "Insgesamt unterstreichen die Ergebnisse die Bedeutung ausgewogener Ernährung – insbesondere im Hinblick auf Energie- und Salzzufuhr – für die Prävention chronischer Erkrankungen. Gleichzeitig wird deutlich, dass individuelle Unterschiede berücksichtigt werden müssen und einfache Empfehlungen oft nicht ausreichen.\n"
      ]
    },
    {
      "cell_type": "markdown",
      "metadata": {
        "id": "C2UljaGVCgUR"
      },
      "source": [
        "<img src=\"https://github.com/iceangel79/MScWinf_Gruppenarbeit_Sem2/raw/96c605d37282bef8f5b6200a3585b575c9a6b2ce/Semesterarbeit/Images/Zusammenfassung_%C3%9Cberblick.png\" alt=\"Beispielbild\" width=\"500\" />"
      ]
    },
    {
      "cell_type": "markdown",
      "metadata": {
        "id": "6yMl4DeXF4kP"
      },
      "source": [
        "\n",
        "\n",
        "---\n",
        "\n"
      ]
    },
    {
      "cell_type": "markdown",
      "metadata": {
        "id": "90rgly6-YI-B"
      },
      "source": [
        "**KAQ 1: In welchen Ernährungsmustern liegt eine potenziell unausgewogene Nährstoffzufuhr vor?**\n",
        "\n",
        "Wir definieren **unausgewogen** als:\n",
        "\n",
        "--> Überschreitung von WHO-Grenzwerten für:\n",
        "\n",
        "- Fett (> 75 g/Tag)\n",
        "\n",
        "- Natrium (> 2000 mg/Tag)\n",
        "\n",
        "- Kalorien (> 2500 kcal/Tag)"
      ]
    },
    {
      "cell_type": "code",
      "execution_count": null,
      "metadata": {
        "id": "pfGaKrQqGnjv"
      },
      "outputs": [],
      "source": [
        "# 1. Datensätze laden und vorbereiten\n",
        "# Was passiert hier?\n",
        "# Wir wählen nur relevante Spalten und verbinden alle Daten über die Teilnehmer-ID SEQN.\n",
        "\n",
        "# 1. CSV-Dateien laden\n",
        "diet = pd.read_csv(\"https://raw.githubusercontent.com/iceangel79/MScWinf_Gruppenarbeit_Sem2/refs/heads/main/Semesterarbeit/Datasets/Kaggle/diet.csv\")\n",
        "examination = pd.read_csv(\"https://raw.githubusercontent.com/iceangel79/MScWinf_Gruppenarbeit_Sem2/refs/heads/main/Semesterarbeit/Datasets/Kaggle/examination.csv\")\n",
        "questionnaire = pd.read_csv(\"https://raw.githubusercontent.com/iceangel79/MScWinf_Gruppenarbeit_Sem2/refs/heads/main/Semesterarbeit/Datasets/Kaggle/questionnaire.csv\")\n",
        "\n",
        "diet_cols = ['SEQN', 'DR1TKCAL', 'DR1TTFAT', 'DR1TSODI']\n",
        "examination_cols = ['SEQN', 'BMXBMI', 'BPXSY1', 'BPXDI1']\n",
        "questionnaire_cols = ['SEQN', 'DIQ010']\n",
        "\n",
        "diet_small = diet[diet_cols]\n",
        "examination_small = examination[examination_cols]\n",
        "questionnaire_small = questionnaire[questionnaire_cols]\n",
        "\n",
        "# Merge & Clean\n",
        "df = diet_small.merge(examination_small, on=\"SEQN\", how=\"inner\")\n",
        "df = df.merge(questionnaire_small, on=\"SEQN\", how=\"inner\")\n",
        "df_clean = df.dropna().copy()"
      ]
    },
    {
      "cell_type": "code",
      "execution_count": null,
      "metadata": {
        "id": "4te5GFlaGnvV"
      },
      "outputs": [],
      "source": [
        "# 2. Gesundheitsstatus zuweisen\n",
        "# Was passiert hier?\n",
        "# Wir klassifizieren Personen als:\n",
        "# - Diabetiker, Bluthochdruck, Übergewicht oder \"Keine der drei Diagnosen\"\n",
        "\n",
        "def classify_health(row):\n",
        "    if row['DIQ010'] == 1:\n",
        "        return 'Diabetes'\n",
        "    elif row['BPXSY1'] >= 130 or row['BPXDI1'] >= 80:\n",
        "        return 'Bluthochdruck'\n",
        "    elif row['BMXBMI'] >= 25:\n",
        "        return 'Übergewicht'\n",
        "    else:\n",
        "        return 'Keine der drei Diagnosen'\n",
        "\n",
        "df_clean['Gesundheitsstatus'] = df_clean.apply(classify_health, axis=1)"
      ]
    },
    {
      "cell_type": "code",
      "execution_count": null,
      "metadata": {
        "id": "BixhTaQKGn4z"
      },
      "outputs": [],
      "source": [
        "# 3. Schwellenwert-Spalten erstellen (WHO-Kriterien)\n",
        "# Was passiert hier?\n",
        "# Wir markieren jede Person mit True/False, je nachdem ob sie den Grenzwert überschreitet.\n",
        "\n",
        "df_clean['zu_viel_Fett'] = df_clean['DR1TTFAT'] > 75\n",
        "df_clean['zu_viel_Natrium'] = df_clean['DR1TSODI'] > 2000\n",
        "df_clean['zu_viel_Kalorien'] = df_clean['DR1TKCAL'] > 2500"
      ]
    },
    {
      "cell_type": "code",
      "execution_count": null,
      "metadata": {
        "id": "gzZtiN_bGn7z"
      },
      "outputs": [],
      "source": [
        "# 4. Prozentuale Überschreitungen je Gesundheitsgruppe berechnen\n",
        "# Was passiert hier?\n",
        "# Wir gruppieren nach Gesundheitsstatus  und berechnen den Anteil (%) der Personen, die den Grenzwert überschreiten.\n",
        "\n",
        "fett_risiko = df_clean.groupby('Gesundheitsstatus')['zu_viel_Fett'].mean() * 100\n",
        "natrium_risiko = df_clean.groupby('Gesundheitsstatus')['zu_viel_Natrium'].mean() * 100\n",
        "kalorien_risiko = df_clean.groupby('Gesundheitsstatus')['zu_viel_Kalorien'].mean() * 100\n",
        "\n",
        "# Zusammenfassen in Tabelle\n",
        "schwellenwerte = pd.DataFrame({\n",
        "    'Über Fettgrenze (%)': fett_risiko.round(1),\n",
        "    'Über Natriumgrenze (%)': natrium_risiko.round(1),\n",
        "    'Über Kaloriengrenze (%)': kalorien_risiko.round(1)\n",
        "})"
      ]
    },
    {
      "cell_type": "code",
      "execution_count": null,
      "metadata": {
        "id": "hO2PL_QxGn-8"
      },
      "outputs": [],
      "source": [
        "# 5. Visualisierung: Gruppierter Balkenplot\n",
        "# Was passiert hier?\n",
        "# Wir zeigen die Anteile je Gruppe grafisch, um Muster sofort zu erkennen.\n",
        "\n",
        "import matplotlib.pyplot as plt\n",
        "schwellenwerte.plot(kind=\"bar\", figsize=(10, 6))\n",
        "plt.title(\"Anteil der Personen über WHO-Grenzwerte nach Gesundheitsstatus\")\n",
        "plt.ylabel(\"Anteil (%)\")\n",
        "plt.xlabel(\"Gesundheitsstatus\")\n",
        "plt.xticks(rotation=45)\n",
        "plt.legend(title=\"Nährstoffgrenze\")\n",
        "plt.tight_layout()\n",
        "plt.show()"
      ]
    },
    {
      "cell_type": "markdown",
      "metadata": {
        "id": "qNeNy0XpJQIr"
      },
      "source": [
        "**Ergebnis:**\n",
        "\n",
        "Man erkennt visuell und rechnerisch:\n",
        "\n",
        "- **Übergewichtige und Bluthochdruckpatienten** haben den höchsten Anteil an überhöhter Fett- und Kalorienzufuhr.\n",
        "\n",
        "- **Natriumaufnahme** ist in allen Gruppen sehr hoch.\n",
        "\n",
        "- **Diabetiker** zeigen leicht bessere Werte, aber immer noch beachtliche Grenzwertüberschreitungen."
      ]
    },
    {
      "cell_type": "markdown",
      "metadata": {
        "id": "5dx4f4H5M3pf"
      },
      "source": [
        "##Einleitung zur Visualisierungsanalyse (KAQ1)\n",
        "\n",
        "Die folgenden Visualisierungen dienen der explorativen Analyse von Ernährungsmustern im Zusammenhang mit häufigen chronischen Erkrankungen: **Übergewicht**, **Bluthochdruck** und **Diabetes**. Ziel ist es, zu identifizieren, in welchen Gruppen eine potenziell **unausgewogene Nährstoffzufuhr** vorliegt und wie sich diese in Bezug auf zentrale Nährstoffe wie **Fett**, **Natrium (Salz)** und **Kalorien** äußert.\n",
        "\n",
        "Als Referenz dienen dabei die Ernährungsempfehlungen der **Weltgesundheitsorganisation (WHO)**, insbesondere in Bezug auf Grenzwerte für die tägliche Zufuhr:\n",
        "- Fett: ≤ 75 g\n",
        "- Natrium: ≤ 2000 mg\n",
        "- Energie: je nach Bedarf, grob ≤ 2500 kcal\n",
        "\n",
        "Die Visualisierungen kombinieren **gruppenbasierte Auswertungen** (z. B. Boxplots nach Gesundheitsstatus) mit **verteilungsorientierten Darstellungen** (Histogramme) sowie einer **Beziehungsgrafik** (Scatterplot), um sowohl individuelle Muster als auch statistisch auffällige Tendenzen sichtbar zu machen.\n",
        "\n",
        "Durch diese Analyse werden erste Hypothesen über Zusammenhänge zwischen **Ernährungsverhalten und gesundheitlichem Risiko** unterstützt. Die Ergebnisse liefern wertvolle Hinweise für Prävention, Gesundheitsförderung und individuelle Interventionen."
      ]
    },
    {
      "cell_type": "markdown",
      "metadata": {
        "id": "p6r8F0F1KIyg"
      },
      "source": [
        "**1. Boxplot: Fettaufnahme nach Gesundheitsstatus**\n",
        "\n",
        "Diese Visualisierung zeigt, wie stark die Fettzufuhr zwischen den verschiedenen Gesundheitsgruppen variiert."
      ]
    },
    {
      "cell_type": "code",
      "execution_count": null,
      "metadata": {
        "id": "SJ6IgMlJI3zt"
      },
      "outputs": [],
      "source": [
        "sns.set(style=\"whitegrid\")\n",
        "\n",
        "plt.figure(figsize=(8, 5))\n",
        "sns.boxplot(data=df_clean, x='Gesundheitsstatus', y='DR1TTFAT')\n",
        "plt.title(\"Fettaufnahme (g) nach Gesundheitsstatus\")\n",
        "plt.ylabel(\"Fettaufnahme (g)\")\n",
        "plt.xlabel(\"Gesundheitsstatus\")\n",
        "plt.xticks(rotation=45)\n",
        "plt.tight_layout()\n",
        "plt.show()"
      ]
    },
    {
      "cell_type": "markdown",
      "metadata": {
        "id": "XfQR5AWQKYkD"
      },
      "source": [
        "**Erklärung:**\n",
        "\n",
        "Diese Visualisierung zeigt die Verteilung der täglichen Fettaufnahme in den verschiedenen Gesundheitsgruppen. Auffällig ist, dass Personen mit Übergewicht und Bluthochdruck im Mittel höhere Fettmengen konsumieren als Personen ohne diese Diagnosen. Dies deutet auf ein potenziell unausgewogenes Ernährungsmuster mit überhöhter Fettzufuhr in diesen Gruppen hin. Gleichzeitig zeigt die starke Streuung innerhalb der Gruppen, dass auch individuelle Unterschiede eine Rolle spielen."
      ]
    },
    {
      "cell_type": "markdown",
      "metadata": {
        "id": "dbYFw-cTKbyz"
      },
      "source": [
        "**2. Boxplot: Natriumaufnahme nach Gesundheitsstatus**\n",
        "\n",
        "Die folgende Darstellung veranschaulicht die tägliche Salzzufuhr in den einzelnen Gesundheitsgruppen."
      ]
    },
    {
      "cell_type": "code",
      "execution_count": null,
      "metadata": {
        "id": "9GBGM0AmKg-i"
      },
      "outputs": [],
      "source": [
        "plt.figure(figsize=(8, 5))\n",
        "sns.boxplot(data=df_clean, x='Gesundheitsstatus', y='DR1TSODI')\n",
        "plt.title(\"Natriumaufnahme (mg) nach Gesundheitsstatus\")\n",
        "plt.ylabel(\"Natriumaufnahme (mg)\")\n",
        "plt.xlabel(\"Gesundheitsstatus\")\n",
        "plt.xticks(rotation=45)\n",
        "plt.tight_layout()\n",
        "plt.show()"
      ]
    },
    {
      "cell_type": "markdown",
      "metadata": {
        "id": "ut4cdnHzKjyM"
      },
      "source": [
        "**Erklärung:**\n",
        "\n",
        "Diese Darstellung macht deutlich, dass die Natriumaufnahme in allen Gruppen hoch ist. Der Großteil der Personen überschreitet den von der WHO empfohlenen Grenzwert von 2000 mg Natrium pro Tag – unabhängig vom Gesundheitsstatus. Besonders für Personen mit Bluthochdruck ist dies kritisch, da ein hoher Salzkonsum als Risikofaktor für Bluthochdruck gilt. Diese Visualisierung unterstützt die Aussage, dass übermäßiger Salzkonsum ein weit verbreitetes Problem ist."
      ]
    },
    {
      "cell_type": "markdown",
      "metadata": {
        "id": "GwPYI1zeKpIr"
      },
      "source": [
        "**3. Boxplot: Kalorienaufnahme nach Gesundheitsstatus**\n",
        "\n",
        "Dieser Plot zeigt die Unterschiede in der Energieaufnahme zwischen den Gesundheitszuständen."
      ]
    },
    {
      "cell_type": "code",
      "execution_count": null,
      "metadata": {
        "id": "NnGAOyfTI36h"
      },
      "outputs": [],
      "source": [
        "plt.figure(figsize=(8, 5))\n",
        "sns.boxplot(data=df_clean, x='Gesundheitsstatus', y='DR1TKCAL')\n",
        "plt.title(\"Kalorienaufnahme (kcal) nach Gesundheitsstatus\")\n",
        "plt.ylabel(\"Kalorienaufnahme (kcal)\")\n",
        "plt.xlabel(\"Gesundheitsstatus\")\n",
        "plt.xticks(rotation=45)\n",
        "plt.tight_layout()\n",
        "plt.show()"
      ]
    },
    {
      "cell_type": "markdown",
      "metadata": {
        "id": "QihkXzxLK0Kj"
      },
      "source": [
        "**Erklärung:**\n",
        "\n",
        "Der Boxplot vergleicht die Kalorienaufnahme zwischen den Gesundheitsgruppen. Übergewichtige Personen zeigen tendenziell eine höhere mittlere Kalorienzufuhr im Vergleich zu den anderen Gruppen, was auf ein unausgewogenes Ernährungsmuster mit überhöhter Energieaufnahme hindeutet. Die Überschneidung der Boxen zeigt aber auch, dass es innerhalb jeder Gruppe Personen mit sehr unterschiedlichem Kalorienverhalten gibt."
      ]
    },
    {
      "cell_type": "markdown",
      "metadata": {
        "id": "0vAfIWatK7tW"
      },
      "source": [
        "**4. Histogramm: Verteilung der Fettaufnahme (gesamt)**\n",
        "\n",
        "Die folgende Histogramm-Darstellung gibt einen Überblick über die Verteilung der Fettzufuhr in der gesamten Stichprobe."
      ]
    },
    {
      "cell_type": "code",
      "execution_count": null,
      "metadata": {
        "id": "Mzzu4UHTK_Fk"
      },
      "outputs": [],
      "source": [
        "plt.figure(figsize=(8, 5))\n",
        "sns.histplot(df_clean['DR1TTFAT'], bins=30, kde=True)\n",
        "plt.title(\"Verteilung der Fettaufnahme in der Gesamtbevölkerung\")\n",
        "plt.xlabel(\"Fettaufnahme (g)\")\n",
        "plt.tight_layout()\n",
        "plt.show()"
      ]
    },
    {
      "cell_type": "markdown",
      "metadata": {
        "id": "3PncuWRmLBpb"
      },
      "source": [
        "**Erklärung:**\n",
        "\n",
        "Dieses Histogramm zeigt die generelle Verteilung der Fettaufnahme in der untersuchten Bevölkerung. Die Verteilung ist deutlich rechtsschief – das heißt: Während viele Personen moderate Fettmengen konsumieren, gibt es auch eine kleinere Gruppe mit extrem hoher Fettaufnahme. Dieses Muster legt nahe, dass einige Personen potenziell stark unausgewogene Ernährungsgewohnheiten aufweisen, auch wenn ihr Gesundheitsstatus (noch) nicht auffällig ist."
      ]
    },
    {
      "cell_type": "markdown",
      "metadata": {
        "id": "908BOY64LMUt"
      },
      "source": [
        "**5. Scatterplot: Natriumaufnahme vs. systolischer Blutdruck**\n",
        "\n",
        "Diese Visualisierung untersucht den möglichen Zusammenhang zwischen Salzkonsum und erhöhtem Blutdruck."
      ]
    },
    {
      "cell_type": "code",
      "execution_count": null,
      "metadata": {
        "id": "7Gbl5hVmLOfM"
      },
      "outputs": [],
      "source": [
        "plt.figure(figsize=(8, 5))\n",
        "sns.scatterplot(data=df_clean, x='DR1TSODI', y='BPXSY1', hue='Gesundheitsstatus')\n",
        "plt.title(\"Zusammenhang: Natriumaufnahme vs. systolischer Blutdruck\")\n",
        "plt.xlabel(\"Natriumaufnahme (mg)\")\n",
        "plt.ylabel(\"Systolischer Blutdruck (mmHg)\")\n",
        "plt.tight_layout()\n",
        "plt.show()"
      ]
    },
    {
      "cell_type": "markdown",
      "metadata": {
        "id": "FKOZT3ScLRL1"
      },
      "source": [
        "**Erklärung:**\n",
        "\n",
        "In dieser Visualisierung wird der Zusammenhang zwischen Natriumaufnahme und systolischem Blutdruck gezeigt. Während kein klarer linearer Trend erkennbar ist, deutet die Streuung der Punkte darauf hin, dass hohe Natriumaufnahme bei manchen Personen mit erhöhtem Blutdruck einhergeht – insbesondere bei Personen mit Bluthochdruckdiagnose. Diese Darstellung unterstreicht, dass die gesundheitliche Wirkung von zu viel Salz individuell unterschiedlich ist, aber dennoch ein Risikofaktor bleibt."
      ]
    },
    {
      "cell_type": "markdown",
      "metadata": {
        "id": "lrGw4KJnLcpE"
      },
      "source": [
        "<h3>Die Visualisierungen in Bezug zu KAQ1</h3>\n",
        "\n",
        "<table>\n",
        "  <thead>\n",
        "    <tr>\n",
        "      <th>Visualisierung</th>\n",
        "      <th>Was sie zeigt</th>\n",
        "      <th>Beitrag zur KAQ1</th>\n",
        "    </tr>\n",
        "  </thead>\n",
        "  <tbody>\n",
        "    <tr>\n",
        "      <td><b>Boxplot Fettaufnahme nach Gruppe</b></td>\n",
        "      <td>Gruppen mit systematisch höherer Fettzufuhr (z. B. Übergewichtige)</td>\n",
        "      <td>✅ zeigt \"fettlastige\" Muster</td>\n",
        "    </tr>\n",
        "    <tr>\n",
        "      <td><b>Boxplot Natriumaufnahme nach Gruppe</b></td>\n",
        "      <td>Belegt hohe Salzzufuhr in allen Gruppen – besonders relevant für Bluthochdruck</td>\n",
        "      <td>✅ unausgewogenes Salzverhalten sichtbar</td>\n",
        "    </tr>\n",
        "    <tr>\n",
        "      <td><b>Boxplot Kalorienaufnahme</b></td>\n",
        "      <td>Zeigt: Übergewichtige konsumieren im Schnitt mehr Energie</td>\n",
        "      <td>✅ übermäßige Energiezufuhr als Muster</td>\n",
        "    </tr>\n",
        "    <tr>\n",
        "      <td><b>Histogramm Fettaufnahme (gesamt)</b></td>\n",
        "      <td>Verteilung: viele nehmen sehr viel Fett auf → streuende, unausgewogene Verteilung</td>\n",
        "      <td>✅ zeigt allgemeines Risiko in Bevölkerung</td>\n",
        "    </tr>\n",
        "    <tr>\n",
        "      <td><b>Scatterplot Natrium vs. Blutdruck</b></td>\n",
        "      <td>Streuung, aber Hinweise auf Zusammenhang zwischen Salzkonsum und Blutdruck</td>\n",
        "      <td>✅ Zusammenhang zwischen Muster & Auswirkung</td>\n",
        "    </tr>\n",
        "  </tbody>\n",
        "</table>\n"
      ]
    },
    {
      "cell_type": "markdown",
      "metadata": {
        "id": "ULW_wosbL2GV"
      },
      "source": [
        "**Gesamtfazit:**\n",
        "\n",
        "Diese Visualisierungen beantworten **KAQ1 auf mehreren Ebenen**:\n",
        "\n",
        "- Sie identifizieren **Gruppen mit erhöhtem Risiko**\n",
        "\n",
        "- Sie zeigen **welche Nährstoffe** problematisch sind (Fett, Natrium, Kalorien)\n",
        "\n",
        "- Sie verdeutlichen **Verhaltensmuster** in der Bevölkerung\n",
        "\n",
        "- Sie liefern visuelle Argumente für die Bewertung der Ernährung als **ausgewogen oder unausgewogen**\n",
        "\n",
        "---\n",
        "\n",
        "\n"
      ]
    },
    {
      "cell_type": "markdown",
      "metadata": {
        "id": "2H8-iZT6OJRI"
      },
      "source": [
        "## Zusammenfassung zu KAQ1: In welchen Ernährungsmustern liegt eine potenziell unausgewogene Nährstoffzufuhr vor?\n",
        "\n",
        "Die Analyse der NHANES-Daten zeigt deutlich, dass bestimmte Gesundheitsgruppen – insbesondere Personen mit **Übergewicht** und **Bluthochdruck** – häufiger eine **unausgewogene Ernährung** aufweisen. Diese äußert sich in einer überdurchschnittlich hohen **Fett- und Kalorienzufuhr**, die in vielen Fällen die von der WHO empfohlenen Grenzwerte überschreitet. Gleichzeitig ist die **Natriumaufnahme** in nahezu allen Gruppen problematisch hoch, was insbesondere für Personen mit Bluthochdruck ein gesundheitliches Risiko darstellt.\n",
        "\n",
        "Auch unter den Personen ohne manifeste Diagnose („keine der drei Diagnosen“) finden sich auffällige Ernährungsmuster, etwa in Form überhöhter Fett- oder Salzaufnahme. Dies legt nahe, dass nicht alle Risiken bereits klinisch sichtbar sind, sondern präventiv erkannt werden sollten.\n",
        "\n",
        "Die Visualisierungen (Boxplots, Histogramme, Scatterplots) unterstützen diese Erkenntnisse, indem sie Unterschiede zwischen Gruppen sowie die Verteilung und Ausreißer bei Nährstoffzufuhren deutlich machen. Insgesamt zeigt sich, dass **bestimmte Ernährungsmuster – insbesondere hoher Energie- und Salzkonsum – mit einem erhöhten Gesundheitsrisiko einhergehen**, und damit als unausgewogen im Sinne dieser Fragestellung gelten.\n"
      ]
    },
    {
      "cell_type": "markdown",
      "metadata": {
        "id": "SHy8ppPIC3E8"
      },
      "source": [
        "<img src=\"https://github.com/iceangel79/MScWinf_Gruppenarbeit_Sem2/raw/7bc2688a737ca1d1ddc5a8b40061fcf3a2f13b23/Semesterarbeit/Images/unausgewogene_Ern%C3%A4hrungsmuster.png\" alt=\"Beispielbild\" width=\"500\" />"
      ]
    },
    {
      "cell_type": "markdown",
      "metadata": {
        "id": "aZusmh2cQAID"
      },
      "source": [
        "\n",
        "\n",
        "---\n",
        "\n"
      ]
    },
    {
      "cell_type": "markdown",
      "metadata": {
        "id": "V1tLGugSRwqD"
      },
      "source": [
        "**KAQ 2: Welche Ernährungsmuster sind statistisch signifikant mit bestimmten Krankheitsbildern?**"
      ]
    },
    {
      "cell_type": "markdown",
      "metadata": {
        "id": "HBVgpNwUSOl2"
      },
      "source": [
        "**Vorgehensweise – aufbauend auf KAQ 1**\n",
        "\n",
        "**In KAQ 1 hat man herausgefunden:**\n",
        "\n",
        "- Übergewichtige & Bluthochdruck-Patienten haben häufiger:\n",
        "\n",
        "  - hohe **Fettaufnahme**\n",
        "\n",
        "  - hohe **Kalorienaufnahme**\n",
        "\n",
        "  - hohe **Natriumaufnahme**\n",
        "\n",
        "- Alle Gruppen zeigen zum Teil **problematische Muster** (auch „Gesunde“)\n",
        "\n",
        "Mit KAQ 2 wird geprüft:\n",
        "\n",
        "- **Sind diese Unterschiede zufällig – oder statistisch bedeutsam?**\n",
        "\n",
        "- Gibt es **signifikante Zusammenhänge** (z. B. Fettaufnahme ↔ Übergewicht)?"
      ]
    },
    {
      "cell_type": "markdown",
      "metadata": {
        "id": "fAEnjQXJTw6q"
      },
      "source": [
        "**1. Kalorienaufnahme: Übergewicht vs. Gesund**"
      ]
    },
    {
      "cell_type": "code",
      "execution_count": null,
      "metadata": {
        "id": "ek824ASwTzY4"
      },
      "outputs": [],
      "source": [
        "# Stil für Seaborn\n",
        "sns.set(style=\"whitegrid\")\n",
        "\n",
        "# 1. Sicherstellen, dass Spaltennamen korrekt sind\n",
        "df_clean.columns = df_clean.columns.str.strip()\n",
        "\n",
        "# 2. Subset für Übergewicht vs. Gesunde Personen mit gültigen Kalorienwerten\n",
        "subset_kcal = df_clean[\n",
        "    (df_clean['Gesundheitsstatus'].isin(['Übergewicht', 'Keine der drei Diagnosen'])) &\n",
        "    (df_clean['DR1TKCAL'].notna())\n",
        "]\n",
        "\n",
        "# 3. Boxplot mit hue und Palette (ohne FutureWarning)\n",
        "plt.figure(figsize=(8, 5))\n",
        "sns.boxplot(\n",
        "    data=subset_kcal,\n",
        "    x='Gesundheitsstatus',\n",
        "    y='DR1TKCAL',\n",
        "    hue='Gesundheitsstatus',\n",
        "    dodge=False,\n",
        "    legend=False,\n",
        "    palette='Set2'\n",
        ")\n",
        "\n",
        "# 4. Titel & Achsenbeschriftung\n",
        "plt.title(\"Kalorienaufnahme: Übergewicht vs. Gesund\")\n",
        "plt.ylabel(\"Kalorienaufnahme (kcal)\")\n",
        "plt.xlabel(\"Gesundheitsstatus\")\n",
        "\n",
        "# 5. p-Wert anzeigen\n",
        "y_max = subset_kcal['DR1TKCAL'].max()\n",
        "plt.text(0.5, y_max * 0.95, \"p = 0.0496\", ha='center', fontsize=11)\n",
        "\n",
        "plt.tight_layout()\n",
        "plt.show()\n",
        "\n"
      ]
    },
    {
      "cell_type": "markdown",
      "metadata": {
        "id": "NqM6BtJRT3o_"
      },
      "source": [
        "###Erklärung zur Visualisierung: Kalorienaufnahme bei Übergewicht vs. Gesund\n",
        "\n",
        "Die Boxplot-Grafik zeigt die tägliche **Kalorienaufnahme (in Kilokalorien)** von übergewichtigen und gesunden Personen.\n",
        "\n",
        "####Was ist zu sehen?\n",
        "- Übergewichtige Personen nehmen im Schnitt **mehr Kalorien zu sich** als gesunde Personen.\n",
        "- Der Unterschied ist **statistisch signifikant (p = 0.0496)** – wenn auch knapp.\n",
        "- Die Werte streuen deutlich, was auf individuelle Unterschiede im Essverhalten hindeutet.\n",
        "\n",
        "####Interpretation:\n",
        "- Der signifikante Unterschied legt nahe, dass **eine erhöhte Kalorienzufuhr mit Übergewicht** zusammenhängt.  \n",
        "- Dies steht im Einklang mit gängigen Erkenntnissen zur Energiebilanz: Wird über längere Zeit mehr Energie aufgenommen als verbraucht, steigt das Körpergewicht.  \n",
        "- Dennoch zeigt die große Streuung, dass auch andere Faktoren wie körperliche Aktivität, Stoffwechselrate oder Ernährungsmuster relevant sind.\n",
        "\n",
        "####Fazit:\n",
        "Die Visualisierung unterstreicht, dass **eine hohe Kalorienzufuhr ein Schlüsselfaktor bei Übergewicht** ist – wenn auch nicht der einzige. Eine ausgewogene Energieaufnahme bleibt entscheidend für ein gesundes Körpergewicht.\n"
      ]
    },
    {
      "cell_type": "markdown",
      "metadata": {
        "id": "EcaNEg-TT67f"
      },
      "source": [
        "**2. Fettaufnahme: Übergewicht vs. Gesund**"
      ]
    },
    {
      "cell_type": "code",
      "execution_count": null,
      "metadata": {
        "id": "lB0jQN2IT8dp"
      },
      "outputs": [],
      "source": [
        "# Stil festlegen\n",
        "sns.set(style=\"whitegrid\")\n",
        "\n",
        "# Spaltennamen aufräumen (zur Sicherheit)\n",
        "df_clean.columns = df_clean.columns.str.strip()\n",
        "\n",
        "# Subset mit gültigen Fettwerten\n",
        "subset_fett = df_clean[\n",
        "    (df_clean['Gesundheitsstatus'].isin(['Übergewicht', 'Keine der drei Diagnosen'])) &\n",
        "    (df_clean['DR1TTFAT'].notna())\n",
        "]\n",
        "\n",
        "# Plot erstellen mit hue zur Farbanpassung\n",
        "plt.figure(figsize=(8, 5))\n",
        "sns.boxplot(\n",
        "    data=subset_fett,\n",
        "    x='Gesundheitsstatus',\n",
        "    y='DR1TTFAT',\n",
        "    hue='Gesundheitsstatus',\n",
        "    dodge=False,\n",
        "    legend=False,\n",
        "    palette='Set2'\n",
        ")\n",
        "\n",
        "plt.title(\"Fettaufnahme: Übergewicht vs. Gesund\")\n",
        "plt.ylabel(\"Fettaufnahme (g)\")\n",
        "plt.xlabel(\"Gesundheitsstatus\")\n",
        "\n",
        "# p-Wert-Text einfügen\n",
        "y_max = subset_fett['DR1TTFAT'].max()\n",
        "plt.text(0.5, y_max * 0.95, \"p = 0.0053\", ha='center', fontsize=11)\n",
        "\n",
        "plt.tight_layout()\n",
        "plt.show()\n",
        "\n"
      ]
    },
    {
      "cell_type": "markdown",
      "metadata": {
        "id": "p5Xnkp1FT_hg"
      },
      "source": [
        "### Erklärung zur Visualisierung: Fettaufnahme bei Übergewicht vs. Gesund\n",
        "\n",
        "Die Boxplot-Grafik zeigt die Verteilung der täglichen **Fettaufnahme (in Gramm)** bei übergewichtigen Personen im Vergleich zu gesunden Teilnehmern („Keine der drei Diagnosen“).\n",
        "\n",
        "#### Was ist zu sehen?\n",
        "- Übergewichtige konsumieren im Mittel **deutlich mehr Fett** als gesunde Personen.\n",
        "- Der Unterschied ist **statistisch signifikant (p = 0.0053)**.\n",
        "- Die Streuung ist in beiden Gruppen vorhanden, bei Übergewichtigen aber tendenziell breiter.\n",
        "\n",
        "#### Interpretation:\n",
        "- Der signifikante Unterschied weist darauf hin, dass ein **hoher Fettkonsum mit Übergewicht assoziiert** ist.  \n",
        "- Dies unterstützt ernährungswissenschaftliche Erkenntnisse, wonach übermäßige Fettzufuhr – vor allem bei gleichzeitig hohem Kalorienverbrauch – zur Gewichtszunahme beiträgt.  \n",
        "- Dennoch zeigen die Ausreißer, dass individuelle Faktoren wie Bewegung oder Stoffwechsel eine Rolle spielen.\n",
        "\n",
        "#### Fazit:\n",
        "Die Analyse bestätigt, dass **eine überdurchschnittliche Fettaufnahme ein Risikomuster für Übergewicht** darstellt. Eine fettbewusste Ernährung kann daher zur Prävention beitragen.\n"
      ]
    },
    {
      "cell_type": "markdown",
      "metadata": {
        "id": "BmaLJbIiUCrp"
      },
      "source": [
        "**3. Natriumaufnahme: Bluthochdruck vs. Gesund**"
      ]
    },
    {
      "cell_type": "code",
      "execution_count": null,
      "metadata": {
        "id": "t377HAPnUF8a"
      },
      "outputs": [],
      "source": [
        "sns.set(style=\"whitegrid\")\n",
        "\n",
        "# Spaltennamen bereinigen (nur einmal im Notebook nötig)\n",
        "df_clean.columns = df_clean.columns.str.strip()\n",
        "\n",
        "# Subset mit gültigen Natriumwerten\n",
        "subset_natrium = df_clean[\n",
        "    (df_clean['Gesundheitsstatus'].isin(['Bluthochdruck', 'Keine der drei Diagnosen'])) &\n",
        "    (df_clean['DR1TSODI'].notna())\n",
        "]\n",
        "\n",
        "# Boxplot mit korrektem hue-Handling\n",
        "plt.figure(figsize=(8, 5))\n",
        "sns.boxplot(\n",
        "    data=subset_natrium,\n",
        "    x='Gesundheitsstatus',\n",
        "    y='DR1TSODI',\n",
        "    hue='Gesundheitsstatus',\n",
        "    dodge=False,\n",
        "    legend=False,\n",
        "    palette='Set2'\n",
        ")\n",
        "\n",
        "plt.title(\"Natriumaufnahme: Bluthochdruck vs. Gesund\")\n",
        "plt.ylabel(\"Natriumaufnahme (mg)\")\n",
        "plt.xlabel(\"Gesundheitsstatus\")\n",
        "\n",
        "# p-Wert-Text\n",
        "y_max = subset_natrium['DR1TSODI'].max()\n",
        "plt.text(0.5, y_max * 0.95, \"p = 0.2186\", ha='center', fontsize=11)\n",
        "\n",
        "plt.tight_layout()\n",
        "plt.show()"
      ]
    },
    {
      "cell_type": "markdown",
      "metadata": {
        "id": "U66qQ3sjUH3Y"
      },
      "source": [
        "### Erklärung zur Visualisierung: Natriumaufnahme bei Bluthochdruck vs. Gesund\n",
        "\n",
        "Die Boxplot-Grafik zeigt die Verteilung der täglichen **Natriumaufnahme (in Milligramm)** bei Personen mit Bluthochdruck im Vergleich zu gesunden Teilnehmern („Keine der drei Diagnosen“).\n",
        "\n",
        "#### Was ist zu sehen?\n",
        "- Die mittlere Natriumaufnahme unterscheidet sich **nur geringfügig** zwischen den Gruppen.\n",
        "- Der Unterschied ist **nicht signifikant (p = 0.2186)** – er könnte also zufällig entstanden sein.\n",
        "- Die Werte streuen in beiden Gruppen stark, was auf große **individuelle Unterschiede** im Salzkonsum hindeutet.\n",
        "\n",
        "#### Interpretation:\n",
        "- Obwohl übermäßiger Salzkonsum ein bekannter Risikofaktor für Bluthochdruck ist, zeigt sich hier **kein signifikanter Unterschied**.  \n",
        "- Mögliche Gründe könnten sein:\n",
        "  - Viele Betroffene haben ihren **Salzkonsum bereits reduziert** (z. B. durch ärztliche Empfehlungen).\n",
        "  - Die **Messung der Natriumzufuhr** basiert auf Selbstauskunft und ist ungenau.\n",
        "  - **Weitere Risikofaktoren** wie Alter, Vererbung oder Medikation könnten den Blutdruck stärker beeinflussen.\n",
        "\n",
        "#### Fazit:\n",
        "In dieser Analyse zeigt sich **kein signifikanter Zusammenhang zwischen Natriumaufnahme und Bluthochdruck**. Das bedeutet jedoch nicht, dass Salzkonsum irrelevant ist – vielmehr sind **weitere Kontextfaktoren** entscheidend für die Interpretation.\n"
      ]
    },
    {
      "cell_type": "markdown",
      "metadata": {
        "id": "er_ECz4uULAZ"
      },
      "source": [
        "**4. Zuckeraufnahme: Diabetes vs. Gesund**"
      ]
    },
    {
      "cell_type": "code",
      "execution_count": null,
      "metadata": {
        "id": "8qisdzIPUOWz"
      },
      "outputs": [],
      "source": [
        "# 1. CSV-Dateien neu laden\n",
        "diet = pd.read_csv(\"https://raw.githubusercontent.com/iceangel79/MScWinf_Gruppenarbeit_Sem2/refs/heads/main/Semesterarbeit/Datasets/Kaggle/diet.csv\")\n",
        "examination = pd.read_csv(\"https://raw.githubusercontent.com/iceangel79/MScWinf_Gruppenarbeit_Sem2/refs/heads/main/Semesterarbeit/Datasets/Kaggle/examination.csv\")\n",
        "questionnaire = pd.read_csv(\"https://raw.githubusercontent.com/iceangel79/MScWinf_Gruppenarbeit_Sem2/refs/heads/main/Semesterarbeit/Datasets/Kaggle/questionnaire.csv\")\n",
        "\n",
        "# 2. Relevante Spalten auswählen\n",
        "diet_cols = ['SEQN', 'DR1TKCAL', 'DR1TSUGR', 'DR1TTFAT', 'DR1TSODI']\n",
        "examination_cols = ['SEQN', 'BMXBMI', 'BPXSY1', 'BPXDI1']\n",
        "questionnaire_cols = ['SEQN', 'DIQ010']\n",
        "\n",
        "# 3. Daten filtern\n",
        "diet_small = diet[diet_cols]\n",
        "examination_small = examination[examination_cols]\n",
        "questionnaire_small = questionnaire[questionnaire_cols]\n",
        "\n",
        "# 4. Daten zusammenführen\n",
        "df = diet_small.merge(examination_small, on=\"SEQN\", how=\"inner\")\n",
        "df = df.merge(questionnaire_small, on=\"SEQN\", how=\"inner\")\n",
        "\n",
        "# 5. Fehlende Werte entfernen\n",
        "df_clean = df.dropna().copy()\n",
        "\n",
        "# 6. Gesundheitsstatus definieren\n",
        "def classify_health(row):\n",
        "    if row['DIQ010'] == 1:\n",
        "        return 'Diabetes'\n",
        "    elif row['BPXSY1'] >= 130 or row['BPXDI1'] >= 80:\n",
        "        return 'Bluthochdruck'\n",
        "    elif row['BMXBMI'] >= 25:\n",
        "        return 'Übergewicht'\n",
        "    else:\n",
        "        return 'Keine der drei Diagnosen'\n",
        "\n",
        "df_clean['Gesundheitsstatus'] = df_clean.apply(classify_health, axis=1)\n",
        "\n",
        "# 7. Visualisierung vorbereiten\n",
        "sns.set(style=\"whitegrid\")\n",
        "\n",
        "subset_diabetes = df_clean[\n",
        "    (df_clean['Gesundheitsstatus'].isin(['Diabetes', 'Keine der drei Diagnosen'])) &\n",
        "    (df_clean['DR1TSUGR'].notna())\n",
        "].copy()\n",
        "\n",
        "# 8. Boxplot erstellen\n",
        "plt.figure(figsize=(8, 5))\n",
        "sns.boxplot(\n",
        "    data=subset_diabetes,\n",
        "    x='Gesundheitsstatus',\n",
        "    y='DR1TSUGR',\n",
        "    hue='Gesundheitsstatus',\n",
        "    dodge=False,\n",
        "    palette='Set2'\n",
        ")\n",
        "\n",
        "plt.title(\"Zuckeraufnahme: Diabetes vs. Gesund\")\n",
        "plt.ylabel(\"Zuckeraufnahme (g)\")\n",
        "plt.xlabel(\"Gesundheitsstatus\")\n",
        "\n",
        "# 9. p-Wert anzeigen\n",
        "y_max = subset_diabetes['DR1TSUGR'].max()\n",
        "plt.text(0.5, y_max * 0.95, \"p = 0.0000\", ha='center', fontsize=11)\n",
        "\n",
        "# 10. Legende sicher entfernen – ohne Warnung\n",
        "if plt.gca().get_legend():\n",
        "    plt.gca().get_legend().remove()\n",
        "\n",
        "plt.tight_layout()\n",
        "plt.show()"
      ]
    },
    {
      "cell_type": "markdown",
      "metadata": {
        "id": "ocYLPFgZUP8i"
      },
      "source": [
        "### Erklärung zur Visualisierung: Zuckeraufnahme bei Diabetes vs. Gesund\n",
        "\n",
        "Die Boxplot-Grafik zeigt die Verteilung der täglichen **Zuckeraufnahme (in Gramm)** bei Personen mit Diabetes im Vergleich zu gesunden Teilnehmern („Keine der drei Diagnosen“).\n",
        "\n",
        "#### Was ist zu sehen?\n",
        "- Diabetiker konsumieren im Mittel **weniger Zucker** als gesunde Personen.\n",
        "- Der Unterschied ist **statistisch hochsignifikant (p = 0.0000)** – er ist sehr wahrscheinlich **nicht zufällig**, sondern systematisch vorhanden.\n",
        "- Die Streuung ist in beiden Gruppen deutlich, bei Diabetikern jedoch mit einer **tendenziell geringeren Obergrenze**.\n",
        "\n",
        "#### Interpretation:\n",
        "- Die Ergebnisse deuten darauf hin, dass viele Diabetiker ihre Ernährung **nach der Diagnose bewusst anpassen** und den **Zuckerkonsum reduzieren** – etwa durch ärztliche Empfehlung oder gesteigertes Gesundheitsbewusstsein.  \n",
        "- Der signifikante Unterschied lässt sich daher eher als **Folge der Erkrankung** interpretieren, **nicht als deren Ursache**.\n",
        "\n",
        "#### Fazit:\n",
        "Die Visualisierung zeigt exemplarisch, wie ein **signifikanter Unterschied** in den Daten sichtbar wird – ohne automatisch auf eine Ursache-Wirkung-Beziehung schließen zu müssen. Sie betont zudem die Rolle von **Verhaltensänderungen nach einer Diagnose** in der Ernährungspraxis.\n"
      ]
    },
    {
      "cell_type": "markdown",
      "metadata": {
        "id": "xzpBntSLWik2"
      },
      "source": [
        "## Zusammenfassung – KAQ 2: Welche Ernährungsmuster sind statistisch signifikant mit bestimmten Krankheitsbildern assoziiert?\n",
        "\n",
        "Zur Beantwortung von KAQ 2 wurden gezielt **statistische Gruppenvergleiche in Form von t-Tests** durchgeführt. Ziel war es herauszufinden, ob sich die **Nährstoffaufnahme signifikant zwischen gesunden Personen und solchen mit chronischen Erkrankungen** wie Diabetes, Übergewicht oder Bluthochdruck unterscheidet. Dabei wurden vier zentrale Ernährungsmuster betrachtet: die Aufnahme von **Kalorien, Fett, Zucker und Natrium**.\n",
        "\n",
        "Die Analyse zeigt, dass **übergewichtige Personen im Durchschnitt signifikant mehr Kalorien konsumieren** als gesunde Vergleichspersonen (p = 0.0496), was auf einen Zusammenhang zwischen erhöhter Energiezufuhr und Übergewicht hinweist. Noch deutlicher wird dieser Zusammenhang bei der Fettaufnahme: Hier ist der Unterschied mit einem p-Wert von 0.0053 nicht nur signifikant, sondern hoch signifikant. Das unterstreicht die Rolle fettreicher Ernährungsmuster bei der Entstehung von Übergewicht.\n",
        "\n",
        "Im Fall von Diabetes zeigt sich ein umgekehrtes Bild: **Diabetiker nehmen signifikant weniger Zucker zu sich** als gesunde Personen (p = 0.0000). Dieser Unterschied lässt sich vermutlich auf eine bewusste Anpassung der Ernährung nach der Diagnose zurückführen – etwa durch ärztliche Empfehlungen oder ein gestiegenes Gesundheitsbewusstsein. Anders verhält es sich bei Bluthochdruck: Trotz des bekannten Zusammenhangs zwischen Salzkonsum und erhöhtem Blutdruck konnte **kein signifikanter Unterschied in der Natriumaufnahme** festgestellt werden (p = 0.2186). Dies weist auf komplexere Ursachen hin, beispielsweise individuelle Unterschiede, bereits erfolgte Diätanpassungen oder methodische Ungenauigkeiten in der Datenerhebung.\n",
        "\n",
        "Zusammenfassend lässt sich sagen, dass **unausgewogene Ernährungsmuster – insbesondere eine hohe Kalorien- und Fettzufuhr – klar mit Übergewicht assoziiert sind**. Ebenso lässt sich eine deutliche Zuckerreduktion bei Diabetikern feststellen, vermutlich als Folge therapeutischer Maßnahmen. Für Bluthochdruck hingegen konnten keine signifikanten Unterschiede in der Natriumaufnahme nachgewiesen werden, was auf die Relevanz weiterer Einflussgrößen hinweist und verdeutlicht, dass nicht jeder Zusammenhang in Querschnittsdaten statistisch sichtbar wird."
      ]
    },
    {
      "cell_type": "markdown",
      "metadata": {
        "id": "8kDl5FAFDA5w"
      },
      "source": [
        "<img src=\"https://raw.githubusercontent.com/iceangel79/MScWinf_Gruppenarbeit_Sem2/fab1725d8a7206ec0edb297092b41d006447fe0c/Semesterarbeit/Images/Signifikante_Ern%C3%A4hrungsmuster.png\" alt=\"Beispielbild\" width=\"500\" />\n",
        "\n"
      ]
    },
    {
      "cell_type": "markdown",
      "metadata": {
        "id": "6CwAsIu6oKYV"
      },
      "source": [
        "\n",
        "\n",
        "---\n",
        "\n"
      ]
    },
    {
      "cell_type": "markdown",
      "metadata": {
        "id": "ePdud_t3o3Pv"
      },
      "source": [
        "**KAQ 3: Wie stark weichen die identifizierten Ernährungsmuster (Cluster/Risikogruppen) von den offiziellen Nährstoffempfehlungen (z. B. BLV) ab – und welche Nährstoffe sind dabei besonders kritisch in Bezug auf präventive Gesundheit?**"
      ]
    },
    {
      "cell_type": "markdown",
      "metadata": {
        "id": "9-wXmAWCprp8"
      },
      "source": [
        "**Vorgehensweise – aufbauend auf KAQ 2**\n",
        "\n",
        "**In KAQ 2 wurde analysiert:**\n",
        "\n",
        "- Übergewichtige Personen konsumieren **signifikant mehr Kalorien und Fett**\n",
        "- Diabetiker nehmen **signifikant weniger Zucker** zu sich\n",
        "- Bei Bluthochdruck-Patienten ist **kein signifikanter Unterschied in der Natriumaufnahme** erkennbar\n",
        "- Gesunde Personen zeigen ebenfalls **zum Teil kritische Ernährungsmuster**\n",
        "\n",
        "Mit **KAQ 3** wird geprüft:\n",
        "\n",
        "- **Wie stark weichen einzelne Gruppen (z. B. Übergewichtige, Diabetiker, Gesunde) von den offiziellen Ernährungsempfehlungen ab?**\n",
        "- **Welche Nährstoffe sind besonders oft problematisch (zu hoch oder zu niedrig)?**\n",
        "- Gibt es **bestimmte Risikogruppen oder Cluster**, die mehrere Empfehlungen gleichzeitig überschreiten?\n",
        "\n",
        "Dazu wird analysiert:\n",
        "\n",
        "- Die individuelle Nährstoffaufnahme mit **offiziellen Richtwerten** (z. B. BLV, WHO, D-A-CH)\n",
        "- Die **Häufigkeit von Überschreitungen** in jeder Gruppe  \n",
        "  _(z. B. „Wie viele Übergewichtige konsumieren zu viel Fett?“)_\n",
        "\n",
        "--> **Ziel**: Kritische Abweichungen **sichtbar machen**, bewerten und daraus **präventive Handlungsschwerpunkte ableiten**  \n",
        "_(z. B. Fettreduktion bei Übergewicht, Zuckerkontrolle bei Diabetikern)_\n"
      ]
    },
    {
      "cell_type": "markdown",
      "metadata": {
        "id": "czRpB5eTqJ2Q"
      },
      "source": [
        "### Übersicht: Offizielle Nährstoffempfehlungen (pro Tag, Erwachsene)\n",
        "\n",
        "| Nährstoff        | Empfehlung                             | Quelle             |\n",
        "|------------------|-----------------------------------------|--------------------|\n",
        "| **Kalorien**     | 2000–2500 kcal                         | D-A-CH-Referenzwerte / WHO |\n",
        "| **Fett**         | max. 30 % der Energie (~70–80 g)       | WHO / BLV          |\n",
        "| **Zucker**       | max. 50 g (≤ 10 % der Energiezufuhr)   | WHO / BLV          |\n",
        "| **Natrium**      | max. 2000 mg (entspricht 5 g Salz)     | WHO / BLV          |\n",
        "\n",
        "Hinweis: Die Werte sind Richtgrössen für gesunde Erwachsene mit durchschnittlichem Energiebedarf. Für Kinder, Schwangere oder Kranke gelten abweichende Empfehlungen.\n"
      ]
    },
    {
      "cell_type": "code",
      "execution_count": null,
      "metadata": {
        "id": "MtsH2v-NRv6c"
      },
      "outputs": [],
      "source": [
        "\n",
        "# 📌 1. CSV-Dateien einlesen\n",
        "diet = pd.read_csv(\"https://raw.githubusercontent.com/iceangel79/MScWinf_Gruppenarbeit_Sem2/refs/heads/main/Semesterarbeit/Datasets/Kaggle/diet.csv\")\n",
        "examination = pd.read_csv(\"https://raw.githubusercontent.com/iceangel79/MScWinf_Gruppenarbeit_Sem2/refs/heads/main/Semesterarbeit/Datasets/Kaggle/examination.csv\")\n",
        "questionnaire = pd.read_csv(\"https://raw.githubusercontent.com/iceangel79/MScWinf_Gruppenarbeit_Sem2/refs/heads/main/Semesterarbeit/Datasets/Kaggle/questionnaire.csv\")\n",
        "\n",
        "# 📌 2. Relevante Spalten auswählen\n",
        "diet_cols = ['SEQN', 'DR1TKCAL', 'DR1TSUGR', 'DR1TTFAT', 'DR1TSODI']\n",
        "examination_cols = ['SEQN', 'BMXBMI', 'BPXSY1', 'BPXDI1']\n",
        "questionnaire_cols = ['SEQN', 'DIQ010']\n",
        "\n",
        "diet_small = diet[diet_cols]\n",
        "examination_small = examination[examination_cols]\n",
        "questionnaire_small = questionnaire[questionnaire_cols]\n",
        "\n",
        "# 📌 3. Daten zusammenführen\n",
        "df = diet_small.merge(examination_small, on=\"SEQN\", how=\"inner\")\n",
        "df = df.merge(questionnaire_small, on=\"SEQN\", how=\"inner\")\n",
        "df_clean = df.dropna().copy()\n",
        "\n",
        "# 📌 4. Gesundheitsstatus berechnen\n",
        "def classify_health(row):\n",
        "    if row['DIQ010'] == 1:\n",
        "        return 'Diabetes'\n",
        "    elif row['BPXSY1'] >= 130 or row['BPXDI1'] >= 80:\n",
        "        return 'Bluthochdruck'\n",
        "    elif row['BMXBMI'] >= 25:\n",
        "        return 'Übergewicht'\n",
        "    else:\n",
        "        return 'Keine der drei Diagnosen'\n",
        "\n",
        "df_clean['Gesundheitsstatus'] = df_clean.apply(classify_health, axis=1)\n",
        "df_clean.columns = df_clean.columns.str.strip()\n",
        "\n",
        "# 📌 5. Empfehlungen & Grenzwertüberschreitungen berechnen\n",
        "kalorien_max = 2500\n",
        "fett_max = 75\n",
        "zucker_max = 50\n",
        "natrium_max = 2000\n",
        "\n",
        "df_clean['zu_viel_Kalorien'] = df_clean['DR1TKCAL'] > kalorien_max\n",
        "df_clean['zu_viel_Fett'] = df_clean['DR1TTFAT'] > fett_max\n",
        "df_clean['zu_viel_Zucker'] = df_clean['DR1TSUGR'] > zucker_max\n",
        "df_clean['zu_viel_Natrium'] = df_clean['DR1TSODI'] > natrium_max\n",
        "\n",
        "# 📌 6. Gruppierung nach Gesundheitsstatus (Anteil in %)\n",
        "abweichungen_pro_gruppe = df_clean.groupby('Gesundheitsstatus')[\n",
        "    ['zu_viel_Kalorien', 'zu_viel_Fett', 'zu_viel_Zucker', 'zu_viel_Natrium']\n",
        "].mean().round(3) * 100\n",
        "\n",
        "# 📌 7. Anzeige der Ergebnisse (Jupyter-kompatibel)\n",
        "print(\"Grenzwertüberschreitungen nach Gesundheitsstatus (%)\")\n",
        "display(abweichungen_pro_gruppe)"
      ]
    },
    {
      "cell_type": "markdown",
      "metadata": {
        "id": "EBq8Nh62agf0"
      },
      "source": [
        "### Erklärung der Tabelle: Grenzwertüberschreitungen nach Gesundheitsstatus (%)\n",
        "\n",
        "Die Tabelle zeigt für jede Gesundheitsgruppe (z. B. Übergewichtige, Diabetiker, Gesunde), wie viele Personen den jeweiligen **offiziellen Grenzwert für Kalorien, Fett, Zucker oder Natrium** überschreiten.  \n",
        "Die Werte sind als **Prozentanteile** angegeben – z. B. bedeutet „48 % bei Fett“, dass fast die Hälfte der Personen dieser Gruppe mehr Fett konsumiert als empfohlen.\n",
        "\n",
        "#### Was die Spalten bedeuten:\n",
        "\n",
        "| Spalte               | Bedeutung                                                           |\n",
        "|----------------------|---------------------------------------------------------------------|\n",
        "| **zu_viel_Kalorien** | Anteil der Personen mit täglicher Kalorienzufuhr über 2500 kcal     |\n",
        "| **zu_viel_Fett**     | Anteil mit Fettzufuhr über 75 g/Tag (basierend auf WHO-Empfehlung)  |\n",
        "| **zu_viel_Zucker**   | Anteil mit Zuckerzufuhr über 50 g/Tag (WHO: max. 10 % der Energie)  |\n",
        "| **zu_viel_Natrium**  | Anteil mit Natriumzufuhr über 2000 mg/Tag (~5 g Salz)               |\n",
        "\n",
        "#### Interpretation:\n",
        "\n",
        "- **Zucker** wird von einem sehr hohen Anteil überschritten – sogar in der Gruppe „Keine der drei Diagnosen“\n",
        "- **Fett** wird vor allem bei Übergewicht häufig überschritten – das passt zur Annahme eines Zusammenhangs\n",
        "- **Natrium** liegt bei fast allen Gruppen über dem Grenzwert – ein verbreitetes Problem\n",
        "- **Kalorien** werden besonders bei Übergewicht häufig überschritten, aber auch bei anderen Gruppen auffällig\n",
        "\n",
        "#### Fazit:\n",
        "\n",
        "Diese Übersicht zeigt, **welche Ernährungsmuster je nach Gesundheitsstatus besonders kritisch sind**.  \n",
        "Sie macht sichtbar, wo **gezielte Präventionsmaßnahmen** (z. B. Reduktion von Fett oder Salz) nötig wären, und liefert eine evidenzbasierte Grundlage zur Beantwortung von **KAQ 3**.\n"
      ]
    },
    {
      "cell_type": "markdown",
      "metadata": {
        "id": "cN9Uh_yabEBI"
      },
      "source": [
        "### Was lässt sich mit dieser Liste analysieren?\n",
        "\n",
        "Die Liste zeigt, **wie häufig einzelne Gesundheitsgruppen** (z. B. Übergewichtige, Diabetiker) bestimmte **empfohlene Nährstoffgrenzen überschreiten**. Daraus lassen sich mehrere wichtige Analysen ableiten:\n",
        "\n",
        "---\n",
        "\n",
        "#### 1. **Welche Gruppen sind besonders betroffen?**\n",
        "Analysiere, welcher Gesundheitsstatus (z. B. „Übergewicht“) besonders häufig zu viel Kalorien, Fett, Zucker oder Natrium konsumiert.\n",
        "\n",
        "---\n",
        "\n",
        "#### 2. **Welche Nährstoffe sind generell kritisch?**\n",
        "Erkenne, welche Nährstoffe **unabhängig vom Gesundheitsstatus** besonders oft über dem Richtwert liegen – also potenziell **bevölkerungsweit problematisch** sind.\n",
        "\n",
        "---\n",
        "\n",
        "#### 3. **Risikomuster identifizieren**\n",
        "Identifiziere kritische Kombinationen – z. B. Gruppen mit gleichzeitig hoher Fett- und Kalorienaufnahme.  \n",
        "Das ist besonders relevant für gezielte Prävention.\n",
        "\n",
        "---\n",
        "\n",
        "#### 4. **Begründete Präventionsempfehlungen ableiten**\n",
        "Nutze die Liste als datenbasierte Grundlage für Ernährungsempfehlungen, z. B.:\n",
        "\n",
        "- **Salzkonsum senken** (betrifft fast alle Gruppen)\n",
        "- **Fettreduktion gezielt bei Übergewichtigen**\n",
        "- **Zuckerkonsum auch bei scheinbar Gesunden kritisch betrachten**\n",
        "\n",
        "---\n",
        "\n",
        "Die Liste hilft, sowohl **individuelle Risikoprofile** als auch **gesellschaftlich relevante Ernährungsmuster** zu erkennen – und liefert damit eine fundierte Grundlage zur Beantwortung von **KAQ 3**.\n"
      ]
    },
    {
      "cell_type": "markdown",
      "metadata": {
        "id": "9ZNVFjdTcm4g"
      },
      "source": [
        "**1. Welche Gruppen sind besonders betroffen?**\n",
        "\n",
        "**Analyse:**\n",
        "\n",
        "Zeigt für jede Gesundheitsgruppe (z. B. Übergewicht, Diabetes), wie häufig die jeweiligen Nährstoffgrenzwerte überschritten werden."
      ]
    },
    {
      "cell_type": "code",
      "execution_count": null,
      "metadata": {
        "id": "tcoX0rTRcu_2"
      },
      "outputs": [],
      "source": [
        "import matplotlib.pyplot as plt\n",
        "\n",
        "plt.figure(figsize=(10, 6))\n",
        "abweichungen_pro_gruppe.plot(kind='bar', ax=plt.gca())\n",
        "plt.title(\"Anteil der Personen über Grenzwerte – nach Gesundheitsstatus\")\n",
        "plt.ylabel(\"Anteil in %\")\n",
        "plt.xlabel(\"Gesundheitsstatus\")\n",
        "plt.xticks(rotation=45)\n",
        "plt.legend(title=\"Nährstoff\")\n",
        "plt.tight_layout()\n",
        "plt.show()\n"
      ]
    },
    {
      "cell_type": "markdown",
      "metadata": {
        "id": "DBNZj-iic20-"
      },
      "source": [
        "**Interpretation:**\n",
        "\n",
        "Man erkennt, welche Gruppen besonders auffallen:\n",
        "\n",
        "→ z. B. Übergewichtige überschreiten häufiger Fett und Kalorien.\n",
        "\n",
        "→ Auch „Gesunde“ haben auffällig hohe Zucker- und Salzwerte."
      ]
    },
    {
      "cell_type": "markdown",
      "metadata": {
        "id": "QEgR0wNTc-3-"
      },
      "source": [
        "**2. Welche Nährstoffe sind generell kritisch?**\n",
        "\n",
        "**Analyse:**\n",
        "\n",
        "Berechnet den Durchschnitt pro Nährstoff – unabhängig von der Gruppe. So erkennt man, welche Nährstoffe allgemein problematisch sind."
      ]
    },
    {
      "cell_type": "code",
      "execution_count": null,
      "metadata": {
        "id": "4vBBg0MbdHhe"
      },
      "outputs": [],
      "source": [
        "kritische_naehrstoffe = abweichungen_pro_gruppe.mean().sort_values(ascending=False)\n",
        "\n",
        "plt.figure(figsize=(6, 4))\n",
        "kritische_naehrstoffe.plot(kind='barh', color='darkorange')\n",
        "plt.title(\"Durchschnittliche Überschreitungen pro Nährstoff\")\n",
        "plt.xlabel(\"Anteil in %\")\n",
        "plt.tight_layout()\n",
        "plt.show()\n"
      ]
    },
    {
      "cell_type": "markdown",
      "metadata": {
        "id": "cHFpOI7QdNTH"
      },
      "source": [
        "**Interpretation:**\n",
        "\n",
        "**Zucker und Natrium** werden in allen Gruppen sehr häufig überschritten.\n",
        "\n",
        "→ Diese Nährstoffe sind **gesamtgesellschaftlich kritisch** – unabhängig vom Gesundheitsstatus.\n",
        "\n",
        "→ Hinweis auf verbreitete Fehlernährung."
      ]
    },
    {
      "cell_type": "markdown",
      "metadata": {
        "id": "JJNTID7ndXHI"
      },
      "source": [
        "**3. Risikomuster identifizieren**\n",
        "\n",
        "**Analyse:**\n",
        "\n",
        "Untersucht die gleichzeitige Überschreitung von Fett und Kalorien – ein typisches Muster bei unausgewogener Ernährung."
      ]
    },
    {
      "cell_type": "code",
      "execution_count": null,
      "metadata": {
        "id": "Tsx8mC_iddf2"
      },
      "outputs": [],
      "source": [
        "kombiniert = df_clean.groupby('Gesundheitsstatus').apply(\n",
        "    lambda g: ((g['zu_viel_Fett']) & (g['zu_viel_Kalorien'])).mean()\n",
        ").round(3) * 100\n",
        "\n",
        "kombiniert.plot(kind='bar', color='firebrick', figsize=(7, 4))\n",
        "plt.title(\"Fett + Kalorien gleichzeitig überschritten\")\n",
        "plt.ylabel(\"Anteil in %\")\n",
        "plt.xlabel(\"Gesundheitsstatus\")\n",
        "plt.xticks(rotation=45)\n",
        "plt.tight_layout()\n",
        "plt.show()\n"
      ]
    },
    {
      "cell_type": "markdown",
      "metadata": {
        "id": "7VHQR8B5dmj_"
      },
      "source": [
        "**Interpretation:**\n",
        "\n",
        "Dieses Muster tritt am häufigsten bei **Übergewichtigen** auf.\n",
        "\n",
        "→ Bestätigt die Hypothese, dass **energiereiche, fettreiche Ernährung ein Risiko für Übergewicht** darstellt.\n",
        "\n",
        "→ Dient als Hinweis für **zielgerichtete Prävention**."
      ]
    },
    {
      "cell_type": "markdown",
      "metadata": {
        "id": "goOolidDdxeH"
      },
      "source": [
        "## Zusammenfassung - KAQ 3: Wie stark weichen die identifizierten Ernährungsmuster (Cluster/Risikogruppen) von den offiziellen Nährstoffempfehlungen (z. B. BLV) ab – und welche Nährstoffe sind dabei besonders kritisch in Bezug auf präventive Gesundheit?\n",
        "\n",
        "Die Analyse der Grenzwertüberschreitungen nach Gesundheitsstatus liefert zentrale Erkenntnisse im Kontext von **KAQ 3**. Dabei wurde untersucht, inwieweit bestimmte Gesundheitsgruppen – wie Personen mit **Übergewicht**, **Bluthochdruck**, **Diabetes** oder **ohne Diagnose** – die empfohlenen Tagesgrenzwerte für **Kalorien**, **Fett**, **Zucker** und **Natrium** überschreiten.\n",
        "\n",
        "Zunächst zeigte sich, dass insbesondere **Übergewichtige** deutlich häufiger die Grenzwerte für **Fett und Kalorien** überschreiten als andere Gruppen. Dies legt nahe, dass eine hohe Energie- und Fettzufuhr maßgeblich zur Entstehung von Übergewicht beitragen kann. Interessanterweise weisen auch Personen ohne Diagnose („gesunde Gruppe“) sehr hohe Überschreitungsraten bei **Zucker und Natrium** auf. Das deutet darauf hin, dass ungünstige Ernährungsmuster nicht ausschließlich bei erkrankten Personen auftreten, sondern auch in der **Gesamtbevölkerung** weit verbreitet sind.\n",
        "\n",
        "In einem weiteren Schritt wurde analysiert, welche Nährstoffe **gruppenunabhängig** besonders kritisch sind. Dabei wurde ersichtlich, dass vor allem **Zucker** und **Natrium** über alle Gesundheitsgruppen hinweg am häufigsten über dem empfohlenen Richtwert liegen. Diese Erkenntnis ist wichtig, da sie auf ein strukturelles Problem in der Ernährung vieler Menschen hinweist – **unabhängig vom aktuellen Gesundheitsstatus**.\n",
        "\n",
        "Ein dritter Fokus lag auf der **Identifikation typischer Risikomuster** – also Kombinationen von Grenzwertüberschreitungen. Hier zeigte sich, dass insbesondere Übergewichtige auffallend häufig sowohl **zu viel Fett als auch zu viele Kalorien** aufnehmen. Diese doppelte Belastung ist besonders gesundheitskritisch und kann als Ansatzpunkt für **gezielte präventive Maßnahmen** dienen.\n",
        "\n",
        "Insgesamt zeigt die Analyse: Bestimmte Ernährungsmuster – insbesondere ein hoher Fett- und Energiegehalt – sind **signifikant mit dem Gesundheitsstatus verknüpft**. Gleichzeitig existieren auch in vermeintlich „gesunden“ Gruppen verbreitete Risiken, vor allem in Bezug auf Zucker- und Salzkonsum. Diese Ergebnisse unterstreichen die Bedeutung von **breitenwirksamer Ernährungserziehung** und **zielgerichteter Prävention** auf Basis wissenschaftlich fundierter Daten.\n",
        "\n",
        "---\n",
        "\n"
      ]
    },
    {
      "cell_type": "markdown",
      "metadata": {
        "id": "_33ihdAOgk9y"
      },
      "source": [
        "**KAQ 4: Wie können auf Basis individueller Ernährungsmuster und assoziierter Krankheitsrisiken personalisierte Ernährungsempfehlungen abgeleitet werden, um präventiv gegenzusteuern – und welche konkreten Lebensmittel(-gruppen) eignen sich zur Umsetzung?**"
      ]
    },
    {
      "cell_type": "markdown",
      "metadata": {
        "id": "Cccv5gSjhw9m"
      },
      "source": [
        "## Vorgehensweise zur Beantwortung von KAQ 4\n",
        "\n",
        "**KAQ 4:**  \n",
        "*Wie können auf Basis individueller Ernährungsmuster und assoziierter Krankheitsrisiken personalisierte Ernährungsempfehlungen abgeleitet werden, um präventiv gegenzusteuern – und welche konkreten Lebensmittel(-gruppen) eignen sich zur Umsetzung?*\n",
        "\n",
        "---\n",
        "\n",
        "### 1. Erkenntnisse aus KAQ 3 nutzen\n",
        "\n",
        "Die Analyse aus KAQ 3 zeigt, welche Gesundheitsgruppen bestimmte Nährstoffgrenzwerte besonders häufig überschreiten:\n",
        "\n",
        "| Risikogruppe       | Auffällige Ernährungsmuster          | Kritische Nährstoffe      |\n",
        "|--------------------|--------------------------------------|----------------------------|\n",
        "| Übergewicht        | Hohe Kalorien- und Fettzufuhr        | Energie, Fett              |\n",
        "| Bluthochdruck      | Hohe Natriumzufuhr                   | Salz                       |\n",
        "| Diabetiker         | Zuckerkonsum tendenziell angepasst   | Zucker (vor der Diagnose)  |\n",
        "| Gesunde            | Hoher Anteil mit zu viel Zucker/Salz | Zucker, Natrium            |\n",
        "\n",
        "---\n",
        "\n",
        "### 2. Individualisierte Risikoprofile bilden\n",
        "\n",
        "Auf Basis von Gesundheitsstatus + Nährstoffverhalten können Ernährungstypen erstellt werden:\n",
        "\n",
        "| Ernährungstyp             | Risiko              | Ziel                          |\n",
        "|---------------------------|---------------------|-------------------------------|\n",
        "| „Kalorienreich & fettreich“ | Übergewicht         | Energiereduktion, Sättigung   |\n",
        "| „Salzlastig“               | Bluthochdruck        | Natriumreduktion, Kaliumzufuhr|\n",
        "| „Zuckeraffin“              | Prädiabetes          | Zuckerreduktion, Ballaststoffe|\n",
        "\n",
        "---\n",
        "\n",
        "### 3. Personalisierte Ernährungsempfehlungen ableiten\n",
        "\n",
        "**a) Für Übergewichtige:**\n",
        "\n",
        "- **Empfehlung:** Kalorien- und Fettzufuhr senken  \n",
        "- **Lebensmittelgruppen:**  \n",
        "  ✅ Gemüse, Hülsenfrüchte, Vollkorn  \n",
        "  ❌ Frittierte Speisen, fettreiche Wurst, süße Snacks\n",
        "\n",
        "**b) Für Personen mit Bluthochdruck:**\n",
        "\n",
        "- **Empfehlung:** Salzkonsum senken, Kaliumzufuhr erhöhen  \n",
        "- **Lebensmittelgruppen:**  \n",
        "  ✅ Bananen, Blattgemüse, ungesalzene Nüsse  \n",
        "  ❌ Fertigprodukte, Chips, salziges Brot\n",
        "\n",
        "**c) Für Zuckerrisikogruppe (z. B. Prädiabetiker):**\n",
        "\n",
        "- **Empfehlung:** Zuckerreduktion & ballaststoffreiche Kost  \n",
        "- **Lebensmittelgruppen:**  \n",
        "  ✅ Beeren, Haferflocken, Linsen  \n",
        "  ❌ Limonaden, gesüßte Cerealien, Süßgebäck\n",
        "\n",
        "---\n",
        "\n",
        "### 4. Umsetzung in Tools (optional)\n",
        "\n",
        "Ein Algorithmus kann basierend auf dem Nährstoffverhalten:\n",
        "\n",
        "- Risikoprofile erkennen\n",
        "- passende Ernährungsempfehlungen ableiten\n",
        "- gezielte Lebensmittelvorschläge ausgeben\n",
        "\n",
        "➡ (Optional: Umsetzung in Python möglich)\n",
        "\n",
        "---\n",
        "\n",
        "### Fazit:\n",
        "\n",
        "Die Erkenntnisse aus KAQ 3 bilden eine fundierte Grundlage zur **personalisierbaren Prävention**.  \n",
        "Individuelle Ernährungsmuster lassen sich mit gezielten Lebensmittelvorschlägen verbinden – für eine **alltagsnahe Umsetzung** und **nachhaltige Gesundheitsförderung**.\n"
      ]
    },
    {
      "cell_type": "code",
      "execution_count": null,
      "metadata": {
        "id": "VjS2DguERwBu"
      },
      "outputs": [],
      "source": [
        "# 1. Ernährungsmuster klassifizieren\n",
        "def classify_pattern(row):\n",
        "    if row['zu_viel_Kalorien'] and row['zu_viel_Fett']:\n",
        "        return 'Fett- & Kalorienreich'\n",
        "    elif row['zu_viel_Zucker']:\n",
        "        return 'Zuckerreich'\n",
        "    elif row['zu_viel_Natrium']:\n",
        "        return 'Salzreich'\n",
        "    else:\n",
        "        return 'Unauffällig'\n",
        "\n",
        "df_clean['Ernährungsmuster'] = df_clean.apply(classify_pattern, axis=1)\n",
        "\n",
        "# 2. Personalisierte Ernährungsempfehlung generieren\n",
        "def generate_recommendation(row):\n",
        "    tips = []\n",
        "\n",
        "    if row['Ernährungsmuster'] == 'Fett- & Kalorienreich':\n",
        "        tips.append(\"Fett und Kalorien senken – mehr Gemüse, weniger Fast Food und Wurst\")\n",
        "    if row['Ernährungsmuster'] == 'Zuckerreich':\n",
        "        tips.append(\"Zucker reduzieren – Süßgetränke und Süßigkeiten vermeiden\")\n",
        "    if row['Ernährungsmuster'] == 'Salzreich':\n",
        "        tips.append(\"Salz reduzieren – Fertigprodukte meiden, kaliumreiche Kost wählen\")\n",
        "    if row['Ernährungsmuster'] == 'Unauffällig':\n",
        "        tips.append(\"Muster unauffällig – gesundes Verhalten fortsetzen\")\n",
        "\n",
        "    return \"; \".join(tips)\n",
        "\n",
        "df_clean['Empfehlung'] = df_clean.apply(generate_recommendation, axis=1)\n",
        "\n",
        "# 3. Ergebnis anzeigen\n",
        "df_clean[['SEQN', 'Gesundheitsstatus', 'Ernährungsmuster', 'Empfehlung']].head()\n"
      ]
    },
    {
      "cell_type": "markdown",
      "metadata": {
        "id": "MoM0mPnBlA_R"
      },
      "source": [
        "### Automatisierte Klassifikation von Ernährungsmustern und Empfehlungen\n",
        "\n",
        "Zur Beantwortung von KAQ 4 wurde ein regelbasierter Klassifikationsansatz implementiert, um individuelle Ernährungsmuster auf Basis objektiver Nährstoffdaten zu identifizieren und daraus personalisierte Empfehlungen abzuleiten.\n",
        "\n",
        "Basierend auf den Nährstoffwerten (Kalorien, Fett, Zucker, Natrium) wurde geprüft, ob eine Person die offiziellen Richtwerte überschreitet. Daraus wurden vier Ernährungsmuster abgeleitet:\n",
        "\n",
        "- **Fett- & Kalorienreich** (Kalorien > 2500 kcal & Fett > 75 g)\n",
        "- **Zuckerreich** (Zucker > 50 g)\n",
        "- **Salzreich** (Natrium > 2000 mg)\n",
        "- **Unauffällig** (keine Grenzüberschreitung)\n",
        "\n",
        "Für jedes dieser Muster wurde eine konkrete Ernährungsempfehlung generiert. Diese Empfehlungen zielen auf Prävention und Gesundheitsförderung ab und sind direkt aus den identifizierten Ernährungsverhalten abgeleitet.\n",
        "\n",
        "Beispielsweise werden Personen mit einem fett- und kalorienreichen Muster dazu angeleitet, mehr pflanzliche Lebensmittel zu konsumieren und energiedichte Produkte zu reduzieren. Bei einem zuckerreichen Muster wird empfohlen, auf gezuckerte Getränke und Süßigkeiten zu verzichten. Auch für salzreiche Ernährungsmuster werden alltagsnahe Maßnahmen zur Reduktion von Kochsalz und Erhöhung der Kaliumzufuhr vorgeschlagen.\n",
        "\n",
        "Die Methode erlaubt es, aus standardisierten Ernährungsdaten automatisiert individuelle Empfehlungen zu erzeugen – ein zentraler Schritt in Richtung personalisierter Ernährung und präventiver Gesundheitsförderung.\n",
        "\n",
        "\n",
        "<h3>Entscheidungsbaum zur Klassifikation von Ernährungsmustern</h3>\n",
        "<img src=\"https://raw.githubusercontent.com/iceangel79/MScWinf_Gruppenarbeit_Sem2/15f668521c4a305fb6a7f9f54e54969b743167aa/Semesterarbeit/Images/Entscheidungsbaum_Klassifikation_Ern%C3%A4hrungsmuster.png\" width=\"50%\">\n"
      ]
    },
    {
      "cell_type": "markdown",
      "metadata": {
        "id": "I2wlR3Chx6W4"
      },
      "source": [
        "**Visualisierungen zur Klassifkation der Ernährungsmuster**"
      ]
    },
    {
      "cell_type": "code",
      "execution_count": null,
      "metadata": {
        "id": "DTfKGiVpI4Mw"
      },
      "outputs": [],
      "source": [
        "from sklearn.tree import DecisionTreeClassifier, plot_tree\n",
        "import matplotlib.pyplot as plt\n",
        "\n",
        "# Feature-Auswahl: binäre Nährstoffüberschreitungen\n",
        "features = ['zu_viel_Kalorien', 'zu_viel_Fett', 'zu_viel_Zucker', 'zu_viel_Natrium']\n",
        "X = df_clean[features]\n",
        "y = df_clean['Ernährungsmuster']\n",
        "\n",
        "# Entscheidungsbaum trainieren\n",
        "tree = DecisionTreeClassifier(max_depth=3, random_state=0)\n",
        "tree.fit(X, y)\n",
        "\n",
        "# Visualisierung\n",
        "plt.figure(figsize=(12, 6))\n",
        "plot_tree(tree, feature_names=features, class_names=tree.classes_, filled=True, rounded=True)\n",
        "plt.title(\"Visualisierung der Ernährungsmuster-Klassifikation als Entscheidungsbaum\")\n",
        "plt.show()\n",
        "\n"
      ]
    },
    {
      "cell_type": "markdown",
      "metadata": {
        "id": "SmBjBGTK2Jeo"
      },
      "source": [
        "**Wie kann dieser Entscheidungsbaum erweitert werden?**\n",
        "\n",
        "Nun geht es nicht mehr nur um Ernährungsmuster, sondern auch um die Frage:\n",
        "\n",
        "„Wie können wir auf Basis dieser Muster konkrete Maßnahmen zur Prävention von Krankheiten ableiten?“\n"
      ]
    },
    {
      "cell_type": "markdown",
      "metadata": {
        "id": "caRggKHh2kzu"
      },
      "source": [
        "**1. Risikoscoring / Risikoprofil**\n",
        "\n",
        "Berechne für jede Person einen **Risiko-Score**, z. B. von 0–100:\n",
        "\n",
        "- 1 Punkt pro überschrittenem Nährstoff-Grenzwert\n",
        "\n",
        "- Bonuspunkte für Kombinationen (z. B. Fett+Kalorien = 3)\n",
        "\n",
        "**Mehrwert:** Man bekommt eine **graduelle Einschätzung** statt nur Klassen.\n",
        "\n",
        "➕ Visualisierbar mit z. B. Heatmap oder Balkenplot\n",
        "\n",
        "➕ Ideal zur Priorisierung von Interventionen"
      ]
    },
    {
      "cell_type": "code",
      "execution_count": null,
      "metadata": {
        "id": "rNnpbocmGoCN"
      },
      "outputs": [],
      "source": [
        "# Optional: nur kleine Stichprobe laden\n",
        "diet = pd.read_csv(\"https://raw.githubusercontent.com/iceangel79/MScWinf_Gruppenarbeit_Sem2/refs/heads/main/Semesterarbeit/Datasets/Kaggle/diet.csv\").sample(1000, random_state=1)\n",
        "examination = pd.read_csv(\"https://raw.githubusercontent.com/iceangel79/MScWinf_Gruppenarbeit_Sem2/refs/heads/main/Semesterarbeit/Datasets/Kaggle/examination.csv\")\n",
        "questionnaire = pd.read_csv(\"https://raw.githubusercontent.com/iceangel79/MScWinf_Gruppenarbeit_Sem2/refs/heads/main/Semesterarbeit/Datasets/Kaggle/questionnaire.csv\")\n",
        "\n",
        "# Spalten\n",
        "diet_cols = ['SEQN', 'DR1TKCAL', 'DR1TTFAT', 'DR1TSUGR', 'DR1TSODI']\n",
        "examination_cols = ['SEQN', 'BMXBMI', 'BPXSY1', 'BPXDI1']\n",
        "questionnaire_cols = ['SEQN', 'DIQ010']\n",
        "\n",
        "diet = diet[diet_cols]\n",
        "examination = examination[examination_cols]\n",
        "questionnaire = questionnaire[questionnaire_cols]\n",
        "\n",
        "# Merge & Clean\n",
        "df = diet.merge(examination, on=\"SEQN\").merge(questionnaire, on=\"SEQN\")\n",
        "df = df.dropna()\n",
        "\n",
        "# Grenzwerte definieren\n",
        "df['zu_viel_Kalorien'] = df['DR1TKCAL'] > 2500\n",
        "df['zu_viel_Fett'] = df['DR1TTFAT'] > 75\n",
        "df['zu_viel_Zucker'] = df['DR1TSUGR'] > 50\n",
        "df['zu_viel_Natrium'] = df['DR1TSODI'] > 2000\n",
        "\n",
        "# Risiko-Score berechnen\n",
        "df['Risiko_Score'] = (\n",
        "    df['zu_viel_Kalorien'].astype(int) +\n",
        "    df['zu_viel_Fett'].astype(int) +\n",
        "    df['zu_viel_Zucker'].astype(int) +\n",
        "    df['zu_viel_Natrium'].astype(int) +\n",
        "    ((df['zu_viel_Kalorien']) & (df['zu_viel_Fett'])).astype(int)  # Bonus\n",
        ")\n",
        "\n",
        "# Visualisierung\n",
        "sns.set(style=\"whitegrid\")\n",
        "plt.figure(figsize=(8, 5))\n",
        "sns.countplot(data=df, x='Risiko_Score', palette='flare')\n",
        "plt.title(\"Verteilung des Risiko-Scores\")\n",
        "plt.xlabel(\"Risiko-Score (0–5)\")\n",
        "plt.ylabel(\"Anzahl Personen\")\n",
        "plt.tight_layout()\n",
        "plt.show()\n"
      ]
    },
    {
      "cell_type": "markdown",
      "metadata": {
        "id": "viU3yVVJ4fZK"
      },
      "source": [
        "**Interpretation:**\n",
        "\n",
        "- Score von **0**: keine Grenzwerte verletzt → Ernährung vermutlich ausgewogen\n",
        "\n",
        "- Score von **5**: alle Grenzwerte überschritten → höchste Risikogruppe\n",
        "\n",
        "- Dazwischen: zunehmende Relevanz für Prävention und Beratung"
      ]
    },
    {
      "cell_type": "markdown",
      "metadata": {
        "id": "igD7S6XO5ERQ"
      },
      "source": [
        "**ML-Modell zur Krankheitsrisiko-Vorhersage mit Risiko-Score**\n",
        "\n",
        "- Berechnung des Risiko-Scores,\n",
        "- Erstellung der Zielvariable (\"ist_krank\"),\n",
        "- Trainierung eines Klassifikationsmodells (Logistische Regression),\n",
        "- Auswertung der Vorhersagequalität (Confusion Matrix & Report)."
      ]
    },
    {
      "cell_type": "code",
      "execution_count": null,
      "metadata": {
        "id": "sDaR5z56DU_e"
      },
      "outputs": [],
      "source": [
        "import pandas as pd\n",
        "import matplotlib.pyplot as plt\n",
        "import seaborn as sns\n",
        "from sklearn.linear_model import LogisticRegression\n",
        "from sklearn.model_selection import train_test_split\n",
        "from sklearn.metrics import classification_report, confusion_matrix\n",
        "\n",
        "# 1. CSV-Dateien laden\n",
        "diet = pd.read_csv(\"https://raw.githubusercontent.com/iceangel79/MScWinf_Gruppenarbeit_Sem2/refs/heads/main/Semesterarbeit/Datasets/Kaggle/diet.csv\")\n",
        "examination = pd.read_csv(\"https://raw.githubusercontent.com/iceangel79/MScWinf_Gruppenarbeit_Sem2/refs/heads/main/Semesterarbeit/Datasets/Kaggle/examination.csv\")\n",
        "questionnaire = pd.read_csv(\"https://raw.githubusercontent.com/iceangel79/MScWinf_Gruppenarbeit_Sem2/refs/heads/main/Semesterarbeit/Datasets/Kaggle/questionnaire.csv\")\n",
        "\n",
        "# 2. Relevante Spalten auswählen\n",
        "diet_cols = ['SEQN', 'DR1TKCAL', 'DR1TTFAT', 'DR1TSUGR', 'DR1TSODI']\n",
        "examination_cols = ['SEQN', 'BMXBMI', 'BPXSY1', 'BPXDI1']\n",
        "questionnaire_cols = ['SEQN', 'DIQ010']\n",
        "\n",
        "diet = diet[diet_cols]\n",
        "examination = examination[examination_cols]\n",
        "questionnaire = questionnaire[questionnaire_cols]\n",
        "\n",
        "# 3. Merge & NaN entfernen\n",
        "df = diet.merge(examination, on=\"SEQN\").merge(questionnaire, on=\"SEQN\")\n",
        "df = df.dropna()\n",
        "\n",
        "# 4. Gesundheitsstatus klassifizieren\n",
        "def classify_health(row):\n",
        "    if row['DIQ010'] == 1:\n",
        "        return 'Diabetes'\n",
        "    elif row['BPXSY1'] >= 130 or row['BPXDI1'] >= 80:\n",
        "        return 'Bluthochdruck'\n",
        "    elif row['BMXBMI'] >= 25:\n",
        "        return 'Übergewicht'\n",
        "    else:\n",
        "        return 'Keine der drei Diagnosen'\n",
        "\n",
        "df['Gesundheitsstatus'] = df.apply(classify_health, axis=1)\n",
        "\n",
        "# 5. Schwellenwerte definieren\n",
        "df['zu_viel_Kalorien'] = df['DR1TKCAL'] > 2500\n",
        "df['zu_viel_Fett'] = df['DR1TTFAT'] > 75\n",
        "df['zu_viel_Zucker'] = df['DR1TSUGR'] > 50\n",
        "df['zu_viel_Natrium'] = df['DR1TSODI'] > 2000\n",
        "\n",
        "# 6. Risiko-Score berechnen (inkl. Bonus für Kalorien+Fett)\n",
        "df['Risiko_Score'] = (\n",
        "    df['zu_viel_Kalorien'].astype(int) +\n",
        "    df['zu_viel_Fett'].astype(int) +\n",
        "    df['zu_viel_Zucker'].astype(int) +\n",
        "    df['zu_viel_Natrium'].astype(int) +\n",
        "    ((df['zu_viel_Kalorien']) & (df['zu_viel_Fett'])).astype(int)\n",
        ")\n",
        "\n",
        "# 7. Zielvariable: Hat die Person eine chronische Erkrankung?\n",
        "df['ist_krank'] = df['Gesundheitsstatus'].isin(['Übergewicht', 'Bluthochdruck', 'Diabetes']).astype(int)\n",
        "\n",
        "# 8. Train-Test-Split\n",
        "X = df[['Risiko_Score']]\n",
        "y = df['ist_krank']\n",
        "X_train, X_test, y_train, y_test = train_test_split(X, y, test_size=0.3, random_state=42)\n",
        "\n",
        "# 9. Modell trainieren\n",
        "model = LogisticRegression()\n",
        "model.fit(X_train, y_train)\n",
        "\n",
        "# 10. Vorhersagen & Auswertung\n",
        "y_pred = model.predict(X_test)\n",
        "\n",
        "print(\"📊 Klassifikationsbericht:\\n\")\n",
        "print(classification_report(y_test, y_pred, digits=3))\n",
        "\n",
        "# 11. Confusion Matrix\n",
        "cm = confusion_matrix(y_test, y_pred)\n",
        "sns.heatmap(cm, annot=True, fmt=\"d\", cmap=\"Blues\")\n",
        "plt.title(\"Confusion Matrix: Risiko-Score → Krankheitsstatus\")\n",
        "plt.xlabel(\"Vorhergesagt\")\n",
        "plt.ylabel(\"Tatsächlich\")\n",
        "plt.tight_layout()\n",
        "plt.show()\n"
      ]
    },
    {
      "cell_type": "markdown",
      "metadata": {
        "id": "gWnNbhgs6ZUa"
      },
      "source": [
        "## Machine Learning: Ab wann beginnt der eigentliche Analyseprozess?\n",
        "\n",
        "Für die Beantwortung von **KAQ 4 mittels Machine Learning** beginnt der relevante Teil der Analyse bei **Schritt 4** – also ab dem Moment, wo die Daten für das Modell in die richtige Form gebracht werden.\n",
        "\n",
        "---\n",
        "\n",
        "### Schritt 4: Risiko-Score berechnen\n",
        "\n",
        "Hier wird das zentrale Eingabemerkmal (`Feature`) erzeugt:\n",
        "\n",
        "- Der **Risiko-Score** ist ein Wert zwischen **0 und 5**\n",
        "- Er basiert auf der Anzahl überschrittener Grenzwerte für Kalorien, Fett, Zucker und Salz\n",
        "- Ein **Bonuspunkt** wird vergeben, wenn **Kalorien UND Fett** gleichzeitig zu hoch sind\n",
        "- ➕ Der Score ist eine **kompakte Repräsentation eines Ernährungsmusters**\n",
        "\n",
        "---\n",
        "\n",
        "### Schritt 5: Zielvariable `ist_krank` definieren\n",
        "\n",
        "Diese Variable gibt an, ob eine Person zu einer **Risikogruppe** gehört:\n",
        "\n",
        "- `ist_krank = 1` → bei **Übergewicht**, **Bluthochdruck** oder **Diabetes**\n",
        "- `ist_krank = 0` → bei **keiner der drei Diagnosen**\n",
        "- ➕ Diese Zielvariable dient dem Modell als **Ground Truth (Label)**\n",
        "\n",
        "---\n",
        "\n",
        "### Schritt 6: Modelltraining\n",
        "\n",
        "Ein Machine-Learning-Modell (z. B. **Logistische Regression**) wird trainiert:\n",
        "\n",
        "- Eingabe: `Risiko_Score`\n",
        "- Ziel: `ist_krank`\n",
        "- Das Modell lernt, ab welchem Score das Risiko signifikant ansteigt\n",
        "\n",
        "---\n",
        "\n",
        "### Schritt 7: Modellauswertung\n",
        "\n",
        "Nach dem Training wird das Modell bewertet:\n",
        "\n",
        "- **Classification Report** mit Metriken wie Genauigkeit, Präzision, Recall\n",
        "- **Confusion Matrix** zeigt richtig/falsch klassifizierte Fälle\n",
        "- Das hilft, die **Qualität der Vorhersage** realistisch einzuschätzen\n",
        "\n",
        "---\n",
        "\n",
        "### Fazit:\n",
        "\n",
        "Für die eigentliche Machine-Learning-Analyse benötigst du:\n",
        "\n",
        "- ✅ den berechneten `Risiko_Score` (ab Schritt 4)\n",
        "- ✅ die Zielvariable `ist_krank` (ab Schritt 5)\n",
        "- ✅ das Training und die Bewertung des Modells (Schritte 6–7)\n",
        "\n",
        "Die vorherigen Schritte (1–3) sind wichtig für die Datenvorbereitung – aber der ML-Prozess startet inhaltlich erst mit Schritt 4.\n",
        "\n"
      ]
    },
    {
      "cell_type": "markdown",
      "metadata": {
        "id": "UxrGqJUOIqke"
      },
      "source": [
        "## Was sagt das Machine-Learning-Modell mit dem Risiko-Score aus?\n",
        "\n",
        "Das trainierte Modell (z. B. **logistische Regression**) versucht zu **lernen**, ob eine Person ein erhöhtes Risiko für chronische Erkrankungen wie **Übergewicht, Bluthochdruck oder Diabetes** hat – und zwar **basierend auf dem Risiko-Score**.\n",
        "\n",
        "---\n",
        "\n",
        "### Was macht das Modell konkret?\n",
        "\n",
        "Das Modell untersucht, **wie stark der Risiko-Score mit der Wahrscheinlichkeit für Krankheit zusammenhängt**.\n",
        "\n",
        "> Beispiel:  \n",
        "> Wenn eine Person einen Risiko-Score von 3 hat – also 3 Grenzwerte überschreitet –  \n",
        "> wie wahrscheinlich ist es, dass sie zu einer Risikogruppe gehört?\n",
        "\n",
        "---\n",
        "\n",
        "### Das bedeutet:\n",
        "\n",
        "| Fall                                     | Bedeutung                                        |\n",
        "|------------------------------------------|--------------------------------------------------|\n",
        "| **Hoher Score → hohe Wahrscheinlichkeit** | Person hat wahrscheinlich eine chronische Krankheit |\n",
        "| **Niedriger Score → niedrige Wahrscheinlichkeit** | Person ist wahrscheinlich gesund |\n",
        "\n",
        "Das Modell lernt also eine **mathematische Beziehung** zwischen Score und Krankheitsstatus.\n",
        "\n",
        "---\n",
        "\n",
        "### Wie gut ist das Modell?\n",
        "\n",
        "Das Modell liefert mehrere Kennzahlen:\n",
        "\n",
        "| Kennzahl             | Bedeutung                                                   |\n",
        "|----------------------|-------------------------------------------------------------|\n",
        "| **Accuracy**         | Wie viele Vorhersagen insgesamt korrekt waren               |\n",
        "| **Precision**        | Anteil der korrekt vorhergesagten Kranken unter allen als krank eingestuften Personen |\n",
        "| **Recall**           | Anteil der erkannten Kranken unter allen tatsächlich Kranken |\n",
        "| **Confusion Matrix** | Zeigt korrekt und falsch klassifizierte Fälle grafisch an    |\n",
        "\n",
        "---\n",
        "\n",
        "### Warum ist das nützlich?\n",
        "\n",
        "- Der Risiko-Score reicht als **einfaches Eingabemerkmal**  \n",
        "- Das Modell kann auch **neue Personen automatisiert bewerten**  \n",
        "- Ideal für **digitale Beratung, Prävention oder Priorisierung**  \n",
        "- Es macht Zusammenhänge **quantifizierbar und erklärbar**\n",
        "\n",
        "---\n",
        "\n",
        "### Fazit:\n",
        "\n",
        "> Das Modell sagt aus, **ab welchem Risiko-Score das Krankheitsrisiko signifikant steigt** – und wie zuverlässig diese Einschätzung ist.  \n",
        "> Es ist ein **erster Schritt zu datengestützter Prävention**.\n",
        "\n",
        "---\n"
      ]
    },
    {
      "cell_type": "markdown",
      "metadata": {
        "id": "6ewm--afJwSq"
      },
      "source": [
        "**ROC- / AUC-Kurve**"
      ]
    },
    {
      "cell_type": "code",
      "execution_count": null,
      "metadata": {
        "id": "1FjKjIu_DVFo"
      },
      "outputs": [],
      "source": [
        "from sklearn.metrics import roc_curve, roc_auc_score\n",
        "\n",
        "# 1. Wahrscheinlichkeiten anstelle von Klassen vorhersagen\n",
        "y_prob = model.predict_proba(X_test)[:, 1]  # Wahrscheinlichkeit für Klasse 1 (krank)\n",
        "\n",
        "# 2. ROC-Kurve berechnen\n",
        "fpr, tpr, thresholds = roc_curve(y_test, y_prob)\n",
        "\n",
        "# 3. AUC berechnen\n",
        "auc = roc_auc_score(y_test, y_prob)\n",
        "\n",
        "# 4. Plot der ROC-Kurve\n",
        "plt.figure(figsize=(7, 5))\n",
        "plt.plot(fpr, tpr, label=f\"ROC-Kurve (AUC = {auc:.3f})\", color='darkorange')\n",
        "plt.plot([0, 1], [0, 1], linestyle='--', color='gray', label='Zufall (AUC = 0.5)')\n",
        "plt.xlabel(\"False Positive Rate (1 - Spezifität)\")\n",
        "plt.ylabel(\"True Positive Rate (Recall)\")\n",
        "plt.title(\"ROC-Kurve: Risiko-Score → Krankheitsstatus\")\n",
        "plt.legend(loc=\"lower right\")\n",
        "plt.grid(True)\n",
        "plt.tight_layout()\n",
        "plt.show()\n"
      ]
    },
    {
      "cell_type": "markdown",
      "metadata": {
        "id": "Rx7edHAyJ5A4"
      },
      "source": [
        "**Interpretation:**\n",
        "\n",
        "- Die ROC-Kurve zeigt alle möglichen Schwellenwerte – nicht nur bei 0.5.\n",
        "\n",
        "- Die AUC-Zahl sagt direkt, wie gut das Modell insgesamt unterscheidet.\n",
        "\n",
        "- Ideal zur Bewertung eines einfachen Risiko-Scores als Vorhersageinstrument."
      ]
    },
    {
      "cell_type": "markdown",
      "metadata": {
        "id": "S6CgmVXqKPFX"
      },
      "source": [
        "**Verknüpfung des Risiko-Scores und des Machine-Learning-Modells, um konkrete personalisierte Ernährungsempfehlungen abzuleiten**\n",
        "\n",
        "--> Aus dem vorhergesagten Krankheitsrisiko + den individuellen Ernährungsmustern konkrete Lebensmittel-Empfehlungen ableiten."
      ]
    },
    {
      "cell_type": "markdown",
      "metadata": {
        "id": "NPZY8zOYK7bp"
      },
      "source": [
        "## Wie leite ich aus dem ML-Modell konkrete Ernährungsempfehlungen ab?\n",
        "\n",
        "Nachdem du mit einem Machine-Learning-Modell das Krankheitsrisiko vorhergesagt hast, kannst du dieses Risiko zusammen mit den erkannten Ernährungsmustern nutzen, um **personalisierte Ernährungsempfehlungen** zu geben.\n",
        "\n",
        "---\n",
        "\n",
        "### 1. Vorhersage machen\n",
        "\n",
        "Das Modell berechnet für jede Person:\n",
        "\n",
        "> **„Wie hoch ist die Wahrscheinlichkeit, dass diese Person krank ist?“**  \n",
        "> ➤ z. B. mit `model.predict_proba(X)` oder `model.predict(X)`\n",
        "\n",
        "---\n",
        "\n",
        "### 2. Nährstoffprofil prüfen\n",
        "\n",
        "Unabhängig vom Modell weißt du aus den Daten:\n",
        "\n",
        "| Nährstoffüberschreitung  | Bedeutung                                 |\n",
        "|---------------------------|--------------------------------------------|\n",
        "| `zu_viel_Kalorien`        | Person nimmt zu viel Energie auf           |\n",
        "| `zu_viel_Fett`            | Hoher Fettkonsum                          |\n",
        "| `zu_viel_Zucker`          | Zu hoher Zuckerkonsum                     |\n",
        "| `zu_viel_Natrium`         | Salzaufnahme über WHO-Grenzwert           |\n",
        "\n",
        "Diese Infos sind die Basis für individuelle Empfehlungen.\n",
        "\n",
        "---\n",
        "\n",
        "### 3. Regelbasierte Empfehlungen verknüpfen\n",
        "\n",
        "Je nach Muster und Risikogruppe (z. B. hoher Risiko-Score oder hohe Modellwahrscheinlichkeit) kannst du gezielt Empfehlungen ableiten:\n",
        "\n",
        "| Ernährungsmuster             | Empfehlung (Beispiel)                                                                 |\n",
        "|-----------------------------|----------------------------------------------------------------------------------------|\n",
        "| zu viel Kalorien + Fett     | 🥦 Mehr Gemüse, 🐟 Fisch, 🥗 Vollkorn, ❌ Fast Food & Wurst reduzieren                   |\n",
        "| zu viel Zucker              | 🍓 Frisches Obst, 💧 Wasser statt Softdrinks, ❌ Süßigkeiten meiden                     |\n",
        "| zu viel Natrium             | 🥔 Frisch kochen, ❌ Fertigprodukte meiden, 🥑 Kaliumreiche Kost bevorzugen            |\n",
        "| hoher Risiko-Score (z. B. ≥ 3) | 🔴 Dringende Umstellung empfohlen – Ernährungsberatung oder Interventionsprogramm    |\n",
        "\n",
        "---\n",
        "\n",
        "Mit dieser Kombination aus **ML-gestützter Risikoeinschätzung** und **regelbasierter Empfehlung** entsteht ein **einfaches, aber leistungsfähiges Entscheidungssystem**, das personalisierte Empfehlungen auf Basis realer Daten liefert.\n"
      ]
    },
    {
      "cell_type": "code",
      "execution_count": null,
      "metadata": {
        "id": "AvmS7MxSDVIu"
      },
      "outputs": [],
      "source": [
        "# 1. CSV-Dateien lokal einlesen\n",
        "diet = pd.read_csv(\"https://raw.githubusercontent.com/iceangel79/MScWinf_Gruppenarbeit_Sem2/refs/heads/main/Semesterarbeit/Datasets/Kaggle/diet.csv\")\n",
        "examination = pd.read_csv(\"https://raw.githubusercontent.com/iceangel79/MScWinf_Gruppenarbeit_Sem2/refs/heads/main/Semesterarbeit/Datasets/Kaggle/examination.csv\")\n",
        "questionnaire = pd.read_csv(\"https://raw.githubusercontent.com/iceangel79/MScWinf_Gruppenarbeit_Sem2/refs/heads/main/Semesterarbeit/Datasets/Kaggle/questionnaire.csv\")\n",
        "\n",
        "# Relevante Spalten\n",
        "diet_cols = ['SEQN', 'DR1TKCAL', 'DR1TSUGR', 'DR1TTFAT', 'DR1TSODI']\n",
        "examination_cols = ['SEQN', 'BMXBMI', 'BPXSY1', 'BPXDI1']\n",
        "questionnaire_cols = ['SEQN', 'DIQ010']\n",
        "\n",
        "# Auswahl\n",
        "diet_small = diet[diet_cols]\n",
        "examination_small = examination[examination_cols]\n",
        "questionnaire_small = questionnaire[questionnaire_cols]\n",
        "\n",
        "# Zusammenführen\n",
        "df = diet_small.merge(examination_small, on=\"SEQN\", how=\"inner\")\n",
        "df = df.merge(questionnaire_small, on=\"SEQN\", how=\"inner\")\n",
        "\n",
        "# NaNs entfernen und Kopie machen\n",
        "df_clean = df.dropna().copy()\n",
        "\n",
        "# Gesundheitsstatus\n",
        "def classify_health(row):\n",
        "    if row['DIQ010'] == 1:\n",
        "        return 'Diabetes'\n",
        "    elif row['BPXSY1'] >= 130 or row['BPXDI1'] >= 80:\n",
        "        return 'Bluthochdruck'\n",
        "    elif row['BMXBMI'] >= 25:\n",
        "        return 'Übergewicht'\n",
        "    else:\n",
        "        return 'Keine der drei Diagnosen'\n",
        "\n",
        "df_clean['Gesundheitsstatus'] = df_clean.apply(classify_health, axis=1)\n",
        "\n",
        "# Grenzwertüberschreitungen\n",
        "df_clean['zu_viel_Kalorien'] = df_clean['DR1TKCAL'] > 2500\n",
        "df_clean['zu_viel_Fett'] = df_clean['DR1TTFAT'] > 75\n",
        "df_clean['zu_viel_Zucker'] = df_clean['DR1TSUGR'] > 50\n",
        "df_clean['zu_viel_Natrium'] = df_clean['DR1TSODI'] > 2000\n",
        "\n",
        "# Risiko-Score\n",
        "df_clean['Risiko_Score'] = (\n",
        "    df_clean[['zu_viel_Kalorien', 'zu_viel_Fett', 'zu_viel_Zucker', 'zu_viel_Natrium']].sum(axis=1) +\n",
        "    ((df_clean['zu_viel_Kalorien']) & (df_clean['zu_viel_Fett'])).astype(int)\n",
        ")\n",
        "\n",
        "# Empfehlungen generieren\n",
        "def generate_recommendation(row):\n",
        "    tips = []\n",
        "    if row['zu_viel_Kalorien'] and row['zu_viel_Fett']:\n",
        "        tips.append(\"➡ Weniger fett- & kalorienreiche Speisen (z. B. Fast Food, Wurst).\")\n",
        "        tips.append(\"✅ Mehr Gemüse, Fisch, Vollkornprodukte.\")\n",
        "    if row['zu_viel_Zucker']:\n",
        "        tips.append(\"➡ Zucker reduzieren: Softdrinks & Süßigkeiten meiden.\")\n",
        "        tips.append(\"✅ Wasser, ungesüßter Tee, frisches Obst bevorzugen.\")\n",
        "    if row['zu_viel_Natrium']:\n",
        "        tips.append(\"➡ Salz reduzieren: Fertigprodukte vermeiden.\")\n",
        "        tips.append(\"✅ Frisch kochen, kaliumreiche Lebensmittel wählen.\")\n",
        "    if row['Risiko_Score'] >= 4:\n",
        "        tips.append(\"⚠️ Hohes Risiko – Bitte Ernährung grundlegend überdenken.\")\n",
        "    elif row['Risiko_Score'] >= 2:\n",
        "        tips.append(\"🟡 Mittleres Risiko – Verbesserungen empfohlen.\")\n",
        "    else:\n",
        "        tips.append(\"🟢 Geringes Risiko – aktuelles Verhalten beibehalten.\")\n",
        "    return \" \".join(tips)\n",
        "\n",
        "df_clean['Empfehlung'] = df_clean.apply(generate_recommendation, axis=1)\n",
        "\n",
        "# Ergebnis anzeigen\n",
        "df_clean[['SEQN', 'Gesundheitsstatus', 'Risiko_Score', 'Empfehlung']].head(10)"
      ]
    },
    {
      "cell_type": "markdown",
      "metadata": {
        "id": "HG9C2XNEQn_y"
      },
      "source": [
        "## Analyseerklärung & Interpretation\n",
        "\n",
        "### Was wurde gemacht?\n",
        "\n",
        "Auf Basis der NHANES-Daten wurden individuelle Ernährungsmuster analysiert und daraus **personalisierte Ernährungsempfehlungen** abgeleitet. Dabei wurden folgende Schritte durchgeführt:\n",
        "\n",
        "1. **Datenbereinigung & Zusammenführung:**\n",
        "   - Relevante Ernährungsdaten (z. B. Kalorien-, Zucker-, Fett- und Natriumaufnahme) wurden mit Gesundheitsdaten (Blutdruck, BMI, Diabetesdiagnose) kombiniert.\n",
        "\n",
        "2. **Klassifikation des Gesundheitsstatus:**\n",
        "   - Jede Person wurde einer Kategorie zugeordnet:\n",
        "     - `Diabetes`, `Bluthochdruck`, `Übergewicht` oder `Keine der drei Diagnosen`.\n",
        "\n",
        "3. **Nährstoffbewertung:**\n",
        "   - Für jede Person wurde geprüft, ob die individuelle Nährstoffzufuhr über den folgenden Grenzwerten liegt:\n",
        "     - **Kalorien** > 2500 kcal  \n",
        "     - **Fett** > 75 g  \n",
        "     - **Zucker** > 50 g  \n",
        "     - **Natrium** > 2000 mg\n",
        "\n",
        "4. **Risiko-Score-Berechnung:**\n",
        "   - Je mehr Grenzwerte überschritten wurden, desto höher der Score.\n",
        "   - Eine zusätzliche Gewichtung wurde gegeben, wenn sowohl Kalorien als auch Fett überschritten wurden (kombiniertes Überernährungsmuster).\n",
        "\n",
        "5. **Personalisierte Empfehlungen:**\n",
        "   - Basierend auf Ernährungsmuster und Risiko-Score wurden automatisiert Empfehlungen generiert (z. B. Reduktion von Zucker, Fett, Salz).\n",
        "\n",
        "---\n",
        "\n",
        "### Interpretation der Ergebnisse\n",
        "\n",
        "- Personen mit einem **hohen Risiko-Score (≥ 4)** erhalten eine **dringende Empfehlung zur Ernährungskorrektur**, da sie mehrere Grenzwerte überschreiten.\n",
        "- Personen mit **mittlerem Risiko (2–3)** erhalten gezielte Hinweise zur Verbesserung ihrer Ernährungsgewohnheiten.\n",
        "- Personen mit **geringem Risiko (0–1)** erhalten positives Feedback und den Hinweis, ihr Verhalten beizubehalten.\n",
        "\n",
        "Diese Analyse zeigt, wie man aus **realen Gesundheits- und Ernährungsdaten** evidenzbasierte, individualisierte Ernährungsempfehlungen ableiten kann. Dabei wird sowohl das **aktuelle Gesundheitsrisiko** als auch das **konkrete Ernährungsverhalten** berücksichtigt.\n",
        "\n",
        "---\n",
        "\n",
        "### Nächste Schritte (optional):\n",
        "\n",
        "- Visualisierung der Empfehlungen nach Gesundheitsstatus\n",
        "- Export der Empfehlungen als Excel/CSV für ärztliche Beratung\n",
        "- Clustering von Ernährungsmustern (z. B. k-Means)\n",
        "- Verknüpfung mit Machine-Learning-Modellen zur Risikoabschätzung\n"
      ]
    },
    {
      "cell_type": "markdown",
      "metadata": {
        "id": "TyZjO4SDVGzO"
      },
      "source": [
        "**Verknüpfung mit konkreten Lebensmitteln (Lebensmittel die empfohlen werden oder gemieden werden sollen)**"
      ]
    },
    {
      "cell_type": "code",
      "execution_count": null,
      "metadata": {
        "id": "ssQnIGQaRVN7"
      },
      "outputs": [],
      "source": [
        "def classify_pattern(row):\n",
        "    if row['zu_viel_Kalorien'] and row['zu_viel_Fett']:\n",
        "        return 'Fett- & kalorienreich'\n",
        "    elif row['zu_viel_Zucker']:\n",
        "        return 'Zuckerreich'\n",
        "    elif row['zu_viel_Natrium']:\n",
        "        return 'Salzreich'\n",
        "    else:\n",
        "        return 'Unauffällig'\n",
        "\n",
        "df_clean['Ernährungsmuster'] = df_clean.apply(classify_pattern, axis=1)\n",
        "\n",
        "\n",
        "\n",
        "lebensmittel_empfehlungen = {\n",
        "    'Fett- & kalorienreich': {\n",
        "        'Empfohlen': \"Brokkoli, Kartoffeln, Vollkornreis, Hülsenfrüchte, Lachs\",\n",
        "        'Meiden': \"Fast Food, Wurst, Käse, Frittierte Speisen\"\n",
        "    },\n",
        "    'Zuckerreich': {\n",
        "        'Empfohlen': \"Beeren, Äpfel, Wasser, Ungesüßter Tee\",\n",
        "        'Meiden': \"Softdrinks, Süßigkeiten, gezuckertes Müsli\"\n",
        "    },\n",
        "    'Salzreich': {\n",
        "        'Empfohlen': \"Frisches Gemüse, Spinat, Banane, ungesalzene Nüsse\",\n",
        "        'Meiden': \"Chips, Fertiggerichte, Wurst, Instantnudeln\"\n",
        "    },\n",
        "    'Unauffällig': {\n",
        "        'Empfohlen': \"Ausgewogene Mischkost – Obst, Gemüse, Vollkorn\",\n",
        "        'Meiden': \"Keine besonderen Einschränkungen\"\n",
        "    }\n",
        "}\n",
        "\n",
        "# Zuordnung anwenden\n",
        "df_clean['Lebensmittel_Empfohlen'] = df_clean['Ernährungsmuster'].map(lambda x: lebensmittel_empfehlungen[x]['Empfohlen'])\n",
        "df_clean['Lebensmittel_Meiden'] = df_clean['Ernährungsmuster'].map(lambda x: lebensmittel_empfehlungen[x]['Meiden'])\n",
        "\n",
        "df_clean[['SEQN', 'Gesundheitsstatus', 'Ernährungsmuster', 'Lebensmittel_Empfohlen', 'Lebensmittel_Meiden']].head(10)\n"
      ]
    },
    {
      "cell_type": "markdown",
      "metadata": {
        "id": "CvZBp4YSRMSx"
      },
      "source": [
        "**Individualisierte Empfehlung für jede Person**"
      ]
    },
    {
      "cell_type": "code",
      "execution_count": null,
      "metadata": {
        "id": "TsJKsp5OM9qG"
      },
      "outputs": [],
      "source": []
    },
    {
      "cell_type": "markdown",
      "metadata": {
        "id": "pIrZKtjHJVAp"
      },
      "source": [
        "Muss als Code rein --> aber zuerst muss ich ins Read.me folgendes einfügen, weil sonst das Speichern auf GitHub nicht funktioniert (siehe untenfolgendes Markdown-Feld)\n",
        "\n",
        "# interaktives Ernährungsempfehlungsformular\n",
        "# import ipywidgets as widgets\n",
        "# from IPython.display import display, Markdown\n",
        "\n",
        "# Eingabefelder\n",
        "gewicht = widgets.FloatText(description='Gewicht (kg):', value=70)\n",
        "groesse = widgets.FloatText(description='Größe (cm):', value=170)\n",
        "alter = widgets.IntSlider(description='Alter:', min=10, max=100, value=30)\n",
        "kalorien = widgets.IntSlider(description='Kalorien (kcal):', min=1000, max=5000, step=100, value=2500)\n",
        "fett = widgets.IntSlider(description='Fett (g):', min=0, max=200, value=70)\n",
        "zucker = widgets.IntSlider(description='Zucker (g):', min=0, max=150, value=40)\n",
        "natrium = widgets.IntSlider(description='Natrium (mg):', min=0, max=5000, step=100, value=1800)\n",
        "\n",
        "button = widgets.Button(description='Empfehlung anzeigen', button_style='success')\n",
        "output = widgets.Output()\n",
        "\n",
        "# Funktion zur Auswertung\n",
        "def berechne_und_empfehle(b):\n",
        "    with output:\n",
        "        output.clear_output()\n",
        "        bmi = gewicht.value / (groesse.value / 100) ** 2\n",
        "\n",
        "        zu_viel_kcal = kalorien.value > 2500\n",
        "        zu_viel_fett = fett.value > 75\n",
        "        zu_viel_zucker = zucker.value > 50\n",
        "        zu_viel_natrium = natrium.value > 2000\n",
        "\n",
        "        if zu_viel_kcal and zu_viel_fett:\n",
        "            muster = 'Fett- & kalorienreich'\n",
        "        elif zu_viel_zucker:\n",
        "            muster = 'Zuckerreich'\n",
        "        elif zu_viel_natrium:\n",
        "            muster = 'Salzreich'\n",
        "        else:\n",
        "            muster = 'Unauffällig'\n",
        "\n",
        "        lebensmittel_empfehlungen = {\n",
        "            'Fett- & kalorienreich': {\n",
        "                'Empfohlen': \"Brokkoli, Kartoffeln, Vollkornreis, Hülsenfrüchte, Lachs\",\n",
        "                'Meiden': \"Fast Food, Wurst, Käse, Frittierte Speisen\"\n",
        "            },\n",
        "            'Zuckerreich': {\n",
        "                'Empfohlen': \"Beeren, Äpfel, Wasser, Ungesüßter Tee\",\n",
        "                'Meiden': \"Softdrinks, Süßigkeiten, gezuckertes Müsli\"\n",
        "            },\n",
        "            'Salzreich': {\n",
        "                'Empfohlen': \"Frisches Gemüse, Spinat, Banane, ungesalzene Nüsse\",\n",
        "                'Meiden': \"Chips, Fertiggerichte, Wurst, Instantnudeln\"\n",
        "            },\n",
        "            'Unauffällig': {\n",
        "                'Empfohlen': \"Ausgewogene Mischkost – Obst, Gemüse, Vollkorn\",\n",
        "                'Meiden': \"Keine besonderen Einschränkungen\"\n",
        "            }\n",
        "        }\n",
        "\n",
        "        emp = lebensmittel_empfehlungen[muster]['Empfohlen']\n",
        "        mei = lebensmittel_empfehlungen[muster]['Meiden']\n",
        "\n",
        "        display(Markdown(f\"\"\"\n",
        "### 🔎 Ergebnis für deine Eingaben\n",
        "- **BMI:** {bmi:.1f}\n",
        "- **Ernährungsmuster:** `{muster}`\n",
        "\n",
        "**✅ Empfohlene Lebensmittel:**  \n",
        "{emp}\n",
        "\n",
        "**⛔ Zu meiden:**  \n",
        "{mei}\n",
        "\"\"\"))\n",
        "\n",
        "# Button verknüpfen und Formular anzeigen\n",
        "button.on_click(berechne_und_empfehle)\n",
        "formular = widgets.VBox([gewicht, groesse, alter, kalorien, fett, zucker, natrium, button, output])\n",
        "display(formular)\n"
      ]
    },
    {
      "cell_type": "markdown",
      "metadata": {
        "id": "_XmI_WvBJjoI"
      },
      "source": [
        "# 🧪 Interaktive Ernährungsempfehlung\n",
        "\n",
        "Dieses Projekt ermöglicht es, auf Basis persönlicher Angaben (Größe, Gewicht, Nährstoffaufnahme) eine **automatische Klassifikation des Ernährungsmusters** vorzunehmen – mit konkreten Empfehlungen zur Ernährung.\n",
        "\n",
        "## ▶️ Direkt ausprobieren in Google Colab\n",
        "\n",
        "[![Open in Colab](https://colab.research.google.com/assets/colab-badge.svg)](\n",
        "https://colab.research.google.com/github/DEIN_GITHUB_NAME/DEIN_REPO_NAME/blob/main/analyse_interaktiv.ipynb)\n",
        "\n",
        "## 📦 Anforderungen\n",
        "- `ipywidgets`\n",
        "- `IPython.display`\n",
        "\n",
        "## 💡 Funktionsweise\n",
        "- Berechnet den BMI\n",
        "- Prüft Schwellenwerte für Kalorien, Zucker, Fett, Natrium\n",
        "- Gibt passende Empfehlungen zu Lebensmitteln aus\n"
      ]
    },
    {
      "cell_type": "code",
      "execution_count": null,
      "metadata": {
        "id": "iZs1nB8PDVMA"
      },
      "outputs": [],
      "source": [
        "\n"
      ]
    },
    {
      "cell_type": "code",
      "execution_count": null,
      "metadata": {
        "id": "Ar2fKKHjDVPr"
      },
      "outputs": [],
      "source": []
    },
    {
      "cell_type": "code",
      "execution_count": null,
      "metadata": {
        "id": "xaiX8JtDzo5S"
      },
      "outputs": [],
      "source": []
    },
    {
      "cell_type": "code",
      "execution_count": null,
      "metadata": {
        "id": "0wPepUyuDVS4"
      },
      "outputs": [],
      "source": [
        "def berechne_und_empfehle_mit_ml(gewicht, groesse, alter, kalorien, fett, zucker, natrium, model):\n",
        "    bmi = gewicht / (groesse / 100) ** 2\n",
        "\n",
        "\n",
        "    print(\"++++++++++\" + str(gesamtumsatz) + \"++++++++\")\n",
        "    zu_viel_kcal = kalorien > gesamtumsatz#2500\n",
        "    zu_viel_fett = fett > 75\n",
        "    zu_viel_zucker = zucker > 50\n",
        "    zu_viel_natrium = natrium > 2000\n",
        "\n",
        "    # Risiko-Score berechnen\n",
        "    risiko_score = int(zu_viel_kcal) + int(zu_viel_fett) + int(zu_viel_zucker) + int(zu_viel_natrium)\n",
        "    if zu_viel_kcal and zu_viel_fett:\n",
        "        risiko_score += 1\n",
        "\n",
        "    # ML-Modell Vorhersage\n",
        "#    prediction = model.predict([[risiko_score]])[0]\n",
        "#    proba = model.predict_proba([[risiko_score]])[0][1]\n",
        "\n",
        "\n",
        "    input_df = pd.DataFrame([[risiko_score]], columns=[\"Risiko_Score\"])\n",
        "\n",
        "    prediction = model.predict(input_df)[0]\n",
        "    proba = model.predict_proba(input_df)[0][1]\n",
        "\n",
        "\n",
        "    # Ernährungsmuster bestimmen\n",
        "    if zu_viel_kcal and zu_viel_fett:\n",
        "        muster = 'Fett- & kalorienreich'\n",
        "    elif zu_viel_zucker:\n",
        "        muster = 'Zuckerreich'\n",
        "    elif zu_viel_natrium:\n",
        "        muster = 'Salzreich'\n",
        "    else:\n",
        "        muster = 'Unauffällig'\n",
        "\n",
        "    # Empfehlungen\n",
        "    lebensmittel_empfehlungen = {\n",
        "        'Fett- & kalorienreich': {\n",
        "            'Empfohlen': \"Brokkoli, Kartoffeln, Vollkornreis, Hülsenfrüchte, Lachs\",\n",
        "            'Meiden': \"Fast Food, Wurst, Käse, Frittierte Speisen\"\n",
        "        },\n",
        "        'Zuckerreich': {\n",
        "            'Empfohlen': \"Beeren, Äpfel, Wasser, Ungesüsster Tee\",\n",
        "            'Meiden': \"Softdrinks, Süssigkeiten, gezuckertes Müsli\"\n",
        "        },\n",
        "        'Salzreich': {\n",
        "            'Empfohlen': \"Frisches Gemüse, Spinat, Banane, ungesalzene Nüsse\",\n",
        "            'Meiden': \"Chips, Fertiggerichte, Wurst, Instantnudeln\"\n",
        "        },\n",
        "        'Unauffällig': {\n",
        "            'Empfohlen': \"Ausgewogene Mischkost – Obst, Gemüse, Vollkorn\",\n",
        "            'Meiden': \"Keine besonderen Einschränkungen\"\n",
        "        }\n",
        "    }\n",
        "\n",
        "    emp = lebensmittel_empfehlungen[muster]['Empfohlen']\n",
        "    mei = lebensmittel_empfehlungen[muster]['Meiden']\n",
        "\n",
        "    print(f\"\\n🔎 Ergebnis für deine Eingaben:\")\n",
        "    print(f\"- BMI: {bmi:.1f}\")\n",
        "    print(f\"- Ernährungsmuster: {muster}\")\n",
        "    print(f\"- Risiko-Score: {risiko_score}\")\n",
        "    print(f\"- ML-Vorhersage: {'Krankheitsrisiko erkannt' if prediction == 1 else 'Kein auffälliges Risiko'}\")\n",
        "    print(f\"- Wahrscheinlichkeit für Risiko: {proba:.2%}\")\n",
        "    print(f\"\\n✅ Empfohlene Lebensmittel:\\n{emp}\")\n",
        "    print(f\"\\n⛔ Zu meiden:\\n{mei}\")\n"
      ]
    },
    {
      "cell_type": "code",
      "execution_count": null,
      "metadata": {
        "id": "E7UUEEH6DVWW"
      },
      "outputs": [],
      "source": [
        "werte = get_user_inputs()\n",
        "berechne_und_empfehle_mit_ml(*werte, model)\n"
      ]
    },
    {
      "cell_type": "code",
      "execution_count": null,
      "metadata": {
        "id": "chcHIgmnDVZc"
      },
      "outputs": [],
      "source": []
    },
    {
      "cell_type": "code",
      "execution_count": null,
      "metadata": {
        "id": "7OB-GUmyDVdd"
      },
      "outputs": [],
      "source": []
    },
    {
      "cell_type": "code",
      "execution_count": null,
      "metadata": {
        "id": "nowrwaYsDVhs"
      },
      "outputs": [],
      "source": []
    },
    {
      "cell_type": "code",
      "execution_count": null,
      "metadata": {
        "id": "z2j03qI0DVl0"
      },
      "outputs": [],
      "source": []
    },
    {
      "cell_type": "code",
      "execution_count": null,
      "metadata": {
        "id": "yqFhOIUHDVpv"
      },
      "outputs": [],
      "source": []
    },
    {
      "cell_type": "markdown",
      "metadata": {
        "id": "UxHh9KLrEM5r"
      },
      "source": [
        "#Murats Teil"
      ]
    },
    {
      "cell_type": "code",
      "execution_count": null,
      "metadata": {
        "id": "kDE-8Rs7XZuc"
      },
      "outputs": [],
      "source": [
        "# === Päckli 1a: Meals-Macros Cleaned ===\n",
        "print(\"\\n📦 Lade df_meals ...\")\n",
        "df_meals = pd.read_csv(\n",
        "    \"https://raw.githubusercontent.com/M2xAy/ffhs-datensaetze/refs/heads/main/Datasets/archive/detailed_meals_macros_CLEANED.csv\"\n",
        ")\n",
        "df_meals.info()\n",
        "display(df_meals.head(3))\n",
        "\n",
        "# === Päckli 1b: FOOD Nutrition ===\n",
        "print(\"\\n📦 Lade df_nutrition ...\")\n",
        "df_nutrition = pd.read_csv(\n",
        "    \"https://raw.githubusercontent.com/M2xAy/ffhs-datensaetze/refs/heads/main/Datasets/archive/Food_and_Nutrition__.csv\"\n",
        ")\n",
        "df_nutrition.info()\n",
        "display(df_nutrition.head(3))\n",
        "\n",
        "# === Päckli 2: FOOD DATA GROUPS ===\n",
        "print(\"\\n📦 Lade food_groups_combined ...\")\n",
        "food_data_urls = [\n",
        "    \"https://raw.githubusercontent.com/M2xAy/ffhs-datensaetze/refs/heads/main/Datasets/Kaggle/FINAL%20FOOD%20DATASET/FOOD-DATA-GROUP1.csv\",\n",
        "    \"https://raw.githubusercontent.com/M2xAy/ffhs-datensaetze/refs/heads/main/Datasets/Kaggle/FINAL%20FOOD%20DATASET/FOOD-DATA-GROUP2.csv\",\n",
        "    \"https://raw.githubusercontent.com/M2xAy/ffhs-datensaetze/refs/heads/main/Datasets/Kaggle/FINAL%20FOOD%20DATASET/FOOD-DATA-GROUP3.csv\",\n",
        "    \"https://raw.githubusercontent.com/M2xAy/ffhs-datensaetze/refs/heads/main/Datasets/Kaggle/FINAL%20FOOD%20DATASET/FOOD-DATA-GROUP4.csv\",\n",
        "    \"https://raw.githubusercontent.com/M2xAy/ffhs-datensaetze/refs/heads/main/Datasets/Kaggle/FINAL%20FOOD%20DATASET/FOOD-DATA-GROUP5.csv\",\n",
        "]\n",
        "food_data_dfs = [pd.read_csv(url) for url in food_data_urls]\n",
        "food_groups_combined = pd.concat(food_data_dfs, ignore_index=True)\n",
        "\n",
        "food_groups_combined.info()\n",
        "display(food_groups_combined.head(3))\n",
        "\n",
        "# === Päckli 3: BLV-Referenzwerte ===\n",
        "print(\"\\n📦 Lade blv_nutrient_requirements ...\")\n",
        "blv_nutrient_requirements = pd.read_csv(\n",
        "    \"https://raw.githubusercontent.com/M2xAy/ffhs-datensaetze/refs/heads/main/Datasets/BLV/Nutrient_requirements_CH-2022.csv\"\n",
        ")\n",
        "blv_nutrient_requirements.info()\n",
        "display(blv_nutrient_requirements.head(3))\n",
        "\n",
        "\n",
        "print(\"\\n📊 Übersicht aller geladenen DataFrames:\")\n",
        "\n",
        "dataframes = {\n",
        "    \"df_meals\": df_meals,\n",
        "    \"df_nutrition\": df_nutrition,\n",
        "    \"food_groups_combined\": food_groups_combined,\n",
        "    \"blv_nutrient_requirements\": blv_nutrient_requirements\n",
        "}\n",
        "\n",
        "for name, df in dataframes.items():\n",
        "    print(f\"- {name}: {df.shape[0]} Zeilen × {df.shape[1]} Spalten\")\n",
        "\n"
      ]
    },
    {
      "cell_type": "code",
      "execution_count": null,
      "metadata": {
        "id": "PplBOUPybEve"
      },
      "outputs": [],
      "source": [
        "# === 1. Fehlende Werte prüfen ===\n",
        "missing_counts = df_meals.isnull().sum()\n",
        "missing_total = df_meals.isnull().any(axis=1).sum()\n",
        "\n",
        "print(f\"\\n# 🔍 Anzahl ungültiger Zeilen mit fehlenden Werten: {missing_total}\")\n",
        "print(\"\\n# 🔍 Fehlende Werte pro Spalte:\")\n",
        "print(missing_counts[missing_counts > 0])\n",
        "\n",
        "# === 2. Entferne Zeilen mit fehlenden Werten in relevanten Spalten ===\n",
        "critical_columns = [\"Breakfast Carbohydrates\"]\n",
        "df_meals.dropna(subset=critical_columns, inplace=True)\n",
        "\n",
        "# Optional: Falls du *alle* NaN-Zeilen entfernen willst:\n",
        "# df_meals.dropna(inplace=True)\n",
        "\n",
        "# === 3. Duplikate entfernen ===\n",
        "df_meals.drop_duplicates(subset=[col for col in df_meals.columns if col != \"Disease_List\"], inplace=True)\n",
        "\n",
        "# === 4. Krankheiten vorbereiten ===\n",
        "df_meals[\"Disease_List\"] = df_meals[\"Disease\"].fillna(\"\").apply(lambda x: [d.strip() for d in x.split(\",\") if d.strip()])\n",
        "df_meals[\"Disease_Count\"] = df_meals[\"Disease_List\"].apply(len)\n",
        "df_meals[\"Disease_Tuple\"] = df_meals[\"Disease_List\"].apply(tuple)\n",
        "\n",
        "# === 5. Zusammenfassung ===\n",
        "print(f\"\\n# ✅ Anzahl verbleibender (gültiger) Datensätze: {len(df_meals)}\")\n",
        "print(f\"# 🧹 Bereinigt: {missing_total - df_meals.isnull().any(axis=1).sum()} ungültige Zeilen entfernt\")\n"
      ]
    },
    {
      "cell_type": "code",
      "execution_count": null,
      "metadata": {
        "id": "qYNZt15-bcc5"
      },
      "outputs": [],
      "source": [
        "# === 1. Fehlende Werte prüfen ===\n",
        "missing_counts = df_nutrition.isnull().sum()\n",
        "missing_total = df_nutrition.isnull().any(axis=1).sum()\n",
        "\n",
        "print(f\"\\n# 🔍 [df_nutrition] Anzahl ungültiger Zeilen mit fehlenden Werten: {missing_total}\")\n",
        "print(missing_counts[missing_counts > 0])\n",
        "\n",
        "# === 2. Entferne alle Zeilen mit fehlenden Werten\n",
        "df_nutrition.dropna(inplace=True)\n",
        "\n",
        "# === 3. Duplikate entfernen\n",
        "df_nutrition.drop_duplicates(inplace=True)\n",
        "\n",
        "# === 4. Zusammenfassung\n",
        "print(f\"# ✅ Verbleibende Datensätze: {len(df_nutrition)}\")\n",
        "print(f\"# 🧹 Bereinigt: {missing_total - df_nutrition.isnull().any(axis=1).sum()} ungültige Zeilen entfernt\")\n"
      ]
    },
    {
      "cell_type": "code",
      "execution_count": null,
      "metadata": {
        "id": "sMD_RZK2XZwy"
      },
      "outputs": [],
      "source": [
        "# === 1. Fehlende Werte prüfen ===\n",
        "missing_counts = food_groups_combined.isnull().sum()\n",
        "missing_total = food_groups_combined.isnull().any(axis=1).sum()\n",
        "\n",
        "print(f\"\\n# 🔍 [food_groups_combined] Anzahl ungültiger Zeilen mit fehlenden Werten: {missing_total}\")\n",
        "print(missing_counts[missing_counts > 0])\n",
        "\n",
        "# === 2. Entferne alle Zeilen mit fehlenden Werten\n",
        "food_groups_combined.dropna(inplace=True)\n",
        "\n",
        "# === 3. Duplikate entfernen\n",
        "food_groups_combined.drop_duplicates(inplace=True)\n",
        "\n",
        "# === 4. Zusammenfassung\n",
        "print(f\"# ✅ Verbleibende Datensätze: {len(food_groups_combined)}\")\n",
        "print(f\"# 🧹 Bereinigt: {missing_total - food_groups_combined.isnull().any(axis=1).sum()} ungültige Zeilen entfernt\")\n"
      ]
    },
    {
      "cell_type": "code",
      "execution_count": null,
      "metadata": {
        "id": "lBPpwVDFXZ6p"
      },
      "outputs": [],
      "source": [
        "# === 1. Fehlende Werte prüfen ===\n",
        "# 2. Nur Zeilen entfernen, die wirklich KOMPLETT leer sind\n",
        "blv_nutrient_requirements.dropna(how=\"all\", inplace=True)\n",
        "\n",
        "# 3. Spaltennamen säubern\n",
        "blv_nutrient_requirements.columns = (\n",
        "    blv_nutrient_requirements.columns\n",
        "    .str.replace(r'\\r\\n', ' ', regex=True)\n",
        "    .str.replace(r'[^\\w\\s\\(\\)/%.-]', '', regex=True)\n",
        "    .str.strip()\n",
        ")\n",
        "\n",
        "# 4. Jetzt NUR gezielt Sonderzeichen ersetzen (nicht sofort alles)\n",
        "# Noch KEIN dropna() mehr!\n",
        "print(f\"✅ Zeilen nach Reparatur: {len(blv_nutrient_requirements)}\")\n",
        "display(blv_nutrient_requirements.head(10))"
      ]
    },
    {
      "cell_type": "code",
      "execution_count": null,
      "metadata": {
        "id": "qVtCH411BBAD"
      },
      "outputs": [],
      "source": [
        "# === 1.1 Feature Enginerring ===\n",
        "# === 🧬 Krankheiten vorbereiten ===\n",
        "df_meals[\"Disease_List\"] = df_meals[\"Disease\"].fillna(\"\").apply(lambda x: [d.strip() for d in x.split(\",\") if d.strip()])\n",
        "df_meals[\"Disease_Count\"] = df_meals[\"Disease_List\"].apply(len)\n",
        "df_meals[\"Has_Chronic\"] = df_meals[\"Disease_List\"].apply(\n",
        "    lambda lst: any(k in lst for k in [\"Diabetes\", \"Hypertension\", \"Heart Disease\", \"Kidney Disease\"])\n",
        ")\n",
        "df_meals[\"Multiple_Conditions\"] = (df_meals[\"Disease_Count\"] > 1).astype(int)\n",
        "df_meals[\"Target_Chronic\"] = df_meals[\"Has_Chronic\"].astype(int)\n",
        "\n",
        "# === 📏 Proteinbedarf nach BLV (0.8 g/kg Körpergewicht) ===\n",
        "blv_protein = 0.8\n",
        "df_meals[\"BLV_Protein_Need\"] = df_meals[\"Weight\"] * blv_protein\n",
        "\n",
        "# === 🔹 Makroverhältnisse ===\n",
        "df_meals[\"Protein_per_100kcal\"] = df_meals[\"Protein\"] / df_meals[\"Calories\"] * 100\n",
        "df_meals[\"Fat_to_Protein_Ratio\"] = df_meals[\"Fat\"] / (df_meals[\"Protein\"] + 1e-6)\n",
        "df_meals[\"Carb_to_Fat_Ratio\"] = df_meals[\"Carbohydrates\"] / (df_meals[\"Fat\"] + 1e-6)\n",
        "df_meals[\"Sugar_per_Carb\"] = df_meals[\"Sugar\"] / (df_meals[\"Carbohydrates\"] + 1e-6)\n",
        "\n",
        "# === 🔸 Zielüberschreitungen ===\n",
        "df_meals[\"Calories_exceed_target\"] = (df_meals[\"Calories\"] > df_meals[\"Daily Calorie Target\"]).astype(int)\n",
        "df_meals[\"Sugar_excess\"] = (df_meals[\"Sugar\"] > 50).astype(int)\n",
        "df_meals[\"Protein_deficit_ratio\"] = df_meals[\"Protein\"] / (df_meals[\"BLV_Protein_Need\"] + 1e-6)\n",
        "\n",
        "# === ⏰ Tagesstruktur-Features ===\n",
        "df_meals[\"Protein_Lunch_vs_Dinner\"] = df_meals[\"Lunch Protein\"] / (df_meals[\"Dinner Protein.1\"] + 1e-6)\n",
        "df_meals[\"Snack_Energy_Share\"] = df_meals[\"Snacks Calories\"] / df_meals[\"Daily Calorie Target\"]\n",
        "df_meals[\"Carb_ratio_breakfast\"] = df_meals[\"Breakfast Carbohydrates\"] / (df_meals[\"Carbohydrates\"] + 1e-6)\n",
        "\n",
        "# === 📊 Meta-Features ===\n",
        "df_meals[\"Protein_std\"] = df_meals[[\"Breakfast Protein\", \"Lunch Protein\", \"Dinner Protein.1\", \"Snacks Protein\"]].std(axis=1)\n",
        "df_meals[\"Macronutrient_Diversity\"] = df_meals[[\"Protein\", \"Fat\", \"Carbohydrates\", \"Fiber\", \"Sugar\"]].gt(0).sum(axis=1)\n",
        "\n",
        "# === ⚠️ Risikoindikator ===\n",
        "df_meals[\"Risk_Flag\"] = (\n",
        "    (df_meals[\"Sugar_excess\"] == 1) |\n",
        "    (df_meals[\"Calories_exceed_target\"] == 1) |\n",
        "    (df_meals[\"Protein_deficit_ratio\"] < 0.8)\n",
        ").astype(int)\n",
        "\n",
        "# ✅ Ergebnisvorschau (optional anzeigen)\n",
        "features_to_show = [\n",
        "    \"Protein_per_100kcal\", \"Fat_to_Protein_Ratio\", \"Carb_to_Fat_Ratio\", \"Sugar_per_Carb\",\n",
        "    \"Calories_exceed_target\", \"Sugar_excess\", \"Protein_deficit_ratio\",\n",
        "    \"Protein_Lunch_vs_Dinner\", \"Snack_Energy_Share\", \"Carb_ratio_breakfast\",\n",
        "    \"Protein_std\", \"Macronutrient_Diversity\",\n",
        "    \"Disease_Count\", \"Has_Chronic\", \"Multiple_Conditions\", \"Target_Chronic\", \"Risk_Flag\"\n",
        "]\n",
        "\n",
        "\n",
        "\n",
        "#########Feature Eng. für KAQ1#########\n",
        "# Neues Feature: Protein pro 100 kcal\n",
        "df_meals[\"Protein_per_100kcal\"] = df_meals[\"Protein\"] / df_meals[\"Calories\"] * 100\n",
        "\n",
        "# Neues Feature: Fett zu Protein Verhältnis\n",
        "df_meals[\"Fat_to_Protein_Ratio\"] = df_meals[\"Fat\"] / (df_meals[\"Protein\"] + 1e-6)  # Schutz gegen Division durch 0\n",
        "\n",
        "# Neues Feature: Zuckeranteil an Kohlenhydraten\n",
        "df_meals[\"Sugar_per_Carb\"] = df_meals[\"Sugar\"] / (df_meals[\"Carbohydrates\"] + 1e-6)\n",
        "\n",
        "# Neues Feature: Snack-Energie-Anteil\n",
        "df_meals[\"Snack_Energy_Share\"] = df_meals[\"Snacks Calories\"] / (df_meals[\"Daily Calorie Target\"] + 1e-6)\n",
        "\n",
        "# Neues Feature: Kohlenhydratanteil Frühstück\n",
        "df_meals[\"Carb_ratio_breakfast\"] = df_meals[\"Breakfast Carbohydrates\"] / (df_meals[\"Carbohydrates\"] + 1e-6)\n"
      ]
    },
    {
      "cell_type": "code",
      "execution_count": null,
      "metadata": {
        "id": "iv3FM4zUTZlL"
      },
      "outputs": [],
      "source": [
        "# =====================================\n",
        "# Schritt 3.1: Explorative Datenanalyse (EDA)\n",
        "# =====================================\n",
        "\n",
        "# ------------------------------\n",
        "# 3.1.1 Verteilung der Makronährstoffe\n",
        "# ------------------------------\n",
        "macro_columns = [\"Calories\", \"Protein\", \"Fat\", \"Sugar\", \"Sodium\", \"Carbohydrates\"]\n",
        "fig1, axes = plt.subplots(len(macro_columns), 1, figsize=(10, 20))\n",
        "\n",
        "for i, col in enumerate(macro_columns):\n",
        "    sns.histplot(df_meals[col], kde=True, ax=axes[i], color='skyblue')\n",
        "    axes[i].set_title(f\"Verteilung von {col}\", fontsize=12)\n",
        "    axes[i].set_xlabel(col)\n",
        "    axes[i].set_ylabel(\"Häufigkeit\")\n",
        "\n",
        "plt.tight_layout()\n",
        "plt.show()\n",
        "\n",
        "# ------------------------------\n",
        "# 3.1.2 Häufigkeit von Krankheiten\n",
        "# ------------------------------\n",
        "plt.figure(figsize=(10, 6))\n",
        "df_meals[\"Disease\"].value_counts().plot(kind=\"bar\", color=\"salmon\")\n",
        "plt.title(\"Häufigkeit von Krankheiten (kombiniert)\", fontsize=13)\n",
        "plt.xlabel(\"Krankheit(en)\")\n",
        "plt.ylabel(\"Anzahl Personen\")\n",
        "plt.xticks(rotation=45, ha='right')\n",
        "plt.tight_layout()\n",
        "plt.show()\n",
        "\n",
        "# ------------------------------\n",
        "# 3.1.3 Vergleich Kalorienaufnahme nach Geschlecht\n",
        "# ------------------------------\n",
        "plt.figure(figsize=(8, 6))\n",
        "sns.boxplot(data=df_meals, x=\"Gender\", y=\"Calories\", palette=\"pastel\")\n",
        "plt.title(\"Kalorienaufnahme nach Geschlecht\", fontsize=13)\n",
        "plt.xlabel(\"Geschlecht\")\n",
        "plt.ylabel(\"Kalorien\")\n",
        "plt.tight_layout()\n",
        "plt.show()\n",
        "\n",
        "\n",
        "\n",
        "\n",
        "# ------------------------------\n",
        "# 3.1.4 Deskriptive Statistik mit erweiterten Kennzahlen\n",
        "# ------------------------------\n",
        "columns = [\"Calories\", \"Protein\", \"Fat\", \"Sugar\", \"Sodium\", \"Carbohydrates\"]\n",
        "desc_stats = df_meals[columns].describe().T  # count, mean, std, min, 25%, 50%, 75%, max\n",
        "desc_stats[\"median\"] = df_meals[columns].median()\n",
        "desc_stats[\"skewness\"] = df_meals[columns].skew()\n",
        "desc_stats[\"kurtosis\"] = df_meals[columns].kurt()\n",
        "\n",
        "# Ausgabe als Tabelle\n",
        "print(\"Deskriptive Statistik (inkl. Median, Schiefe & Kurtosis):\\n\")\n",
        "print(desc_stats.round(2))\n",
        "\n",
        "# ------------------------------\n",
        "# 3.1.5 Korrelationen (Heatmap)\n",
        "# ------------------------------\n",
        "correlation_matrix = df_meals[columns].corr()\n",
        "\n",
        "plt.figure(figsize=(8, 6))\n",
        "sns.heatmap(correlation_matrix, annot=True, cmap=\"coolwarm\", fmt=\".2f\")\n",
        "plt.title(\"Korrelation zwischen Makronährstoffen\", fontsize=13)\n",
        "plt.tight_layout()\n",
        "plt.show()\n",
        "\n",
        "\n",
        "# ------------------------------\n",
        "# 3.1.6 Deskriptive Statistik mit erweiterten Kennzahlen\n",
        "# ------------------------------\n",
        "columns = [\"Calories\", \"Protein\", \"Fat\", \"Sugar\", \"Sodium\", \"Carbohydrates\"]\n",
        "desc_stats = df_meals[columns].describe().T  # count, mean, std, min, 25%, 50%, 75%, max\n",
        "desc_stats[\"median\"] = df_meals[columns].median()\n",
        "desc_stats[\"skewness\"] = df_meals[columns].skew()\n",
        "desc_stats[\"kurtosis\"] = df_meals[columns].kurt()\n",
        "\n",
        "# Ausgabe als Tabelle\n",
        "print(\"Deskriptive Statistik (inkl. Median, Schiefe & Kurtosis):\\n\")\n",
        "print(desc_stats.round(2))\n",
        "\n"
      ]
    },
    {
      "cell_type": "code",
      "execution_count": null,
      "metadata": {
        "id": "ULKW_G9jMZrZ"
      },
      "outputs": [],
      "source": [
        "# =====================================\n",
        "# Schritt 3.2: Ernährungsmuster identifizieren\n",
        "# =====================================\n",
        "\n",
        "# =====================================\n",
        "# Analyse KAQ 1: Welche Ernährungsmuster lassen sich aus individuellen Makronährstoffprofilen ableiten – und welche Krankheitsrisiken sind damit verbunden?\n",
        "# Methode: KMeans-Clusteranalyse auf Protein, Fett, Zucker, Kalorien, etc.\n",
        "# Ziel: Ernährungstypen identifizieren\n",
        "# Zusatzanalyse: Krankheitsverteilung je Cluster\n",
        "# Visualisierung: Clusterplot, Balkendiagramm Krankheitsprävalenz\n",
        "# =====================================\n",
        "\n",
        "\n",
        "# 3. Clustering (KAQ 1) - 1\n",
        "# Clustering (KAQ 1) - 1 mit Beschriftung\n",
        "features_kaq1 = [\n",
        "    \"Protein_per_100kcal\", \"Fat_to_Protein_Ratio\", \"Sugar_per_Carb\",\n",
        "    \"Snack_Energy_Share\", \"Carb_ratio_breakfast\", \"Calories_exceed_target\",\n",
        "    \"Protein_deficit_ratio\"\n",
        "]\n",
        "\n",
        "df_kaq1 = df_meals[features_kaq1 + [\"Target_Chronic\", \"Risk_Flag\"]].dropna().copy()\n",
        "# Neue Flags für Unausgewogenheit erstellen\n",
        "df_kaq1[\"Under_Protein\"] = (df_kaq1[\"Protein_deficit_ratio\"] < 1.0).astype(int)\n",
        "df_kaq1[\"High_Sugar_Carb\"] = (df_kaq1[\"Sugar_per_Carb\"] > 0.3).astype(int)\n",
        "df_kaq1[\"High_Snacks\"] = (df_kaq1[\"Snack_Energy_Share\"] > 0.15).astype(int)\n",
        "df_kaq1[\"Fat_Heavy\"] = (df_kaq1[\"Fat_to_Protein_Ratio\"] > 1.0).astype(int)\n",
        "df_kaq1[\"Unausgewogen\"] = (\n",
        "    df_kaq1[\"Under_Protein\"] +\n",
        "    df_kaq1[\"High_Sugar_Carb\"] +\n",
        "    df_kaq1[\"High_Snacks\"] +\n",
        "    df_kaq1[\"Calories_exceed_target\"] +\n",
        "    df_kaq1[\"Fat_Heavy\"]\n",
        ")\n",
        "df_kaq1[\"Unausgewogen_Flag\"] = (df_kaq1[\"Unausgewogen\"] >= 2).astype(int)\n",
        "\n",
        "\n",
        "\n",
        "\n",
        "\n",
        "# Clustering + PCA\n",
        "scaler = StandardScaler()\n",
        "X_scaled = scaler.fit_transform(df_kaq1[features_kaq1])\n",
        "pca = PCA(n_components=2)\n",
        "X_pca = pca.fit_transform(X_scaled)\n",
        "kmeans = KMeans(n_clusters=3, random_state=42, n_init=10)\n",
        "clusters = kmeans.fit_predict(X_pca)\n",
        "\n",
        "df_kaq1[\"Cluster\"] = clusters\n",
        "df_kaq1[\"PCA1\"] = X_pca[:, 0]\n",
        "df_kaq1[\"PCA2\"] = X_pca[:, 1]\n",
        "\n",
        "farben = {0: \"green\", 1: \"orange\", 2: \"blue\"}\n",
        "farben_liste = df_kaq1[\"Cluster\"].map(farben)\n",
        "cluster_labels = {\n",
        "    0: \"🟢 Cluster 0:\\nProteinreich\\nNiedriges Risiko\",\n",
        "    1: \"🟠 Cluster 1:\\nSnacklastig\\nMittleres Risiko\",\n",
        "    2: \"🔵 Cluster 2:\\nCarb-Frühstück\\nHöchstes Risiko\"\n",
        "}\n",
        "\n",
        "plt.figure(figsize=(10, 6))\n",
        "plt.scatter(df_kaq1[\"PCA1\"], df_kaq1[\"PCA2\"], c=farben_liste, s=40, alpha=0.7)\n",
        "for cluster_id, label in cluster_labels.items():\n",
        "    x_mean = df_kaq1[df_kaq1[\"Cluster\"] == cluster_id][\"PCA1\"].mean()\n",
        "    y_mean = df_kaq1[df_kaq1[\"Cluster\"] == cluster_id][\"PCA2\"].mean()\n",
        "    plt.text(x_mean, y_mean, label, fontsize=10, weight='bold', ha='center', va='center',\n",
        "             bbox=dict(facecolor='white', alpha=0.7, boxstyle='round'))\n",
        "plt.title(\"KAQ 1: Ernährungsmuster-Clustering (beschriftet)\")\n",
        "plt.xlabel(\"PCA 1\")\n",
        "plt.ylabel(\"PCA 2\")\n",
        "plt.grid(True)\n",
        "plt.tight_layout()\n",
        "plt.show()\n",
        "\n",
        "\n",
        "\n",
        "# Definition der Basis-Nährstoff-Features\n",
        "features_basic = [\"Protein\", \"Fat\", \"Carbohydrates\", \"Sugar\"]\n",
        "\n",
        "# DataFrame für Basis-Clustering:\n",
        "df_basic = df_meals[features_basic].dropna().copy()\n",
        "\n",
        "\n",
        "# Clustering auf Basis-Nährstoffe mit Beschriftung\n",
        "scaler = StandardScaler()\n",
        "X_scaled_basic = scaler.fit_transform(df_basic)\n",
        "pca_basic = PCA(n_components=2)\n",
        "X_pca_basic = pca_basic.fit_transform(X_scaled_basic)\n",
        "kmeans_basic = KMeans(n_clusters=3, random_state=42, n_init=10)\n",
        "clusters_basic = kmeans_basic.fit_predict(X_pca_basic)\n",
        "\n",
        "df_basic[\"Cluster\"] = clusters_basic\n",
        "df_basic[\"PCA1\"] = X_pca_basic[:, 0]\n",
        "df_basic[\"PCA2\"] = X_pca_basic[:, 1]\n",
        "\n",
        "farben_basic = {0: \"green\", 1: \"orange\", 2: \"blue\"}\n",
        "farben_liste_basic = df_basic[\"Cluster\"].map(farben_basic)\n",
        "cluster_labels_basic = {\n",
        "    0: \"🟢 Cluster 0:\\nProteinreich\",\n",
        "    1: \"🟠 Cluster 1:\\nFett-/Zuckerreich\",\n",
        "    2: \"🔵 Cluster 2:\\nCarblastig\"\n",
        "}\n",
        "\n",
        "plt.figure(figsize=(10, 6))\n",
        "plt.scatter(df_basic[\"PCA1\"], df_basic[\"PCA2\"], c=farben_liste_basic, s=40, alpha=0.7)\n",
        "for cluster_id, label in cluster_labels_basic.items():\n",
        "    x_mean = df_basic[df_basic[\"Cluster\"] == cluster_id][\"PCA1\"].mean()\n",
        "    y_mean = df_basic[df_basic[\"Cluster\"] == cluster_id][\"PCA2\"].mean()\n",
        "    plt.text(x_mean, y_mean, label, fontsize=10, weight='bold', ha='center', va='center',\n",
        "             bbox=dict(facecolor='white', alpha=0.7, boxstyle='round'))\n",
        "plt.title(\"Clustering auf Protein, Fett, Carbs, Zucker (beschriftet)\")\n",
        "plt.xlabel(\"PCA 1\")\n",
        "plt.ylabel(\"PCA 2\")\n",
        "plt.grid(True)\n",
        "plt.tight_layout()\n",
        "plt.show()\n",
        "\n",
        "\n",
        "\n",
        "\n",
        "# Plotly HBar für KAQ 1 Features\n",
        "cluster_summary = df_kaq1.groupby(\"Cluster\")[features_kaq1].mean().reset_index()\n",
        "df_melt = cluster_summary.melt(id_vars=\"Cluster\", var_name=\"Feature\", value_name=\"Wert\")\n",
        "fig = px.bar(df_melt, x=\"Wert\", y=\"Feature\", color=\"Cluster\", orientation=\"h\", barmode=\"group\",\n",
        "             color_discrete_map={0: \"green\", 1: \"orange\", 2: \"blue\"}, height=600,\n",
        "             title=\"Ernährungsmuster je Cluster (features_kaq1)\")\n",
        "fig.update_layout(xaxis_title=\"Durchschnittlicher Wert\", yaxis_title=\"Feature\", legend_title=\"Cluster\", template=\"plotly_white\")\n",
        "fig.show()\n",
        "\n",
        "# Plotly HBar für Basis-Nährstoffe\n",
        "cluster_summary_basic = df_basic.groupby(\"Cluster\")[features_basic].mean().reset_index()\n",
        "df_melt_basic = cluster_summary_basic.melt(id_vars=\"Cluster\", var_name=\"Feature\", value_name=\"Wert\")\n",
        "fig_basic = px.bar(df_melt_basic, x=\"Wert\", y=\"Feature\", color=\"Cluster\", orientation=\"h\", barmode=\"group\",\n",
        "                   color_discrete_map={0: \"green\", 1: \"orange\", 2: \"blue\"}, height=500,\n",
        "                   title=\"Basis-Nährstoffe je Cluster\")\n",
        "fig_basic.update_layout(xaxis_title=\"Durchschnittlicher Wert (g)\", yaxis_title=\"Basis-Nährstoff\", legend_title=\"Cluster\", template=\"plotly_white\")\n",
        "fig_basic.show()\n",
        "\n",
        "\n",
        "\n",
        "\n",
        "# Anteil Unausgewogener je Cluster\n",
        "unausgewogen_summary = df_kaq1.groupby(\"Cluster\")[[\"Unausgewogen_Flag\"]].mean().reset_index()\n",
        "fig_unaus = px.bar(unausgewogen_summary, x=\"Cluster\", y=\"Unausgewogen_Flag\", color=\"Cluster\",\n",
        "                   color_discrete_map={0: \"green\", 1: \"orange\", 2: \"blue\"},\n",
        "                   title=\"Anteil Unausgewogener Ernährung je Cluster\",\n",
        "                   labels={\"Unausgewogen_Flag\": \"Anteil (%)\"}, text_auto=\".1%\", height=400)\n",
        "fig_unaus.update_layout(template=\"plotly_white\", yaxis_tickformat=\".0%\")\n",
        "fig_unaus.show()\n",
        "\n"
      ]
    },
    {
      "cell_type": "code",
      "execution_count": null,
      "metadata": {
        "id": "mTe3gFUJVseP"
      },
      "outputs": [],
      "source": [
        "# =====================================\n",
        "# Schritt 3.3: Zusammenhang zwischen Ernährung und Krankheitsrisiken\n",
        "# ====================================="
      ]
    },
    {
      "cell_type": "code",
      "execution_count": null,
      "metadata": {
        "id": "e7RLd_-qVrux"
      },
      "outputs": [],
      "source": [
        "# =====================================\n",
        "# Schritt 3.4: Identifikation unausgewogener Ernährungsmuster\n",
        "# ====================================="
      ]
    },
    {
      "cell_type": "code",
      "execution_count": null,
      "metadata": {
        "id": "IQnP4IaaVq7c"
      },
      "outputs": [],
      "source": [
        "# =====================================\n",
        "# Schritt 3.5: Vergleich von Personen mit und ohne Krankheit\n",
        "# ====================================="
      ]
    },
    {
      "cell_type": "code",
      "execution_count": null,
      "metadata": {
        "id": "zgHi7wlWVtbY"
      },
      "outputs": [],
      "source": [
        "# =====================================\n",
        "# Schritt 3.6: Empfehlungen basierend auf Clusterbildung\n",
        "# ====================================="
      ]
    },
    {
      "cell_type": "code",
      "execution_count": null,
      "metadata": {
        "id": "llpU59M5eqd6"
      },
      "outputs": [],
      "source": [
        "\n",
        "\n"
      ]
    },
    {
      "cell_type": "code",
      "execution_count": null,
      "metadata": {
        "id": "rInYMn1ZVwax"
      },
      "outputs": [],
      "source": []
    },
    {
      "cell_type": "code",
      "execution_count": null,
      "metadata": {
        "id": "HJIyuF06VwX_"
      },
      "outputs": [],
      "source": []
    },
    {
      "cell_type": "code",
      "execution_count": null,
      "metadata": {
        "id": "lBro6dRgVwVd"
      },
      "outputs": [],
      "source": []
    },
    {
      "cell_type": "code",
      "execution_count": null,
      "metadata": {
        "id": "YFPJumikVwTJ"
      },
      "outputs": [],
      "source": []
    },
    {
      "cell_type": "code",
      "execution_count": null,
      "metadata": {
        "id": "2iKhhgcBVwQq"
      },
      "outputs": [],
      "source": []
    },
    {
      "cell_type": "code",
      "execution_count": null,
      "metadata": {
        "id": "fLnTHeXYVwOO"
      },
      "outputs": [],
      "source": []
    },
    {
      "cell_type": "code",
      "execution_count": null,
      "metadata": {
        "id": "7__Mg3X_VwLW"
      },
      "outputs": [],
      "source": []
    },
    {
      "cell_type": "code",
      "execution_count": null,
      "metadata": {
        "id": "yR5I9sa9VwI_"
      },
      "outputs": [],
      "source": []
    },
    {
      "cell_type": "code",
      "execution_count": null,
      "metadata": {
        "id": "KP65qOSfVwGw"
      },
      "outputs": [],
      "source": []
    },
    {
      "cell_type": "code",
      "execution_count": null,
      "metadata": {
        "id": "ioLk7oulVwEF"
      },
      "outputs": [],
      "source": []
    },
    {
      "cell_type": "code",
      "execution_count": null,
      "metadata": {
        "id": "P5WpJ9-xVwB7"
      },
      "outputs": [],
      "source": []
    },
    {
      "cell_type": "code",
      "execution_count": null,
      "metadata": {
        "id": "BCB4gSRgVv_d"
      },
      "outputs": [],
      "source": []
    },
    {
      "cell_type": "code",
      "execution_count": null,
      "metadata": {
        "id": "ggViXWrmVv9B"
      },
      "outputs": [],
      "source": []
    },
    {
      "cell_type": "code",
      "execution_count": null,
      "metadata": {
        "id": "TWbSienvVv6a"
      },
      "outputs": [],
      "source": []
    },
    {
      "cell_type": "code",
      "execution_count": null,
      "metadata": {
        "id": "eD1acLXRVvzD"
      },
      "outputs": [],
      "source": []
    },
    {
      "cell_type": "code",
      "execution_count": null,
      "metadata": {
        "id": "6POuBabbVvn1"
      },
      "outputs": [],
      "source": []
    },
    {
      "cell_type": "code",
      "execution_count": null,
      "metadata": {
        "id": "288rHND5VvbU"
      },
      "outputs": [],
      "source": []
    },
    {
      "cell_type": "code",
      "execution_count": null,
      "metadata": {
        "id": "ZTuefWoeVvO0"
      },
      "outputs": [],
      "source": []
    },
    {
      "cell_type": "code",
      "execution_count": null,
      "metadata": {
        "id": "fVMB45uNVu_O"
      },
      "outputs": [],
      "source": []
    },
    {
      "cell_type": "code",
      "execution_count": null,
      "metadata": {
        "id": "tkzdq5ZOeqd8"
      },
      "outputs": [],
      "source": [
        "# =====================================\n",
        "# Schritt 3: Explorative Analyse nach IBCS\n",
        "# =====================================\n",
        "\n",
        "# 🧠 Frage: Unterscheiden sich kranke und gesunde Personen im Zuckerkonsum?\n",
        "# 🎯 Ziel: Visuelle Verteilung und Mittelwertunterschied zeigen\n",
        "\n",
        "sns.boxplot(data=df_meals, x=df_meals[\"Disease_Count\"] > 0, y=\"Sugar\")\n",
        "plt.title(\"Zuckerzufuhr bei Personen mit und ohne Krankheit\")\n",
        "plt.xlabel(\"Krankheit vorhanden?\")\n",
        "plt.ylabel(\"Zucker (g pro Tag)\")\n",
        "plt.grid(True)\n",
        "plt.show()\n",
        "\n",
        "# SAY-Prinzip (Kommentar zur Grafik)\n",
        "print(\"Personen mit Krankheit weisen im Median einen leicht höheren Zuckerkonsum auf.\")\n"
      ]
    },
    {
      "cell_type": "markdown",
      "metadata": {
        "id": "aT78c3WXB8e3"
      },
      "source": []
    },
    {
      "cell_type": "code",
      "execution_count": null,
      "metadata": {
        "id": "VQ2iroYQeqd7"
      },
      "outputs": [],
      "source": [
        "#Ernährungsmuster visuell erkennen (z. B. Cluster 1 = „Proteinreich und risikoarm“)\n",
        "#Krankheitsrisiken vorhersagen (RandomForest auf Basis deiner Features)\n",
        "#Datenqualität prüfen (z. B. ob Cluster mit Risk_Flag oder Target_Chronic übereinstimmen)\n",
        "#Zielgruppen ableiten für personalisierte Ernährungsempfehlungen\n",
        "\n",
        "\n",
        "# === 1. Feature-Auswahl ===\n",
        "features = [\n",
        "    \"Protein_per_100kcal\", \"Fat_to_Protein_Ratio\", \"Carb_to_Fat_Ratio\", \"Sugar_per_Carb\",\n",
        "    \"Calories_exceed_target\", \"Sugar_excess\", \"Protein_deficit_ratio\",\n",
        "    \"Protein_Lunch_vs_Dinner\", \"Snack_Energy_Share\", \"Carb_ratio_breakfast\",\n",
        "    \"Protein_std\", \"Macronutrient_Diversity\"\n",
        "]\n",
        "\n",
        "# ✅ Nur vollständige Zeilen verwenden\n",
        "df_cluster = df_meals[features + [\"Target_Chronic\"]].dropna().copy()\n",
        "\n",
        "# === 2. Standardisieren ===\n",
        "scaler = StandardScaler()\n",
        "X_scaled = scaler.fit_transform(df_cluster[features])\n",
        "\n",
        "# === 3. PCA → 2D-Reduktion\n",
        "pca = PCA(n_components=2)\n",
        "X_pca = pca.fit_transform(X_scaled)\n",
        "\n",
        "# === 4. KMeans Clustering\n",
        "kmeans = KMeans(n_clusters=3, random_state=42, n_init=10)\n",
        "clusters = kmeans.fit_predict(X_pca)\n",
        "\n",
        "# === 5. Cluster + PCA in df_meals schreiben\n",
        "df_meals_clean = df_meals.loc[df_cluster.index].copy()\n",
        "df_meals_clean[\"Cluster\"] = clusters\n",
        "df_meals_clean[\"PCA1\"] = X_pca[:, 0]\n",
        "df_meals_clean[\"PCA2\"] = X_pca[:, 1]\n",
        "\n",
        "# === 6. Cluster-Zusammenfassung\n",
        "cluster_summary = df_meals_clean.groupby(\"Cluster\")[features].mean()\n",
        "\n",
        "# === 7. Cluster-Visualisierung (PCA 2D)\n",
        "plt.figure(figsize=(10, 6))\n",
        "scatter = plt.scatter(X_pca[:, 0], X_pca[:, 1], c=clusters, cmap='Set2', s=40, alpha=0.7)\n",
        "plt.title(\"PCA + KMeans Clustering der Ernährungsmuster\")\n",
        "plt.xlabel(\"PCA 1\")\n",
        "plt.ylabel(\"PCA 2\")\n",
        "plt.grid(True)\n",
        "plt.legend(*scatter.legend_elements(), title=\"Cluster\")\n",
        "plt.tight_layout()\n",
        "plt.show()\n",
        "\n",
        "# === 8. Klassifikation: Target_Chronic\n",
        "X = df_cluster[features]\n",
        "y = df_cluster[\"Target_Chronic\"]\n",
        "X_train, X_test, y_train, y_test = train_test_split(X, y, random_state=42, test_size=0.2)\n",
        "\n",
        "\n",
        "clf = RandomForestClassifier(\n",
        "    n_estimators=300,\n",
        "    max_depth=22,\n",
        "    min_samples_split=5,\n",
        "    min_samples_leaf=2,\n",
        "    max_features='sqrt',\n",
        "    class_weight='balanced',\n",
        "    n_jobs=1,  # statt -1, um Fehler zu vermeiden\n",
        "    random_state=42\n",
        ")\n",
        "\n",
        "clf.fit(X_train, y_train)\n",
        "\n",
        "\n",
        "y_pred = clf.predict(X_test)\n",
        "\n",
        "# === 9. Klassifikationsmetriken\n",
        "report = classification_report(y_test, y_pred, output_dict=True)\n",
        "metrics = pd.DataFrame(report).T\n",
        "\n",
        "# === 10. Optional: Boxplot pro Cluster für ein Feature\n",
        "plt.figure(figsize=(8, 5))\n",
        "sns.boxplot(data=df_meals_clean, x=\"Cluster\", y=\"Protein_per_100kcal\", palette=\"Set2\")\n",
        "plt.title(\"Protein pro 100kcal nach Cluster\")\n",
        "plt.grid(True)\n",
        "plt.tight_layout()\n",
        "plt.show()\n",
        "\n",
        "# === 11. Ausgabe\n",
        "print(\"\\n📊 Cluster-Zusammenfassung:\")\n",
        "display(cluster_summary)\n",
        "\n",
        "print(\"\\n🎯 Klassifikationsmetriken:\")\n",
        "display(metrics)\n"
      ]
    },
    {
      "cell_type": "code",
      "execution_count": null,
      "metadata": {
        "id": "yqOvGTAqFymy"
      },
      "outputs": [],
      "source": [
        "def vorhersage_chronisches_risiko(input_dict, model, feature_list):\n",
        "    \"\"\"\n",
        "    Gibt eine Vorhersage für chronisches Risiko zurück (basierend auf Random Forest Modell).\n",
        "\n",
        "    :param input_dict: dict – Eingabewerte für eine Person (z. B. {\"Protein_per_100kcal\": 5.0, ...})\n",
        "    :param model: sklearn-Modell – z. B. trainierter RandomForestClassifier\n",
        "    :param feature_list: list – Liste der Feature-Namen in richtiger Reihenfolge\n",
        "    :return: Tuple (Label-Text, Wahrscheinlichkeit in %)\n",
        "    \"\"\"\n",
        "    import pandas as pd\n",
        "\n",
        "    # Eingabe in DataFrame umwandeln\n",
        "    input_df = pd.DataFrame([input_dict])[feature_list]\n",
        "\n",
        "    # Vorhersage & Wahrscheinlichkeit\n",
        "    prediction = model.predict(input_df)[0]\n",
        "    prob = model.predict_proba(input_df)[0][prediction]\n",
        "\n",
        "    # Label interpretieren\n",
        "    label_text = \"chronisches Risiko vorhanden\" if prediction == 1 else \"kein chronisches Risiko\"\n",
        "\n",
        "    return label_text, round(prob * 100, 2)\n"
      ]
    },
    {
      "cell_type": "code",
      "execution_count": null,
      "metadata": {
        "id": "KXa2MXoCITWj"
      },
      "outputs": [],
      "source": [
        "#Feature Enginerring nachträglich am 23.04.2025 von kay hinzugefügt\n",
        "#Altersbereiche (age_min, age_max) zu extrahieren, Den passenden Protein-Referenzwert (oder andere Nährstoffe) je Person aus df_meals zu matchen, Eine Abweichung als Verhältnis (Protein / Protein_BLV) zu berechnen\n",
        "\n",
        "\n",
        "\n",
        "# 2. Erste Zeile als Spaltenüberschriften setzen\n",
        "blv_nutrient_requirements.columns = blv_nutrient_requirements.iloc[0]\n",
        "blv_nutrient_requirements = blv_nutrient_requirements.drop(0)\n",
        "\n",
        "# 3. Spalten korrekt benennen\n",
        "blv_nutrient_requirements.rename(columns={\n",
        "    blv_nutrient_requirements.columns[0]: \"sex\",\n",
        "    blv_nutrient_requirements.columns[1]: \"age_range\"\n",
        "}, inplace=True)\n",
        "\n",
        "# 4. Altersbereich extrahieren\n",
        "def parse_age_range(age_str):\n",
        "    if pd.isna(age_str):\n",
        "        return (None, None)\n",
        "    age_str = str(age_str).strip().lower().replace(\"jahre\", \"\").replace(\"years\", \"\").replace(\"y\", \"\")\n",
        "    age_str = age_str.replace(\">\", \"\").replace(\"<\", \"\").replace(\"+\", \"\").replace(\"m\", \"\").strip()\n",
        "    try:\n",
        "        if \"to\" in age_str:\n",
        "            parts = age_str.split(\"to\")\n",
        "            min_age = float(parts[0].strip())\n",
        "            max_age = float(parts[1].strip())\n",
        "            return min_age / 12 if \"m\" in age_str else min_age, max_age / 12 if \"m\" in age_str else max_age\n",
        "        else:\n",
        "            val = float(age_str.strip())\n",
        "            return val, val\n",
        "    except:\n",
        "        return (None, None)\n",
        "\n",
        "blv_nutrient_requirements[[\"age_min\", \"age_max\"]] = blv_nutrient_requirements[\"age_range\"].apply(\n",
        "    lambda x: pd.Series(parse_age_range(x))\n",
        ")\n",
        "\n",
        "# 5. Protein-Spalte korrekt finden und umbenennen\n",
        "for col in blv_nutrient_requirements.columns:\n",
        "    if isinstance(col, str) and \"Protein\" in col and \"(g/kg/d)\" in col:\n",
        "        blv_nutrient_requirements.rename(columns={col: \"Protein_BLV\"}, inplace=True)\n",
        "\n",
        "\n",
        "# 7. Matching-Funktion\n",
        "def get_blv_protein(age, gender):\n",
        "    match = blv_nutrient_requirements[\n",
        "        (blv_nutrient_requirements[\"sex\"].str.lower() == gender.lower()) &\n",
        "        (blv_nutrient_requirements[\"age_min\"].astype(float) <= age) &\n",
        "        (blv_nutrient_requirements[\"age_max\"].astype(float) >= age)\n",
        "    ]\n",
        "    if not match.empty:\n",
        "        return float(match[\"Protein_BLV\"].values[0])\n",
        "    else:\n",
        "        return None\n",
        "\n",
        "# 8. Anwenden auf df_meals\n",
        "df_meals[\"Protein_BLV_Ref\"] = df_meals.apply(\n",
        "    lambda row: get_blv_protein(row[\"Ages\"], row[\"Gender\"]), axis=1\n",
        ")\n",
        "\n",
        "# 9. Verhältnis berechnen\n",
        "df_meals[\"Protein_to_BLV_ratio\"] = df_meals[\"Protein\"] / (df_meals[\"Protein_BLV_Ref\"] + 1e-6)\n",
        "\n",
        "# 10. Vorschau\n",
        "df_meals[[\"Ages\", \"Gender\", \"Protein\", \"Protein_BLV_Ref\", \"Protein_to_BLV_ratio\"]].head()\n",
        "\n",
        "print(blv_nutrient_requirements.columns.tolist())"
      ]
    },
    {
      "cell_type": "markdown",
      "metadata": {
        "id": "h2XID_HzIUNj"
      },
      "source": [
        "---\n",
        "\n",
        "## ✅ **Orientierungswerte für eine gesunde Ernährung**  \n",
        "(*Idealbereich – für Erwachsene mit normalem Energiebedarf, z. B. 2000–2500 kcal*)\n",
        "\n",
        "| Feature | Idealwert / Zielbereich | Bedeutung |\n",
        "|--------|--------------------------|-----------|\n",
        "| **Protein_per_100kcal** | **> 4.5** | Eiweißdicht – gute Sättigung, Muskelversorgung |\n",
        "| **Fat_to_Protein_Ratio** | **0.5–1.0** | Ausgewogen: weder zu fett- noch zu eiweißlastig |\n",
        "| **Carb_to_Fat_Ratio** | **3–5** | Kohlenhydrate überwiegen, aber nicht extrem |\n",
        "| **Sugar_per_Carb** | **< 0.2** | Max. 20 % der Carbs sollten Zucker sein |\n",
        "| **Calories_exceed_target** | **0** | Ziel sollte nicht regelmäßig überschritten werden |\n",
        "| **Sugar_excess** | **0** | Max. 50 g Zucker pro Tag, besser weniger |\n",
        "| **Protein_deficit_ratio** | **> 1.0** | Mindestens 100 % des Proteinbedarfs decken |\n",
        "| **Protein_Lunch_vs_Dinner** | **≈ 1.0** | Gleichmäßige Eiweißverteilung über den Tag |\n",
        "| **Snack_Energy_Share** | **< 0.10** | Snacks max. 10 % der Gesamtkalorien |\n",
        "| **Carb_ratio_breakfast** | **~ 0.2–0.3** | Ca. 20–30 % der Carbs zum Frühstück |\n",
        "| **Protein_std** | **< 10** | Gleichmäßige Proteinzufuhr über alle Mahlzeiten |\n",
        "| **Macronutrient_Diversity** | **5** | Alle 5 Makros vorhanden: Protein, Fett, Carbs, Zucker, Ballaststoffe |\n",
        "\n",
        "---\n",
        "\n",
        "### 🧠 Zusammengefasst:  \n",
        "Ein „gesundes“ Ernährungsprofil wäre z. B.:\n",
        "\n",
        "- **Viel Protein pro Kalorie** → gute Qualität\n",
        "- **Wenig Zucker im Verhältnis zu Carbs**\n",
        "- **Snacks moderat**\n",
        "- **Verteilung der Makros über den Tag**\n",
        "- **Kein Kalorienüberschuss**\n",
        "- **Alle Makronährstoffe dabei**\n",
        "\n",
        "---\n"
      ]
    },
    {
      "cell_type": "code",
      "execution_count": null,
      "metadata": {
        "id": "kCE7sdwZFymy"
      },
      "outputs": [],
      "source": [
        "\n",
        "beispiel_input = {\n",
        "    # Anteil von Protein pro 100 kcal – zeigt Eiweißdichte der Ernährung\n",
        "    \"Protein_per_100kcal\": 5,  # z. B. 5g Eiweiß pro 100 kcal\n",
        "\n",
        "    # Verhältnis von Fett zu Eiweiß – höher = fettreiche, eiweißarme Ernährung\n",
        "    \"Fat_to_Protein_Ratio\": 0.6,  # z. B. 0.6g Fett pro 1g Eiweiß\n",
        "\n",
        "    # Verhältnis von Kohlenhydraten zu Fett – hoher Wert = viele Carbs, wenig Fett\n",
        "    \"Carb_to_Fat_Ratio\": 1.5,  # z. B. 4.5g Carbs pro 1g Fett\n",
        "\n",
        "    # Anteil Zucker an den gesamten Kohlenhydraten\n",
        "    \"Sugar_per_Carb\": 0.4,  # z. B. 40% der Kohlenhydrate sind Zucker\n",
        "\n",
        "    # 1 = Person hat Kalorienziel überschritten (Daily Calorie Target), 0 = nicht\n",
        "    \"Calories_exceed_target\": 1,  # Ja\n",
        "\n",
        "    # 1 = Person hat mehr als 50g Zucker aufgenommen, 0 = nein\n",
        "    \"Sugar_excess\": 0,  # Ja\n",
        "\n",
        "    # Verhältnis tatsächlicher Proteinzufuhr zur Empfehlung gem. BLV\n",
        "    \"Protein_deficit_ratio\": 0.7,  # z. B. nur 70% des benötigten Proteins aufgenommen\n",
        "\n",
        "    # Verhältnis Protein Mittagessen zu Abendessen – sagt was über Tagesverteilung\n",
        "    \"Protein_Lunch_vs_Dinner\": 2.0,  # doppelt so viel Eiweiß zu Mittag\n",
        "\n",
        "    # Anteil der Snacks an den gesamten Tageskalorien\n",
        "    \"Snack_Energy_Share\": 0.12,  # z. B. 12% der Kalorien stammen aus Snacks\n",
        "\n",
        "    # Anteil der Frühstücks-Carbs an allen Carbs\n",
        "    \"Carb_ratio_breakfast\": 0.2,  # 20% der Carbs werden beim Frühstück gegessen\n",
        "\n",
        "    # Streuung der Proteinwerte über die Mahlzeiten – je höher, desto ungleichmäßiger verteilt\n",
        "    \"Protein_std\": 15.0,  # z. B. starke Schwankungen bei Proteinzufuhr über den Tag\n",
        "\n",
        "    # Wie viele Makronährstoffe wurden überhaupt konsumiert (>0g)?\n",
        "    \"Macronutrient_Diversity\": 5  # alle 5 (Protein, Fett, Carbs, Zucker, Ballaststoffe)\n",
        "}\n",
        "\n",
        "\n",
        "# Aufruf mit deinem Modell (z. B. clf)\n",
        "text, proz = vorhersage_chronisches_risiko(beispiel_input, clf, features)\n",
        "\n",
        "print(f\"🧪 Vorhersage: {text} ({proz}% Wahrscheinlichkeit)\")\n"
      ]
    },
    {
      "cell_type": "code",
      "execution_count": null,
      "metadata": {
        "id": "t5q7G8jrwzDm"
      },
      "outputs": [],
      "source": [
        "#Welche Cluster sind eher „gesund“?\n",
        "df_meals_clean.explode(\"Disease_List\").groupby([\"Cluster\", \"Disease_List\"]).size().unstack().fillna(0)\n"
      ]
    },
    {
      "cell_type": "code",
      "execution_count": null,
      "metadata": {
        "id": "PgF2h7Coeqd7"
      },
      "outputs": [],
      "source": []
    },
    {
      "cell_type": "code",
      "execution_count": null,
      "metadata": {
        "id": "DuJtr7ariGAs"
      },
      "outputs": [],
      "source": [
        "# Flavia versucht etwas - Clusteranalyse von Ernährungsmustern - Zuteilung von Lebensmitteln an ein bestimmtes Cluster\n",
        "# KAQ2: Welche Ernährungsmuster sind statistisch singfikant mit bestimmten Krankheitsbildern?\n",
        "import pandas as pd\n",
        "from sklearn.preprocessing import StandardScaler\n",
        "from sklearn.cluster import KMeans\n",
        "from sklearn.metrics import silhouette_score\n",
        "import matplotlib.pyplot as plt\n",
        "\n",
        "\n",
        "# Extrahieren der numerischen Nährstoffspalten\n",
        "df_meals_numeric = df_meals.select_dtypes(include=['float64', 'int64'])\n",
        "\n",
        "# Skalierung der Daten\n",
        "scaler = StandardScaler()\n",
        "df_scaled = scaler.fit_transform(df_meals_numeric)\n",
        "\n",
        "# K-Means Clustering durchführen (mit 2 Clustern, da du 2 Ernährungsmuster wünschst)\n",
        "kmeans = KMeans(n_clusters=2, random_state=42)\n",
        "kmeans.fit(df_scaled)\n",
        "\n",
        "# Die Cluster-Zuordnungen der Lebensmittel hinzufügen\n",
        "df_meals['Cluster'] = kmeans.labels_\n",
        "\n",
        "# Silhouettenbewertung für die Cluster\n",
        "silhouette_avg = silhouette_score(df_scaled, kmeans.labels_)\n",
        "\n",
        "# Ergebnisse anzeigen\n",
        "print(f\"Silhouettenbewertung: {silhouette_avg}\")\n",
        "\n",
        "# PCA durchführen, um die Daten auf 2 Dimensionen zu reduzieren und die Cluster zu visualisieren\n",
        "pca = PCA(n_components=2)\n",
        "df_pca = pca.fit_transform(df_scaled)\n",
        "\n",
        "# Visualisierung der Cluster basierend auf den PCA-Komponenten\n",
        "plt.figure(figsize=(8,6))\n",
        "plt.scatter(df_pca[:, 0], df_pca[:, 1], c=df_meals['Cluster'], cmap='viridis', marker='o', alpha=0.6)\n",
        "plt.title('Clusteranalyse der Lebensmittel anhand der Nährstoffe (2 Cluster)', fontsize=16)\n",
        "plt.xlabel('Erste Hauptkomponente (PCA)', fontsize=12)\n",
        "plt.ylabel('Zweite Hauptkomponente (PCA)', fontsize=12)\n",
        "plt.colorbar(label='Cluster')\n",
        "plt.show()\n",
        "\n",
        "# Eine kleine Zusammenfassung der Cluster anzeigen\n",
        "print(df_meals[['food', 'Cluster']].head())"
      ]
    },
    {
      "cell_type": "markdown",
      "metadata": {
        "id": "CzU9l16wRP31"
      },
      "source": [
        "# Flavia versucht etwas\n",
        "# KAQ2: Welche Ernährungsmuster sind statistisch singfikant mit bestimmten Krankheitsbildern?\n",
        "Die Ergebnisse der Clusteranalyse, bei der die Anzahl der Cluster auf 2 gesetzt wurde, ermöglichen es, zwei verschiedene Ernährungsmuster zu identifizieren. Die genaue Zuordnung dieser Cluster zu bestimmten Ernährungsmustern hängt von den Nährstoffprofilen der Lebensmittel in jedem Cluster ab. Um die beiden Cluster zu interpretieren, schauen wir uns die Nährstoffe in jedem Cluster genauer an und analysieren, welche Arten von Lebensmitteln diese Cluster ausmachen.\n",
        "\n",
        "**1. Cluster 1: Nahrungsmittel mit hohem Fettgehalt und niedrigem Kohlenhydratanteil**\n",
        "- **Ernährungsmuster:** Ein Cluster könnte Lebensmittel wie **fettreiche** Lebensmittel enthalten, die wenig Zucker und Kohlenhydrate haben. Dies entspricht häufig Diäten wie der **ketogenen Diät** oder der **low-carb Diät**.\n",
        "\n",
        "- **Beispiel-Lebensmittel:**\n",
        "\n",
        "   - Öle (z.B. Olivenöl, Kokosöl)\n",
        "\n",
        "   - Fettreiche Milchprodukte (z.B. Sahne, Butter)\n",
        "\n",
        "   - Nüsse und Samen (z.B. Mandeln, Walnüsse)\n",
        "\n",
        "   - Fleisch und Fisch mit hohem Fettgehalt (z.B. Lachs, fettes Rindfleisch)\n",
        "\n",
        "**Charakteristika:**\n",
        "\n",
        "- Hoher Anteil an gesättigten Fetten und Omega-3-Fettsäuren.\n",
        "\n",
        "- Geringe Mengen an Kohlenhydraten und Zucker.\n",
        "\n",
        "- Diese Lebensmittel sind reich an Energie und eignen sich gut für Diäten mit niedrigem Kohlenhydratgehalt.\n",
        "\n",
        "**2. Cluster 2: Nahrungsmittel mit hohem Kohlenhydratanteil und moderatem Fettgehalt**\n",
        "- **Ernährungsmuster:** Das zweite Cluster könnte Lebensmittel mit einem höheren Anteil an **Kohlenhydraten** und einem moderaten Anteil an Fetten beinhalten. Dies ist typisch für eine **mediterrane Ernährung, vegetarische Ernährung** oder sogar die **DASH-Diät**.\n",
        "\n",
        "- **Beispiel-Lebensmittel:**\n",
        "\n",
        "   - Vollkornprodukte (z.B. Haferflocken, Quinoa, Vollkornreis)\n",
        "\n",
        "   - Hülsenfrüchte (z.B. Linsen, Kichererbsen)\n",
        "\n",
        "   - Obst und Gemüse\n",
        "\n",
        "   - Pflanzliche Öle (z.B. Olivenöl)\n",
        "\n",
        "   - Mageres Fleisch und Fisch (z.B. Hähnchenbrust, Lachs)\n",
        "\n",
        "**Charakteristika:**\n",
        "\n",
        "- Hoher Anteil an komplexen Kohlenhydraten und Ballaststoffen.\n",
        "\n",
        "- Mäßiger Fettgehalt, hauptsächlich gesunde ungesättigte Fette.\n",
        "\n",
        "- Reich an Vitaminen, Mineralstoffen und Antioxidantien.\n",
        "\n",
        "**Wie können diese Muster interpretiert werden?**\n",
        "- **Cluster 1** (z.B. ketogene Diät oder Low-Carb-Diät): Diese Ernährungsmuster betonen einen hohen Fettgehalt und eine niedrige Aufnahme von Kohlenhydraten. Ziel ist es, den Körper in einen Zustand der Ketose zu versetzen, bei dem Fett als Hauptenergiequelle genutzt wird.\n",
        "\n",
        "- **Cluster 2** (z.B. mediterrane oder pflanzenbasierte Diät): Diese Ernährungsmuster betonen eine ausgewogene Aufnahme von Kohlenhydraten, Fetten und Proteinen, wobei der Fokus auf pflanzlichen Lebensmitteln, gesunden Fetten und Vollwertkost liegt. Diese Diäten sind oft mit langfristiger Gesundheit und Prävention von chronischen Erkrankungen verbunden.\n",
        "\n",
        "**Was könnte noch hilfreich sein?**\n",
        "- **Detaillierte Analyse der Cluster:** Um genau zu bestimmen, welche spezifischen Nährstoffe für jedes Cluster charakteristisch sind, könnten wir die Mittelwerte der Nährstoffe innerhalb jedes Clusters berechnen und vergleichen. So könntest du erkennen, welcher Cluster mehr Fette, Kohlenhydrate oder Ballaststoffe enthält.\n",
        "\n",
        "- **Lebensmittelbeispiele:** Eine detaillierte Liste der Lebensmittel in jedem Cluster könnte dir helfen, zu verstehen, welche Lebensmittel zu welchem Muster gehören."
      ]
    },
    {
      "cell_type": "code",
      "execution_count": null,
      "metadata": {
        "id": "fM7wnFTxiGDh"
      },
      "outputs": [],
      "source": [
        "# Flavia versucht etwas - Erweiterte Clusteranalyse von Ernährungsmustern\n",
        "# KAQ2: Welche Ernährungsmuster sind statistisch singfikant mit bestimmten Krankheitsbildern?\n",
        "import pandas as pd\n",
        "from sklearn.preprocessing import StandardScaler\n",
        "from sklearn.cluster import KMeans\n",
        "from sklearn.decomposition import PCA\n",
        "from sklearn.metrics import silhouette_score\n",
        "import matplotlib.pyplot as plt\n",
        "\n",
        "\n",
        "# Überprüfen der Spaltennamen\n",
        "print(\"Spaltennamen im df_meals-Datensatz:\")\n",
        "print(df_meals.columns)\n",
        "\n",
        "# Extrahieren der numerischen Nährstoffspalten\n",
        "df_meals_numeric = df_meals.select_dtypes(include=['float64', 'int64'])\n",
        "\n",
        "# Skalierung der Daten\n",
        "scaler = StandardScaler()\n",
        "df_scaled = scaler.fit_transform(df_meals_numeric)\n",
        "\n",
        "# K-Means Clustering durchführen (mit 2 Clustern)\n",
        "kmeans = KMeans(n_clusters=2, random_state=42)\n",
        "kmeans.fit(df_scaled)\n",
        "\n",
        "# Die Cluster-Zuordnungen der Lebensmittel hinzufügen\n",
        "df_meals['Cluster'] = kmeans.labels_\n",
        "\n",
        "# Berechnung der Mittelwerte der Nährstoffe in jedem Cluster\n",
        "cluster_means = df_meals.groupby('Cluster')[df_meals_numeric.columns].mean()\n",
        "\n",
        "# Anzeige der Mittelwerte der Nährstoffe in jedem Cluster\n",
        "print(\"\\nDurchschnittswerte der Nährstoffe pro Cluster:\")\n",
        "print(cluster_means)\n",
        "\n",
        "# Überprüfen, ob 'Dietary Fiber' in den Mittelwerten vorhanden ist\n",
        "# Wenn die Spalte vorhanden ist, wird sie einbezogen, andernfalls überspringen wir sie\n",
        "available_nutrients = ['Fat', 'Carbohydrates', 'Dietary Fiber']\n",
        "available_nutrients = [nutrient for nutrient in available_nutrients if nutrient in cluster_means.columns]\n",
        "\n",
        "# Vergleich der Nährstoffe in jedem Cluster (z.B. Fette, Kohlenhydrate, Ballaststoffe)\n",
        "nutrient_comparison = cluster_means[available_nutrients]\n",
        "print(\"\\nVergleich der Nährstoffe pro Cluster:\")\n",
        "print(nutrient_comparison)\n",
        "\n",
        "# Lebensmittelbeispiele aus jedem Cluster\n",
        "print(\"\\nBeispiele für Lebensmittel aus jedem Cluster:\")\n",
        "for cluster in range(2):\n",
        "    cluster_foods = df_meals[df_meals['Cluster'] == cluster]['food'].head(10)  # Zeigt die ersten 10 Lebensmittel aus jedem Cluster\n",
        "    print(f\"\\nCluster {cluster}:\")\n",
        "    print(cluster_foods)\n",
        "\n",
        "# Silhouettenbewertung für die Cluster\n",
        "silhouette_avg = silhouette_score(df_scaled, kmeans.labels_)\n",
        "print(f\"\\nSilhouettenbewertung: {silhouette_avg}\")\n",
        "\n",
        "# PCA durchführen, um die Daten auf 2 Dimensionen zu reduzieren und die Cluster zu visualisieren\n",
        "pca = PCA(n_components=2)\n",
        "df_pca = pca.fit_transform(df_scaled)\n",
        "\n",
        "# Visualisierung der Cluster basierend auf den PCA-Komponenten\n",
        "plt.figure(figsize=(8,6))\n",
        "plt.scatter(df_pca[:, 0], df_pca[:, 1], c=df_meals['Cluster'], cmap='viridis', marker='o', alpha=0.6)\n",
        "plt.title('Clusteranalyse der Lebensmittel anhand der Nährstoffe (2 Cluster)', fontsize=16)\n",
        "plt.xlabel('Erste Hauptkomponente (PCA)', fontsize=12)\n",
        "plt.ylabel('Zweite Hauptkomponente (PCA)', fontsize=12)\n",
        "plt.colorbar(label='Cluster')\n",
        "plt.show()\n",
        "\n",
        "# Eine kleine Zusammenfassung der Cluster anzeigen\n",
        "print(\"\\nZusammenfassung der ersten 5 Lebensmittel und ihrer Clusterzuordnung:\")\n",
        "print(df_meals[['food', 'Cluster']].head())\n",
        "\n"
      ]
    },
    {
      "cell_type": "markdown",
      "metadata": {
        "id": "8ILdB6vt4BRu"
      },
      "source": [
        "Im Vergleich zur ersten Clusteranalyse, die lediglich die Identifikation von zwei Ernährungsmustern mittels K-Means und deren Visualisierung anhand von PCA beinhaltete, geht der erweiterte Code einen Schritt weiter. Neben der Clusterbildung und der Visualisierung wird nun eine detaillierte Analyse der Nährstoffzusammensetzung innerhalb der beiden Cluster durchgeführt. Ziel der erweiterten Analyse ist es, nicht nur die Cluster zu identifizieren, sondern auch die durchschnittlichen Nährstoffwerte in jedem Cluster zu berechnen und die Unterschiede zwischen den Ernährungsmustern genauer zu verstehen."
      ]
    },
    {
      "cell_type": "code",
      "execution_count": null,
      "metadata": {
        "id": "2Dv5JLh26UD3"
      },
      "outputs": [],
      "source": [
        "# Flavia versucht etwas - Erweiterte Clusteranalyse von Ernährungsmustern kombiniert mit Übergewicht, Bluthochdruck und Diabetes --> das macht keinen Sinn, muss es nochmals überarbeiten\n",
        "# KAQ2: Welche Ernährungsmuster sind statistisch singfikant mit bestimmten Krankheitsbildern?\n",
        "import pandas as pd\n",
        "import matplotlib.pyplot as plt\n",
        "from sklearn.preprocessing import StandardScaler\n",
        "from sklearn.cluster import KMeans\n",
        "\n",
        "# Extract relevant nutrient columns\n",
        "df_meals_numeric = df_nutrition[['Protein', 'Sugar', 'Sodium', 'Calories', 'Carbohydrates', 'Fiber', 'Fat']]\n",
        "\n",
        "# Scale the data\n",
        "scaler = StandardScaler()\n",
        "df_scaled = scaler.fit_transform(df_meals_numeric)\n",
        "\n",
        "# Perform K-Means Clustering (with 2 clusters)\n",
        "kmeans = KMeans(n_clusters=2, random_state=42)\n",
        "kmeans.fit(df_scaled)\n",
        "\n",
        "# Add cluster assignments to the dataframe\n",
        "df_nutrition['Cluster'] = kmeans.labels_\n",
        "\n",
        "# Check how diseases are distributed in clusters\n",
        "df_nutrition['Weight Gain'] = df_nutrition['Disease'].str.contains('Weight Gain')\n",
        "df_nutrition['Hypertension'] = df_nutrition['Disease'].str.contains('Hypertension')\n",
        "df_nutrition['Diabetes'] = df_nutrition['Disease'].str.contains('Diabetes')\n",
        "\n",
        "# Group by Cluster and count disease occurrences\n",
        "disease_counts = df_nutrition.groupby('Cluster')[['Weight Gain', 'Hypertension', 'Diabetes']].sum()\n",
        "\n",
        "# Data for the updated stacked bar chart\n",
        "cluster_labels_named = ['Energie- und Nährstoffreiche Ernährung', 'Mäßig Nährstoffreiche Ernährung']\n",
        "weight_gain_named = disease_counts['Weight Gain']\n",
        "hypertension_named = disease_counts['Hypertension']\n",
        "diabetes_named = disease_counts['Diabetes']\n",
        "\n",
        "# Create the updated stacked bar chart with disease legend and proper labeling for the \"Anzahl der Fälle\"\n",
        "fig, ax = plt.subplots(figsize=(10, 6))\n",
        "\n",
        "# Increase the bar width and adjust spacing\n",
        "bar_width = 0.4  # Adjust the bar width for better fit\n",
        "\n",
        "# Create the stacked bars\n",
        "ax.bar(cluster_labels_named, weight_gain_named, width=bar_width, label='Übergewicht (Weight Gain)', color='skyblue')\n",
        "ax.bar(cluster_labels_named, hypertension_named, bottom=weight_gain_named, width=bar_width, label='Bluthochdruck (Hypertension)', color='orange')\n",
        "ax.bar(cluster_labels_named, diabetes_named, bottom=weight_gain_named + hypertension_named, width=bar_width, label='Diabetes', color='green')\n",
        "\n",
        "# Add labels and title with proper descriptions\n",
        "ax.set_xlabel('Ernährungsmuster (Cluster)', fontsize=12)\n",
        "ax.set_ylabel('Anzahl der Fälle', fontsize=12)\n",
        "ax.set_title('Verteilung von Krankheiten in den Ernährungsmustern', fontsize=14)\n",
        "\n",
        "# Add the standard disease legend inside the plot\n",
        "ax.legend(title=\"Krankheiten\", loc='upper left', bbox_to_anchor=(1, 1))\n",
        "\n",
        "# Adding descriptions of the clusters below the plot with more space\n",
        "plt.figtext(0.5, -0.25,\n",
        "            'Energie- und Nährstoffreiche Ernährung: Hoher Protein-, Zucker-, Kalorien- und Fettgehalt\\n'\n",
        "            'Mäßig Nährstoffreiche Ernährung: Geringer Protein-, Zucker- und Fettgehalt',\n",
        "            ha='center', va='top', fontsize=12)\n",
        "\n",
        "# Adjust layout to give more space for descriptions and prevent overlap\n",
        "plt.tight_layout(rect=[0, 0, 0.85, 1])  # Increase the right margin for the legend\n",
        "\n",
        "# Show the plot\n",
        "plt.show()\n",
        "\n"
      ]
    },
    {
      "cell_type": "markdown",
      "metadata": {
        "id": "jhqgqOjCKEDS"
      },
      "source": [
        "**Beschreibung des Balkendiagramms:**\n",
        "\n",
        "Das Diagramm zeigt die Verteilung von Übergewicht, Bluthochdruck und Diabetes in zwei verschiedenen Ernährungsmustern (Clustern), die durch eine Clusteranalyse basierend auf Nährwertdaten gebildet wurden.\n",
        "\n",
        "**„Energie- und Nährstoffreiche Ernährung“:** In diesem Cluster leiden insgesamt **810 Personen** an mindestens einer der drei Krankheiten.\n",
        "\n",
        "**„Mäßig Nährstoffreiche Ernährung“:** In diesem Cluster sind insgesamt **1212 Personen** betroffen.\n",
        "\n",
        "Die **Balken** im Diagramm sind **gestapelt**, wobei die Höhe jedes Balkens die **Anzahl der betroffenen Personen** darstellt. Jeder Balken ist in drei Farben unterteilt:\n",
        "\n",
        "- **Blau** für Übergewicht (Weight Gain),\n",
        "\n",
        "- **Orange** für Bluthochdruck (Hypertension),\n",
        "\n",
        "- **Grün** für Diabetes.\n",
        "\n",
        "**Gesamtzahl der Personen im Datensatz: 1698 Personen.**\n",
        "\n",
        "Das Diagramm hilft zu verstehen, wie die Verteilung von Krankheiten in den beiden Ernährungsmustern aussieht und wie viele Personen insgesamt betroffen sind.\n",
        "\n",
        "---\n",
        "\n",
        "**Erklärung des Codes:**\n",
        "\n",
        "Der Code, führt eine Clusteranalyse von Ernährungsmustern durch und untersucht dann, wie diese Muster mit bestimmten Krankheitsbildern (wie Übergewicht, Bluthochdruck und Diabetes) zusammenhängen. Hier ist eine einfache Erklärung, wie der Code funktioniert:\n",
        "\n",
        "**1. Datenvorbereitung:**\n",
        "\n",
        "Nährstoffspalten extrahieren: Zuerst werden die Nährstoffdaten (z.B. Protein, Zucker, Kalorien, Natrium, Kohlenhydrate, Fett und Ballaststoffe) aus dem Datensatz extrahiert.\n",
        "\n",
        "**2. Skalierung der Daten:**\n",
        "\n",
        "Da Nährstoffe unterschiedliche Skalen haben (z.B. Kalorien sind viel größer als Zucker), wird der StandardScaler verwendet, um die Daten zu skalieren. Das bedeutet, dass jede Nährstoffspalte so umgerechnet wird, dass sie einen Mittelwert von 0 und eine Standardabweichung von 1 hat.\n",
        "\n",
        "**3. Durchführung der Clusteranalyse (K-Means):**\n",
        "\n",
        "Jetzt wird eine K-Means Clusteranalyse durchgeführt, um die Daten in zwei Gruppen (Cluster) zu unterteilen.\n",
        "\n",
        "**4. Krankheitsinformationen hinzufügen:**\n",
        "\n",
        "Der Code überprüft, ob bestimmte Krankheiten (Übergewicht, Bluthochdruck und Diabetes) in der Krankheitsliste enthalten sind und erstellt neue Spalten für jede dieser Krankheiten.\n",
        "- Diese neuen Spalten haben den Wert True, wenn die Krankheit in der Krankheitsbeschreibung für eine bestimmte Person enthalten ist, und False, wenn nicht.\n",
        "\n",
        "**5. Gruppierung der Daten nach Cluster und Zählen der Krankheitsfälle:**\n",
        "\n",
        "Die Daten werden nun nach den Clustern gruppiert, und für jedes Cluster wird gezählt, wie viele Personen an den jeweiligen Krankheiten (Übergewicht, Bluthochdruck, Diabetes) leiden.\n",
        "\n",
        "**6. Visualisierung der Ergebnisse:**\n",
        "Schließlich wird ein gestapeltes Balkendiagramm erstellt, das zeigt, wie die Krankheitsfälle in den beiden Clustern verteilt sind.\n",
        "\n",
        "**Fazit:**\n",
        "\n",
        "- Der K-Means-Algorithmus teilt die Ernährungsmuster in zwei Cluster auf. Diese Cluster werden dann mit den Krankheiten Übergewicht, Bluthochdruck und Diabetes in Verbindung gesetzt.\n",
        "\n",
        "- Du kannst sehen, ob und wie häufig diese Krankheiten in den beiden Clustern auftreten, was dir hilft, festzustellen, ob bestimmte Ernährungsmuster mit den Krankheiten in Verbindung stehen."
      ]
    },
    {
      "cell_type": "code",
      "execution_count": null,
      "metadata": {
        "id": "0191bh-ia0sT"
      },
      "outputs": [],
      "source": [
        "# Flavia versucht etwas - Erweiterte Clusteranalyse von Ernährungsmustern kombiniert mit Übergewicht, Bluthochdruck und Diabetes --> das macht keinen Sinn, muss es nochmals überarbeiten\n",
        "# KAQ2: Welche Ernährungsmuster sind statistisch singfikant mit bestimmten Krankheitsbildern?\n",
        "\n",
        "import matplotlib.pyplot as plt\n",
        "\n",
        "# Definieren der Krankheiten, die wir im Diagramm berücksichtigen wollen\n",
        "disease_keywords = ['Diabetes', 'Hypertension', 'Weight Gain']\n",
        "\n",
        "# Erstellen einer neuen Spalte, die für jede Zeile die relevanten Krankheiten enthält\n",
        "def disease_category(disease):\n",
        "    categories = {'Diabetes': 0, 'Hypertension': 0, 'Weight Gain': 0}\n",
        "    for keyword in disease_keywords:\n",
        "        if keyword in disease:\n",
        "            categories[keyword] = 1\n",
        "    # Rückgabe der Kombination der Krankheiten (Diabetes, Bluthochdruck, Übergewicht)\n",
        "    return tuple(categories.values())\n",
        "\n",
        "# Wenden der Funktion auf die Disease-Spalte im df_nutrition an\n",
        "df_nutrition['Disease Category'] = df_nutrition['Disease'].apply(disease_category)\n",
        "\n",
        "# Zählen der Häufigkeiten jeder Kategorie\n",
        "category_counts = df_nutrition['Disease Category'].value_counts()\n",
        "\n",
        "# Umbenennen der Kategorien in verständliche Labels\n",
        "category_labels = {\n",
        "    (1, 0, 0): \"Diabetes\",\n",
        "    (0, 1, 0): \"Bluthochdruck\",\n",
        "    (0, 0, 1): \"Übergewicht\",\n",
        "    (1, 1, 0): \"Diabetes & Bluthochdruck\",\n",
        "    (1, 0, 1): \"Diabetes & Übergewicht\",\n",
        "    (0, 1, 1): \"Bluthochdruck & Übergewicht\",\n",
        "    (1, 1, 1): \"Diabetes, Bluthochdruck & Übergewicht\",\n",
        "}\n",
        "\n",
        "# Wir müssen jetzt alle Personen ohne diese Krankheiten in die Kategorie \"Keine dieser Krankheiten\" zählen\n",
        "# Füge Personen hinzu, die keine dieser drei Krankheiten haben\n",
        "category_counts[(0, 0, 0)] = len(df_nutrition[df_nutrition['Disease Category'] == (0, 0, 0)])\n",
        "\n",
        "# Umbenennen der Kategorien in verständliche Labels\n",
        "category_counts.index = category_counts.index.map(category_labels)\n",
        "category_labels[(0, 0, 0)] = \"Keine dieser Krankheiten\"\n",
        "\n",
        "# Berechnung der Prozentwerte\n",
        "total = category_counts.sum()\n",
        "percentages = (category_counts / total) * 100\n",
        "\n",
        "# Ausgabe der Zählung und der Prozentsätze, um sicherzustellen, dass sie korrekt sind\n",
        "print(\"Häufigkeiten der Kategorien:\")\n",
        "print(category_counts)\n",
        "print(\"\\nProzentuale Verteilung:\")\n",
        "print(percentages)\n",
        "\n",
        "# Erstellen des Kreisdiagramms ohne innere Beschriftungen und ohne Labels\n",
        "plt.figure(figsize=(8, 8))\n",
        "\n",
        "# Plotten ohne innere Beschriftungen und ohne Labels\n",
        "ax = category_counts.plot(kind='pie', autopct=None, startangle=90, colors=plt.cm.Paired.colors, labels=None)\n",
        "\n",
        "# Titel und Y-Achsen-Beschriftung entfernen\n",
        "plt.title('Verteilung der Krankheiten (Diabetes, Bluthochdruck, Übergewicht)')\n",
        "plt.ylabel('')  # Entfernen der Y-Achsen-Beschriftung\n",
        "\n",
        "# Erstellen der Legende mit absoluten Zahlen und Prozentwerten\n",
        "legend_labels = [\n",
        "    f\"{label}: {count} ({percent:.1f}%)\"\n",
        "    for label, count, percent in zip(category_labels.values(), category_counts, percentages)\n",
        "]\n",
        "\n",
        "# Manuelles Hinzufügen der Legende\n",
        "plt.legend(title='Krankheiten', labels=legend_labels, loc='center left', bbox_to_anchor=(1, 0.5))\n",
        "\n",
        "# Diagramm anzeigen\n",
        "plt.show()\n",
        "\n",
        "\n"
      ]
    },
    {
      "cell_type": "code",
      "execution_count": null,
      "metadata": {
        "id": "5oBxCbG4eqd7"
      },
      "outputs": [],
      "source": [
        "# =====================================\n",
        "# Schritt 5: Analyse KAQ\n",
        "# =====================================\n",
        "\n",
        "# 🧠 Frage: xxxxxx\n",
        "# 🎯 Ziel: xxxxxx"
      ]
    },
    {
      "cell_type": "code",
      "execution_count": null,
      "metadata": {
        "id": "Akn3L6Laeqd7"
      },
      "outputs": [],
      "source": [
        "# =====================================\n",
        "# Schritt 5: Analyse KAQ\n",
        "# =====================================\n",
        "\n",
        "# 🧠 Frage: xxxxxx\n",
        "# 🎯 Ziel: xxxxxx"
      ]
    },
    {
      "cell_type": "code",
      "execution_count": null,
      "metadata": {
        "id": "0l0dMFEFeqd7"
      },
      "outputs": [],
      "source": [
        "# =====================================\n",
        "# Schritt 6: Analyse KAQ\n",
        "# =====================================\n",
        "\n",
        "# 🧠 Frage: xxxxxx\n",
        "# 🎯 Ziel: xxxxxx"
      ]
    },
    {
      "cell_type": "code",
      "execution_count": null,
      "metadata": {
        "id": "Mkhxr15hDWyz"
      },
      "outputs": [],
      "source": [
        "# =====================================\n",
        "# Schritt 7: Analyse KAQ\n",
        "# =====================================\n",
        "\n",
        "# 🧠 Frage: xxxxxx\n",
        "# 🎯 Ziel: xxxxxx"
      ]
    },
    {
      "cell_type": "markdown",
      "metadata": {
        "id": "6mz6WHfEDUps"
      },
      "source": []
    },
    {
      "cell_type": "code",
      "execution_count": null,
      "metadata": {
        "id": "IgRyj7JZiF4j"
      },
      "outputs": [],
      "source": []
    },
    {
      "cell_type": "code",
      "execution_count": null,
      "metadata": {
        "id": "Xng7R7CniGGZ"
      },
      "outputs": [],
      "source": [
        "\n"
      ]
    },
    {
      "cell_type": "code",
      "execution_count": null,
      "metadata": {
        "id": "4LXPWkvhiGIr"
      },
      "outputs": [],
      "source": []
    },
    {
      "cell_type": "code",
      "execution_count": null,
      "metadata": {
        "id": "rYQq8GZIiGL9"
      },
      "outputs": [],
      "source": []
    },
    {
      "cell_type": "code",
      "execution_count": null,
      "metadata": {
        "id": "q59Lvl-5iGNz"
      },
      "outputs": [],
      "source": []
    },
    {
      "cell_type": "markdown",
      "metadata": {
        "id": "8k6o9OsJiHeK"
      },
      "source": []
    },
    {
      "cell_type": "code",
      "execution_count": null,
      "metadata": {
        "id": "jujGt0yliIDA"
      },
      "outputs": [],
      "source": [
        " # Ab hier macht murat was"
      ]
    },
    {
      "cell_type": "code",
      "execution_count": null,
      "metadata": {
        "id": "cucGo43oiGQB"
      },
      "outputs": [],
      "source": [
        "import pandas as pd\n",
        "import plotly.express as px\n",
        "\n",
        "# 1. Histogramm – Kalorienverteilung\n",
        "px.histogram(df_meals, x=\"Calories\", nbins=30, title=\"Verteilung der Tageskalorien\").show()\n",
        "\n",
        "# 2. Boxplot – Zuckeraufnahme nach Geschlecht\n",
        "px.box(df_meals, x=\"Gender\", y=\"Sugar\", title=\"Zuckeraufnahme nach Geschlecht\").show()\n",
        "\n",
        "# 3. Scatterplot – Protein vs. Zucker nach Krankheit\n",
        "px.scatter(\n",
        "    df_meals,\n",
        "    x=\"Protein\",\n",
        "    y=\"Sugar\",\n",
        "    color=\"Disease\",\n",
        "    title=\"Protein vs. Zuckeraufnahme nach Krankheit\",\n",
        "    hover_data=[\"Ages\", \"Gender\"]\n",
        ").show()\n",
        "\n",
        "# 4. Violinplot – Fettzufuhr je Aktivitätslevel\n",
        "px.violin(\n",
        "    df_meals,\n",
        "    x=\"Activity Level\",\n",
        "    y=\"Fat\",\n",
        "    box=True,\n",
        "    points=\"all\",\n",
        "    title=\"Fettzufuhr je Aktivitätslevel\"\n",
        ").show()"
      ]
    },
    {
      "cell_type": "markdown",
      "metadata": {
        "id": "ODiYRHi99_M-"
      },
      "source": [
        "Super, danke fürs Teilen des Screenshots! Ich sehe sofort, was du meinst. Hier kommt die Analyse deiner **Scatterplot-Visualisierung (Protein vs. Zucker) mit Trendlinie**:\n",
        "\n",
        "---\n",
        "\n",
        "### 📊 **Was zeigt dieser Plot?**\n",
        "\n",
        "- **X-Achse:** Proteinaufnahme pro Tag (in g)\n",
        "- **Y-Achse:** Zuckeraufnahme pro Tag (in g)\n",
        "- **Jeder Punkt:** Eine Person aus dem Datensatz\n",
        "- **Farben:** Krankheit(en) der jeweiligen Person\n",
        "- **Gerade Linie:** Eine **Trendlinie (Regression)** → zeigt den **durchschnittlichen Zusammenhang**\n",
        "\n",
        "---\n",
        "\n",
        "### 📈 **Interpretation der steigenden Trendlinie**\n",
        "\n",
        "- Die **positive Steigung** der Linie bedeutet:  \n",
        "  **Mehr Protein → tendenziell auch mehr Zuckeraufnahme.**\n",
        "\n",
        "- Das kann ein Hinweis sein auf:\n",
        "  - Allgemein **höheren Energiebedarf** (z. B. sportliche oder junge Personen)\n",
        "  - Ernährungsmuster, bei denen **Makros insgesamt steigen** (z. B. durch große Portionen oder energie-dichte Lebensmittel)\n",
        "\n",
        "---\n",
        "\n",
        "### 🩺 **Bezug zu Krankheiten**\n",
        "\n",
        "- Der Datensatz zeigt:\n",
        "  - Auch Personen mit mehreren Krankheiten (z. B. *Diabetes*, *Heart Disease*) liegen in diesem Bereich mit **hoher Protein- und Zuckeraufnahme**.\n",
        "  - Diese Ballung könnte für **KAQ 1 und KAQ 3** interessant sein:\n",
        "    > Gibt es Cluster mit hohem Zucker & Protein, die **häufiger krank** sind?\n",
        "\n",
        "---\n",
        "\n",
        "### 🧠 **Ideen für weiterführende Schritte:**\n",
        "\n",
        "1. **Clustering:** Nutze K-Means oder DBSCAN, um Gruppen mit ähnlichem Makroprofil zu finden.\n",
        "2. **Split nach Krankheit:** Mache den gleichen Scatterplot **nur für Diabetiker** vs. **Nicht-Diabetiker**.\n",
        "3. **Korrelation berechnen:** z. B. Pearson- oder Spearman-Korrelation zwischen Protein & Zucker.\n",
        "4. **Deckungsgrade:** Wie gut erfüllen diese Gruppen die BLV-Empfehlungen?\n",
        "\n",
        "---\n",
        "\n",
        "Wenn du willst, kann ich dir den Code liefern, um das alles direkt im Notebook umzusetzen. Oder ich rechne dir als Nächstes die Korrelation aus – sag einfach, was dir lieber ist."
      ]
    },
    {
      "cell_type": "markdown",
      "metadata": {
        "id": "3pizWqCZXxgg"
      },
      "source": []
    },
    {
      "cell_type": "code",
      "execution_count": null,
      "metadata": {
        "id": "SBgQwWDbXx3s"
      },
      "outputs": [],
      "source": [
        "# 📦 Importiere notwendige Module\n",
        "import os\n",
        "from nbformat import read\n",
        "from nbformat.validator import validate\n",
        "\n",
        "# 📍 Definiere den vollständigen Pfad zu deinem Notebook\n",
        "notebook_path = r\"onlyAnalysis_Ernährung.ipynb\"\n",
        "\n",
        "# 🧪 Überprüfe, ob die Datei existiert\n",
        "if not os.path.exists(notebook_path):\n",
        "    print(f\"⚠️ Datei nicht gefunden: {notebook_path}\")\n",
        "    print(\"Bitte überprüfen Sie den Pfad und stellen Sie sicher, dass die Datei existiert.\")\n",
        "    # Exit the script gracefully\n",
        "    import sys\n",
        "    sys.exit(1)\n",
        "    # 🗂️ Zeige den absoluten Pfad der Datei\n",
        "    absolute_path = os.path.abspath(notebook_path)\n",
        "    print(f\"📂 Absoluter Pfad der Datei: {absolute_path}\")\n",
        "# 📖 Öffne das Notebook und lade den Inhalt\n",
        "with open(notebook_path, \"r\", encoding=\"utf-8\") as f:\n",
        "    nb = read(f, as_version=4)\n",
        "\n",
        "# ✅ Validierung durchführen\n",
        "validate(nb)\n",
        "print(\"✅ Das Notebook ist gültig und im richtigen Format!\")"
      ]
    }
  ],
  "metadata": {
    "colab": {
      "provenance": [],
      "include_colab_link": true
    },
    "kernelspec": {
      "display_name": "Python 3",
      "language": "python",
      "name": "python3"
    },
    "language_info": {
      "codemirror_mode": {
        "name": "ipython",
        "version": 3
      },
      "file_extension": ".py",
      "mimetype": "text/x-python",
      "name": "python",
      "nbconvert_exporter": "python",
      "pygments_lexer": "ipython3",
      "version": "3.9.6"
    }
  },
  "nbformat": 4,
  "nbformat_minor": 0
}