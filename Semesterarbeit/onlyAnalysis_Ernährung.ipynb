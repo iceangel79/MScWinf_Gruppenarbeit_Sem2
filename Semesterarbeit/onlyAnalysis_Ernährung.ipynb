{
  "cells": [
    {
      "cell_type": "markdown",
      "metadata": {
        "id": "6kxfHlUmeqd2"
      },
      "source": [
        "<div align=\"center\">\n",
        "\n",
        "# **Personalisierte Ernährung zur Prävention ernährungsbedingter Krankheiten**\n",
        "\n",
        "<br>\n",
        "\n",
        "**Gruppe 5**  \n",
        "Flavia De Solda, Kay Sheppard, Murat Ayhekim, Adrian Martic, Adrian Wegmann  \n",
        "<br>\n",
        "FFHS / BFH / HSLU und OST  \n",
        "Master of Science in Wirtschaftsinformatik  \n",
        "<br>\n",
        "**März 2025**\n",
        "\n",
        "</div>\n",
        "\n",
        "---\n",
        "\n",
        "##  Erklärung\n",
        "\n",
        "Wir erklären hiermit, dass wir die vorliegende Arbeit für das Modul **BINA** bzw. die von uns ausgewiesene Leistung **selbständig**, ohne unzulässige Hilfe Dritter und ausschließlich unter Verwendung der angegebenen Quellen verfasst bzw. erbracht haben.\n",
        "\n",
        "Zur sprachlichen Überprüfung, zur besseren Verständlichkeit der Zusammenhänge sowie zur Sicherstellung eines konsistenten roten Fadens wurde unterstützend ein KI-Tool eingesetzt.\n",
        "\n",
        "<div align=\"right\">Zürich, 13.06.2025</div>  \n",
        "<div align=\"right\">Die unterschriebene Selbständigkeitserklärung befindet sich im Anhang.</div>\n",
        "\n",
        "---\n",
        "\n",
        "##  1. Einleitung\n",
        "\n",
        "Im Kontext steigender chronischer Erkrankungen wie Typ-2-Diabetes, Bluthochdruck und Adipositas rückt die Frage nach präventiver, individueller Ernährung zunehmend in den Fokus.  \n",
        "Während Ernährungsempfehlungen in der Vergangenheit vor allem pauschalisiert wurden, erlauben moderne Datenanalysen eine differenzierte Betrachtung individueller Ernährungsbedürfnisse.\n",
        "\n",
        "Ziel dieser Fallstudie ist es, mithilfe datengetriebener Methoden Erkenntnisse über individuelle Ernährungsmuster und deren Zusammenhang mit Gesundheitszuständen zu gewinnen.\n",
        "\n",
        "Wir orientieren uns dabei am **CPA-Framework _\"From Data to Decisions\"_** und fokussieren uns insbesondere auf folgende Schritte:\n",
        "\n",
        "1. Zieldefinition und Informationsbedarf  \n",
        "2. Datenerhebung und -integration  \n",
        "3. Datenanalyse  \n",
        "4. Kommunikation der Erkenntnisse für Entscheider\n",
        "\n",
        "\n",
        "## 1.1 Theoretische Grundlage\n",
        "-  Was ist Makronährstoffe: Makronährstoffe sind die grossen Nährstoffe, die unser Körper in grösseren Mengen braucht, im Gegensatz zu Mikronährstoffen wie Vitaminen oder Mineralstoffen.\n",
        "Wichtigkeit für Körper:\n",
        "- Ohne Proteine → keine Muskeln, kein Immunsystem.\n",
        "- Ohne Kohlenhydrate → keine schnelle Energie für Gehirn & Muskeln.\n",
        "- Ohne Fette → keine fettlöslichen Vitamine, keine Hormone.\n",
        "\n",
        "---\n",
        "\n",
        "##  2. Analyse\n",
        "\n",
        "###  2.1 Hauptziel\n",
        "\n",
        "#### **Strategisches Ziel**\n",
        "\n",
        "Das strategische Ziel dieser Case Study ist es, herauszufinden, wie datenbasierte, personalisierte Ernährungsempfehlungen zur Reduktion ernährungsbedingter Krankheitsrisiken generiert werden können.  \n",
        "Diese Erkenntnisse sollen unter anderem als Basis für ein potenzielles digitales Geschäftsmodell im Ernährungsbereich dienen.\n",
        "\n",
        "#### **Zielgruppen**\n",
        "\n",
        "- Gesundheitsbewusste Konsument:innen mit spezifischen Bedürfnissen  \n",
        "- Start-ups / Unternehmen im Bereich Digital Health & Nutrition  \n",
        "- Ernährungsberater:innen, die datenunterstützt Empfehlungen geben möchten\n",
        "\n",
        "#### **Vorgehen (CPA)**\n",
        "\n",
        "> Es wird dem CPA-Vorgehen _„From Data to Decisions“_ gefolgt:\n",
        "\n",
        "- **Schritt 1**: Ziele und Informationsbedarf definieren  \n",
        "- **Schritt 2**: Daten erheben  \n",
        "- **Schritt 3**: Daten analysieren  \n",
        "- **Schritt 4**: Informationen präsentieren  \n",
        "- **Schritt 5**: Datenbasierte Entscheidungen treffen\n",
        "\n",
        "\n",
        "###  2.2 Schritt 1: Ziele & Informationsbedarf\n",
        "\n",
        "| **KAQ Nr.** | **Key Analytics Question** | **Daten** | **Vorgehen / Schritte** |\n",
        "|------------:|----------------------------|-----------|--------------------------|\n",
        "| 1 | Welche Ernährungsmuster lassen sich aus individuellen Makronährstoffprofilen ableiten – und welche Krankheitsrisiken sind damit verbunden? | `detailed_meals_macros_CLEANED.csv` | Clustering, Krankheitsverteilung, Interpretation |\n",
        "| 2 | In welchen Ernährungsmustern liegt eine potenziell unausgewogene Nährstoffzufuhr vor (z. B. zu wenig Protein, zu viel Zucker)? | `detailed_meals_macros_CLEANED.csv` | Vergleich mit Referenzwerten (z. B. BLV) |\n",
        "| 3 | Wie unterscheiden sich Personen mit und ohne Krankheit in Bezug auf ihre Ernährung? | `detailed_meals_macros_CLEANED.csv` | Gruppierung, Mittelwertvergleich, Visualisierung |\n",
        "| 4 | Welche Nährstoffe sollten bei bestimmten Krankheiten laut offiziellen Empfehlungen (z. B. BLV) besonders berücksichtigt werden? | `Nutrient_requirements_CH.xlsx`, `Food_and_Nutrition__.csv` | Mapping: Krankheit → Nährstoffe → Lebensmittel |\n",
        "\n",
        "---\n",
        "\n",
        "###  2.3 Schritt 2: Daten erheben & kombinieren\n",
        "\n",
        "~~- Vorverarbeitung und Normalisierung der CSV-Daten~~  \n",
        "~~- Verknüpfung von Mahlzeitenprofilen mit Krankheitsangaben~~  \n",
        "~~- Matching von Mahlzeiten mit Einzellebensmitteln (Food & Nutrition)~~\n",
        "\n",
        "**Datenvorbereitung**\n",
        "- **Datenimport:** Laden der notwendigen Datensätze\n",
        "- **Datenbereinigung:** Entfernung von fehlenden und unvollständigen Daten, normalisiere die Daten.\n",
        "- **Feature Engineering:** Erstellung neuer Features, die für die Analyse relevant sind (z.B. Mikronährstoffe, Kalorien).\n",
        "\n",
        "---\n",
        "\n",
        "###  2.4 Schritt 3: Analyse\n",
        "\n",
        "~~- Clusteranalyse typischer Ernährungsmuster (z. B. _High Sugar / Low Fiber_)~~  \n",
        "~~- Korrelation dieser Cluster mit Krankheitsprävalenzen~~  \n",
        "~~- Vergleich mit WHO-Zielwerten (Zielerreichung, Delta-Analyse)~~  \n",
        "~~- Optional: Machine Learning zur Risikoprofil-Vorhersage~~\n",
        "\n",
        "**1. Explorative Datenanalyse (EDA)**\n",
        "- **Deskriptive Statistiken:** Berechnung von Mittelwerten, Medianen und Standardabweichungen für die Mikronährstoffprofile.\n",
        "- **Visualisierungen:** Erstellung von Diagrammen (Boxplots, Histogramme) zur Visualisierung der Verteilung der Nährstoffe.\n",
        "\n",
        "**2. Ernährungsmuster identifizieren**\n",
        "- **Clusteranalyse:** Verwendung von Algorithmen wie K-Means oder Hierarchical Clustering, um Ernährungsmuster zu identifizieren.\n",
        "- **Interpretation der Cluster:** Analysiere die Cluster, um typische Ernährungsmuster zu beschreiben.\n",
        "\n",
        "**3. Zusammenhang zwischen Ernährung und Krankheitsrisiken**\n",
        "- **Korrelationsanalyse:** Untersuchung der Korrelation zwischen Ernährungsmustern und Krankheitsrisiken.\n",
        "- **Regressionsmodelle:** Erstelle Regressionsmodelle, um den Einfluss der Ernährung auf Krankheitsrisiken zu quantifizieren.\n",
        "\n",
        "**4. Identifikation unausgewogener Ernährungsmuster**\n",
        "- **Vergleich mit Empfehlungen:** Vergleiche der identifizierten Ernährungsmuster mit offiziellen Ernährungsempfehlungen.\n",
        "- **Identifikation von Defizien/Überschüssen:** Bestimmung, welche Muster potenziell unausgewogen sind (z.B. zu wenig Protein, zu viel Zucker).\n",
        "\n",
        "**5. Vergleich von Personen mit und ohne Krankheit**\n",
        "- **Gruppenvergleich:** Vergleich der Ernähungsprofile von Personen mit und ohne Krankheiten.\n",
        "- **Statistische Tests:** Verwendung von Tests wie dem t-Test, um signifikante Unterschiede zu identifizieren.\n",
        "\n",
        "**6. Empfehlungen basierend auf Clusterbildung**\n",
        "- **Personalisierte Empfehlungen:** Erstellung von personalisierten Ernährungsempfehlungen basierend auf den identifizierten Clustern.\n",
        "- **Berücksichtigung von Krankheiten:** Integration von offiziellen Empfehlungen für bestimmte Krankheiten in die personalisierten Empfehlungen.\n",
        "\n",
        "\n",
        "---\n",
        "\n",
        "###  2.5 Schritt 4: Kommunikation für Entscheider\n",
        "\n",
        "- Visualisierung der Resultate (Dashboards, Diagramme)  \n",
        "- Empfehlungen je Zielgruppe  \n",
        "- Ableitung konkreter Maßnahmen oder Produktideen\n",
        "\n",
        "---\n",
        "\n",
        "##  3. Datenmanagement & Datensammlung\n",
        "\n",
        "###  3.1 Datenquellen\n",
        "\n",
        "#### **Verwendete Datensätze**\n",
        "\n",
        "1. **Detailed Meals Macros CLEANED** (Kaggle)  \n",
        "   - Personenbezogene Merkmale: Alter, Geschlecht, Grösse, Gewicht, Aktivitätslevel  \n",
        "   - Nährwertprofile der Mahlzeiten (Frühstück, Mittagessen, Abendessen, Snacks)  \n",
        "   - Krankheitsstatus (z. B. Hypertension, Diabetes, Weight Gain)\n",
        "\n",
        "2. **Food and Nutrition Dataset** (Kaggle)  \n",
        "   - Nährwerte einzelner Lebensmittel (Makros & Mikros)  \n",
        "   - Ermöglicht detaillierte Aufschlüsselung komplexer Mahlzeiten\n",
        "\n",
        "3. **BLV Schweizer Referenzwerte**  \n",
        "   - Offizielle Empfehlungen zur idealen Nährstoffzufuhr\n"
      ]
    },
    {
      "cell_type": "markdown",
      "metadata": {
        "id": "OdcMvZN7_0wz"
      },
      "source": [
        "**Schritt 1: Importieren der benötigten Programme und Bibliotheken**"
      ]
    },
    {
      "cell_type": "code",
      "execution_count": null,
      "metadata": {
        "id": "naq3Kb8d-yRg"
      },
      "outputs": [],
      "source": [
        "#pip install scikit-learn\n",
        "#pip install kaggle"
      ]
    },
    {
      "cell_type": "code",
      "execution_count": null,
      "metadata": {
        "id": "h0lCli_GXZmD"
      },
      "outputs": [],
      "source": [
        "# Installation der benötigten Bibliotheken\n",
        "import pandas as pd\n",
        "import numpy as np\n",
        "import matplotlib.pyplot as plt\n",
        "import seaborn as sns\n",
        "from sklearn.preprocessing import StandardScaler\n",
        "from sklearn.cluster import KMeans\n",
        "from sklearn.model_selection import train_test_split\n",
        "from sklearn.metrics import classification_report\n",
        "from sklearn.tree import DecisionTreeClassifier\n",
        "from IPython.core.interactiveshell import InteractiveShell\n",
        "InteractiveShell.ast_node_interactivity = \"all\"\n",
        "# Installation der benötigten Bibliotheken\n",
        "import pandas as pd\n",
        "import numpy as np\n",
        "import matplotlib.pyplot as plt\n",
        "import seaborn as sns\n",
        "from sklearn.preprocessing import StandardScaler\n",
        "from sklearn.cluster import KMeans\n",
        "from sklearn.model_selection import train_test_split\n",
        "from sklearn.metrics import classification_report\n",
        "from sklearn.tree import DecisionTreeClassifier\n",
        "from sklearn.preprocessing import StandardScaler\n",
        "from sklearn.decomposition import PCA\n",
        "from sklearn.cluster import KMeans\n",
        "import pandas as pd\n",
        "import numpy as np\n",
        "from sklearn.preprocessing import StandardScaler\n",
        "from sklearn.decomposition import PCA\n",
        "from sklearn.cluster import KMeans\n",
        "from sklearn.model_selection import train_test_split\n",
        "from sklearn.ensemble import RandomForestClassifier\n",
        "from sklearn.metrics import classification_report\n",
        "import matplotlib.pyplot as plt\n",
        "import seaborn as sns\n"
      ]
    },
    {
      "cell_type": "markdown",
      "metadata": {
        "id": "gyaCqm0vYGcp"
      },
      "source": [
        "**Schritt 2: Daten erheben & kombinieren**\n",
        "\n",
        "**Datenvorbereitung**\n",
        "- **Datenimport:** Laden der notwendigen Datensätze\n",
        "- **Datenbereinigung:** Entfernung von fehlenden und unvollständigen Daten, normalisiere die Daten.\n",
        "- **Feature Engineering:** Erstellung neuer Features, die für die Analyse relevant sind (z.B. Mikronährstoffe, Kalorien)."
      ]
    },
    {
      "cell_type": "code",
      "execution_count": null,
      "metadata": {
        "colab": {
          "base_uri": "https://localhost:8080/",
          "height": 1000
        },
        "id": "kDE-8Rs7XZuc",
        "outputId": "d0ff891f-8595-4a2b-938f-8a8f1851023e"
      },
      "outputs": [],
      "source": [
        "# === Päckli 1a: Meals-Macros Cleaned ===\n",
        "print(\"\\n📦 Lade df_meals ...\")\n",
        "df_meals = pd.read_csv(\n",
        "    \"https://raw.githubusercontent.com/M2xAy/ffhs-datensaetze/refs/heads/main/Datasets/archive/detailed_meals_macros_CLEANED.csv\"\n",
        ")\n",
        "df_meals.info()\n",
        "display(df_meals.head(3))\n",
        "\n",
        "# === Päckli 1b: FOOD Nutrition ===\n",
        "print(\"\\n📦 Lade df_nutrition ...\")\n",
        "df_nutrition = pd.read_csv(\n",
        "    \"https://raw.githubusercontent.com/M2xAy/ffhs-datensaetze/refs/heads/main/Datasets/archive/Food_and_Nutrition__.csv\"\n",
        ")\n",
        "df_nutrition.info()\n",
        "display(df_nutrition.head(3))\n",
        "\n",
        "# === Päckli 2: FOOD DATA GROUPS ===\n",
        "print(\"\\n📦 Lade food_groups_combined ...\")\n",
        "food_data_urls = [\n",
        "    \"https://raw.githubusercontent.com/M2xAy/ffhs-datensaetze/refs/heads/main/Datasets/Kaggle/FINAL%20FOOD%20DATASET/FOOD-DATA-GROUP1.csv\",\n",
        "    \"https://raw.githubusercontent.com/M2xAy/ffhs-datensaetze/refs/heads/main/Datasets/Kaggle/FINAL%20FOOD%20DATASET/FOOD-DATA-GROUP2.csv\",\n",
        "    \"https://raw.githubusercontent.com/M2xAy/ffhs-datensaetze/refs/heads/main/Datasets/Kaggle/FINAL%20FOOD%20DATASET/FOOD-DATA-GROUP3.csv\",\n",
        "    \"https://raw.githubusercontent.com/M2xAy/ffhs-datensaetze/refs/heads/main/Datasets/Kaggle/FINAL%20FOOD%20DATASET/FOOD-DATA-GROUP4.csv\",\n",
        "    \"https://raw.githubusercontent.com/M2xAy/ffhs-datensaetze/refs/heads/main/Datasets/Kaggle/FINAL%20FOOD%20DATASET/FOOD-DATA-GROUP5.csv\",\n",
        "]\n",
        "food_data_dfs = [pd.read_csv(url) for url in food_data_urls]\n",
        "food_groups_combined = pd.concat(food_data_dfs, ignore_index=True)\n",
        "\n",
        "food_groups_combined.info()\n",
        "display(food_groups_combined.head(3))\n",
        "\n",
        "# === Päckli 3: BLV-Referenzwerte ===\n",
        "print(\"\\n📦 Lade blv_nutrient_requirements ...\")\n",
        "blv_nutrient_requirements = pd.read_csv(\n",
        "    \"https://raw.githubusercontent.com/M2xAy/ffhs-datensaetze/refs/heads/main/Datasets/BLV/Nutrient_requirements_CH-2022.csv\"\n",
        ")\n",
        "blv_nutrient_requirements.info()\n",
        "display(blv_nutrient_requirements.head(3))\n",
        "\n",
        "\n",
        "print(\"\\n📊 Übersicht aller geladenen DataFrames:\")\n",
        "\n",
        "dataframes = {\n",
        "    \"df_meals\": df_meals,\n",
        "    \"df_nutrition\": df_nutrition,\n",
        "    \"food_groups_combined\": food_groups_combined,\n",
        "    \"blv_nutrient_requirements\": blv_nutrient_requirements\n",
        "}\n",
        "\n",
        "for name, df in dataframes.items():\n",
        "    print(f\"- {name}: {df.shape[0]} Zeilen × {df.shape[1]} Spalten\")\n",
        "\n"
      ]
    },
    {
      "cell_type": "code",
      "execution_count": null,
      "metadata": {
        "colab": {
          "base_uri": "https://localhost:8080/"
        },
        "id": "PplBOUPybEve",
        "outputId": "abc22f50-9c7f-4687-a547-ad330231e4bd"
      },
      "outputs": [],
      "source": [
        "# === 1. Fehlende Werte prüfen ===\n",
        "missing_counts = df_meals.isnull().sum()\n",
        "missing_total = df_meals.isnull().any(axis=1).sum()\n",
        "\n",
        "print(f\"\\n# 🔍 Anzahl ungültiger Zeilen mit fehlenden Werten: {missing_total}\")\n",
        "print(\"\\n# 🔍 Fehlende Werte pro Spalte:\")\n",
        "print(missing_counts[missing_counts > 0])\n",
        "\n",
        "# === 2. Entferne Zeilen mit fehlenden Werten in relevanten Spalten ===\n",
        "critical_columns = [\"Breakfast Carbohydrates\"]\n",
        "df_meals.dropna(subset=critical_columns, inplace=True)\n",
        "\n",
        "# Optional: Falls du *alle* NaN-Zeilen entfernen willst:\n",
        "# df_meals.dropna(inplace=True)\n",
        "\n",
        "# === 3. Duplikate entfernen ===\n",
        "df_meals.drop_duplicates(subset=[col for col in df_meals.columns if col != \"Disease_List\"], inplace=True)\n",
        "\n",
        "# === 4. Krankheiten vorbereiten ===\n",
        "df_meals[\"Disease_List\"] = df_meals[\"Disease\"].fillna(\"\").apply(lambda x: [d.strip() for d in x.split(\",\") if d.strip()])\n",
        "df_meals[\"Disease_Count\"] = df_meals[\"Disease_List\"].apply(len)\n",
        "df_meals[\"Disease_Tuple\"] = df_meals[\"Disease_List\"].apply(tuple)\n",
        "\n",
        "# === 5. Zusammenfassung ===\n",
        "print(f\"\\n# ✅ Anzahl verbleibender (gültiger) Datensätze: {len(df_meals)}\")\n",
        "print(f\"# 🧹 Bereinigt: {missing_total - df_meals.isnull().any(axis=1).sum()} ungültige Zeilen entfernt\")\n"
      ]
    },
    {
      "cell_type": "code",
      "execution_count": null,
      "metadata": {
        "colab": {
          "base_uri": "https://localhost:8080/"
        },
        "id": "qYNZt15-bcc5",
        "outputId": "a8be7dd7-755e-4505-fbe1-239dced656d7"
      },
      "outputs": [],
      "source": [
        "# === 1. Fehlende Werte prüfen ===\n",
        "missing_counts = df_nutrition.isnull().sum()\n",
        "missing_total = df_nutrition.isnull().any(axis=1).sum()\n",
        "\n",
        "print(f\"\\n# 🔍 [df_nutrition] Anzahl ungültiger Zeilen mit fehlenden Werten: {missing_total}\")\n",
        "print(missing_counts[missing_counts > 0])\n",
        "\n",
        "# === 2. Entferne alle Zeilen mit fehlenden Werten\n",
        "df_nutrition.dropna(inplace=True)\n",
        "\n",
        "# === 3. Duplikate entfernen\n",
        "df_nutrition.drop_duplicates(inplace=True)\n",
        "\n",
        "# === 4. Zusammenfassung\n",
        "print(f\"# ✅ Verbleibende Datensätze: {len(df_nutrition)}\")\n",
        "print(f\"# 🧹 Bereinigt: {missing_total - df_nutrition.isnull().any(axis=1).sum()} ungültige Zeilen entfernt\")\n"
      ]
    },
    {
      "cell_type": "code",
      "execution_count": null,
      "metadata": {
        "colab": {
          "base_uri": "https://localhost:8080/"
        },
        "id": "sMD_RZK2XZwy",
        "outputId": "a9b5f800-3ef3-4f0f-9c96-b10f1f05acd2"
      },
      "outputs": [],
      "source": [
        "# === 1. Fehlende Werte prüfen ===\n",
        "missing_counts = food_groups_combined.isnull().sum()\n",
        "missing_total = food_groups_combined.isnull().any(axis=1).sum()\n",
        "\n",
        "print(f\"\\n# 🔍 [food_groups_combined] Anzahl ungültiger Zeilen mit fehlenden Werten: {missing_total}\")\n",
        "print(missing_counts[missing_counts > 0])\n",
        "\n",
        "# === 2. Entferne alle Zeilen mit fehlenden Werten\n",
        "food_groups_combined.dropna(inplace=True)\n",
        "\n",
        "# === 3. Duplikate entfernen\n",
        "food_groups_combined.drop_duplicates(inplace=True)\n",
        "\n",
        "# === 4. Zusammenfassung\n",
        "print(f\"# ✅ Verbleibende Datensätze: {len(food_groups_combined)}\")\n",
        "print(f\"# 🧹 Bereinigt: {missing_total - food_groups_combined.isnull().any(axis=1).sum()} ungültige Zeilen entfernt\")\n"
      ]
    },
    {
      "cell_type": "code",
      "execution_count": null,
      "metadata": {
        "colab": {
          "base_uri": "https://localhost:8080/",
          "height": 731
        },
        "id": "lBPpwVDFXZ6p",
        "outputId": "cb09ec7a-acc1-4de0-91a4-945129ebd0f4"
      },
      "outputs": [],
      "source": [
        "\n",
        "\n",
        "# 2. Nur Zeilen entfernen, die wirklich KOMPLETT leer sind\n",
        "blv_nutrient_requirements.dropna(how=\"all\", inplace=True)\n",
        "\n",
        "# 3. Spaltennamen säubern\n",
        "blv_nutrient_requirements.columns = (\n",
        "    blv_nutrient_requirements.columns\n",
        "    .str.replace(r'\\r\\n', ' ', regex=True)\n",
        "    .str.replace(r'[^\\w\\s\\(\\)/%.-]', '', regex=True)\n",
        "    .str.strip()\n",
        ")\n",
        "\n",
        "# 4. Jetzt NUR gezielt Sonderzeichen ersetzen (nicht sofort alles)\n",
        "# Noch KEIN dropna() mehr!\n",
        "print(f\"✅ Zeilen nach Reparatur: {len(blv_nutrient_requirements)}\")\n",
        "display(blv_nutrient_requirements.head(10))"
      ]
    },
    {
      "cell_type": "code",
      "execution_count": null,
      "metadata": {
        "id": "0MkP1eZvXZ_V"
      },
      "outputs": [],
      "source": []
    },
    {
      "cell_type": "code",
      "execution_count": null,
      "metadata": {
        "id": "RBT_7NmkXaBr"
      },
      "outputs": [],
      "source": []
    },
    {
      "cell_type": "code",
      "execution_count": null,
      "metadata": {
        "id": "mkiNUeSueqd8"
      },
      "outputs": [],
      "source": []
    },
    {
      "cell_type": "code",
      "execution_count": null,
      "metadata": {
        "colab": {
          "base_uri": "https://localhost:8080/",
          "height": 309
        },
        "id": "qVtCH411BBAD",
        "outputId": "d27c62e9-e224-48b2-8772-db4026beb70b"
      },
      "outputs": [],
      "source": [
        "# === 🧬 Feature Enginerring ===\n",
        "# === 🧬 Krankheiten vorbereiten ===\n",
        "df_meals[\"Disease_List\"] = df_meals[\"Disease\"].fillna(\"\").apply(lambda x: [d.strip() for d in x.split(\",\") if d.strip()])\n",
        "df_meals[\"Disease_Count\"] = df_meals[\"Disease_List\"].apply(len)\n",
        "df_meals[\"Has_Chronic\"] = df_meals[\"Disease_List\"].apply(\n",
        "    lambda lst: any(k in lst for k in [\"Diabetes\", \"Hypertension\", \"Heart Disease\", \"Kidney Disease\"])\n",
        ")\n",
        "df_meals[\"Multiple_Conditions\"] = (df_meals[\"Disease_Count\"] > 1).astype(int)\n",
        "df_meals[\"Target_Chronic\"] = df_meals[\"Has_Chronic\"].astype(int)\n",
        "\n",
        "# === 📏 Proteinbedarf nach BLV (0.8 g/kg Körpergewicht) ===\n",
        "blv_protein = 0.8\n",
        "df_meals[\"BLV_Protein_Need\"] = df_meals[\"Weight\"] * blv_protein\n",
        "\n",
        "# === 🔹 Makroverhältnisse ===\n",
        "df_meals[\"Protein_per_100kcal\"] = df_meals[\"Protein\"] / df_meals[\"Calories\"] * 100\n",
        "df_meals[\"Fat_to_Protein_Ratio\"] = df_meals[\"Fat\"] / (df_meals[\"Protein\"] + 1e-6)\n",
        "df_meals[\"Carb_to_Fat_Ratio\"] = df_meals[\"Carbohydrates\"] / (df_meals[\"Fat\"] + 1e-6)\n",
        "df_meals[\"Sugar_per_Carb\"] = df_meals[\"Sugar\"] / (df_meals[\"Carbohydrates\"] + 1e-6)\n",
        "\n",
        "# === 🔸 Zielüberschreitungen ===\n",
        "df_meals[\"Calories_exceed_target\"] = (df_meals[\"Calories\"] > df_meals[\"Daily Calorie Target\"]).astype(int)\n",
        "df_meals[\"Sugar_excess\"] = (df_meals[\"Sugar\"] > 50).astype(int)\n",
        "df_meals[\"Protein_deficit_ratio\"] = df_meals[\"Protein\"] / (df_meals[\"BLV_Protein_Need\"] + 1e-6)\n",
        "\n",
        "# === ⏰ Tagesstruktur-Features ===\n",
        "df_meals[\"Protein_Lunch_vs_Dinner\"] = df_meals[\"Lunch Protein\"] / (df_meals[\"Dinner Protein.1\"] + 1e-6)\n",
        "df_meals[\"Snack_Energy_Share\"] = df_meals[\"Snacks Calories\"] / df_meals[\"Daily Calorie Target\"]\n",
        "df_meals[\"Carb_ratio_breakfast\"] = df_meals[\"Breakfast Carbohydrates\"] / (df_meals[\"Carbohydrates\"] + 1e-6)\n",
        "\n",
        "# === 📊 Meta-Features ===\n",
        "df_meals[\"Protein_std\"] = df_meals[[\"Breakfast Protein\", \"Lunch Protein\", \"Dinner Protein.1\", \"Snacks Protein\"]].std(axis=1)\n",
        "df_meals[\"Macronutrient_Diversity\"] = df_meals[[\"Protein\", \"Fat\", \"Carbohydrates\", \"Fiber\", \"Sugar\"]].gt(0).sum(axis=1)\n",
        "\n",
        "# === ⚠️ Risikoindikator ===\n",
        "df_meals[\"Risk_Flag\"] = (\n",
        "    (df_meals[\"Sugar_excess\"] == 1) |\n",
        "    (df_meals[\"Calories_exceed_target\"] == 1) |\n",
        "    (df_meals[\"Protein_deficit_ratio\"] < 0.8)\n",
        ").astype(int)\n",
        "\n",
        "# ✅ Ergebnisvorschau (optional anzeigen)\n",
        "features_to_show = [\n",
        "    \"Protein_per_100kcal\", \"Fat_to_Protein_Ratio\", \"Carb_to_Fat_Ratio\", \"Sugar_per_Carb\",\n",
        "    \"Calories_exceed_target\", \"Sugar_excess\", \"Protein_deficit_ratio\",\n",
        "    \"Protein_Lunch_vs_Dinner\", \"Snack_Energy_Share\", \"Carb_ratio_breakfast\",\n",
        "    \"Protein_std\", \"Macronutrient_Diversity\",\n",
        "    \"Disease_Count\", \"Has_Chronic\", \"Multiple_Conditions\", \"Target_Chronic\", \"Risk_Flag\"\n",
        "]\n",
        "\n",
        "print(\"\\n✅ Neue Features in df_meals:\")\n",
        "display(df_meals[features_to_show + [\"Disease\"]].head())\n"
      ]
    },
    {
      "cell_type": "markdown",
      "metadata": {
        "id": "e5oMDyfyAnNc"
      },
      "source": [
        "**Schritt 3: Analyse**\n",
        "\n",
        "**Schritt 3: 1. Explorative Datenanalyse (EDA)**\n",
        "\n",
        "- **Deskriptive Statistiken:** Berechnung von Mittelwerten, Medianen und Standardabweichungen für die Mikronährstoffprofile.\n",
        "- **Visualisierungen:** Erstellung von Diagrammen (Boxplots, Histogramme) zur Visualisierung der Verteilung der Nährstoffe."
      ]
    },
    {
      "cell_type": "code",
      "execution_count": null,
      "metadata": {
        "colab": {
          "base_uri": "https://localhost:8080/",
          "height": 1000
        },
        "id": "FkIif6Lieqd6",
        "outputId": "4c4596de-11a1-45de-b634-830238c7b6da"
      },
      "outputs": [],
      "source": [
        "# =====================================\n",
        "# Schritt 3: Desktripitve Statistik und Visualisierungen - Teil 1 Mittelwerte, Verteilungen, Boxplots, Gruppenvergleiche\n",
        "# =====================================\n",
        "\n",
        "\n",
        "# ------------------------------\n",
        "# 3.1.1 Verteilung der Makronährstoffe\n",
        "# ------------------------------\n",
        "macro_columns = [\"Calories\", \"Protein\", \"Fat\", \"Sugar\", \"Sodium\", \"Carbohydrates\"]\n",
        "fig1, axes = plt.subplots(len(macro_columns), 1, figsize=(10, 20))\n",
        "\n",
        "for i, col in enumerate(macro_columns):\n",
        "    sns.histplot(df_meals[col], kde=True, ax=axes[i], color='skyblue')\n",
        "    axes[i].set_title(f\"Verteilung von {col}\", fontsize=12)\n",
        "    axes[i].set_xlabel(col)\n",
        "    axes[i].set_ylabel(\"Häufigkeit\")\n",
        "\n",
        "plt.tight_layout()\n",
        "plt.show()\n",
        "\n",
        "# ------------------------------\n",
        "# 3.1.2 Häufigkeit von Krankheiten\n",
        "# ------------------------------\n",
        "plt.figure(figsize=(10, 6))\n",
        "df_meals[\"Disease\"].value_counts().plot(kind=\"bar\", color=\"salmon\")\n",
        "plt.title(\"Häufigkeit von Krankheiten (kombiniert)\", fontsize=13)\n",
        "plt.xlabel(\"Krankheit(en)\")\n",
        "plt.ylabel(\"Anzahl Personen\")\n",
        "plt.xticks(rotation=45, ha='right')\n",
        "plt.tight_layout()\n",
        "plt.show()\n",
        "\n",
        "# ------------------------------\n",
        "# 3.1.3 Vergleich Kalorienaufnahme nach Geschlecht\n",
        "# ------------------------------\n",
        "plt.figure(figsize=(8, 6))\n",
        "sns.boxplot(data=df_meals, x=\"Gender\", y=\"Calories\", palette=\"pastel\")\n",
        "plt.title(\"Kalorienaufnahme nach Geschlecht\", fontsize=13)\n",
        "plt.xlabel(\"Geschlecht\")\n",
        "plt.ylabel(\"Kalorien\")\n",
        "plt.tight_layout()\n",
        "plt.show()\n",
        "\n",
        "\n",
        "\n",
        "\n",
        "# ------------------------------\n",
        "# Deskriptive Statistik mit erweiterten Kennzahlen\n",
        "# ------------------------------\n",
        "columns = [\"Calories\", \"Protein\", \"Fat\", \"Sugar\", \"Sodium\", \"Carbohydrates\"]\n",
        "desc_stats = df_meals[columns].describe().T  # count, mean, std, min, 25%, 50%, 75%, max\n",
        "desc_stats[\"median\"] = df_meals[columns].median()\n",
        "desc_stats[\"skewness\"] = df_meals[columns].skew()\n",
        "desc_stats[\"kurtosis\"] = df_meals[columns].kurt()\n",
        "\n",
        "# Ausgabe als Tabelle\n",
        "print(\"Deskriptive Statistik (inkl. Median, Schiefe & Kurtosis):\\n\")\n",
        "print(desc_stats.round(2))\n",
        "\n",
        "# ------------------------------\n",
        "# Korrelationen (Heatmap)\n",
        "# ------------------------------\n",
        "correlation_matrix = df_meals[columns].corr()\n",
        "\n",
        "plt.figure(figsize=(8, 6))\n",
        "sns.heatmap(correlation_matrix, annot=True, cmap=\"coolwarm\", fmt=\".2f\")\n",
        "plt.title(\"Korrelation zwischen Makronährstoffen\", fontsize=13)\n",
        "plt.tight_layout()\n",
        "plt.show()\n",
        "\n",
        "\n",
        "# ------------------------------\n",
        "# Deskriptive Statistik mit erweiterten Kennzahlen\n",
        "# ------------------------------\n",
        "columns = [\"Calories\", \"Protein\", \"Fat\", \"Sugar\", \"Sodium\", \"Carbohydrates\"]\n",
        "desc_stats = df_meals[columns].describe().T  # count, mean, std, min, 25%, 50%, 75%, max\n",
        "desc_stats[\"median\"] = df_meals[columns].median()\n",
        "desc_stats[\"skewness\"] = df_meals[columns].skew()\n",
        "desc_stats[\"kurtosis\"] = df_meals[columns].kurt()\n",
        "\n",
        "# Ausgabe als Tabelle\n",
        "print(\"Deskriptive Statistik (inkl. Median, Schiefe & Kurtosis):\\n\")\n",
        "print(desc_stats.round(2))\n",
        "\n"
      ]
    },
    {
      "cell_type": "code",
      "execution_count": null,
      "metadata": {
        "id": "llpU59M5eqd6"
      },
      "outputs": [],
      "source": [
        "# =====================================\n",
        "# Schritt 4: Desktripitve Statistik - Teil 2 Verteilung der Krankheiten & Ernährungsstile\n",
        "# =====================================\n",
        "\n"
      ]
    },
    {
      "cell_type": "code",
      "execution_count": null,
      "metadata": {
        "colab": {
          "base_uri": "https://localhost:8080/",
          "height": 557
        },
        "id": "tkzdq5ZOeqd8",
        "outputId": "1f62688c-ff93-4c21-efc9-c6cee06aed99"
      },
      "outputs": [],
      "source": [
        "# =====================================\n",
        "# Schritt 3: Explorative Analyse nach IBCS\n",
        "# =====================================\n",
        "\n",
        "# 🧠 Frage: Unterscheiden sich kranke und gesunde Personen im Zuckerkonsum?\n",
        "# 🎯 Ziel: Visuelle Verteilung und Mittelwertunterschied zeigen\n",
        "\n",
        "sns.boxplot(data=df_meals, x=df_meals[\"Disease_Count\"] > 0, y=\"Sugar\")\n",
        "plt.title(\"Zuckerzufuhr bei Personen mit und ohne Krankheit\")\n",
        "plt.xlabel(\"Krankheit vorhanden?\")\n",
        "plt.ylabel(\"Zucker (g pro Tag)\")\n",
        "plt.grid(True)\n",
        "plt.show()\n",
        "\n",
        "# SAY-Prinzip (Kommentar zur Grafik)\n",
        "print(\"Personen mit Krankheit weisen im Median einen leicht höheren Zuckerkonsum auf.\")\n"
      ]
    },
    {
      "cell_type": "markdown",
      "metadata": {
        "id": "aT78c3WXB8e3"
      },
      "source": [
        "**Schritt 3: 2. Ernährungsmuster identifizieren**\n",
        "\n",
        "- **Clusteranalyse:** Verwendung von Algorithmen wie K-Means oder Hierarchical Clustering, um Ernährungsmuster zu identifizieren.\n",
        "Die 12 berechnete Ernähtungs Features werden  mit dropna nach unvollständige gfiltert und die unvollständige werden entfernt, nach dr Standardtiserung(Alle Features werden auf den selben Masstab verbracht) der Daten welche wichtig sind. fFür PCA & Clustering wird PCA reduziert auf 2d welche für visualsierungen ebenfalls gut ist. Es wird eine KMeans-Clustering durch geführt welche basierend auf PCA-Werten sind.\n",
        "Schlussendlich werden PCA Werten in seperaten Data Frames gespeichert. Anschliesedn wird eine PCA 2D-Scaterplot  cluster visualsiert.\n",
        "Mit dem Model RandomForest wird auf target_chronic (Kronsiche Krankheit trainsiert)\n",
        "- **Interpretation der Cluster:** Analysiere die Cluster, um typische Ernährungsmuster zu beschreiben."
      ]
    },
    {
      "cell_type": "code",
      "execution_count": null,
      "metadata": {
        "colab": {
          "base_uri": "https://localhost:8080/",
          "height": 1000
        },
        "id": "VQ2iroYQeqd7",
        "outputId": "0e1e0ea3-7b04-45ce-ac13-23f11b734350"
      },
      "outputs": [],
      "source": [
        "#Ernährungsmuster visuell erkennen (z. B. Cluster 1 = „Proteinreich und risikoarm“)\n",
        "#Krankheitsrisiken vorhersagen (RandomForest auf Basis deiner Features)\n",
        "#Datenqualität prüfen (z. B. ob Cluster mit Risk_Flag oder Target_Chronic übereinstimmen)\n",
        "#Zielgruppen ableiten für personalisierte Ernährungsempfehlungen\n",
        "\n",
        "\n",
        "# === 1. Feature-Auswahl ===\n",
        "features = [\n",
        "    \"Protein_per_100kcal\", \"Fat_to_Protein_Ratio\", \"Carb_to_Fat_Ratio\", \"Sugar_per_Carb\",\n",
        "    \"Calories_exceed_target\", \"Sugar_excess\", \"Protein_deficit_ratio\",\n",
        "    \"Protein_Lunch_vs_Dinner\", \"Snack_Energy_Share\", \"Carb_ratio_breakfast\",\n",
        "    \"Protein_std\", \"Macronutrient_Diversity\"\n",
        "]\n",
        "\n",
        "# ✅ Nur vollständige Zeilen verwenden\n",
        "df_cluster = df_meals[features + [\"Target_Chronic\"]].dropna().copy()\n",
        "\n",
        "# === 2. Standardisieren ===\n",
        "scaler = StandardScaler()\n",
        "X_scaled = scaler.fit_transform(df_cluster[features])\n",
        "\n",
        "# === 3. PCA → 2D-Reduktion\n",
        "pca = PCA(n_components=2)\n",
        "X_pca = pca.fit_transform(X_scaled)\n",
        "\n",
        "# === 4. KMeans Clustering\n",
        "kmeans = KMeans(n_clusters=3, random_state=42, n_init=10)\n",
        "clusters = kmeans.fit_predict(X_pca)\n",
        "\n",
        "# === 5. Cluster + PCA in df_meals schreiben\n",
        "df_meals_clean = df_meals.loc[df_cluster.index].copy()\n",
        "df_meals_clean[\"Cluster\"] = clusters\n",
        "df_meals_clean[\"PCA1\"] = X_pca[:, 0]\n",
        "df_meals_clean[\"PCA2\"] = X_pca[:, 1]\n",
        "\n",
        "# === 6. Cluster-Zusammenfassung\n",
        "cluster_summary = df_meals_clean.groupby(\"Cluster\")[features].mean()\n",
        "\n",
        "# === 7. Cluster-Visualisierung (PCA 2D)\n",
        "plt.figure(figsize=(10, 6))\n",
        "scatter = plt.scatter(X_pca[:, 0], X_pca[:, 1], c=clusters, cmap='Set2', s=40, alpha=0.7)\n",
        "plt.title(\"PCA + KMeans Clustering der Ernährungsmuster\")\n",
        "plt.xlabel(\"PCA 1\")\n",
        "plt.ylabel(\"PCA 2\")\n",
        "plt.grid(True)\n",
        "plt.legend(*scatter.legend_elements(), title=\"Cluster\")\n",
        "plt.tight_layout()\n",
        "plt.show()\n",
        "\n",
        "# === 8. Klassifikation: Target_Chronic\n",
        "X = df_cluster[features]\n",
        "y = df_cluster[\"Target_Chronic\"]\n",
        "X_train, X_test, y_train, y_test = train_test_split(X, y, random_state=42, test_size=0.2)\n",
        "\n",
        "\n",
        "clf = RandomForestClassifier(\n",
        "    n_estimators=100,\n",
        "    max_depth=50,          # optional begrenzt\n",
        "    n_jobs=-1,             # nutzt alle Kerne\n",
        "    random_state=42\n",
        ")\n",
        "clf.fit(X_train, y_train)\n",
        "\n",
        "\n",
        "y_pred = clf.predict(X_test)\n",
        "\n",
        "# === 9. Klassifikationsmetriken\n",
        "report = classification_report(y_test, y_pred, output_dict=True)\n",
        "metrics = pd.DataFrame(report).T\n",
        "\n",
        "# === 10. Optional: Boxplot pro Cluster für ein Feature\n",
        "plt.figure(figsize=(8, 5))\n",
        "sns.boxplot(data=df_meals_clean, x=\"Cluster\", y=\"Protein_per_100kcal\", palette=\"Set2\")\n",
        "plt.title(\"Protein pro 100kcal nach Cluster\")\n",
        "plt.grid(True)\n",
        "plt.tight_layout()\n",
        "plt.show()\n",
        "\n",
        "# === 11. Ausgabe\n",
        "print(\"\\n📊 Cluster-Zusammenfassung:\")\n",
        "display(cluster_summary)\n",
        "\n",
        "print(\"\\n🎯 Klassifikationsmetriken:\")\n",
        "display(metrics)\n"
      ]
    },
    {
      "cell_type": "code",
      "execution_count": null,
      "metadata": {
        "id": "yqOvGTAqFymy"
      },
      "outputs": [],
      "source": [
        "def vorhersage_chronisches_risiko(input_dict, model, feature_list):\n",
        "    \"\"\"\n",
        "    Gibt eine Vorhersage für chronisches Risiko zurück (basierend auf Random Forest Modell).\n",
        "\n",
        "    :param input_dict: dict – Eingabewerte für eine Person (z. B. {\"Protein_per_100kcal\": 5.0, ...})\n",
        "    :param model: sklearn-Modell – z. B. trainierter RandomForestClassifier\n",
        "    :param feature_list: list – Liste der Feature-Namen in richtiger Reihenfolge\n",
        "    :return: Tuple (Label-Text, Wahrscheinlichkeit in %)\n",
        "    \"\"\"\n",
        "    import pandas as pd\n",
        "\n",
        "    # Eingabe in DataFrame umwandeln\n",
        "    input_df = pd.DataFrame([input_dict])[feature_list]\n",
        "\n",
        "    # Vorhersage & Wahrscheinlichkeit\n",
        "    prediction = model.predict(input_df)[0]\n",
        "    prob = model.predict_proba(input_df)[0][prediction]\n",
        "\n",
        "    # Label interpretieren\n",
        "    label_text = \"chronisches Risiko vorhanden\" if prediction == 1 else \"kein chronisches Risiko\"\n",
        "\n",
        "    return label_text, round(prob * 100, 2)\n"
      ]
    },
    {
      "cell_type": "code",
      "execution_count": null,
      "metadata": {
        "id": "KXa2MXoCITWj"
      },
      "outputs": [],
      "source": []
    },
    {
      "cell_type": "markdown",
      "metadata": {
        "id": "h2XID_HzIUNj"
      },
      "source": [
        "---\n",
        "\n",
        "## ✅ **Orientierungswerte für eine gesunde Ernährung**  \n",
        "(*Idealbereich – für Erwachsene mit normalem Energiebedarf, z. B. 2000–2500 kcal*)\n",
        "\n",
        "| Feature | Idealwert / Zielbereich | Bedeutung |\n",
        "|--------|--------------------------|-----------|\n",
        "| **Protein_per_100kcal** | **> 4.5** | Eiweißdicht – gute Sättigung, Muskelversorgung |\n",
        "| **Fat_to_Protein_Ratio** | **0.5–1.0** | Ausgewogen: weder zu fett- noch zu eiweißlastig |\n",
        "| **Carb_to_Fat_Ratio** | **3–5** | Kohlenhydrate überwiegen, aber nicht extrem |\n",
        "| **Sugar_per_Carb** | **< 0.2** | Max. 20 % der Carbs sollten Zucker sein |\n",
        "| **Calories_exceed_target** | **0** | Ziel sollte nicht regelmäßig überschritten werden |\n",
        "| **Sugar_excess** | **0** | Max. 50 g Zucker pro Tag, besser weniger |\n",
        "| **Protein_deficit_ratio** | **> 1.0** | Mindestens 100 % des Proteinbedarfs decken |\n",
        "| **Protein_Lunch_vs_Dinner** | **≈ 1.0** | Gleichmäßige Eiweißverteilung über den Tag |\n",
        "| **Snack_Energy_Share** | **< 0.10** | Snacks max. 10 % der Gesamtkalorien |\n",
        "| **Carb_ratio_breakfast** | **~ 0.2–0.3** | Ca. 20–30 % der Carbs zum Frühstück |\n",
        "| **Protein_std** | **< 10** | Gleichmäßige Proteinzufuhr über alle Mahlzeiten |\n",
        "| **Macronutrient_Diversity** | **5** | Alle 5 Makros vorhanden: Protein, Fett, Carbs, Zucker, Ballaststoffe |\n",
        "\n",
        "---\n",
        "\n",
        "### 🧠 Zusammengefasst:  \n",
        "Ein „gesundes“ Ernährungsprofil wäre z. B.:\n",
        "\n",
        "- **Viel Protein pro Kalorie** → gute Qualität\n",
        "- **Wenig Zucker im Verhältnis zu Carbs**\n",
        "- **Snacks moderat**\n",
        "- **Verteilung der Makros über den Tag**\n",
        "- **Kein Kalorienüberschuss**\n",
        "- **Alle Makronährstoffe dabei**\n",
        "\n",
        "---\n"
      ]
    },
    {
      "cell_type": "code",
      "execution_count": null,
      "metadata": {
        "colab": {
          "base_uri": "https://localhost:8080/"
        },
        "id": "kCE7sdwZFymy",
        "outputId": "86d9c94e-5261-4174-e108-59b682bab6a5"
      },
      "outputs": [],
      "source": [
        "\n",
        "beispiel_input = {\n",
        "    # Anteil von Protein pro 100 kcal – zeigt Eiweißdichte der Ernährung\n",
        "    \"Protein_per_100kcal\": 5,  # z. B. 5g Eiweiß pro 100 kcal\n",
        "\n",
        "    # Verhältnis von Fett zu Eiweiß – höher = fettreiche, eiweißarme Ernährung\n",
        "    \"Fat_to_Protein_Ratio\": 0.6,  # z. B. 0.6g Fett pro 1g Eiweiß\n",
        "\n",
        "    # Verhältnis von Kohlenhydraten zu Fett – hoher Wert = viele Carbs, wenig Fett\n",
        "    \"Carb_to_Fat_Ratio\": 1.5,  # z. B. 4.5g Carbs pro 1g Fett\n",
        "\n",
        "    # Anteil Zucker an den gesamten Kohlenhydraten\n",
        "    \"Sugar_per_Carb\": 0.4,  # z. B. 40% der Kohlenhydrate sind Zucker\n",
        "\n",
        "    # 1 = Person hat Kalorienziel überschritten (Daily Calorie Target), 0 = nicht\n",
        "    \"Calories_exceed_target\": 1,  # Ja\n",
        "\n",
        "    # 1 = Person hat mehr als 50g Zucker aufgenommen, 0 = nein\n",
        "    \"Sugar_excess\": 0,  # Ja\n",
        "\n",
        "    # Verhältnis tatsächlicher Proteinzufuhr zur Empfehlung gem. BLV\n",
        "    \"Protein_deficit_ratio\": 0.7,  # z. B. nur 70% des benötigten Proteins aufgenommen\n",
        "\n",
        "    # Verhältnis Protein Mittagessen zu Abendessen – sagt was über Tagesverteilung\n",
        "    \"Protein_Lunch_vs_Dinner\": 2.0,  # doppelt so viel Eiweiß zu Mittag\n",
        "\n",
        "    # Anteil der Snacks an den gesamten Tageskalorien\n",
        "    \"Snack_Energy_Share\": 0.12,  # z. B. 12% der Kalorien stammen aus Snacks\n",
        "\n",
        "    # Anteil der Frühstücks-Carbs an allen Carbs\n",
        "    \"Carb_ratio_breakfast\": 0.2,  # 20% der Carbs werden beim Frühstück gegessen\n",
        "\n",
        "    # Streuung der Proteinwerte über die Mahlzeiten – je höher, desto ungleichmäßiger verteilt\n",
        "    \"Protein_std\": 15.0,  # z. B. starke Schwankungen bei Proteinzufuhr über den Tag\n",
        "\n",
        "    # Wie viele Makronährstoffe wurden überhaupt konsumiert (>0g)?\n",
        "    \"Macronutrient_Diversity\": 5  # alle 5 (Protein, Fett, Carbs, Zucker, Ballaststoffe)\n",
        "}\n",
        "\n",
        "\n",
        "# Aufruf mit deinem Modell (z. B. clf)\n",
        "text, proz = vorhersage_chronisches_risiko(beispiel_input, clf, features)\n",
        "\n",
        "print(f\"🧪 Vorhersage: {text} ({proz}% Wahrscheinlichkeit)\")\n"
      ]
    },
    {
      "cell_type": "code",
      "execution_count": null,
      "metadata": {
        "colab": {
          "base_uri": "https://localhost:8080/",
          "height": 156
        },
        "id": "t5q7G8jrwzDm",
        "outputId": "39473ec8-bdc2-4c87-e56b-46eb4e79a9ff"
      },
      "outputs": [],
      "source": [
        "#Welche Cluster sind eher „gesund“?\n",
        "df_meals_clean.explode(\"Disease_List\").groupby([\"Cluster\", \"Disease_List\"]).size().unstack().fillna(0)\n"
      ]
    },
    {
      "cell_type": "code",
      "execution_count": null,
      "metadata": {
        "id": "PgF2h7Coeqd7"
      },
      "outputs": [],
      "source": [
        "# =====================================\n",
        "# Schritt 5: Analyse KAQ 1: Welche Ernährungsmuster lassen sich aus individuellen Makronährstoffprofilen ableiten – und welche Krankheitsrisiken sind damit verbunden?\n",
        "# Methode: KMeans-Clusteranalyse auf Protein, Fett, Zucker, Kalorien, etc.\n",
        "# Ziel: Ernährungstypen identifizieren\n",
        "# Zusatzanalyse: Krankheitsverteilung je Cluster\n",
        "# Visualisierung: Clusterplot, Balkendiagramm Krankheitsprävalenz\n",
        "# =====================================\n",
        "\n",
        "# 🧠 Frage: xxxxxx\n",
        "# 🎯 Ziel: xxxxxx"
      ]
    },
    {
      "cell_type": "markdown",
      "metadata": {
        "id": "5_HrITaKCjLK"
      },
      "source": [
        "**Schritt 3: 3. Zusammenhang zwischen Ernährung und Krankheitsrisiken**\n",
        "\n",
        "- **Korrelationsanalyse:** Untersuchung der Korrelation zwischen Ernährungsmustern und Krankheitsrisiken.\n",
        "- **Regressionsmodelle:** Erstelle Regressionsmodelle, um den Einfluss der Ernährung auf Krankheitsrisiken zu quantifizieren."
      ]
    },
    {
      "cell_type": "code",
      "execution_count": null,
      "metadata": {
        "id": "5oBxCbG4eqd7"
      },
      "outputs": [],
      "source": [
        "# =====================================\n",
        "# Schritt 5: Analyse KAQ\n",
        "# =====================================\n",
        "\n",
        "# 🧠 Frage: xxxxxx\n",
        "# 🎯 Ziel: xxxxxx"
      ]
    },
    {
      "cell_type": "markdown",
      "metadata": {
        "id": "M5rilPLBCuVy"
      },
      "source": [
        "**Schritt 3: 4. Identifikation unausgewogener Ernährungsmuster**\n",
        "\n",
        "- **Vergleich mit Empfehlungen:** Vergleiche der identifizierten Ernährungsmuster mit offiziellen Ernährungsempfehlungen.\n",
        "- **Identifikation von Defizien/Überschüssen:** Bestimmung, welche Muster potenziell unausgewogen sind (z.B. zu wenig Protein, zu viel Zucker)."
      ]
    },
    {
      "cell_type": "code",
      "execution_count": null,
      "metadata": {
        "id": "Akn3L6Laeqd7"
      },
      "outputs": [],
      "source": [
        "# =====================================\n",
        "# Schritt 5: Analyse KAQ\n",
        "# =====================================\n",
        "\n",
        "# 🧠 Frage: xxxxxx\n",
        "# 🎯 Ziel: xxxxxx"
      ]
    },
    {
      "cell_type": "markdown",
      "metadata": {
        "id": "mV7UQMgNC6S7"
      },
      "source": [
        "**Schritt 3: 5. Vergleich von Personen mit und ohne Krankheit**\n",
        "\n",
        "- **Gruppenvergleich:** Vergleich der Ernähungsprofile von Personen mit und ohne Krankheiten.\n",
        "- **Statistische Tests:** Verwendung von Tests wie dem t-Test, um signifikante Unterschiede zu identifizieren."
      ]
    },
    {
      "cell_type": "code",
      "execution_count": null,
      "metadata": {
        "id": "0l0dMFEFeqd7"
      },
      "outputs": [],
      "source": [
        "# =====================================\n",
        "# Schritt 6: Analyse KAQ\n",
        "# =====================================\n",
        "\n",
        "# 🧠 Frage: xxxxxx\n",
        "# 🎯 Ziel: xxxxxx"
      ]
    },
    {
      "cell_type": "markdown",
      "metadata": {
        "id": "367sEq8KDIsq"
      },
      "source": [
        "**Schritt 3: 6. Empfehlungen basierend auf Clusterbildung**\n",
        "\n",
        "- **Personalisierte Empfehlungen:** Erstellung von personalisierten Ernährungsempfehlungen basierend auf den identifizierten Clustern.\n",
        "- **Berücksichtigung von Krankheiten:** Integration von offiziellen Empfehlungen für bestimmte Krankheiten in die personalisierten Empfehlungen."
      ]
    },
    {
      "cell_type": "code",
      "execution_count": null,
      "metadata": {
        "id": "Mkhxr15hDWyz"
      },
      "outputs": [],
      "source": [
        "# =====================================\n",
        "# Schritt 7: Analyse KAQ\n",
        "# =====================================\n",
        "\n",
        "# 🧠 Frage: xxxxxx\n",
        "# 🎯 Ziel: xxxxxx"
      ]
    },
    {
      "cell_type": "markdown",
      "metadata": {
        "id": "6mz6WHfEDUps"
      },
      "source": []
    },
    {
      "cell_type": "code",
      "execution_count": null,
      "metadata": {
        "id": "IgRyj7JZiF4j"
      },
      "outputs": [],
      "source": []
    },
    {
      "cell_type": "markdown",
      "metadata": {
        "id": "HipJFm4AEuMu"
      },
      "source": [
        "**Schritt 4: Kommunikation für Entscheider**\n",
        "\n",
        "- Visualisierung der Resultate (Dashboards, Diagramme)\n",
        "- Empfehlungen je Zielgruppe\n",
        "- Ableitung konkreter Maßnahmen oder Produktideen"
      ]
    },
    {
      "cell_type": "code",
      "execution_count": null,
      "metadata": {
        "id": "DuJtr7ariGAs"
      },
      "outputs": [],
      "source": []
    },
    {
      "cell_type": "code",
      "execution_count": null,
      "metadata": {
        "id": "fM7wnFTxiGDh"
      },
      "outputs": [],
      "source": []
    },
    {
      "cell_type": "code",
      "execution_count": null,
      "metadata": {
        "id": "Xng7R7CniGGZ"
      },
      "outputs": [],
      "source": []
    },
    {
      "cell_type": "code",
      "execution_count": null,
      "metadata": {
        "id": "4LXPWkvhiGIr"
      },
      "outputs": [],
      "source": []
    },
    {
      "cell_type": "code",
      "execution_count": null,
      "metadata": {
        "id": "rYQq8GZIiGL9"
      },
      "outputs": [],
      "source": []
    },
    {
      "cell_type": "code",
      "execution_count": null,
      "metadata": {
        "id": "q59Lvl-5iGNz"
      },
      "outputs": [],
      "source": []
    },
    {
      "cell_type": "markdown",
      "metadata": {
        "id": "8k6o9OsJiHeK"
      },
      "source": []
    },
    {
      "cell_type": "code",
      "execution_count": null,
      "metadata": {
        "id": "jujGt0yliIDA"
      },
      "outputs": [],
      "source": [
        " # Ab hier macht murat was"
      ]
    },
    {
      "cell_type": "code",
      "execution_count": null,
      "metadata": {
        "id": "cucGo43oiGQB"
      },
      "outputs": [],
      "source": [
        "import pandas as pd\n",
        "import plotly.express as px\n",
        "\n",
        "# 1. Histogramm – Kalorienverteilung\n",
        "px.histogram(df_meals, x=\"Calories\", nbins=30, title=\"Verteilung der Tageskalorien\").show()\n",
        "\n",
        "# 2. Boxplot – Zuckeraufnahme nach Geschlecht\n",
        "px.box(df_meals, x=\"Gender\", y=\"Sugar\", title=\"Zuckeraufnahme nach Geschlecht\").show()\n",
        "\n",
        "# 3. Scatterplot – Protein vs. Zucker nach Krankheit\n",
        "px.scatter(\n",
        "    df_meals,\n",
        "    x=\"Protein\",\n",
        "    y=\"Sugar\",\n",
        "    color=\"Disease\",\n",
        "    title=\"Protein vs. Zuckeraufnahme nach Krankheit\",\n",
        "    hover_data=[\"Ages\", \"Gender\"]\n",
        ").show()\n",
        "\n",
        "# 4. Violinplot – Fettzufuhr je Aktivitätslevel\n",
        "px.violin(\n",
        "    df_meals,\n",
        "    x=\"Activity Level\",\n",
        "    y=\"Fat\",\n",
        "    box=True,\n",
        "    points=\"all\",\n",
        "    title=\"Fettzufuhr je Aktivitätslevel\"\n",
        ").show()"
      ]
    },
    {
      "cell_type": "markdown",
      "metadata": {
        "id": "ODiYRHi99_M-"
      },
      "source": [
        "Super, danke fürs Teilen des Screenshots! Ich sehe sofort, was du meinst. Hier kommt die Analyse deiner **Scatterplot-Visualisierung (Protein vs. Zucker) mit Trendlinie**:\n",
        "\n",
        "---\n",
        "\n",
        "### 📊 **Was zeigt dieser Plot?**\n",
        "\n",
        "- **X-Achse:** Proteinaufnahme pro Tag (in g)\n",
        "- **Y-Achse:** Zuckeraufnahme pro Tag (in g)\n",
        "- **Jeder Punkt:** Eine Person aus dem Datensatz\n",
        "- **Farben:** Krankheit(en) der jeweiligen Person\n",
        "- **Gerade Linie:** Eine **Trendlinie (Regression)** → zeigt den **durchschnittlichen Zusammenhang**\n",
        "\n",
        "---\n",
        "\n",
        "### 📈 **Interpretation der steigenden Trendlinie**\n",
        "\n",
        "- Die **positive Steigung** der Linie bedeutet:  \n",
        "  **Mehr Protein → tendenziell auch mehr Zuckeraufnahme.**\n",
        "\n",
        "- Das kann ein Hinweis sein auf:\n",
        "  - Allgemein **höheren Energiebedarf** (z. B. sportliche oder junge Personen)\n",
        "  - Ernährungsmuster, bei denen **Makros insgesamt steigen** (z. B. durch große Portionen oder energie-dichte Lebensmittel)\n",
        "\n",
        "---\n",
        "\n",
        "### 🩺 **Bezug zu Krankheiten**\n",
        "\n",
        "- Der Datensatz zeigt:\n",
        "  - Auch Personen mit mehreren Krankheiten (z. B. *Diabetes*, *Heart Disease*) liegen in diesem Bereich mit **hoher Protein- und Zuckeraufnahme**.\n",
        "  - Diese Ballung könnte für **KAQ 1 und KAQ 3** interessant sein:\n",
        "    > Gibt es Cluster mit hohem Zucker & Protein, die **häufiger krank** sind?\n",
        "\n",
        "---\n",
        "\n",
        "### 🧠 **Ideen für weiterführende Schritte:**\n",
        "\n",
        "1. **Clustering:** Nutze K-Means oder DBSCAN, um Gruppen mit ähnlichem Makroprofil zu finden.\n",
        "2. **Split nach Krankheit:** Mache den gleichen Scatterplot **nur für Diabetiker** vs. **Nicht-Diabetiker**.\n",
        "3. **Korrelation berechnen:** z. B. Pearson- oder Spearman-Korrelation zwischen Protein & Zucker.\n",
        "4. **Deckungsgrade:** Wie gut erfüllen diese Gruppen die BLV-Empfehlungen?\n",
        "\n",
        "---\n",
        "\n",
        "Wenn du willst, kann ich dir den Code liefern, um das alles direkt im Notebook umzusetzen. Oder ich rechne dir als Nächstes die Korrelation aus – sag einfach, was dir lieber ist."
      ]
    },
    {
      "cell_type": "markdown",
      "metadata": {
        "id": "3pizWqCZXxgg"
      },
      "source": []
    },
    {
      "cell_type": "code",
      "execution_count": null,
      "metadata": {
        "id": "SBgQwWDbXx3s"
      },
      "outputs": [],
      "source": [
        "# 📦 Importiere notwendige Module\n",
        "import os\n",
        "from nbformat import read\n",
        "from nbformat.validator import validate\n",
        "\n",
        "# 📍 Definiere den vollständigen Pfad zu deinem Notebook\n",
        "notebook_path = r\"onlyAnalysis_Ernährung.ipynb\"\n",
        "\n",
        "# 🧪 Überprüfe, ob die Datei existiert\n",
        "if not os.path.exists(notebook_path):\n",
        "    print(f\"⚠️ Datei nicht gefunden: {notebook_path}\")\n",
        "    print(\"Bitte überprüfen Sie den Pfad und stellen Sie sicher, dass die Datei existiert.\")\n",
        "    # Exit the script gracefully\n",
        "    import sys\n",
        "    sys.exit(1)\n",
        "    # 🗂️ Zeige den absoluten Pfad der Datei\n",
        "    absolute_path = os.path.abspath(notebook_path)\n",
        "    print(f\"📂 Absoluter Pfad der Datei: {absolute_path}\")\n",
        "# 📖 Öffne das Notebook und lade den Inhalt\n",
        "with open(notebook_path, \"r\", encoding=\"utf-8\") as f:\n",
        "    nb = read(f, as_version=4)\n",
        "\n",
        "# ✅ Validierung durchführen\n",
        "validate(nb)\n",
        "print(\"✅ Das Notebook ist gültig und im richtigen Format!\")"
      ]
    }
  ],
  "metadata": {
    "colab": {
      "provenance": []
    },
    "kernelspec": {
      "display_name": "Python 3",
      "language": "python",
      "name": "python3"
    },
    "language_info": {
      "codemirror_mode": {
        "name": "ipython",
        "version": 3
      },
      "file_extension": ".py",
      "mimetype": "text/x-python",
      "name": "python",
      "nbconvert_exporter": "python",
      "pygments_lexer": "ipython3",
      "version": "3.9.6"
    }
  },
  "nbformat": 4,
  "nbformat_minor": 0
}
