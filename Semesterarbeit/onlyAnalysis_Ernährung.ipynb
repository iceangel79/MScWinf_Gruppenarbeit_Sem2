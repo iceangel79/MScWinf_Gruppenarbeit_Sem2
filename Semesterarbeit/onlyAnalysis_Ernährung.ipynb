{
  "cells": [
    {
      "cell_type": "markdown",
      "metadata": {
        "id": "6kxfHlUmeqd2"
      },
      "source": [
        "<div align=\"center\">\n",
        "\n",
        "# **Personalisierte Ernährung zur Prävention ernährungsbedingter Krankheiten**\n",
        "\n",
        "<br>\n",
        "\n",
        "**Gruppe 5**  \n",
        "Flavia De Solda, Kay Sheppard, Murat Ayhekim, Adrian Martic, Adrian Wegmann  \n",
        "<br>\n",
        "FFHS / BFH / HSLU und OST  \n",
        "Master of Science in Wirtschaftsinformatik  \n",
        "<br>\n",
        "**März 2025**\n",
        "\n",
        "</div>\n",
        "\n",
        "---\n",
        "\n",
        "##  Erklärung\n",
        "\n",
        "Wir erklären hiermit, dass wir die vorliegende Arbeit für das Modul **BINA** bzw. die von uns ausgewiesene Leistung **selbständig**, ohne unzulässige Hilfe Dritter und ausschließlich unter Verwendung der angegebenen Quellen verfasst bzw. erbracht haben.\n",
        "\n",
        "Zur sprachlichen Überprüfung, zur besseren Verständlichkeit der Zusammenhänge sowie zur Sicherstellung eines konsistenten roten Fadens wurde unterstützend ein KI-Tool eingesetzt.\n",
        "\n",
        "<div align=\"right\">Zürich, 13.06.2025</div>  \n",
        "<div align=\"right\">Die unterschriebene Selbständigkeitserklärung befindet sich im Anhang.</div>\n",
        "\n",
        "---\n",
        "\n",
        "##  1. Einleitung\n",
        "\n",
        "Ernährungsbedingte Krankheiten wie Typ-2-Diabetes, Bluthochdruck und Adipositas nehmen weltweit zu. Gleichzeitig bleibt der Zugang zu individueller, präventiv wirksamer Ernährungsberatung beschränkt: Klassische Beratungen sind kostenintensiv und nicht skalierbar, während pauschale Ernährungsempfehlungen oft an den tatsächlichen Bedürfnissen vorbeigehen. Dank moderner Datenanalyse und Machine Learning eröffnen sich heute jedoch neue Möglichkeiten, personalisierte Ernährungsempfehlungen datenbasiert, automatisiert und massentauglich zu gestalten.\n",
        "Im Rahmen dieser Fallstudie simulieren wir die Entwicklung eines fiktiven digitalen Empfehlungstools namens „NutriDecide“. Dieses Tool soll auf Basis realer Essgewohnheiten, Nährstoffverteilungen und Gesundheitsdaten konkrete Empfehlungen für eine ausgewogene, gesundheitsfördernde Ernährung ableiten.\n",
        "\n",
        "Wir orientieren uns dabei am **CPA-Framework _\"From Data to Decisions\"_** und fokussieren uns insbesondere auf folgende Schritte:\n",
        "\n",
        "1. Zieldefinition und Informationsbedarf  \n",
        "2. Datenerhebung und -integration  \n",
        "3. Datenanalyse  \n",
        "4. Kommunikation der Erkenntnisse für Entscheider\n",
        "\n",
        "Zwar existieren bereits zahlreiche virtuelle Ernährungstools und -Apps auf dem Markt, jedoch fokussieren sich diese häufig primär auf Gewichtsverlust oder allgemeine Kalorienziele. Eine fundierte, auf wissenschaftlichen Empfehlungen basierende Risikoabschätzung hinsichtlich chronischer Erkrankungen fehlt meist.\n",
        "\n",
        "NutriDecide setzt genau hier an und verfolgt einen präventiven, individualisierten Ansatz mit klarer Zielsetzung: Die Identifikation gesundheitlich bedenklicher Ernährungsmuster und die Ableitung konkreter Verbesserungsvorschläge auf Basis anerkannter Referenzwerte (z.B. BLV).\n",
        "Das Tool adressiert den steigenden Bedarf an Gesundheitsprävention und soll potenziell über Krankenkassen angeboten werden. Diese können damit ihren Versicherten einen kostenlosen Zugang zu individuellen Ernährungsempfehlungen bieten – und gleichzeitig durch gezielte Prävention langfristig die Gesundheitskosten senken. „NutriDecide“ positioniert sich damit als innovatives Bindeglied zwischen Versicherer, Nutzer:in und Gesundheitsförderung.\n",
        "\n",
        "\n",
        "## 1.1 Theoretische Grundlage\n",
        "-  Was ist Makronährstoffe: Makronährstoffe sind die grossen Nährstoffe, die unser Körper in grösseren Mengen braucht, im Gegensatz zu Mikronährstoffen wie Vitaminen oder Mineralstoffen.\n",
        "Wichtigkeit für Körper:\n",
        "- Ohne Proteine → keine Muskeln, kein Immunsystem.\n",
        "- Ohne Kohlenhydrate → keine schnelle Energie für Gehirn & Muskeln.\n",
        "- Ohne Fette → keine fettlöslichen Vitamine, keine Hormone.\n",
        "\n",
        "---\n",
        "##  1.3 Ziel definieren\n",
        "Damit ein digitales Ernährungstool wie NutriDecide überhaupt sinnvoll entwickelt und eingesetzt werden kann, braucht es zuerst eine solide Datengrundlage.\n",
        "Dazu gehört nicht nur, zu wissen, was Menschen essen, sondern auch, wie sich diese Essgewohnheiten auf ihre Gesundheit auswirken – und welche Empfehlungen daraus abgeleitet werden können.\n",
        "\n",
        "Im Sinne des CPA-Frameworks ist es deshalb entscheidend, sich zuerst die richtigen Fragen zu stellen, bevor man technische Lösungen entwickelt.\n",
        "Nur wenn klar ist, welche Informationen wirklich gebraucht werden, lässt sich ein Tool gestalten, das am Ende für Nutzer:innen oder Organisationen einen echten Mehrwert bringt.\n",
        "\n",
        "Genau deshalb haben wir vier zentrale Key Analytics Questions (KAQs) formuliert, die unsere Analyse leiten. Sie helfen uns zu verstehen, welche Daten wir brauchen, wie wir sie kombinieren müssen – und was wir daraus lernen wollen.\n",
        "\n",
        "\n",
        "| **KAQ Nr.** | **Key Analytics Question** | **Daten** | **Vorgehen / Schritte** |\n",
        "|------------:|----------------------------|-----------|--------------------------|\n",
        "| 1 | In welchen Ernährungsmustern liegt eine potenziell unausgewogene Nährstoffzufuhr vor? | `detailed_meals_macros_CLEANED.csv` | Clustering, Normalisierung (z.B. pro kcal), Vergleich mit BLV, visuelle Analyse |\n",
        "| 2 | Welche Ernährungsmuster sind statistisch signifikant mit bestimmten Krankheitsbildern assoziiert – und lassen sich Risikogruppen identifizieren? | `detailed_meals_macros_CLEANED.csv` | Clustering, Chi²-Test, logistische Regression, Random Forest, Risikoanalyse |\n",
        "| 3 | Wie stark weichen die identifizierten Ernährungsmuster (Cluster/Risikogruppen) von den offiziellen Nährstoffempfehlungen (z. B. BLV) ab – und welche Nährstoffe sind dabei besonders kritisch in Bezug auf präventive Gesundheit? | `detailed_meals_macros_CLEANED.csv` | Gruppenvergleich (Mittelwerte), Abweichungsberechnung in %, Heatmap oder Radarplot |\n",
        "| 4 | Wie können auf Basis individueller Ernährungsmuster und assoziierter Krankheitsrisiken personalisierte Ernährungsempfehlungen abgeleitet werden, um präventiv gegenzusteuern – und welche konkreten Lebensmittel(-gruppen) eignen sich zur Umsetzung? | `Nutrient_requirements_CH.xlsx`, `Food_and_Nutrition__.csv` | Matching Nährstoffdefizite ↔ Nährstoffreiche Lebensmittel, Scoring, Ranking, einfache Optimierungslogik |\n",
        "\n",
        "---\n",
        "\n",
        "###  2 Daten\n",
        "\n",
        "Für die Beantwortung unsere Fragen und dem entwickeln des Tools benötigen, wir Daten welche sich dafür eignen.\n",
        "\n",
        "**Datenquelle**\n",
        "Bei der Auswahl unserer Datenquellen haben wir uns an folgenden Kriterien orientiert:\n",
        "\n",
        "- Die Daten mussten die für unsere Fragestellungen relevanten Informationen enthalten, insbesondere Angaben zur individuellen Nährstoffzufuhr und zum Gesundheitszustand.\n",
        "\n",
        "- Die Daten sollten eine ausreichende Anzahl von Beobachtungen aufweisen, um statistische Analysen (z.B. Clustering) mit gewisser Aussagekraft durchführen zu können.\n",
        "\n",
        "- Die Struktur der Datensätze sollte grundsätzlich verständlich und weiterverarbeitbar sein – auch wenn wir eine eigene Bereinigung und Aufbereitung vornehmen würden.\n",
        "\n",
        "Folgende Datensätze von Kaggle haben unsere Anforderungene erfüllt:\n",
        "Detailed Meals Macros CLEANED und Food and Nutrition\n",
        "\n",
        "Für den Abgleich mit offiziellen Nährstoffzufuhrs Empfehlungen greifen wir auf die Richtwerte des Bundesamts für Lebensmittelsicherheit und Veterinärwesen (BLV) zurück. Diese gelten als anerkannter Standard in der Schweiz und kommen in der Gesundheitsförderung sowie Ernährungsberatung zum Einsatz. Im Vergleich mit internationalen Richtwerten der WHO stimmen die grundlegenden Zielwerte weitgehend überein.\n",
        "\n",
        "\n",
        "**Datenqualität**\n",
        "Die von uns verwendeten Datensätze stammen aus verschiedenen öffentlich zugänglichen Quellen (z. B. Kaggle oder offizielle Webseiten) und unterscheiden sich hinsichtlich Struktur, Umfang und Granularität.\n",
        "Der Datensatz „detailed_meals_macros_CLEANED.csv“ enthält 1’697 Einträge zu individuellen Tagesmahlzeiten inklusive Angabe von möglichen Erkrankungen.\n",
        "Der Datensatz „Food_and_Nutrition__.csv“ umfasst 1’698 Lebensmittelprofile mit Angaben zu Makro- und Mikronährstoffen.\n",
        "Zusätzlich wurden fünf Dateien aus einer erweiterten Lebensmitteldatenbank (FOOD-DATA-GROUP1 bis GROUP5) kombiniert, welche in Summe 2’395 Einträge enthalten.\n",
        "\n",
        "Die Datensätze wiesen bei erster Sichtung eine grundsätzlich saubere Struktur auf. Trotzdem war eine eigenständige Prüfung und Bereinigung notwendig. Vor allem im Ernährungsdatensatz mussten wir sicherstellen, dass alle relevanten Spalten vollständig befüllt und keine Duplikate vorhanden waren.\n",
        "Auch bei den Nährwertangaben war eine Überprüfung auf Konsistenz und Redundanz notwendig.\n",
        "Die BLV-Referenzwerte wurden als externe Normquelle verwendet. Diese blieben inhaltlich unverändert, wurden jedoch bezüglich Formatierung und Spaltenstruktur angepasst, um sie in die Analyse zu integrieren.\n",
        "\n",
        "- **Datenbereinigung:**\n",
        "Zur Bereinigung der Ernährungsdaten (detailed_meals_macros_CLEANED.csv) wurden zunächst einzelne fehlende Werte in kritischen Spalten überprüft. Es wurde eine Zeile entfernt, in der der Wert für „Breakfast Carbohydrates“ fehlte.\n",
        "Anschliessend wurden Duplikate bereinigt, wobei die Spalte Disease_List ausgenommen wurde, um unterschiedliche Krankheitsprofile nicht zu verlieren.\n",
        "\n",
        "Die Krankheitsangaben wurden in strukturierte Listen umgewandelt, sodass auch Mehrfacherkrankungen korrekt berücksichtigt werden konnten. Daraus wurde eine zusätzliche Spalte Disease_Count (Anzahl Krankheiten pro Person) sowie ein Disease_Tuple für Gruppierungen erstellt.\n",
        "\n",
        "Im Datensatz „Food_and_Nutrition__.csv“ waren keine fehlenden Werte vorhanden. Es wurden ausschliesslich Dubletten entfernt.\n",
        "Bei den kombinierten Lebensmitteldaten (GROUP1–GROUP5) verhielt es sich gleich: Es gab keine fehlenden Einträge, jedoch wurden Doppelerfassungen eliminiert. Der kombinierte Datensatz bestand am Ende aus 2’395 vollständigen Einträgen.\n",
        "\n",
        "Die BLV-Daten wurden ausschliesslich formatiert (Spaltennamen bereinigt, leere Zeilen entfernt), jedoch inhaltlich nicht verändert, da sie als offizielle Referenz gelten und keine Manipulation vorgenommen werden sollte.\n",
        "- **Feature Engineering:** Erstellung neuer Features, die für die Analyse relevant sind (z.B. Mikronährstoffe, Kalorien).\n",
        "\n",
        "---\n",
        "\n",
        "###  2.3 Analyse\n",
        "\n",
        "\n",
        "**1. Explorative Datenanalyse (EDA)**\n",
        "- **Deskriptive Statistiken:** Berechnung von Mittelwerten, Medianen und Standardabweichungen für die Mikronährstoffprofile.\n",
        "- **Visualisierungen:** Erstellung von Diagrammen (Boxplots, Histogramme) zur Visualisierung der Verteilung der Nährstoffe.\n",
        "\n",
        "**2. Ernährungsmuster identifizieren**\n",
        "- **Clusteranalyse:** Verwendung von Algorithmen wie K-Means oder Hierarchical Clustering, um Ernährungsmuster zu identifizieren.\n",
        "- **Interpretation der Cluster:** Analysiere die Cluster, um typische Ernährungsmuster zu beschreiben.\n",
        "\n",
        "**3. Zusammenhang zwischen Ernährung und Krankheitsrisiken**\n",
        "- **Korrelationsanalyse:** Untersuchung der Korrelation zwischen Ernährungsmustern und Krankheitsrisiken.\n",
        "- **Regressionsmodelle:** Erstelle Regressionsmodelle, um den Einfluss der Ernährung auf Krankheitsrisiken zu quantifizieren.\n",
        "\n",
        "**4. Identifikation unausgewogener Ernährungsmuster**\n",
        "- **Vergleich mit Empfehlungen:** Vergleiche der identifizierten Ernährungsmuster mit offiziellen Ernährungsempfehlungen.\n",
        "- **Identifikation von Defizien/Überschüssen:** Bestimmung, welche Muster potenziell unausgewogen sind (z.B. zu wenig Protein, zu viel Zucker).\n",
        "\n",
        "**5. Vergleich von Personen mit und ohne Krankheit**\n",
        "- **Gruppenvergleich:** Vergleich der Ernähungsprofile von Personen mit und ohne Krankheiten.\n",
        "- **Statistische Tests:** Verwendung von Tests wie dem t-Test, um signifikante Unterschiede zu identifizieren.\n",
        "\n",
        "**6. Empfehlungen basierend auf Clusterbildung**\n",
        "- **Personalisierte Empfehlungen:** Erstellung von personalisierten Ernährungsempfehlungen basierend auf den identifizierten Clustern.\n",
        "- **Berücksichtigung von Krankheiten:** Integration von offiziellen Empfehlungen für bestimmte Krankheiten in die personalisierten Empfehlungen.\n",
        "\n",
        "\n",
        "---\n",
        "\n",
        "###  2.4 Kommunikation für Entscheider\n",
        "\n",
        "- Visualisierung der Resultate (Dashboards, Diagramme)  \n",
        "- Empfehlungen je Zielgruppe  \n",
        "- Ableitung konkreter Maßnahmen oder Produktideen\n",
        "\n",
        "---\n",
        "\n",
        "##  3. Datenmanagement & Datensammlung\n",
        "\n",
        "###  3.1 Datenquellen\n",
        "\n",
        "#### **Verwendete Datensätze**\n",
        "\n",
        "1. **Detailed Meals Macros CLEANED** (Kaggle)  \n",
        "   - Personenbezogene Merkmale: Alter, Geschlecht, Grösse, Gewicht, Aktivitätslevel  \n",
        "   - Nährwertprofile der Mahlzeiten (Frühstück, Mittagessen, Abendessen, Snacks)  \n",
        "   - Krankheitsstatus (z. B. Hypertension, Diabetes, Weight Gain)\n",
        "\n",
        "2. **Food and Nutrition Dataset** (Kaggle)  \n",
        "   - Nährwerte einzelner Lebensmittel (Makros & Mikros)  \n",
        "   - Ermöglicht detaillierte Aufschlüsselung komplexer Mahlzeiten\n",
        "\n",
        "3. **BLV Schweizer Referenzwerte**  \n",
        "   - Offizielle Empfehlungen zur idealen Nährstoffzufuhr\n"
      ]
    },
    {
      "cell_type": "markdown",
      "metadata": {
        "id": "Ihmehtcot-sf"
      },
      "source": []
    },
    {
      "cell_type": "markdown",
      "metadata": {
        "id": "OdcMvZN7_0wz"
      },
      "source": [
        "**Schritt 1: Importieren der benötigten Programme und Bibliotheken**"
      ]
    },
    {
      "cell_type": "code",
      "execution_count": null,
      "metadata": {
        "id": "naq3Kb8d-yRg"
      },
      "outputs": [],
      "source": [
        "#pip install scikit-learn\n",
        "#pip install kaggle"
      ]
    },
    {
      "cell_type": "code",
      "execution_count": null,
      "metadata": {
        "id": "h0lCli_GXZmD"
      },
      "outputs": [],
      "source": [
        "# Installation der benötigten Bibliotheken\n",
        "import pandas as pd\n",
        "import numpy as np\n",
        "import matplotlib.pyplot as plt\n",
        "import seaborn as sns\n",
        "from sklearn.preprocessing import StandardScaler\n",
        "from sklearn.cluster import KMeans\n",
        "from sklearn.model_selection import train_test_split\n",
        "from sklearn.metrics import classification_report\n",
        "from sklearn.tree import DecisionTreeClassifier\n",
        "from IPython.core.interactiveshell import InteractiveShell\n",
        "InteractiveShell.ast_node_interactivity = \"all\"\n",
        "# Installation der benötigten Bibliotheken\n",
        "import pandas as pd\n",
        "import numpy as np\n",
        "import matplotlib.pyplot as plt\n",
        "import seaborn as sns\n",
        "from sklearn.preprocessing import StandardScaler\n",
        "from sklearn.cluster import KMeans\n",
        "from sklearn.model_selection import train_test_split\n",
        "from sklearn.metrics import classification_report\n",
        "from sklearn.tree import DecisionTreeClassifier\n",
        "from sklearn.preprocessing import StandardScaler\n",
        "from sklearn.decomposition import PCA\n",
        "from sklearn.cluster import KMeans\n",
        "import pandas as pd\n",
        "import numpy as np\n",
        "from sklearn.preprocessing import StandardScaler\n",
        "from sklearn.decomposition import PCA\n",
        "from sklearn.cluster import KMeans\n",
        "from sklearn.model_selection import train_test_split\n",
        "from sklearn.ensemble import RandomForestClassifier\n",
        "from sklearn.metrics import classification_report\n",
        "import matplotlib.pyplot as plt\n",
        "import seaborn as sns\n",
        "import plotly.express as px\n"
      ]
    },
    {
      "cell_type": "markdown",
      "metadata": {
        "id": "gyaCqm0vYGcp"
      },
      "source": [
        "**Schritt 2: Daten erheben & kombinieren**\n",
        "\n",
        "**Datenvorbereitung**\n",
        "- **Datenimport:** Laden der notwendigen Datensätze\n",
        "- **Datenbereinigung:** Entfernung von fehlenden und unvollständigen Daten, normalisiere die Daten.\n",
        "- **Feature Engineering:** Erstellung neuer Features, die für die Analyse relevant sind (z.B. Mikronährstoffe, Kalorien)."
      ]
    },
    {
      "cell_type": "code",
      "execution_count": null,
      "metadata": {
        "colab": {
          "base_uri": "https://localhost:8080/",
          "height": 1000
        },
        "id": "kDE-8Rs7XZuc",
        "outputId": "10680c11-aaee-497d-8356-d7509ad0ea69"
      },
      "outputs": [],
      "source": [
        "# === Päckli 1a: Meals-Macros Cleaned ===\n",
        "print(\"\\n📦 Lade df_meals ...\")\n",
        "df_meals = pd.read_csv(\n",
        "    \"https://raw.githubusercontent.com/M2xAy/ffhs-datensaetze/refs/heads/main/Datasets/archive/detailed_meals_macros_CLEANED.csv\"\n",
        ")\n",
        "df_meals.info()\n",
        "display(df_meals.head(3))\n",
        "\n",
        "# === Päckli 1b: FOOD Nutrition ===\n",
        "print(\"\\n📦 Lade df_nutrition ...\")\n",
        "df_nutrition = pd.read_csv(\n",
        "    \"https://raw.githubusercontent.com/M2xAy/ffhs-datensaetze/refs/heads/main/Datasets/archive/Food_and_Nutrition__.csv\"\n",
        ")\n",
        "df_nutrition.info()\n",
        "display(df_nutrition.head(3))\n",
        "\n",
        "# === Päckli 2: FOOD DATA GROUPS ===\n",
        "print(\"\\n📦 Lade food_groups_combined ...\")\n",
        "food_data_urls = [\n",
        "    \"https://raw.githubusercontent.com/M2xAy/ffhs-datensaetze/refs/heads/main/Datasets/Kaggle/FINAL%20FOOD%20DATASET/FOOD-DATA-GROUP1.csv\",\n",
        "    \"https://raw.githubusercontent.com/M2xAy/ffhs-datensaetze/refs/heads/main/Datasets/Kaggle/FINAL%20FOOD%20DATASET/FOOD-DATA-GROUP2.csv\",\n",
        "    \"https://raw.githubusercontent.com/M2xAy/ffhs-datensaetze/refs/heads/main/Datasets/Kaggle/FINAL%20FOOD%20DATASET/FOOD-DATA-GROUP3.csv\",\n",
        "    \"https://raw.githubusercontent.com/M2xAy/ffhs-datensaetze/refs/heads/main/Datasets/Kaggle/FINAL%20FOOD%20DATASET/FOOD-DATA-GROUP4.csv\",\n",
        "    \"https://raw.githubusercontent.com/M2xAy/ffhs-datensaetze/refs/heads/main/Datasets/Kaggle/FINAL%20FOOD%20DATASET/FOOD-DATA-GROUP5.csv\",\n",
        "]\n",
        "food_data_dfs = [pd.read_csv(url) for url in food_data_urls]\n",
        "food_groups_combined = pd.concat(food_data_dfs, ignore_index=True)\n",
        "\n",
        "food_groups_combined.info()\n",
        "display(food_groups_combined.head(3))\n",
        "\n",
        "# === Päckli 3: BLV-Referenzwerte ===\n",
        "print(\"\\n📦 Lade blv_nutrient_requirements ...\")\n",
        "blv_nutrient_requirements = pd.read_csv(\n",
        "    \"https://raw.githubusercontent.com/M2xAy/ffhs-datensaetze/refs/heads/main/Datasets/BLV/Nutrient_requirements_CH-2022.csv\"\n",
        ")\n",
        "blv_nutrient_requirements.info()\n",
        "display(blv_nutrient_requirements.head(3))\n",
        "\n",
        "\n",
        "print(\"\\n📊 Übersicht aller geladenen DataFrames:\")\n",
        "\n",
        "dataframes = {\n",
        "    \"df_meals\": df_meals,\n",
        "    \"df_nutrition\": df_nutrition,\n",
        "    \"food_groups_combined\": food_groups_combined,\n",
        "    \"blv_nutrient_requirements\": blv_nutrient_requirements\n",
        "}\n",
        "\n",
        "for name, df in dataframes.items():\n",
        "    print(f\"- {name}: {df.shape[0]} Zeilen × {df.shape[1]} Spalten\")\n",
        "\n"
      ]
    },
    {
      "cell_type": "code",
      "execution_count": null,
      "metadata": {
        "colab": {
          "base_uri": "https://localhost:8080/"
        },
        "id": "PplBOUPybEve",
        "outputId": "de904076-42fb-4345-e871-8fb9b3ddba71"
      },
      "outputs": [],
      "source": [
        "# === 1. Fehlende Werte prüfen ===\n",
        "missing_counts = df_meals.isnull().sum()\n",
        "missing_total = df_meals.isnull().any(axis=1).sum()\n",
        "\n",
        "print(f\"\\n# 🔍 Anzahl ungültiger Zeilen mit fehlenden Werten: {missing_total}\")\n",
        "print(\"\\n# 🔍 Fehlende Werte pro Spalte:\")\n",
        "print(missing_counts[missing_counts > 0])\n",
        "\n",
        "# === 2. Entferne Zeilen mit fehlenden Werten in relevanten Spalten ===\n",
        "critical_columns = [\"Breakfast Carbohydrates\"]\n",
        "df_meals.dropna(subset=critical_columns, inplace=True)\n",
        "\n",
        "# Optional: Falls du *alle* NaN-Zeilen entfernen willst:\n",
        "# df_meals.dropna(inplace=True)\n",
        "\n",
        "# === 3. Duplikate entfernen ===\n",
        "df_meals.drop_duplicates(subset=[col for col in df_meals.columns if col != \"Disease_List\"], inplace=True)\n",
        "\n",
        "# === 4. Krankheiten vorbereiten ===\n",
        "df_meals[\"Disease_List\"] = df_meals[\"Disease\"].fillna(\"\").apply(lambda x: [d.strip() for d in x.split(\",\") if d.strip()])\n",
        "df_meals[\"Disease_Count\"] = df_meals[\"Disease_List\"].apply(len)\n",
        "df_meals[\"Disease_Tuple\"] = df_meals[\"Disease_List\"].apply(tuple)\n",
        "\n",
        "# === 5. Zusammenfassung ===\n",
        "print(f\"\\n# ✅ Anzahl verbleibender (gültiger) Datensätze: {len(df_meals)}\")\n",
        "print(f\"# 🧹 Bereinigt: {missing_total - df_meals.isnull().any(axis=1).sum()} ungültige Zeilen entfernt\")\n"
      ]
    },
    {
      "cell_type": "code",
      "execution_count": null,
      "metadata": {
        "colab": {
          "base_uri": "https://localhost:8080/"
        },
        "id": "qYNZt15-bcc5",
        "outputId": "3030771d-9a2c-4c60-84dc-2755b8b848c4"
      },
      "outputs": [],
      "source": [
        "# === 1. Fehlende Werte prüfen ===\n",
        "missing_counts = df_nutrition.isnull().sum()\n",
        "missing_total = df_nutrition.isnull().any(axis=1).sum()\n",
        "\n",
        "print(f\"\\n# 🔍 [df_nutrition] Anzahl ungültiger Zeilen mit fehlenden Werten: {missing_total}\")\n",
        "print(missing_counts[missing_counts > 0])\n",
        "\n",
        "# === 2. Entferne alle Zeilen mit fehlenden Werten\n",
        "df_nutrition.dropna(inplace=True)\n",
        "\n",
        "# === 3. Duplikate entfernen\n",
        "df_nutrition.drop_duplicates(inplace=True)\n",
        "\n",
        "# === 4. Zusammenfassung\n",
        "print(f\"# ✅ Verbleibende Datensätze: {len(df_nutrition)}\")\n",
        "print(f\"# 🧹 Bereinigt: {missing_total - df_nutrition.isnull().any(axis=1).sum()} ungültige Zeilen entfernt\")\n"
      ]
    },
    {
      "cell_type": "code",
      "execution_count": null,
      "metadata": {
        "colab": {
          "base_uri": "https://localhost:8080/"
        },
        "id": "sMD_RZK2XZwy",
        "outputId": "89512b5c-5942-47c9-ea3f-10cd056467ab"
      },
      "outputs": [],
      "source": [
        "# === 1. Fehlende Werte prüfen ===\n",
        "missing_counts = food_groups_combined.isnull().sum()\n",
        "missing_total = food_groups_combined.isnull().any(axis=1).sum()\n",
        "\n",
        "print(f\"\\n# 🔍 [food_groups_combined] Anzahl ungültiger Zeilen mit fehlenden Werten: {missing_total}\")\n",
        "print(missing_counts[missing_counts > 0])\n",
        "\n",
        "# === 2. Entferne alle Zeilen mit fehlenden Werten\n",
        "food_groups_combined.dropna(inplace=True)\n",
        "\n",
        "# === 3. Duplikate entfernen\n",
        "food_groups_combined.drop_duplicates(inplace=True)\n",
        "\n",
        "# === 4. Zusammenfassung\n",
        "print(f\"# ✅ Verbleibende Datensätze: {len(food_groups_combined)}\")\n",
        "print(f\"# 🧹 Bereinigt: {missing_total - food_groups_combined.isnull().any(axis=1).sum()} ungültige Zeilen entfernt\")\n"
      ]
    },
    {
      "cell_type": "code",
      "execution_count": null,
      "metadata": {
        "colab": {
          "base_uri": "https://localhost:8080/",
          "height": 473
        },
        "id": "lBPpwVDFXZ6p",
        "outputId": "9a5f570b-d8e9-4a8d-d40c-612e8cc79f1e"
      },
      "outputs": [],
      "source": [
        "# === 1. Fehlende Werte prüfen ===\n",
        "# 2. Nur Zeilen entfernen, die wirklich KOMPLETT leer sind\n",
        "blv_nutrient_requirements.dropna(how=\"all\", inplace=True)\n",
        "\n",
        "# 3. Spaltennamen säubern\n",
        "blv_nutrient_requirements.columns = (\n",
        "    blv_nutrient_requirements.columns\n",
        "    .str.replace(r'\\r\\n', ' ', regex=True)\n",
        "    .str.replace(r'[^\\w\\s\\(\\)/%.-]', '', regex=True)\n",
        "    .str.strip()\n",
        ")\n",
        "\n",
        "# 4. Jetzt NUR gezielt Sonderzeichen ersetzen (nicht sofort alles)\n",
        "# Noch KEIN dropna() mehr!\n",
        "print(f\"✅ Zeilen nach Reparatur: {len(blv_nutrient_requirements)}\")\n",
        "display(blv_nutrient_requirements.head(10))"
      ]
    },
    {
      "cell_type": "code",
      "execution_count": null,
      "metadata": {
        "id": "qVtCH411BBAD"
      },
      "outputs": [],
      "source": [
        "# === 1.1 eature Enginerring ===\n",
        "# === 🧬 Krankheiten vorbereiten ===\n",
        "df_meals[\"Disease_List\"] = df_meals[\"Disease\"].fillna(\"\").apply(lambda x: [d.strip() for d in x.split(\",\") if d.strip()])\n",
        "df_meals[\"Disease_Count\"] = df_meals[\"Disease_List\"].apply(len)\n",
        "df_meals[\"Has_Chronic\"] = df_meals[\"Disease_List\"].apply(\n",
        "    lambda lst: any(k in lst for k in [\"Diabetes\", \"Hypertension\", \"Heart Disease\", \"Kidney Disease\"])\n",
        ")\n",
        "df_meals[\"Multiple_Conditions\"] = (df_meals[\"Disease_Count\"] > 1).astype(int)\n",
        "df_meals[\"Target_Chronic\"] = df_meals[\"Has_Chronic\"].astype(int)\n",
        "\n",
        "# === 📏 Proteinbedarf nach BLV (0.8 g/kg Körpergewicht) ===\n",
        "blv_protein = 0.8\n",
        "df_meals[\"BLV_Protein_Need\"] = df_meals[\"Weight\"] * blv_protein\n",
        "\n",
        "# === 🔹 Makroverhältnisse ===\n",
        "df_meals[\"Protein_per_100kcal\"] = df_meals[\"Protein\"] / df_meals[\"Calories\"] * 100\n",
        "df_meals[\"Fat_to_Protein_Ratio\"] = df_meals[\"Fat\"] / (df_meals[\"Protein\"] + 1e-6)\n",
        "df_meals[\"Carb_to_Fat_Ratio\"] = df_meals[\"Carbohydrates\"] / (df_meals[\"Fat\"] + 1e-6)\n",
        "df_meals[\"Sugar_per_Carb\"] = df_meals[\"Sugar\"] / (df_meals[\"Carbohydrates\"] + 1e-6)\n",
        "\n",
        "# === 🔸 Zielüberschreitungen ===\n",
        "df_meals[\"Calories_exceed_target\"] = (df_meals[\"Calories\"] > df_meals[\"Daily Calorie Target\"]).astype(int)\n",
        "df_meals[\"Sugar_excess\"] = (df_meals[\"Sugar\"] > 50).astype(int)\n",
        "df_meals[\"Protein_deficit_ratio\"] = df_meals[\"Protein\"] / (df_meals[\"BLV_Protein_Need\"] + 1e-6)\n",
        "\n",
        "# === ⏰ Tagesstruktur-Features ===\n",
        "df_meals[\"Protein_Lunch_vs_Dinner\"] = df_meals[\"Lunch Protein\"] / (df_meals[\"Dinner Protein.1\"] + 1e-6)\n",
        "df_meals[\"Snack_Energy_Share\"] = df_meals[\"Snacks Calories\"] / df_meals[\"Daily Calorie Target\"]\n",
        "df_meals[\"Carb_ratio_breakfast\"] = df_meals[\"Breakfast Carbohydrates\"] / (df_meals[\"Carbohydrates\"] + 1e-6)\n",
        "\n",
        "# === 📊 Meta-Features ===\n",
        "df_meals[\"Protein_std\"] = df_meals[[\"Breakfast Protein\", \"Lunch Protein\", \"Dinner Protein.1\", \"Snacks Protein\"]].std(axis=1)\n",
        "df_meals[\"Macronutrient_Diversity\"] = df_meals[[\"Protein\", \"Fat\", \"Carbohydrates\", \"Fiber\", \"Sugar\"]].gt(0).sum(axis=1)\n",
        "\n",
        "# === ⚠️ Risikoindikator ===\n",
        "df_meals[\"Risk_Flag\"] = (\n",
        "    (df_meals[\"Sugar_excess\"] == 1) |\n",
        "    (df_meals[\"Calories_exceed_target\"] == 1) |\n",
        "    (df_meals[\"Protein_deficit_ratio\"] < 0.8)\n",
        ").astype(int)\n",
        "\n",
        "# ✅ Ergebnisvorschau (optional anzeigen)\n",
        "features_to_show = [\n",
        "    \"Protein_per_100kcal\", \"Fat_to_Protein_Ratio\", \"Carb_to_Fat_Ratio\", \"Sugar_per_Carb\",\n",
        "    \"Calories_exceed_target\", \"Sugar_excess\", \"Protein_deficit_ratio\",\n",
        "    \"Protein_Lunch_vs_Dinner\", \"Snack_Energy_Share\", \"Carb_ratio_breakfast\",\n",
        "    \"Protein_std\", \"Macronutrient_Diversity\",\n",
        "    \"Disease_Count\", \"Has_Chronic\", \"Multiple_Conditions\", \"Target_Chronic\", \"Risk_Flag\"\n",
        "]\n",
        "\n",
        "\n",
        "\n",
        "#########Feature Eng. für KAQ1#########\n",
        "# Neues Feature: Protein pro 100 kcal\n",
        "df_meals[\"Protein_per_100kcal\"] = df_meals[\"Protein\"] / df_meals[\"Calories\"] * 100\n",
        "\n",
        "# Neues Feature: Fett zu Protein Verhältnis\n",
        "df_meals[\"Fat_to_Protein_Ratio\"] = df_meals[\"Fat\"] / (df_meals[\"Protein\"] + 1e-6)  # Schutz gegen Division durch 0\n",
        "\n",
        "# Neues Feature: Zuckeranteil an Kohlenhydraten\n",
        "df_meals[\"Sugar_per_Carb\"] = df_meals[\"Sugar\"] / (df_meals[\"Carbohydrates\"] + 1e-6)\n",
        "\n",
        "# Neues Feature: Snack-Energie-Anteil\n",
        "df_meals[\"Snack_Energy_Share\"] = df_meals[\"Snacks Calories\"] / (df_meals[\"Daily Calorie Target\"] + 1e-6)\n",
        "\n",
        "# Neues Feature: Kohlenhydratanteil Frühstück\n",
        "df_meals[\"Carb_ratio_breakfast\"] = df_meals[\"Breakfast Carbohydrates\"] / (df_meals[\"Carbohydrates\"] + 1e-6)\n"
      ]
    },
    {
      "cell_type": "markdown",
      "metadata": {},
      "source": [
        "**Schritt 3: Analyse**\n",
        "\n",
        "**Schritt 3: 1. Explorative Datenanalyse (EDA)**\n",
        "\n",
        "- **Deskriptive Statistiken:** Berechnung von Mittelwerten, Medianen und Standardabweichungen für die Mikronährstoffprofile.\n",
        "- **Visualisierungen:** Erstellung von Diagrammen (Boxplots, Histogramme) zur Visualisierung der Verteilung der Nährstoffe."
      ]
    },
    {
      "cell_type": "code",
      "execution_count": null,
      "metadata": {},
      "outputs": [],
      "source": [
        "# =====================================\n",
        "# Schritt 3: Desktripitve Statistik und Visualisierungen - Teil 1 Mittelwerte, Verteilungen, Boxplots, Gruppenvergleiche\n",
        "# =====================================\n",
        "\n",
        "\n",
        "# ------------------------------\n",
        "# 3.1.1 Verteilung der Makronährstoffe\n",
        "# ------------------------------\n",
        "macro_columns = [\"Calories\", \"Protein\", \"Fat\", \"Sugar\", \"Sodium\", \"Carbohydrates\"]\n",
        "fig1, axes = plt.subplots(len(macro_columns), 1, figsize=(10, 20))\n",
        "\n",
        "for i, col in enumerate(macro_columns):\n",
        "    sns.histplot(df_meals[col], kde=True, ax=axes[i], color='skyblue')\n",
        "    axes[i].set_title(f\"Verteilung von {col}\", fontsize=12)\n",
        "    axes[i].set_xlabel(col)\n",
        "    axes[i].set_ylabel(\"Häufigkeit\")\n",
        "\n",
        "plt.tight_layout()\n",
        "plt.show()\n",
        "\n",
        "# ------------------------------\n",
        "# 3.1.2 Häufigkeit von Krankheiten\n",
        "# ------------------------------\n",
        "plt.figure(figsize=(10, 6))\n",
        "df_meals[\"Disease\"].value_counts().plot(kind=\"bar\", color=\"salmon\")\n",
        "plt.title(\"Häufigkeit von Krankheiten (kombiniert)\", fontsize=13)\n",
        "plt.xlabel(\"Krankheit(en)\")\n",
        "plt.ylabel(\"Anzahl Personen\")\n",
        "plt.xticks(rotation=45, ha='right')\n",
        "plt.tight_layout()\n",
        "plt.show()\n",
        "\n",
        "# ------------------------------\n",
        "# 3.1.3 Vergleich Kalorienaufnahme nach Geschlecht\n",
        "# ------------------------------\n",
        "plt.figure(figsize=(8, 6))\n",
        "sns.boxplot(data=df_meals, x=\"Gender\", y=\"Calories\", palette=\"pastel\")\n",
        "plt.title(\"Kalorienaufnahme nach Geschlecht\", fontsize=13)\n",
        "plt.xlabel(\"Geschlecht\")\n",
        "plt.ylabel(\"Kalorien\")\n",
        "plt.tight_layout()\n",
        "plt.show()\n",
        "\n",
        "\n",
        "\n",
        "\n",
        "# ------------------------------\n",
        "# Deskriptive Statistik mit erweiterten Kennzahlen\n",
        "# ------------------------------\n",
        "columns = [\"Calories\", \"Protein\", \"Fat\", \"Sugar\", \"Sodium\", \"Carbohydrates\"]\n",
        "desc_stats = df_meals[columns].describe().T  # count, mean, std, min, 25%, 50%, 75%, max\n",
        "desc_stats[\"median\"] = df_meals[columns].median()\n",
        "desc_stats[\"skewness\"] = df_meals[columns].skew()\n",
        "desc_stats[\"kurtosis\"] = df_meals[columns].kurt()\n",
        "\n",
        "# Ausgabe als Tabelle\n",
        "print(\"Deskriptive Statistik (inkl. Median, Schiefe & Kurtosis):\\n\")\n",
        "print(desc_stats.round(2))\n",
        "\n",
        "# ------------------------------\n",
        "# Korrelationen (Heatmap)\n",
        "# ------------------------------\n",
        "correlation_matrix = df_meals[columns].corr()\n",
        "\n",
        "plt.figure(figsize=(8, 6))\n",
        "sns.heatmap(correlation_matrix, annot=True, cmap=\"coolwarm\", fmt=\".2f\")\n",
        "plt.title(\"Korrelation zwischen Makronährstoffen\", fontsize=13)\n",
        "plt.tight_layout()\n",
        "plt.show()\n",
        "\n",
        "\n",
        "# ------------------------------\n",
        "# Deskriptive Statistik mit erweiterten Kennzahlen\n",
        "# ------------------------------\n",
        "columns = [\"Calories\", \"Protein\", \"Fat\", \"Sugar\", \"Sodium\", \"Carbohydrates\"]\n",
        "desc_stats = df_meals[columns].describe().T  # count, mean, std, min, 25%, 50%, 75%, max\n",
        "desc_stats[\"median\"] = df_meals[columns].median()\n",
        "desc_stats[\"skewness\"] = df_meals[columns].skew()\n",
        "desc_stats[\"kurtosis\"] = df_meals[columns].kurt()\n",
        "\n",
        "# Ausgabe als Tabelle\n",
        "print(\"Deskriptive Statistik (inkl. Median, Schiefe & Kurtosis):\\n\")\n",
        "print(desc_stats.round(2))\n",
        "\n"
      ]
    },
    {
      "cell_type": "markdown",
      "metadata": {},
      "source": [
        "**Schritt 3: 2. Ernährungsmuster identifizieren**\n",
        "\n",
        "- **Clusteranalyse:** Verwendung von Algorithmen wie K-Means oder Hierarchical Clustering, um Ernährungsmuster zu identifizieren.\n",
        "Die 12 berechnete Ernähtungs Features werden  mit dropna nach unvollständige gfiltert und die unvollständige werden entfernt, nach dr Standardtiserung(Alle Features werden auf den selben Masstab verbracht) der Daten welche wichtig sind. fFür PCA & Clustering wird PCA reduziert auf 2d welche für visualsierungen ebenfalls gut ist. Es wird eine KMeans-Clustering durch geführt welche basierend auf PCA-Werten sind.\n",
        "Schlussendlich werden PCA Werten in seperaten Data Frames gespeichert. Anschliesedn wird eine PCA 2D-Scaterplot  cluster visualsiert.\n",
        "Mit dem Model RandomForest wird auf target_chronic (Kronsiche Krankheit trainsiert)\n",
        "- **Interpretation der Cluster:** Analysiere die Cluster, um typische Ernährungsmuster zu beschreiben."
      ]
    },
    {
      "cell_type": "code",
      "execution_count": null,
      "metadata": {
        "colab": {
          "base_uri": "https://localhost:8080/",
          "height": 1000
        },
        "id": "ULKW_G9jMZrZ",
        "outputId": "c8cdc61f-28d6-423d-dc23-f4d6461335a7"
      },
      "outputs": [
        {
          "data": {
            "text/plain": [
              "<Figure size 1000x600 with 0 Axes>"
            ]
          },
          "execution_count": 109,
          "metadata": {},
          "output_type": "execute_result"
        },
        {
          "data": {
            "text/plain": [
              "<matplotlib.collections.PathCollection at 0x14ac6e370>"
            ]
          },
          "execution_count": 109,
          "metadata": {},
          "output_type": "execute_result"
        },
        {
          "data": {
            "text/plain": [
              "Text(1.1917723792418133, 0.6673809794463152, '🟢 Cluster 0:\\nProteinreich\\nNiedriges Risiko')"
            ]
          },
          "execution_count": 109,
          "metadata": {},
          "output_type": "execute_result"
        },
        {
          "data": {
            "text/plain": [
              "Text(-1.748838063579604, 0.5162915930369298, '🟠 Cluster 1:\\nSnacklastig\\nMittleres Risiko')"
            ]
          },
          "execution_count": 109,
          "metadata": {},
          "output_type": "execute_result"
        },
        {
          "data": {
            "text/plain": [
              "Text(0.13742194088270882, -1.7245920826523728, '🔵 Cluster 2:\\nCarb-Frühstück\\nHöchstes Risiko')"
            ]
          },
          "execution_count": 109,
          "metadata": {},
          "output_type": "execute_result"
        },
        {
          "data": {
            "text/plain": [
              "Text(0.5, 1.0, 'KAQ 1: Ernährungsmuster-Clustering (beschriftet)')"
            ]
          },
          "execution_count": 109,
          "metadata": {},
          "output_type": "execute_result"
        },
        {
          "data": {
            "text/plain": [
              "Text(0.5, 0, 'PCA 1')"
            ]
          },
          "execution_count": 109,
          "metadata": {},
          "output_type": "execute_result"
        },
        {
          "data": {
            "text/plain": [
              "Text(0, 0.5, 'PCA 2')"
            ]
          },
          "execution_count": 109,
          "metadata": {},
          "output_type": "execute_result"
        },
        {
          "name": "stderr",
          "output_type": "stream",
          "text": [
            "/var/folders/7f/11912_rn5y34qkv95bl25kvc0000gn/T/ipykernel_78681/1383098225.py:70: UserWarning:\n",
            "\n",
            "Glyph 128994 (\\N{LARGE GREEN CIRCLE}) missing from font(s) DejaVu Sans.\n",
            "\n",
            "/var/folders/7f/11912_rn5y34qkv95bl25kvc0000gn/T/ipykernel_78681/1383098225.py:70: UserWarning:\n",
            "\n",
            "Glyph 128992 (\\N{LARGE ORANGE CIRCLE}) missing from font(s) DejaVu Sans.\n",
            "\n",
            "/var/folders/7f/11912_rn5y34qkv95bl25kvc0000gn/T/ipykernel_78681/1383098225.py:70: UserWarning:\n",
            "\n",
            "Glyph 128309 (\\N{LARGE BLUE CIRCLE}) missing from font(s) DejaVu Sans.\n",
            "\n",
            "/Users/muratayhekim/Library/Python/3.9/lib/python/site-packages/IPython/core/pylabtools.py:152: UserWarning:\n",
            "\n",
            "Glyph 128994 (\\N{LARGE GREEN CIRCLE}) missing from font(s) DejaVu Sans.\n",
            "\n",
            "/Users/muratayhekim/Library/Python/3.9/lib/python/site-packages/IPython/core/pylabtools.py:152: UserWarning:\n",
            "\n",
            "Glyph 128992 (\\N{LARGE ORANGE CIRCLE}) missing from font(s) DejaVu Sans.\n",
            "\n",
            "/Users/muratayhekim/Library/Python/3.9/lib/python/site-packages/IPython/core/pylabtools.py:152: UserWarning:\n",
            "\n",
            "Glyph 128309 (\\N{LARGE BLUE CIRCLE}) missing from font(s) DejaVu Sans.\n",
            "\n"
          ]
        },
        {
          "data": {
            "image/png": "[encoded data removed]",
            "text/plain": [
              "<Figure size 1000x600 with 1 Axes>"
            ]
          },
          "metadata": {},
          "output_type": "display_data"
        },
        {
          "data": {
            "text/plain": [
              "<Figure size 1000x600 with 0 Axes>"
            ]
          },
          "execution_count": 109,
          "metadata": {},
          "output_type": "execute_result"
        },
        {
          "data": {
            "text/plain": [
              "<matplotlib.collections.PathCollection at 0x14acd7700>"
            ]
          },
          "execution_count": 109,
          "metadata": {},
          "output_type": "execute_result"
        },
        {
          "data": {
            "text/plain": [
              "Text(-1.725835883938448, 0.1509431746017198, '🟢 Cluster 0:\\nProteinreich')"
            ]
          },
          "execution_count": 109,
          "metadata": {},
          "output_type": "execute_result"
        },
        {
          "data": {
            "text/plain": [
              "Text(2.0114440236583255, 1.6544744824249111, '🟠 Cluster 1:\\nFett-/Zuckerreich')"
            ]
          },
          "execution_count": 109,
          "metadata": {},
          "output_type": "execute_result"
        },
        {
          "data": {
            "text/plain": [
              "Text(1.8955362060616292, -1.996182523420262, '🔵 Cluster 2:\\nCarblastig')"
            ]
          },
          "execution_count": 109,
          "metadata": {},
          "output_type": "execute_result"
        },
        {
          "data": {
            "text/plain": [
              "Text(0.5, 1.0, 'Clustering auf Protein, Fett, Carbs, Zucker (beschriftet)')"
            ]
          },
          "execution_count": 109,
          "metadata": {},
          "output_type": "execute_result"
        },
        {
          "data": {
            "text/plain": [
              "Text(0.5, 0, 'PCA 1')"
            ]
          },
          "execution_count": 109,
          "metadata": {},
          "output_type": "execute_result"
        },
        {
          "data": {
            "text/plain": [
              "Text(0, 0.5, 'PCA 2')"
            ]
          },
          "execution_count": 109,
          "metadata": {},
          "output_type": "execute_result"
        },
        {
          "name": "stderr",
          "output_type": "stream",
          "text": [
            "/var/folders/7f/11912_rn5y34qkv95bl25kvc0000gn/T/ipykernel_78681/1383098225.py:108: UserWarning:\n",
            "\n",
            "Glyph 128994 (\\N{LARGE GREEN CIRCLE}) missing from font(s) DejaVu Sans.\n",
            "\n",
            "/var/folders/7f/11912_rn5y34qkv95bl25kvc0000gn/T/ipykernel_78681/1383098225.py:108: UserWarning:\n",
            "\n",
            "Glyph 128992 (\\N{LARGE ORANGE CIRCLE}) missing from font(s) DejaVu Sans.\n",
            "\n",
            "/var/folders/7f/11912_rn5y34qkv95bl25kvc0000gn/T/ipykernel_78681/1383098225.py:108: UserWarning:\n",
            "\n",
            "Glyph 128309 (\\N{LARGE BLUE CIRCLE}) missing from font(s) DejaVu Sans.\n",
            "\n",
            "/Users/muratayhekim/Library/Python/3.9/lib/python/site-packages/IPython/core/pylabtools.py:152: UserWarning:\n",
            "\n",
            "Glyph 128994 (\\N{LARGE GREEN CIRCLE}) missing from font(s) DejaVu Sans.\n",
            "\n",
            "/Users/muratayhekim/Library/Python/3.9/lib/python/site-packages/IPython/core/pylabtools.py:152: UserWarning:\n",
            "\n",
            "Glyph 128992 (\\N{LARGE ORANGE CIRCLE}) missing from font(s) DejaVu Sans.\n",
            "\n",
            "/Users/muratayhekim/Library/Python/3.9/lib/python/site-packages/IPython/core/pylabtools.py:152: UserWarning:\n",
            "\n",
            "Glyph 128309 (\\N{LARGE BLUE CIRCLE}) missing from font(s) DejaVu Sans.\n",
            "\n"
          ]
        },
        {
          "data": {
            "image/png": "[encoded data removed]",
            "text/plain": [
              "<Figure size 1000x600 with 1 Axes>"
            ]
          },
          "metadata": {},
          "output_type": "display_data"
        },
        {
          "data": {
            "application/vnd.plotly.v1+json": {
              "config": {
                "plotlyServerURL": "https://plot.ly"
              },
              "data": [
                {
                  "alignmentgroup": "True",
                  "hovertemplate": "Wert=%{x}<br>Feature=%{y}<br>Cluster=%{marker.color}<extra></extra>",
                  "legendgroup": "",
                  "marker": {
                    "color": {
                      "bdata": "AAAAAAEAAAACAAAAAAAAAAEAAAACAAAAAAAAAAEAAAACAAAAAAAAAAEAAAACAAAAAAAAAAEAAAACAAAAAAAAAAEAAAACAAAAAAAAAAEAAAACAAAA",
                      "dtype": "i4"
                    },
                    "coloraxis": "coloraxis",
                    "pattern": {
                      "shape": ""
                    }
                  },
                  "name": "",
                  "offsetgroup": "",
                  "orientation": "h",
                  "showlegend": false,
                  "textposition": "auto",
                  "type": "bar",
                  "x": {
                    "bdata": "hzcqtEPPHEB7sIYJfrMSQNVy+OWUBhtAKG/CYhnL2z+UNU9CowvnP2r+nXX3U98/Mk36/f//3z9ENPj9///fPzvt5vz//98/ycCnLZ4utT/HmcO2mFa5P6/tjFC7ysA/OE7qmE+6xD+vi+DPyVnGP60Nm7jN0NI/dwKviS8vtj+cJ9+RYYPYP+0b1r5h7as/vzHCSAiUCEDggA5smTT5P4V8Or5iaP8/",
                    "dtype": "f8"
                  },
                  "xaxis": "x",
                  "y": [
                    "Protein_per_100kcal",
                    "Protein_per_100kcal",
                    "Protein_per_100kcal",
                    "Fat_to_Protein_Ratio",
                    "Fat_to_Protein_Ratio",
                    "Fat_to_Protein_Ratio",
                    "Sugar_per_Carb",
                    "Sugar_per_Carb",
                    "Sugar_per_Carb",
                    "Snack_Energy_Share",
                    "Snack_Energy_Share",
                    "Snack_Energy_Share",
                    "Carb_ratio_breakfast",
                    "Carb_ratio_breakfast",
                    "Carb_ratio_breakfast",
                    "Calories_exceed_target",
                    "Calories_exceed_target",
                    "Calories_exceed_target",
                    "Protein_deficit_ratio",
                    "Protein_deficit_ratio",
                    "Protein_deficit_ratio"
                  ],
                  "yaxis": "y"
                }
              ],
              "layout": {
                "barmode": "group",
                "coloraxis": {
                  "colorbar": {
                    "title": {
                      "text": "Cluster"
                    }
                  },
                  "colorscale": [
                    [
                      0,
                      "#0d0887"
                    ],
                    [
                      0.1111111111111111,
                      "#46039f"
                    ],
                    [
                      0.2222222222222222,
                      "#7201a8"
                    ],
                    [
                      0.3333333333333333,
                      "#9c179e"
                    ],
                    [
                      0.4444444444444444,
                      "#bd3786"
                    ],
                    [
                      0.5555555555555556,
                      "#d8576b"
                    ],
                    [
                      0.6666666666666666,
                      "#ed7953"
                    ],
                    [
                      0.7777777777777778,
                      "#fb9f3a"
                    ],
                    [
                      0.8888888888888888,
                      "#fdca26"
                    ],
                    [
                      1,
                      "#f0f921"
                    ]
                  ]
                },
                "height": 600,
                "legend": {
                  "title": {
                    "text": "Cluster"
                  },
                  "tracegroupgap": 0
                },
                "template": {
                  "data": {
                    "bar": [
                      {
                        "error_x": {
                          "color": "#2a3f5f"
                        },
                        "error_y": {
                          "color": "#2a3f5f"
                        },
                        "marker": {
                          "line": {
                            "color": "white",
                            "width": 0.5
                          },
                          "pattern": {
                            "fillmode": "overlay",
                            "size": 10,
                            "solidity": 0.2
                          }
                        },
                        "type": "bar"
                      }
                    ],
                    "barpolar": [
                      {
                        "marker": {
                          "line": {
                            "color": "white",
                            "width": 0.5
                          },
                          "pattern": {
                            "fillmode": "overlay",
                            "size": 10,
                            "solidity": 0.2
                          }
                        },
                        "type": "barpolar"
                      }
                    ],
                    "carpet": [
                      {
                        "aaxis": {
                          "endlinecolor": "#2a3f5f",
                          "gridcolor": "#C8D4E3",
                          "linecolor": "#C8D4E3",
                          "minorgridcolor": "#C8D4E3",
                          "startlinecolor": "#2a3f5f"
                        },
                        "baxis": {
                          "endlinecolor": "#2a3f5f",
                          "gridcolor": "#C8D4E3",
                          "linecolor": "#C8D4E3",
                          "minorgridcolor": "#C8D4E3",
                          "startlinecolor": "#2a3f5f"
                        },
                        "type": "carpet"
                      }
                    ],
                    "choropleth": [
                      {
                        "colorbar": {
                          "outlinewidth": 0,
                          "ticks": ""
                        },
                        "type": "choropleth"
                      }
                    ],
                    "contour": [
                      {
                        "colorbar": {
                          "outlinewidth": 0,
                          "ticks": ""
                        },
                        "colorscale": [
                          [
                            0,
                            "#0d0887"
                          ],
                          [
                            0.1111111111111111,
                            "#46039f"
                          ],
                          [
                            0.2222222222222222,
                            "#7201a8"
                          ],
                          [
                            0.3333333333333333,
                            "#9c179e"
                          ],
                          [
                            0.4444444444444444,
                            "#bd3786"
                          ],
                          [
                            0.5555555555555556,
                            "#d8576b"
                          ],
                          [
                            0.6666666666666666,
                            "#ed7953"
                          ],
                          [
                            0.7777777777777778,
                            "#fb9f3a"
                          ],
                          [
                            0.8888888888888888,
                            "#fdca26"
                          ],
                          [
                            1,
                            "#f0f921"
                          ]
                        ],
                        "type": "contour"
                      }
                    ],
                    "contourcarpet": [
                      {
                        "colorbar": {
                          "outlinewidth": 0,
                          "ticks": ""
                        },
                        "type": "contourcarpet"
                      }
                    ],
                    "heatmap": [
                      {
                        "colorbar": {
                          "outlinewidth": 0,
                          "ticks": ""
                        },
                        "colorscale": [
                          [
                            0,
                            "#0d0887"
                          ],
                          [
                            0.1111111111111111,
                            "#46039f"
                          ],
                          [
                            0.2222222222222222,
                            "#7201a8"
                          ],
                          [
                            0.3333333333333333,
                            "#9c179e"
                          ],
                          [
                            0.4444444444444444,
                            "#bd3786"
                          ],
                          [
                            0.5555555555555556,
                            "#d8576b"
                          ],
                          [
                            0.6666666666666666,
                            "#ed7953"
                          ],
                          [
                            0.7777777777777778,
                            "#fb9f3a"
                          ],
                          [
                            0.8888888888888888,
                            "#fdca26"
                          ],
                          [
                            1,
                            "#f0f921"
                          ]
                        ],
                        "type": "heatmap"
                      }
                    ],
                    "histogram": [
                      {
                        "marker": {
                          "pattern": {
                            "fillmode": "overlay",
                            "size": 10,
                            "solidity": 0.2
                          }
                        },
                        "type": "histogram"
                      }
                    ],
                    "histogram2d": [
                      {
                        "colorbar": {
                          "outlinewidth": 0,
                          "ticks": ""
                        },
                        "colorscale": [
                          [
                            0,
                            "#0d0887"
                          ],
                          [
                            0.1111111111111111,
                            "#46039f"
                          ],
                          [
                            0.2222222222222222,
                            "#7201a8"
                          ],
                          [
                            0.3333333333333333,
                            "#9c179e"
                          ],
                          [
                            0.4444444444444444,
                            "#bd3786"
                          ],
                          [
                            0.5555555555555556,
                            "#d8576b"
                          ],
                          [
                            0.6666666666666666,
                            "#ed7953"
                          ],
                          [
                            0.7777777777777778,
                            "#fb9f3a"
                          ],
                          [
                            0.8888888888888888,
                            "#fdca26"
                          ],
                          [
                            1,
                            "#f0f921"
                          ]
                        ],
                        "type": "histogram2d"
                      }
                    ],
                    "histogram2dcontour": [
                      {
                        "colorbar": {
                          "outlinewidth": 0,
                          "ticks": ""
                        },
                        "colorscale": [
                          [
                            0,
                            "#0d0887"
                          ],
                          [
                            0.1111111111111111,
                            "#46039f"
                          ],
                          [
                            0.2222222222222222,
                            "#7201a8"
                          ],
                          [
                            0.3333333333333333,
                            "#9c179e"
                          ],
                          [
                            0.4444444444444444,
                            "#bd3786"
                          ],
                          [
                            0.5555555555555556,
                            "#d8576b"
                          ],
                          [
                            0.6666666666666666,
                            "#ed7953"
                          ],
                          [
                            0.7777777777777778,
                            "#fb9f3a"
                          ],
                          [
                            0.8888888888888888,
                            "#fdca26"
                          ],
                          [
                            1,
                            "#f0f921"
                          ]
                        ],
                        "type": "histogram2dcontour"
                      }
                    ],
                    "mesh3d": [
                      {
                        "colorbar": {
                          "outlinewidth": 0,
                          "ticks": ""
                        },
                        "type": "mesh3d"
                      }
                    ],
                    "parcoords": [
                      {
                        "line": {
                          "colorbar": {
                            "outlinewidth": 0,
                            "ticks": ""
                          }
                        },
                        "type": "parcoords"
                      }
                    ],
                    "pie": [
                      {
                        "automargin": true,
                        "type": "pie"
                      }
                    ],
                    "scatter": [
                      {
                        "fillpattern": {
                          "fillmode": "overlay",
                          "size": 10,
                          "solidity": 0.2
                        },
                        "type": "scatter"
                      }
                    ],
                    "scatter3d": [
                      {
                        "line": {
                          "colorbar": {
                            "outlinewidth": 0,
                            "ticks": ""
                          }
                        },
                        "marker": {
                          "colorbar": {
                            "outlinewidth": 0,
                            "ticks": ""
                          }
                        },
                        "type": "scatter3d"
                      }
                    ],
                    "scattercarpet": [
                      {
                        "marker": {
                          "colorbar": {
                            "outlinewidth": 0,
                            "ticks": ""
                          }
                        },
                        "type": "scattercarpet"
                      }
                    ],
                    "scattergeo": [
                      {
                        "marker": {
                          "colorbar": {
                            "outlinewidth": 0,
                            "ticks": ""
                          }
                        },
                        "type": "scattergeo"
                      }
                    ],
                    "scattergl": [
                      {
                        "marker": {
                          "colorbar": {
                            "outlinewidth": 0,
                            "ticks": ""
                          }
                        },
                        "type": "scattergl"
                      }
                    ],
                    "scattermap": [
                      {
                        "marker": {
                          "colorbar": {
                            "outlinewidth": 0,
                            "ticks": ""
                          }
                        },
                        "type": "scattermap"
                      }
                    ],
                    "scattermapbox": [
                      {
                        "marker": {
                          "colorbar": {
                            "outlinewidth": 0,
                            "ticks": ""
                          }
                        },
                        "type": "scattermapbox"
                      }
                    ],
                    "scatterpolar": [
                      {
                        "marker": {
                          "colorbar": {
                            "outlinewidth": 0,
                            "ticks": ""
                          }
                        },
                        "type": "scatterpolar"
                      }
                    ],
                    "scatterpolargl": [
                      {
                        "marker": {
                          "colorbar": {
                            "outlinewidth": 0,
                            "ticks": ""
                          }
                        },
                        "type": "scatterpolargl"
                      }
                    ],
                    "scatterternary": [
                      {
                        "marker": {
                          "colorbar": {
                            "outlinewidth": 0,
                            "ticks": ""
                          }
                        },
                        "type": "scatterternary"
                      }
                    ],
                    "surface": [
                      {
                        "colorbar": {
                          "outlinewidth": 0,
                          "ticks": ""
                        },
                        "colorscale": [
                          [
                            0,
                            "#0d0887"
                          ],
                          [
                            0.1111111111111111,
                            "#46039f"
                          ],
                          [
                            0.2222222222222222,
                            "#7201a8"
                          ],
                          [
                            0.3333333333333333,
                            "#9c179e"
                          ],
                          [
                            0.4444444444444444,
                            "#bd3786"
                          ],
                          [
                            0.5555555555555556,
                            "#d8576b"
                          ],
                          [
                            0.6666666666666666,
                            "#ed7953"
                          ],
                          [
                            0.7777777777777778,
                            "#fb9f3a"
                          ],
                          [
                            0.8888888888888888,
                            "#fdca26"
                          ],
                          [
                            1,
                            "#f0f921"
                          ]
                        ],
                        "type": "surface"
                      }
                    ],
                    "table": [
                      {
                        "cells": {
                          "fill": {
                            "color": "#EBF0F8"
                          },
                          "line": {
                            "color": "white"
                          }
                        },
                        "header": {
                          "fill": {
                            "color": "#C8D4E3"
                          },
                          "line": {
                            "color": "white"
                          }
                        },
                        "type": "table"
                      }
                    ]
                  },
                  "layout": {
                    "annotationdefaults": {
                      "arrowcolor": "#2a3f5f",
                      "arrowhead": 0,
                      "arrowwidth": 1
                    },
                    "autotypenumbers": "strict",
                    "coloraxis": {
                      "colorbar": {
                        "outlinewidth": 0,
                        "ticks": ""
                      }
                    },
                    "colorscale": {
                      "diverging": [
                        [
                          0,
                          "#8e0152"
                        ],
                        [
                          0.1,
                          "#c51b7d"
                        ],
                        [
                          0.2,
                          "#de77ae"
                        ],
                        [
                          0.3,
                          "#f1b6da"
                        ],
                        [
                          0.4,
                          "#fde0ef"
                        ],
                        [
                          0.5,
                          "#f7f7f7"
                        ],
                        [
                          0.6,
                          "#e6f5d0"
                        ],
                        [
                          0.7,
                          "#b8e186"
                        ],
                        [
                          0.8,
                          "#7fbc41"
                        ],
                        [
                          0.9,
                          "#4d9221"
                        ],
                        [
                          1,
                          "#276419"
                        ]
                      ],
                      "sequential": [
                        [
                          0,
                          "#0d0887"
                        ],
                        [
                          0.1111111111111111,
                          "#46039f"
                        ],
                        [
                          0.2222222222222222,
                          "#7201a8"
                        ],
                        [
                          0.3333333333333333,
                          "#9c179e"
                        ],
                        [
                          0.4444444444444444,
                          "#bd3786"
                        ],
                        [
                          0.5555555555555556,
                          "#d8576b"
                        ],
                        [
                          0.6666666666666666,
                          "#ed7953"
                        ],
                        [
                          0.7777777777777778,
                          "#fb9f3a"
                        ],
                        [
                          0.8888888888888888,
                          "#fdca26"
                        ],
                        [
                          1,
                          "#f0f921"
                        ]
                      ],
                      "sequentialminus": [
                        [
                          0,
                          "#0d0887"
                        ],
                        [
                          0.1111111111111111,
                          "#46039f"
                        ],
                        [
                          0.2222222222222222,
                          "#7201a8"
                        ],
                        [
                          0.3333333333333333,
                          "#9c179e"
                        ],
                        [
                          0.4444444444444444,
                          "#bd3786"
                        ],
                        [
                          0.5555555555555556,
                          "#d8576b"
                        ],
                        [
                          0.6666666666666666,
                          "#ed7953"
                        ],
                        [
                          0.7777777777777778,
                          "#fb9f3a"
                        ],
                        [
                          0.8888888888888888,
                          "#fdca26"
                        ],
                        [
                          1,
                          "#f0f921"
                        ]
                      ]
                    },
                    "colorway": [
                      "#636efa",
                      "#EF553B",
                      "#00cc96",
                      "#ab63fa",
                      "#FFA15A",
                      "#19d3f3",
                      "#FF6692",
                      "#B6E880",
                      "#FF97FF",
                      "#FECB52"
                    ],
                    "font": {
                      "color": "#2a3f5f"
                    },
                    "geo": {
                      "bgcolor": "white",
                      "lakecolor": "white",
                      "landcolor": "white",
                      "showlakes": true,
                      "showland": true,
                      "subunitcolor": "#C8D4E3"
                    },
                    "hoverlabel": {
                      "align": "left"
                    },
                    "hovermode": "closest",
                    "mapbox": {
                      "style": "light"
                    },
                    "paper_bgcolor": "white",
                    "plot_bgcolor": "white",
                    "polar": {
                      "angularaxis": {
                        "gridcolor": "#EBF0F8",
                        "linecolor": "#EBF0F8",
                        "ticks": ""
                      },
                      "bgcolor": "white",
                      "radialaxis": {
                        "gridcolor": "#EBF0F8",
                        "linecolor": "#EBF0F8",
                        "ticks": ""
                      }
                    },
                    "scene": {
                      "xaxis": {
                        "backgroundcolor": "white",
                        "gridcolor": "#DFE8F3",
                        "gridwidth": 2,
                        "linecolor": "#EBF0F8",
                        "showbackground": true,
                        "ticks": "",
                        "zerolinecolor": "#EBF0F8"
                      },
                      "yaxis": {
                        "backgroundcolor": "white",
                        "gridcolor": "#DFE8F3",
                        "gridwidth": 2,
                        "linecolor": "#EBF0F8",
                        "showbackground": true,
                        "ticks": "",
                        "zerolinecolor": "#EBF0F8"
                      },
                      "zaxis": {
                        "backgroundcolor": "white",
                        "gridcolor": "#DFE8F3",
                        "gridwidth": 2,
                        "linecolor": "#EBF0F8",
                        "showbackground": true,
                        "ticks": "",
                        "zerolinecolor": "#EBF0F8"
                      }
                    },
                    "shapedefaults": {
                      "line": {
                        "color": "#2a3f5f"
                      }
                    },
                    "ternary": {
                      "aaxis": {
                        "gridcolor": "#DFE8F3",
                        "linecolor": "#A2B1C6",
                        "ticks": ""
                      },
                      "baxis": {
                        "gridcolor": "#DFE8F3",
                        "linecolor": "#A2B1C6",
                        "ticks": ""
                      },
                      "bgcolor": "white",
                      "caxis": {
                        "gridcolor": "#DFE8F3",
                        "linecolor": "#A2B1C6",
                        "ticks": ""
                      }
                    },
                    "title": {
                      "x": 0.05
                    },
                    "xaxis": {
                      "automargin": true,
                      "gridcolor": "#EBF0F8",
                      "linecolor": "#EBF0F8",
                      "ticks": "",
                      "title": {
                        "standoff": 15
                      },
                      "zerolinecolor": "#EBF0F8",
                      "zerolinewidth": 2
                    },
                    "yaxis": {
                      "automargin": true,
                      "gridcolor": "#EBF0F8",
                      "linecolor": "#EBF0F8",
                      "ticks": "",
                      "title": {
                        "standoff": 15
                      },
                      "zerolinecolor": "#EBF0F8",
                      "zerolinewidth": 2
                    }
                  }
                },
                "title": {
                  "text": "Ernährungsmuster je Cluster (features_kaq1)"
                },
                "xaxis": {
                  "anchor": "y",
                  "domain": [
                    0,
                    1
                  ],
                  "title": {
                    "text": "Durchschnittlicher Wert"
                  }
                },
                "yaxis": {
                  "anchor": "x",
                  "domain": [
                    0,
                    1
                  ],
                  "title": {
                    "text": "Feature"
                  }
                }
              }
            }
          },
          "metadata": {},
          "output_type": "display_data"
        },
        {
          "data": {
            "application/vnd.plotly.v1+json": {
              "config": {
                "plotlyServerURL": "https://plot.ly"
              },
              "data": [
                {
                  "alignmentgroup": "True",
                  "hovertemplate": "Wert=%{x}<br>Feature=%{y}<br>Cluster=%{marker.color}<extra></extra>",
                  "legendgroup": "",
                  "marker": {
                    "color": {
                      "bdata": "AAAAAAEAAAACAAAAAAAAAAEAAAACAAAAAAAAAAEAAAACAAAAAAAAAAEAAAACAAAAAAAAAAEAAAACAAAAAAAAAAEAAAACAAAAAAAAAAEAAAACAAAA",
                      "dtype": "i4"
                    },
                    "coloraxis": "coloraxis",
                    "pattern": {
                      "shape": ""
                    }
                  },
                  "name": "",
                  "offsetgroup": "",
                  "orientation": "h",
                  "showlegend": false,
                  "textposition": "auto",
                  "type": "bar",
                  "x": {
                    "bdata": "hzcqtEPPHEB7sIYJfrMSQNVy+OWUBhtAKG/CYhnL2z+UNU9CowvnP2r+nXX3U98/Mk36/f//3z9ENPj9///fPzvt5vz//98/ycCnLZ4utT/HmcO2mFa5P6/tjFC7ysA/OE7qmE+6xD+vi+DPyVnGP60Nm7jN0NI/dwKviS8vtj+cJ9+RYYPYP+0b1r5h7as/vzHCSAiUCEDggA5smTT5P4V8Or5iaP8/",
                    "dtype": "f8"
                  },
                  "xaxis": "x",
                  "y": [
                    "Protein_per_100kcal",
                    "Protein_per_100kcal",
                    "Protein_per_100kcal",
                    "Fat_to_Protein_Ratio",
                    "Fat_to_Protein_Ratio",
                    "Fat_to_Protein_Ratio",
                    "Sugar_per_Carb",
                    "Sugar_per_Carb",
                    "Sugar_per_Carb",
                    "Snack_Energy_Share",
                    "Snack_Energy_Share",
                    "Snack_Energy_Share",
                    "Carb_ratio_breakfast",
                    "Carb_ratio_breakfast",
                    "Carb_ratio_breakfast",
                    "Calories_exceed_target",
                    "Calories_exceed_target",
                    "Calories_exceed_target",
                    "Protein_deficit_ratio",
                    "Protein_deficit_ratio",
                    "Protein_deficit_ratio"
                  ],
                  "yaxis": "y"
                }
              ],
              "layout": {
                "barmode": "group",
                "coloraxis": {
                  "colorbar": {
                    "title": {
                      "text": "Cluster"
                    }
                  },
                  "colorscale": [
                    [
                      0,
                      "#0d0887"
                    ],
                    [
                      0.1111111111111111,
                      "#46039f"
                    ],
                    [
                      0.2222222222222222,
                      "#7201a8"
                    ],
                    [
                      0.3333333333333333,
                      "#9c179e"
                    ],
                    [
                      0.4444444444444444,
                      "#bd3786"
                    ],
                    [
                      0.5555555555555556,
                      "#d8576b"
                    ],
                    [
                      0.6666666666666666,
                      "#ed7953"
                    ],
                    [
                      0.7777777777777778,
                      "#fb9f3a"
                    ],
                    [
                      0.8888888888888888,
                      "#fdca26"
                    ],
                    [
                      1,
                      "#f0f921"
                    ]
                  ]
                },
                "height": 600,
                "legend": {
                  "title": {
                    "text": "Cluster"
                  },
                  "tracegroupgap": 0
                },
                "template": {
                  "data": {
                    "bar": [
                      {
                        "error_x": {
                          "color": "#2a3f5f"
                        },
                        "error_y": {
                          "color": "#2a3f5f"
                        },
                        "marker": {
                          "line": {
                            "color": "white",
                            "width": 0.5
                          },
                          "pattern": {
                            "fillmode": "overlay",
                            "size": 10,
                            "solidity": 0.2
                          }
                        },
                        "type": "bar"
                      }
                    ],
                    "barpolar": [
                      {
                        "marker": {
                          "line": {
                            "color": "white",
                            "width": 0.5
                          },
                          "pattern": {
                            "fillmode": "overlay",
                            "size": 10,
                            "solidity": 0.2
                          }
                        },
                        "type": "barpolar"
                      }
                    ],
                    "carpet": [
                      {
                        "aaxis": {
                          "endlinecolor": "#2a3f5f",
                          "gridcolor": "#C8D4E3",
                          "linecolor": "#C8D4E3",
                          "minorgridcolor": "#C8D4E3",
                          "startlinecolor": "#2a3f5f"
                        },
                        "baxis": {
                          "endlinecolor": "#2a3f5f",
                          "gridcolor": "#C8D4E3",
                          "linecolor": "#C8D4E3",
                          "minorgridcolor": "#C8D4E3",
                          "startlinecolor": "#2a3f5f"
                        },
                        "type": "carpet"
                      }
                    ],
                    "choropleth": [
                      {
                        "colorbar": {
                          "outlinewidth": 0,
                          "ticks": ""
                        },
                        "type": "choropleth"
                      }
                    ],
                    "contour": [
                      {
                        "colorbar": {
                          "outlinewidth": 0,
                          "ticks": ""
                        },
                        "colorscale": [
                          [
                            0,
                            "#0d0887"
                          ],
                          [
                            0.1111111111111111,
                            "#46039f"
                          ],
                          [
                            0.2222222222222222,
                            "#7201a8"
                          ],
                          [
                            0.3333333333333333,
                            "#9c179e"
                          ],
                          [
                            0.4444444444444444,
                            "#bd3786"
                          ],
                          [
                            0.5555555555555556,
                            "#d8576b"
                          ],
                          [
                            0.6666666666666666,
                            "#ed7953"
                          ],
                          [
                            0.7777777777777778,
                            "#fb9f3a"
                          ],
                          [
                            0.8888888888888888,
                            "#fdca26"
                          ],
                          [
                            1,
                            "#f0f921"
                          ]
                        ],
                        "type": "contour"
                      }
                    ],
                    "contourcarpet": [
                      {
                        "colorbar": {
                          "outlinewidth": 0,
                          "ticks": ""
                        },
                        "type": "contourcarpet"
                      }
                    ],
                    "heatmap": [
                      {
                        "colorbar": {
                          "outlinewidth": 0,
                          "ticks": ""
                        },
                        "colorscale": [
                          [
                            0,
                            "#0d0887"
                          ],
                          [
                            0.1111111111111111,
                            "#46039f"
                          ],
                          [
                            0.2222222222222222,
                            "#7201a8"
                          ],
                          [
                            0.3333333333333333,
                            "#9c179e"
                          ],
                          [
                            0.4444444444444444,
                            "#bd3786"
                          ],
                          [
                            0.5555555555555556,
                            "#d8576b"
                          ],
                          [
                            0.6666666666666666,
                            "#ed7953"
                          ],
                          [
                            0.7777777777777778,
                            "#fb9f3a"
                          ],
                          [
                            0.8888888888888888,
                            "#fdca26"
                          ],
                          [
                            1,
                            "#f0f921"
                          ]
                        ],
                        "type": "heatmap"
                      }
                    ],
                    "histogram": [
                      {
                        "marker": {
                          "pattern": {
                            "fillmode": "overlay",
                            "size": 10,
                            "solidity": 0.2
                          }
                        },
                        "type": "histogram"
                      }
                    ],
                    "histogram2d": [
                      {
                        "colorbar": {
                          "outlinewidth": 0,
                          "ticks": ""
                        },
                        "colorscale": [
                          [
                            0,
                            "#0d0887"
                          ],
                          [
                            0.1111111111111111,
                            "#46039f"
                          ],
                          [
                            0.2222222222222222,
                            "#7201a8"
                          ],
                          [
                            0.3333333333333333,
                            "#9c179e"
                          ],
                          [
                            0.4444444444444444,
                            "#bd3786"
                          ],
                          [
                            0.5555555555555556,
                            "#d8576b"
                          ],
                          [
                            0.6666666666666666,
                            "#ed7953"
                          ],
                          [
                            0.7777777777777778,
                            "#fb9f3a"
                          ],
                          [
                            0.8888888888888888,
                            "#fdca26"
                          ],
                          [
                            1,
                            "#f0f921"
                          ]
                        ],
                        "type": "histogram2d"
                      }
                    ],
                    "histogram2dcontour": [
                      {
                        "colorbar": {
                          "outlinewidth": 0,
                          "ticks": ""
                        },
                        "colorscale": [
                          [
                            0,
                            "#0d0887"
                          ],
                          [
                            0.1111111111111111,
                            "#46039f"
                          ],
                          [
                            0.2222222222222222,
                            "#7201a8"
                          ],
                          [
                            0.3333333333333333,
                            "#9c179e"
                          ],
                          [
                            0.4444444444444444,
                            "#bd3786"
                          ],
                          [
                            0.5555555555555556,
                            "#d8576b"
                          ],
                          [
                            0.6666666666666666,
                            "#ed7953"
                          ],
                          [
                            0.7777777777777778,
                            "#fb9f3a"
                          ],
                          [
                            0.8888888888888888,
                            "#fdca26"
                          ],
                          [
                            1,
                            "#f0f921"
                          ]
                        ],
                        "type": "histogram2dcontour"
                      }
                    ],
                    "mesh3d": [
                      {
                        "colorbar": {
                          "outlinewidth": 0,
                          "ticks": ""
                        },
                        "type": "mesh3d"
                      }
                    ],
                    "parcoords": [
                      {
                        "line": {
                          "colorbar": {
                            "outlinewidth": 0,
                            "ticks": ""
                          }
                        },
                        "type": "parcoords"
                      }
                    ],
                    "pie": [
                      {
                        "automargin": true,
                        "type": "pie"
                      }
                    ],
                    "scatter": [
                      {
                        "fillpattern": {
                          "fillmode": "overlay",
                          "size": 10,
                          "solidity": 0.2
                        },
                        "type": "scatter"
                      }
                    ],
                    "scatter3d": [
                      {
                        "line": {
                          "colorbar": {
                            "outlinewidth": 0,
                            "ticks": ""
                          }
                        },
                        "marker": {
                          "colorbar": {
                            "outlinewidth": 0,
                            "ticks": ""
                          }
                        },
                        "type": "scatter3d"
                      }
                    ],
                    "scattercarpet": [
                      {
                        "marker": {
                          "colorbar": {
                            "outlinewidth": 0,
                            "ticks": ""
                          }
                        },
                        "type": "scattercarpet"
                      }
                    ],
                    "scattergeo": [
                      {
                        "marker": {
                          "colorbar": {
                            "outlinewidth": 0,
                            "ticks": ""
                          }
                        },
                        "type": "scattergeo"
                      }
                    ],
                    "scattergl": [
                      {
                        "marker": {
                          "colorbar": {
                            "outlinewidth": 0,
                            "ticks": ""
                          }
                        },
                        "type": "scattergl"
                      }
                    ],
                    "scattermap": [
                      {
                        "marker": {
                          "colorbar": {
                            "outlinewidth": 0,
                            "ticks": ""
                          }
                        },
                        "type": "scattermap"
                      }
                    ],
                    "scattermapbox": [
                      {
                        "marker": {
                          "colorbar": {
                            "outlinewidth": 0,
                            "ticks": ""
                          }
                        },
                        "type": "scattermapbox"
                      }
                    ],
                    "scatterpolar": [
                      {
                        "marker": {
                          "colorbar": {
                            "outlinewidth": 0,
                            "ticks": ""
                          }
                        },
                        "type": "scatterpolar"
                      }
                    ],
                    "scatterpolargl": [
                      {
                        "marker": {
                          "colorbar": {
                            "outlinewidth": 0,
                            "ticks": ""
                          }
                        },
                        "type": "scatterpolargl"
                      }
                    ],
                    "scatterternary": [
                      {
                        "marker": {
                          "colorbar": {
                            "outlinewidth": 0,
                            "ticks": ""
                          }
                        },
                        "type": "scatterternary"
                      }
                    ],
                    "surface": [
                      {
                        "colorbar": {
                          "outlinewidth": 0,
                          "ticks": ""
                        },
                        "colorscale": [
                          [
                            0,
                            "#0d0887"
                          ],
                          [
                            0.1111111111111111,
                            "#46039f"
                          ],
                          [
                            0.2222222222222222,
                            "#7201a8"
                          ],
                          [
                            0.3333333333333333,
                            "#9c179e"
                          ],
                          [
                            0.4444444444444444,
                            "#bd3786"
                          ],
                          [
                            0.5555555555555556,
                            "#d8576b"
                          ],
                          [
                            0.6666666666666666,
                            "#ed7953"
                          ],
                          [
                            0.7777777777777778,
                            "#fb9f3a"
                          ],
                          [
                            0.8888888888888888,
                            "#fdca26"
                          ],
                          [
                            1,
                            "#f0f921"
                          ]
                        ],
                        "type": "surface"
                      }
                    ],
                    "table": [
                      {
                        "cells": {
                          "fill": {
                            "color": "#EBF0F8"
                          },
                          "line": {
                            "color": "white"
                          }
                        },
                        "header": {
                          "fill": {
                            "color": "#C8D4E3"
                          },
                          "line": {
                            "color": "white"
                          }
                        },
                        "type": "table"
                      }
                    ]
                  },
                  "layout": {
                    "annotationdefaults": {
                      "arrowcolor": "#2a3f5f",
                      "arrowhead": 0,
                      "arrowwidth": 1
                    },
                    "autotypenumbers": "strict",
                    "coloraxis": {
                      "colorbar": {
                        "outlinewidth": 0,
                        "ticks": ""
                      }
                    },
                    "colorscale": {
                      "diverging": [
                        [
                          0,
                          "#8e0152"
                        ],
                        [
                          0.1,
                          "#c51b7d"
                        ],
                        [
                          0.2,
                          "#de77ae"
                        ],
                        [
                          0.3,
                          "#f1b6da"
                        ],
                        [
                          0.4,
                          "#fde0ef"
                        ],
                        [
                          0.5,
                          "#f7f7f7"
                        ],
                        [
                          0.6,
                          "#e6f5d0"
                        ],
                        [
                          0.7,
                          "#b8e186"
                        ],
                        [
                          0.8,
                          "#7fbc41"
                        ],
                        [
                          0.9,
                          "#4d9221"
                        ],
                        [
                          1,
                          "#276419"
                        ]
                      ],
                      "sequential": [
                        [
                          0,
                          "#0d0887"
                        ],
                        [
                          0.1111111111111111,
                          "#46039f"
                        ],
                        [
                          0.2222222222222222,
                          "#7201a8"
                        ],
                        [
                          0.3333333333333333,
                          "#9c179e"
                        ],
                        [
                          0.4444444444444444,
                          "#bd3786"
                        ],
                        [
                          0.5555555555555556,
                          "#d8576b"
                        ],
                        [
                          0.6666666666666666,
                          "#ed7953"
                        ],
                        [
                          0.7777777777777778,
                          "#fb9f3a"
                        ],
                        [
                          0.8888888888888888,
                          "#fdca26"
                        ],
                        [
                          1,
                          "#f0f921"
                        ]
                      ],
                      "sequentialminus": [
                        [
                          0,
                          "#0d0887"
                        ],
                        [
                          0.1111111111111111,
                          "#46039f"
                        ],
                        [
                          0.2222222222222222,
                          "#7201a8"
                        ],
                        [
                          0.3333333333333333,
                          "#9c179e"
                        ],
                        [
                          0.4444444444444444,
                          "#bd3786"
                        ],
                        [
                          0.5555555555555556,
                          "#d8576b"
                        ],
                        [
                          0.6666666666666666,
                          "#ed7953"
                        ],
                        [
                          0.7777777777777778,
                          "#fb9f3a"
                        ],
                        [
                          0.8888888888888888,
                          "#fdca26"
                        ],
                        [
                          1,
                          "#f0f921"
                        ]
                      ]
                    },
                    "colorway": [
                      "#636efa",
                      "#EF553B",
                      "#00cc96",
                      "#ab63fa",
                      "#FFA15A",
                      "#19d3f3",
                      "#FF6692",
                      "#B6E880",
                      "#FF97FF",
                      "#FECB52"
                    ],
                    "font": {
                      "color": "#2a3f5f"
                    },
                    "geo": {
                      "bgcolor": "white",
                      "lakecolor": "white",
                      "landcolor": "white",
                      "showlakes": true,
                      "showland": true,
                      "subunitcolor": "#C8D4E3"
                    },
                    "hoverlabel": {
                      "align": "left"
                    },
                    "hovermode": "closest",
                    "mapbox": {
                      "style": "light"
                    },
                    "paper_bgcolor": "white",
                    "plot_bgcolor": "white",
                    "polar": {
                      "angularaxis": {
                        "gridcolor": "#EBF0F8",
                        "linecolor": "#EBF0F8",
                        "ticks": ""
                      },
                      "bgcolor": "white",
                      "radialaxis": {
                        "gridcolor": "#EBF0F8",
                        "linecolor": "#EBF0F8",
                        "ticks": ""
                      }
                    },
                    "scene": {
                      "xaxis": {
                        "backgroundcolor": "white",
                        "gridcolor": "#DFE8F3",
                        "gridwidth": 2,
                        "linecolor": "#EBF0F8",
                        "showbackground": true,
                        "ticks": "",
                        "zerolinecolor": "#EBF0F8"
                      },
                      "yaxis": {
                        "backgroundcolor": "white",
                        "gridcolor": "#DFE8F3",
                        "gridwidth": 2,
                        "linecolor": "#EBF0F8",
                        "showbackground": true,
                        "ticks": "",
                        "zerolinecolor": "#EBF0F8"
                      },
                      "zaxis": {
                        "backgroundcolor": "white",
                        "gridcolor": "#DFE8F3",
                        "gridwidth": 2,
                        "linecolor": "#EBF0F8",
                        "showbackground": true,
                        "ticks": "",
                        "zerolinecolor": "#EBF0F8"
                      }
                    },
                    "shapedefaults": {
                      "line": {
                        "color": "#2a3f5f"
                      }
                    },
                    "ternary": {
                      "aaxis": {
                        "gridcolor": "#DFE8F3",
                        "linecolor": "#A2B1C6",
                        "ticks": ""
                      },
                      "baxis": {
                        "gridcolor": "#DFE8F3",
                        "linecolor": "#A2B1C6",
                        "ticks": ""
                      },
                      "bgcolor": "white",
                      "caxis": {
                        "gridcolor": "#DFE8F3",
                        "linecolor": "#A2B1C6",
                        "ticks": ""
                      }
                    },
                    "title": {
                      "x": 0.05
                    },
                    "xaxis": {
                      "automargin": true,
                      "gridcolor": "#EBF0F8",
                      "linecolor": "#EBF0F8",
                      "ticks": "",
                      "title": {
                        "standoff": 15
                      },
                      "zerolinecolor": "#EBF0F8",
                      "zerolinewidth": 2
                    },
                    "yaxis": {
                      "automargin": true,
                      "gridcolor": "#EBF0F8",
                      "linecolor": "#EBF0F8",
                      "ticks": "",
                      "title": {
                        "standoff": 15
                      },
                      "zerolinecolor": "#EBF0F8",
                      "zerolinewidth": 2
                    }
                  }
                },
                "title": {
                  "text": "Ernährungsmuster je Cluster (features_kaq1)"
                },
                "xaxis": {
                  "anchor": "y",
                  "domain": [
                    0,
                    1
                  ],
                  "title": {
                    "text": "Durchschnittlicher Wert"
                  }
                },
                "yaxis": {
                  "anchor": "x",
                  "domain": [
                    0,
                    1
                  ],
                  "title": {
                    "text": "Feature"
                  }
                }
              }
            }
          },
          "metadata": {},
          "output_type": "display_data"
        },
        {
          "data": {
            "application/vnd.plotly.v1+json": {
              "config": {
                "plotlyServerURL": "https://plot.ly"
              },
              "data": [
                {
                  "alignmentgroup": "True",
                  "hovertemplate": "Wert=%{x}<br>Feature=%{y}<br>Cluster=%{marker.color}<extra></extra>",
                  "legendgroup": "",
                  "marker": {
                    "color": {
                      "bdata": "AAAAAAEAAAACAAAAAAAAAAEAAAACAAAAAAAAAAEAAAACAAAAAAAAAAEAAAACAAAA",
                      "dtype": "i4"
                    },
                    "coloraxis": "coloraxis",
                    "pattern": {
                      "shape": ""
                    }
                  },
                  "name": "",
                  "offsetgroup": "",
                  "orientation": "h",
                  "showlegend": false,
                  "textposition": "auto",
                  "type": "bar",
                  "x": {
                    "bdata": "u2NtM4/oXEBbf3tgo7dqQAQbvSsyP15AFb7HjelCTUBSQMJPLiRYQGjZ8ZxKClFAQp53X/DKaEAINnpXZIZyQBaZL00crnRAQp53X/DKWEAINnpXZIZiQBaZL00crmRA",
                    "dtype": "f8"
                  },
                  "xaxis": "x",
                  "y": [
                    "Protein",
                    "Protein",
                    "Protein",
                    "Fat",
                    "Fat",
                    "Fat",
                    "Carbohydrates",
                    "Carbohydrates",
                    "Carbohydrates",
                    "Sugar",
                    "Sugar",
                    "Sugar"
                  ],
                  "yaxis": "y"
                }
              ],
              "layout": {
                "barmode": "group",
                "coloraxis": {
                  "colorbar": {
                    "title": {
                      "text": "Cluster"
                    }
                  },
                  "colorscale": [
                    [
                      0,
                      "#0d0887"
                    ],
                    [
                      0.1111111111111111,
                      "#46039f"
                    ],
                    [
                      0.2222222222222222,
                      "#7201a8"
                    ],
                    [
                      0.3333333333333333,
                      "#9c179e"
                    ],
                    [
                      0.4444444444444444,
                      "#bd3786"
                    ],
                    [
                      0.5555555555555556,
                      "#d8576b"
                    ],
                    [
                      0.6666666666666666,
                      "#ed7953"
                    ],
                    [
                      0.7777777777777778,
                      "#fb9f3a"
                    ],
                    [
                      0.8888888888888888,
                      "#fdca26"
                    ],
                    [
                      1,
                      "#f0f921"
                    ]
                  ]
                },
                "height": 500,
                "legend": {
                  "title": {
                    "text": "Cluster"
                  },
                  "tracegroupgap": 0
                },
                "template": {
                  "data": {
                    "bar": [
                      {
                        "error_x": {
                          "color": "#2a3f5f"
                        },
                        "error_y": {
                          "color": "#2a3f5f"
                        },
                        "marker": {
                          "line": {
                            "color": "white",
                            "width": 0.5
                          },
                          "pattern": {
                            "fillmode": "overlay",
                            "size": 10,
                            "solidity": 0.2
                          }
                        },
                        "type": "bar"
                      }
                    ],
                    "barpolar": [
                      {
                        "marker": {
                          "line": {
                            "color": "white",
                            "width": 0.5
                          },
                          "pattern": {
                            "fillmode": "overlay",
                            "size": 10,
                            "solidity": 0.2
                          }
                        },
                        "type": "barpolar"
                      }
                    ],
                    "carpet": [
                      {
                        "aaxis": {
                          "endlinecolor": "#2a3f5f",
                          "gridcolor": "#C8D4E3",
                          "linecolor": "#C8D4E3",
                          "minorgridcolor": "#C8D4E3",
                          "startlinecolor": "#2a3f5f"
                        },
                        "baxis": {
                          "endlinecolor": "#2a3f5f",
                          "gridcolor": "#C8D4E3",
                          "linecolor": "#C8D4E3",
                          "minorgridcolor": "#C8D4E3",
                          "startlinecolor": "#2a3f5f"
                        },
                        "type": "carpet"
                      }
                    ],
                    "choropleth": [
                      {
                        "colorbar": {
                          "outlinewidth": 0,
                          "ticks": ""
                        },
                        "type": "choropleth"
                      }
                    ],
                    "contour": [
                      {
                        "colorbar": {
                          "outlinewidth": 0,
                          "ticks": ""
                        },
                        "colorscale": [
                          [
                            0,
                            "#0d0887"
                          ],
                          [
                            0.1111111111111111,
                            "#46039f"
                          ],
                          [
                            0.2222222222222222,
                            "#7201a8"
                          ],
                          [
                            0.3333333333333333,
                            "#9c179e"
                          ],
                          [
                            0.4444444444444444,
                            "#bd3786"
                          ],
                          [
                            0.5555555555555556,
                            "#d8576b"
                          ],
                          [
                            0.6666666666666666,
                            "#ed7953"
                          ],
                          [
                            0.7777777777777778,
                            "#fb9f3a"
                          ],
                          [
                            0.8888888888888888,
                            "#fdca26"
                          ],
                          [
                            1,
                            "#f0f921"
                          ]
                        ],
                        "type": "contour"
                      }
                    ],
                    "contourcarpet": [
                      {
                        "colorbar": {
                          "outlinewidth": 0,
                          "ticks": ""
                        },
                        "type": "contourcarpet"
                      }
                    ],
                    "heatmap": [
                      {
                        "colorbar": {
                          "outlinewidth": 0,
                          "ticks": ""
                        },
                        "colorscale": [
                          [
                            0,
                            "#0d0887"
                          ],
                          [
                            0.1111111111111111,
                            "#46039f"
                          ],
                          [
                            0.2222222222222222,
                            "#7201a8"
                          ],
                          [
                            0.3333333333333333,
                            "#9c179e"
                          ],
                          [
                            0.4444444444444444,
                            "#bd3786"
                          ],
                          [
                            0.5555555555555556,
                            "#d8576b"
                          ],
                          [
                            0.6666666666666666,
                            "#ed7953"
                          ],
                          [
                            0.7777777777777778,
                            "#fb9f3a"
                          ],
                          [
                            0.8888888888888888,
                            "#fdca26"
                          ],
                          [
                            1,
                            "#f0f921"
                          ]
                        ],
                        "type": "heatmap"
                      }
                    ],
                    "histogram": [
                      {
                        "marker": {
                          "pattern": {
                            "fillmode": "overlay",
                            "size": 10,
                            "solidity": 0.2
                          }
                        },
                        "type": "histogram"
                      }
                    ],
                    "histogram2d": [
                      {
                        "colorbar": {
                          "outlinewidth": 0,
                          "ticks": ""
                        },
                        "colorscale": [
                          [
                            0,
                            "#0d0887"
                          ],
                          [
                            0.1111111111111111,
                            "#46039f"
                          ],
                          [
                            0.2222222222222222,
                            "#7201a8"
                          ],
                          [
                            0.3333333333333333,
                            "#9c179e"
                          ],
                          [
                            0.4444444444444444,
                            "#bd3786"
                          ],
                          [
                            0.5555555555555556,
                            "#d8576b"
                          ],
                          [
                            0.6666666666666666,
                            "#ed7953"
                          ],
                          [
                            0.7777777777777778,
                            "#fb9f3a"
                          ],
                          [
                            0.8888888888888888,
                            "#fdca26"
                          ],
                          [
                            1,
                            "#f0f921"
                          ]
                        ],
                        "type": "histogram2d"
                      }
                    ],
                    "histogram2dcontour": [
                      {
                        "colorbar": {
                          "outlinewidth": 0,
                          "ticks": ""
                        },
                        "colorscale": [
                          [
                            0,
                            "#0d0887"
                          ],
                          [
                            0.1111111111111111,
                            "#46039f"
                          ],
                          [
                            0.2222222222222222,
                            "#7201a8"
                          ],
                          [
                            0.3333333333333333,
                            "#9c179e"
                          ],
                          [
                            0.4444444444444444,
                            "#bd3786"
                          ],
                          [
                            0.5555555555555556,
                            "#d8576b"
                          ],
                          [
                            0.6666666666666666,
                            "#ed7953"
                          ],
                          [
                            0.7777777777777778,
                            "#fb9f3a"
                          ],
                          [
                            0.8888888888888888,
                            "#fdca26"
                          ],
                          [
                            1,
                            "#f0f921"
                          ]
                        ],
                        "type": "histogram2dcontour"
                      }
                    ],
                    "mesh3d": [
                      {
                        "colorbar": {
                          "outlinewidth": 0,
                          "ticks": ""
                        },
                        "type": "mesh3d"
                      }
                    ],
                    "parcoords": [
                      {
                        "line": {
                          "colorbar": {
                            "outlinewidth": 0,
                            "ticks": ""
                          }
                        },
                        "type": "parcoords"
                      }
                    ],
                    "pie": [
                      {
                        "automargin": true,
                        "type": "pie"
                      }
                    ],
                    "scatter": [
                      {
                        "fillpattern": {
                          "fillmode": "overlay",
                          "size": 10,
                          "solidity": 0.2
                        },
                        "type": "scatter"
                      }
                    ],
                    "scatter3d": [
                      {
                        "line": {
                          "colorbar": {
                            "outlinewidth": 0,
                            "ticks": ""
                          }
                        },
                        "marker": {
                          "colorbar": {
                            "outlinewidth": 0,
                            "ticks": ""
                          }
                        },
                        "type": "scatter3d"
                      }
                    ],
                    "scattercarpet": [
                      {
                        "marker": {
                          "colorbar": {
                            "outlinewidth": 0,
                            "ticks": ""
                          }
                        },
                        "type": "scattercarpet"
                      }
                    ],
                    "scattergeo": [
                      {
                        "marker": {
                          "colorbar": {
                            "outlinewidth": 0,
                            "ticks": ""
                          }
                        },
                        "type": "scattergeo"
                      }
                    ],
                    "scattergl": [
                      {
                        "marker": {
                          "colorbar": {
                            "outlinewidth": 0,
                            "ticks": ""
                          }
                        },
                        "type": "scattergl"
                      }
                    ],
                    "scattermap": [
                      {
                        "marker": {
                          "colorbar": {
                            "outlinewidth": 0,
                            "ticks": ""
                          }
                        },
                        "type": "scattermap"
                      }
                    ],
                    "scattermapbox": [
                      {
                        "marker": {
                          "colorbar": {
                            "outlinewidth": 0,
                            "ticks": ""
                          }
                        },
                        "type": "scattermapbox"
                      }
                    ],
                    "scatterpolar": [
                      {
                        "marker": {
                          "colorbar": {
                            "outlinewidth": 0,
                            "ticks": ""
                          }
                        },
                        "type": "scatterpolar"
                      }
                    ],
                    "scatterpolargl": [
                      {
                        "marker": {
                          "colorbar": {
                            "outlinewidth": 0,
                            "ticks": ""
                          }
                        },
                        "type": "scatterpolargl"
                      }
                    ],
                    "scatterternary": [
                      {
                        "marker": {
                          "colorbar": {
                            "outlinewidth": 0,
                            "ticks": ""
                          }
                        },
                        "type": "scatterternary"
                      }
                    ],
                    "surface": [
                      {
                        "colorbar": {
                          "outlinewidth": 0,
                          "ticks": ""
                        },
                        "colorscale": [
                          [
                            0,
                            "#0d0887"
                          ],
                          [
                            0.1111111111111111,
                            "#46039f"
                          ],
                          [
                            0.2222222222222222,
                            "#7201a8"
                          ],
                          [
                            0.3333333333333333,
                            "#9c179e"
                          ],
                          [
                            0.4444444444444444,
                            "#bd3786"
                          ],
                          [
                            0.5555555555555556,
                            "#d8576b"
                          ],
                          [
                            0.6666666666666666,
                            "#ed7953"
                          ],
                          [
                            0.7777777777777778,
                            "#fb9f3a"
                          ],
                          [
                            0.8888888888888888,
                            "#fdca26"
                          ],
                          [
                            1,
                            "#f0f921"
                          ]
                        ],
                        "type": "surface"
                      }
                    ],
                    "table": [
                      {
                        "cells": {
                          "fill": {
                            "color": "#EBF0F8"
                          },
                          "line": {
                            "color": "white"
                          }
                        },
                        "header": {
                          "fill": {
                            "color": "#C8D4E3"
                          },
                          "line": {
                            "color": "white"
                          }
                        },
                        "type": "table"
                      }
                    ]
                  },
                  "layout": {
                    "annotationdefaults": {
                      "arrowcolor": "#2a3f5f",
                      "arrowhead": 0,
                      "arrowwidth": 1
                    },
                    "autotypenumbers": "strict",
                    "coloraxis": {
                      "colorbar": {
                        "outlinewidth": 0,
                        "ticks": ""
                      }
                    },
                    "colorscale": {
                      "diverging": [
                        [
                          0,
                          "#8e0152"
                        ],
                        [
                          0.1,
                          "#c51b7d"
                        ],
                        [
                          0.2,
                          "#de77ae"
                        ],
                        [
                          0.3,
                          "#f1b6da"
                        ],
                        [
                          0.4,
                          "#fde0ef"
                        ],
                        [
                          0.5,
                          "#f7f7f7"
                        ],
                        [
                          0.6,
                          "#e6f5d0"
                        ],
                        [
                          0.7,
                          "#b8e186"
                        ],
                        [
                          0.8,
                          "#7fbc41"
                        ],
                        [
                          0.9,
                          "#4d9221"
                        ],
                        [
                          1,
                          "#276419"
                        ]
                      ],
                      "sequential": [
                        [
                          0,
                          "#0d0887"
                        ],
                        [
                          0.1111111111111111,
                          "#46039f"
                        ],
                        [
                          0.2222222222222222,
                          "#7201a8"
                        ],
                        [
                          0.3333333333333333,
                          "#9c179e"
                        ],
                        [
                          0.4444444444444444,
                          "#bd3786"
                        ],
                        [
                          0.5555555555555556,
                          "#d8576b"
                        ],
                        [
                          0.6666666666666666,
                          "#ed7953"
                        ],
                        [
                          0.7777777777777778,
                          "#fb9f3a"
                        ],
                        [
                          0.8888888888888888,
                          "#fdca26"
                        ],
                        [
                          1,
                          "#f0f921"
                        ]
                      ],
                      "sequentialminus": [
                        [
                          0,
                          "#0d0887"
                        ],
                        [
                          0.1111111111111111,
                          "#46039f"
                        ],
                        [
                          0.2222222222222222,
                          "#7201a8"
                        ],
                        [
                          0.3333333333333333,
                          "#9c179e"
                        ],
                        [
                          0.4444444444444444,
                          "#bd3786"
                        ],
                        [
                          0.5555555555555556,
                          "#d8576b"
                        ],
                        [
                          0.6666666666666666,
                          "#ed7953"
                        ],
                        [
                          0.7777777777777778,
                          "#fb9f3a"
                        ],
                        [
                          0.8888888888888888,
                          "#fdca26"
                        ],
                        [
                          1,
                          "#f0f921"
                        ]
                      ]
                    },
                    "colorway": [
                      "#636efa",
                      "#EF553B",
                      "#00cc96",
                      "#ab63fa",
                      "#FFA15A",
                      "#19d3f3",
                      "#FF6692",
                      "#B6E880",
                      "#FF97FF",
                      "#FECB52"
                    ],
                    "font": {
                      "color": "#2a3f5f"
                    },
                    "geo": {
                      "bgcolor": "white",
                      "lakecolor": "white",
                      "landcolor": "white",
                      "showlakes": true,
                      "showland": true,
                      "subunitcolor": "#C8D4E3"
                    },
                    "hoverlabel": {
                      "align": "left"
                    },
                    "hovermode": "closest",
                    "mapbox": {
                      "style": "light"
                    },
                    "paper_bgcolor": "white",
                    "plot_bgcolor": "white",
                    "polar": {
                      "angularaxis": {
                        "gridcolor": "#EBF0F8",
                        "linecolor": "#EBF0F8",
                        "ticks": ""
                      },
                      "bgcolor": "white",
                      "radialaxis": {
                        "gridcolor": "#EBF0F8",
                        "linecolor": "#EBF0F8",
                        "ticks": ""
                      }
                    },
                    "scene": {
                      "xaxis": {
                        "backgroundcolor": "white",
                        "gridcolor": "#DFE8F3",
                        "gridwidth": 2,
                        "linecolor": "#EBF0F8",
                        "showbackground": true,
                        "ticks": "",
                        "zerolinecolor": "#EBF0F8"
                      },
                      "yaxis": {
                        "backgroundcolor": "white",
                        "gridcolor": "#DFE8F3",
                        "gridwidth": 2,
                        "linecolor": "#EBF0F8",
                        "showbackground": true,
                        "ticks": "",
                        "zerolinecolor": "#EBF0F8"
                      },
                      "zaxis": {
                        "backgroundcolor": "white",
                        "gridcolor": "#DFE8F3",
                        "gridwidth": 2,
                        "linecolor": "#EBF0F8",
                        "showbackground": true,
                        "ticks": "",
                        "zerolinecolor": "#EBF0F8"
                      }
                    },
                    "shapedefaults": {
                      "line": {
                        "color": "#2a3f5f"
                      }
                    },
                    "ternary": {
                      "aaxis": {
                        "gridcolor": "#DFE8F3",
                        "linecolor": "#A2B1C6",
                        "ticks": ""
                      },
                      "baxis": {
                        "gridcolor": "#DFE8F3",
                        "linecolor": "#A2B1C6",
                        "ticks": ""
                      },
                      "bgcolor": "white",
                      "caxis": {
                        "gridcolor": "#DFE8F3",
                        "linecolor": "#A2B1C6",
                        "ticks": ""
                      }
                    },
                    "title": {
                      "x": 0.05
                    },
                    "xaxis": {
                      "automargin": true,
                      "gridcolor": "#EBF0F8",
                      "linecolor": "#EBF0F8",
                      "ticks": "",
                      "title": {
                        "standoff": 15
                      },
                      "zerolinecolor": "#EBF0F8",
                      "zerolinewidth": 2
                    },
                    "yaxis": {
                      "automargin": true,
                      "gridcolor": "#EBF0F8",
                      "linecolor": "#EBF0F8",
                      "ticks": "",
                      "title": {
                        "standoff": 15
                      },
                      "zerolinecolor": "#EBF0F8",
                      "zerolinewidth": 2
                    }
                  }
                },
                "title": {
                  "text": "Basis-Nährstoffe je Cluster"
                },
                "xaxis": {
                  "anchor": "y",
                  "domain": [
                    0,
                    1
                  ],
                  "title": {
                    "text": "Durchschnittlicher Wert (g)"
                  }
                },
                "yaxis": {
                  "anchor": "x",
                  "domain": [
                    0,
                    1
                  ],
                  "title": {
                    "text": "Basis-Nährstoff"
                  }
                }
              }
            }
          },
          "metadata": {},
          "output_type": "display_data"
        },
        {
          "data": {
            "application/vnd.plotly.v1+json": {
              "config": {
                "plotlyServerURL": "https://plot.ly"
              },
              "data": [
                {
                  "alignmentgroup": "True",
                  "hovertemplate": "Wert=%{x}<br>Feature=%{y}<br>Cluster=%{marker.color}<extra></extra>",
                  "legendgroup": "",
                  "marker": {
                    "color": {
                      "bdata": "AAAAAAEAAAACAAAAAAAAAAEAAAACAAAAAAAAAAEAAAACAAAAAAAAAAEAAAACAAAA",
                      "dtype": "i4"
                    },
                    "coloraxis": "coloraxis",
                    "pattern": {
                      "shape": ""
                    }
                  },
                  "name": "",
                  "offsetgroup": "",
                  "orientation": "h",
                  "showlegend": false,
                  "textposition": "auto",
                  "type": "bar",
                  "x": {
                    "bdata": "u2NtM4/oXEBbf3tgo7dqQAQbvSsyP15AFb7HjelCTUBSQMJPLiRYQGjZ8ZxKClFAQp53X/DKaEAINnpXZIZyQBaZL00crnRAQp53X/DKWEAINnpXZIZiQBaZL00crmRA",
                    "dtype": "f8"
                  },
                  "xaxis": "x",
                  "y": [
                    "Protein",
                    "Protein",
                    "Protein",
                    "Fat",
                    "Fat",
                    "Fat",
                    "Carbohydrates",
                    "Carbohydrates",
                    "Carbohydrates",
                    "Sugar",
                    "Sugar",
                    "Sugar"
                  ],
                  "yaxis": "y"
                }
              ],
              "layout": {
                "barmode": "group",
                "coloraxis": {
                  "colorbar": {
                    "title": {
                      "text": "Cluster"
                    }
                  },
                  "colorscale": [
                    [
                      0,
                      "#0d0887"
                    ],
                    [
                      0.1111111111111111,
                      "#46039f"
                    ],
                    [
                      0.2222222222222222,
                      "#7201a8"
                    ],
                    [
                      0.3333333333333333,
                      "#9c179e"
                    ],
                    [
                      0.4444444444444444,
                      "#bd3786"
                    ],
                    [
                      0.5555555555555556,
                      "#d8576b"
                    ],
                    [
                      0.6666666666666666,
                      "#ed7953"
                    ],
                    [
                      0.7777777777777778,
                      "#fb9f3a"
                    ],
                    [
                      0.8888888888888888,
                      "#fdca26"
                    ],
                    [
                      1,
                      "#f0f921"
                    ]
                  ]
                },
                "height": 500,
                "legend": {
                  "title": {
                    "text": "Cluster"
                  },
                  "tracegroupgap": 0
                },
                "template": {
                  "data": {
                    "bar": [
                      {
                        "error_x": {
                          "color": "#2a3f5f"
                        },
                        "error_y": {
                          "color": "#2a3f5f"
                        },
                        "marker": {
                          "line": {
                            "color": "white",
                            "width": 0.5
                          },
                          "pattern": {
                            "fillmode": "overlay",
                            "size": 10,
                            "solidity": 0.2
                          }
                        },
                        "type": "bar"
                      }
                    ],
                    "barpolar": [
                      {
                        "marker": {
                          "line": {
                            "color": "white",
                            "width": 0.5
                          },
                          "pattern": {
                            "fillmode": "overlay",
                            "size": 10,
                            "solidity": 0.2
                          }
                        },
                        "type": "barpolar"
                      }
                    ],
                    "carpet": [
                      {
                        "aaxis": {
                          "endlinecolor": "#2a3f5f",
                          "gridcolor": "#C8D4E3",
                          "linecolor": "#C8D4E3",
                          "minorgridcolor": "#C8D4E3",
                          "startlinecolor": "#2a3f5f"
                        },
                        "baxis": {
                          "endlinecolor": "#2a3f5f",
                          "gridcolor": "#C8D4E3",
                          "linecolor": "#C8D4E3",
                          "minorgridcolor": "#C8D4E3",
                          "startlinecolor": "#2a3f5f"
                        },
                        "type": "carpet"
                      }
                    ],
                    "choropleth": [
                      {
                        "colorbar": {
                          "outlinewidth": 0,
                          "ticks": ""
                        },
                        "type": "choropleth"
                      }
                    ],
                    "contour": [
                      {
                        "colorbar": {
                          "outlinewidth": 0,
                          "ticks": ""
                        },
                        "colorscale": [
                          [
                            0,
                            "#0d0887"
                          ],
                          [
                            0.1111111111111111,
                            "#46039f"
                          ],
                          [
                            0.2222222222222222,
                            "#7201a8"
                          ],
                          [
                            0.3333333333333333,
                            "#9c179e"
                          ],
                          [
                            0.4444444444444444,
                            "#bd3786"
                          ],
                          [
                            0.5555555555555556,
                            "#d8576b"
                          ],
                          [
                            0.6666666666666666,
                            "#ed7953"
                          ],
                          [
                            0.7777777777777778,
                            "#fb9f3a"
                          ],
                          [
                            0.8888888888888888,
                            "#fdca26"
                          ],
                          [
                            1,
                            "#f0f921"
                          ]
                        ],
                        "type": "contour"
                      }
                    ],
                    "contourcarpet": [
                      {
                        "colorbar": {
                          "outlinewidth": 0,
                          "ticks": ""
                        },
                        "type": "contourcarpet"
                      }
                    ],
                    "heatmap": [
                      {
                        "colorbar": {
                          "outlinewidth": 0,
                          "ticks": ""
                        },
                        "colorscale": [
                          [
                            0,
                            "#0d0887"
                          ],
                          [
                            0.1111111111111111,
                            "#46039f"
                          ],
                          [
                            0.2222222222222222,
                            "#7201a8"
                          ],
                          [
                            0.3333333333333333,
                            "#9c179e"
                          ],
                          [
                            0.4444444444444444,
                            "#bd3786"
                          ],
                          [
                            0.5555555555555556,
                            "#d8576b"
                          ],
                          [
                            0.6666666666666666,
                            "#ed7953"
                          ],
                          [
                            0.7777777777777778,
                            "#fb9f3a"
                          ],
                          [
                            0.8888888888888888,
                            "#fdca26"
                          ],
                          [
                            1,
                            "#f0f921"
                          ]
                        ],
                        "type": "heatmap"
                      }
                    ],
                    "histogram": [
                      {
                        "marker": {
                          "pattern": {
                            "fillmode": "overlay",
                            "size": 10,
                            "solidity": 0.2
                          }
                        },
                        "type": "histogram"
                      }
                    ],
                    "histogram2d": [
                      {
                        "colorbar": {
                          "outlinewidth": 0,
                          "ticks": ""
                        },
                        "colorscale": [
                          [
                            0,
                            "#0d0887"
                          ],
                          [
                            0.1111111111111111,
                            "#46039f"
                          ],
                          [
                            0.2222222222222222,
                            "#7201a8"
                          ],
                          [
                            0.3333333333333333,
                            "#9c179e"
                          ],
                          [
                            0.4444444444444444,
                            "#bd3786"
                          ],
                          [
                            0.5555555555555556,
                            "#d8576b"
                          ],
                          [
                            0.6666666666666666,
                            "#ed7953"
                          ],
                          [
                            0.7777777777777778,
                            "#fb9f3a"
                          ],
                          [
                            0.8888888888888888,
                            "#fdca26"
                          ],
                          [
                            1,
                            "#f0f921"
                          ]
                        ],
                        "type": "histogram2d"
                      }
                    ],
                    "histogram2dcontour": [
                      {
                        "colorbar": {
                          "outlinewidth": 0,
                          "ticks": ""
                        },
                        "colorscale": [
                          [
                            0,
                            "#0d0887"
                          ],
                          [
                            0.1111111111111111,
                            "#46039f"
                          ],
                          [
                            0.2222222222222222,
                            "#7201a8"
                          ],
                          [
                            0.3333333333333333,
                            "#9c179e"
                          ],
                          [
                            0.4444444444444444,
                            "#bd3786"
                          ],
                          [
                            0.5555555555555556,
                            "#d8576b"
                          ],
                          [
                            0.6666666666666666,
                            "#ed7953"
                          ],
                          [
                            0.7777777777777778,
                            "#fb9f3a"
                          ],
                          [
                            0.8888888888888888,
                            "#fdca26"
                          ],
                          [
                            1,
                            "#f0f921"
                          ]
                        ],
                        "type": "histogram2dcontour"
                      }
                    ],
                    "mesh3d": [
                      {
                        "colorbar": {
                          "outlinewidth": 0,
                          "ticks": ""
                        },
                        "type": "mesh3d"
                      }
                    ],
                    "parcoords": [
                      {
                        "line": {
                          "colorbar": {
                            "outlinewidth": 0,
                            "ticks": ""
                          }
                        },
                        "type": "parcoords"
                      }
                    ],
                    "pie": [
                      {
                        "automargin": true,
                        "type": "pie"
                      }
                    ],
                    "scatter": [
                      {
                        "fillpattern": {
                          "fillmode": "overlay",
                          "size": 10,
                          "solidity": 0.2
                        },
                        "type": "scatter"
                      }
                    ],
                    "scatter3d": [
                      {
                        "line": {
                          "colorbar": {
                            "outlinewidth": 0,
                            "ticks": ""
                          }
                        },
                        "marker": {
                          "colorbar": {
                            "outlinewidth": 0,
                            "ticks": ""
                          }
                        },
                        "type": "scatter3d"
                      }
                    ],
                    "scattercarpet": [
                      {
                        "marker": {
                          "colorbar": {
                            "outlinewidth": 0,
                            "ticks": ""
                          }
                        },
                        "type": "scattercarpet"
                      }
                    ],
                    "scattergeo": [
                      {
                        "marker": {
                          "colorbar": {
                            "outlinewidth": 0,
                            "ticks": ""
                          }
                        },
                        "type": "scattergeo"
                      }
                    ],
                    "scattergl": [
                      {
                        "marker": {
                          "colorbar": {
                            "outlinewidth": 0,
                            "ticks": ""
                          }
                        },
                        "type": "scattergl"
                      }
                    ],
                    "scattermap": [
                      {
                        "marker": {
                          "colorbar": {
                            "outlinewidth": 0,
                            "ticks": ""
                          }
                        },
                        "type": "scattermap"
                      }
                    ],
                    "scattermapbox": [
                      {
                        "marker": {
                          "colorbar": {
                            "outlinewidth": 0,
                            "ticks": ""
                          }
                        },
                        "type": "scattermapbox"
                      }
                    ],
                    "scatterpolar": [
                      {
                        "marker": {
                          "colorbar": {
                            "outlinewidth": 0,
                            "ticks": ""
                          }
                        },
                        "type": "scatterpolar"
                      }
                    ],
                    "scatterpolargl": [
                      {
                        "marker": {
                          "colorbar": {
                            "outlinewidth": 0,
                            "ticks": ""
                          }
                        },
                        "type": "scatterpolargl"
                      }
                    ],
                    "scatterternary": [
                      {
                        "marker": {
                          "colorbar": {
                            "outlinewidth": 0,
                            "ticks": ""
                          }
                        },
                        "type": "scatterternary"
                      }
                    ],
                    "surface": [
                      {
                        "colorbar": {
                          "outlinewidth": 0,
                          "ticks": ""
                        },
                        "colorscale": [
                          [
                            0,
                            "#0d0887"
                          ],
                          [
                            0.1111111111111111,
                            "#46039f"
                          ],
                          [
                            0.2222222222222222,
                            "#7201a8"
                          ],
                          [
                            0.3333333333333333,
                            "#9c179e"
                          ],
                          [
                            0.4444444444444444,
                            "#bd3786"
                          ],
                          [
                            0.5555555555555556,
                            "#d8576b"
                          ],
                          [
                            0.6666666666666666,
                            "#ed7953"
                          ],
                          [
                            0.7777777777777778,
                            "#fb9f3a"
                          ],
                          [
                            0.8888888888888888,
                            "#fdca26"
                          ],
                          [
                            1,
                            "#f0f921"
                          ]
                        ],
                        "type": "surface"
                      }
                    ],
                    "table": [
                      {
                        "cells": {
                          "fill": {
                            "color": "#EBF0F8"
                          },
                          "line": {
                            "color": "white"
                          }
                        },
                        "header": {
                          "fill": {
                            "color": "#C8D4E3"
                          },
                          "line": {
                            "color": "white"
                          }
                        },
                        "type": "table"
                      }
                    ]
                  },
                  "layout": {
                    "annotationdefaults": {
                      "arrowcolor": "#2a3f5f",
                      "arrowhead": 0,
                      "arrowwidth": 1
                    },
                    "autotypenumbers": "strict",
                    "coloraxis": {
                      "colorbar": {
                        "outlinewidth": 0,
                        "ticks": ""
                      }
                    },
                    "colorscale": {
                      "diverging": [
                        [
                          0,
                          "#8e0152"
                        ],
                        [
                          0.1,
                          "#c51b7d"
                        ],
                        [
                          0.2,
                          "#de77ae"
                        ],
                        [
                          0.3,
                          "#f1b6da"
                        ],
                        [
                          0.4,
                          "#fde0ef"
                        ],
                        [
                          0.5,
                          "#f7f7f7"
                        ],
                        [
                          0.6,
                          "#e6f5d0"
                        ],
                        [
                          0.7,
                          "#b8e186"
                        ],
                        [
                          0.8,
                          "#7fbc41"
                        ],
                        [
                          0.9,
                          "#4d9221"
                        ],
                        [
                          1,
                          "#276419"
                        ]
                      ],
                      "sequential": [
                        [
                          0,
                          "#0d0887"
                        ],
                        [
                          0.1111111111111111,
                          "#46039f"
                        ],
                        [
                          0.2222222222222222,
                          "#7201a8"
                        ],
                        [
                          0.3333333333333333,
                          "#9c179e"
                        ],
                        [
                          0.4444444444444444,
                          "#bd3786"
                        ],
                        [
                          0.5555555555555556,
                          "#d8576b"
                        ],
                        [
                          0.6666666666666666,
                          "#ed7953"
                        ],
                        [
                          0.7777777777777778,
                          "#fb9f3a"
                        ],
                        [
                          0.8888888888888888,
                          "#fdca26"
                        ],
                        [
                          1,
                          "#f0f921"
                        ]
                      ],
                      "sequentialminus": [
                        [
                          0,
                          "#0d0887"
                        ],
                        [
                          0.1111111111111111,
                          "#46039f"
                        ],
                        [
                          0.2222222222222222,
                          "#7201a8"
                        ],
                        [
                          0.3333333333333333,
                          "#9c179e"
                        ],
                        [
                          0.4444444444444444,
                          "#bd3786"
                        ],
                        [
                          0.5555555555555556,
                          "#d8576b"
                        ],
                        [
                          0.6666666666666666,
                          "#ed7953"
                        ],
                        [
                          0.7777777777777778,
                          "#fb9f3a"
                        ],
                        [
                          0.8888888888888888,
                          "#fdca26"
                        ],
                        [
                          1,
                          "#f0f921"
                        ]
                      ]
                    },
                    "colorway": [
                      "#636efa",
                      "#EF553B",
                      "#00cc96",
                      "#ab63fa",
                      "#FFA15A",
                      "#19d3f3",
                      "#FF6692",
                      "#B6E880",
                      "#FF97FF",
                      "#FECB52"
                    ],
                    "font": {
                      "color": "#2a3f5f"
                    },
                    "geo": {
                      "bgcolor": "white",
                      "lakecolor": "white",
                      "landcolor": "white",
                      "showlakes": true,
                      "showland": true,
                      "subunitcolor": "#C8D4E3"
                    },
                    "hoverlabel": {
                      "align": "left"
                    },
                    "hovermode": "closest",
                    "mapbox": {
                      "style": "light"
                    },
                    "paper_bgcolor": "white",
                    "plot_bgcolor": "white",
                    "polar": {
                      "angularaxis": {
                        "gridcolor": "#EBF0F8",
                        "linecolor": "#EBF0F8",
                        "ticks": ""
                      },
                      "bgcolor": "white",
                      "radialaxis": {
                        "gridcolor": "#EBF0F8",
                        "linecolor": "#EBF0F8",
                        "ticks": ""
                      }
                    },
                    "scene": {
                      "xaxis": {
                        "backgroundcolor": "white",
                        "gridcolor": "#DFE8F3",
                        "gridwidth": 2,
                        "linecolor": "#EBF0F8",
                        "showbackground": true,
                        "ticks": "",
                        "zerolinecolor": "#EBF0F8"
                      },
                      "yaxis": {
                        "backgroundcolor": "white",
                        "gridcolor": "#DFE8F3",
                        "gridwidth": 2,
                        "linecolor": "#EBF0F8",
                        "showbackground": true,
                        "ticks": "",
                        "zerolinecolor": "#EBF0F8"
                      },
                      "zaxis": {
                        "backgroundcolor": "white",
                        "gridcolor": "#DFE8F3",
                        "gridwidth": 2,
                        "linecolor": "#EBF0F8",
                        "showbackground": true,
                        "ticks": "",
                        "zerolinecolor": "#EBF0F8"
                      }
                    },
                    "shapedefaults": {
                      "line": {
                        "color": "#2a3f5f"
                      }
                    },
                    "ternary": {
                      "aaxis": {
                        "gridcolor": "#DFE8F3",
                        "linecolor": "#A2B1C6",
                        "ticks": ""
                      },
                      "baxis": {
                        "gridcolor": "#DFE8F3",
                        "linecolor": "#A2B1C6",
                        "ticks": ""
                      },
                      "bgcolor": "white",
                      "caxis": {
                        "gridcolor": "#DFE8F3",
                        "linecolor": "#A2B1C6",
                        "ticks": ""
                      }
                    },
                    "title": {
                      "x": 0.05
                    },
                    "xaxis": {
                      "automargin": true,
                      "gridcolor": "#EBF0F8",
                      "linecolor": "#EBF0F8",
                      "ticks": "",
                      "title": {
                        "standoff": 15
                      },
                      "zerolinecolor": "#EBF0F8",
                      "zerolinewidth": 2
                    },
                    "yaxis": {
                      "automargin": true,
                      "gridcolor": "#EBF0F8",
                      "linecolor": "#EBF0F8",
                      "ticks": "",
                      "title": {
                        "standoff": 15
                      },
                      "zerolinecolor": "#EBF0F8",
                      "zerolinewidth": 2
                    }
                  }
                },
                "title": {
                  "text": "Basis-Nährstoffe je Cluster"
                },
                "xaxis": {
                  "anchor": "y",
                  "domain": [
                    0,
                    1
                  ],
                  "title": {
                    "text": "Durchschnittlicher Wert (g)"
                  }
                },
                "yaxis": {
                  "anchor": "x",
                  "domain": [
                    0,
                    1
                  ],
                  "title": {
                    "text": "Basis-Nährstoff"
                  }
                }
              }
            }
          },
          "metadata": {},
          "output_type": "display_data"
        },
        {
          "data": {
            "application/vnd.plotly.v1+json": {
              "config": {
                "plotlyServerURL": "https://plot.ly"
              },
              "data": [
                {
                  "hovertemplate": "Cluster=%{marker.color}<br>Anteil (%)=%{y}<extra></extra>",
                  "legendgroup": "",
                  "marker": {
                    "color": {
                      "bdata": "AAAAAAEAAAACAAAA",
                      "dtype": "i4"
                    },
                    "coloraxis": "coloraxis",
                    "pattern": {
                      "shape": ""
                    }
                  },
                  "name": "",
                  "orientation": "v",
                  "showlegend": false,
                  "textposition": "auto",
                  "texttemplate": "%{y:.1%}",
                  "type": "bar",
                  "x": {
                    "bdata": "AAAAAAEAAAACAAAA",
                    "dtype": "i4"
                  },
                  "xaxis": "x",
                  "y": {
                    "bdata": "/R6YMHrjtj+q0OhXvVzgP83MzMzMzNQ/",
                    "dtype": "f8"
                  },
                  "yaxis": "y"
                }
              ],
              "layout": {
                "barmode": "relative",
                "coloraxis": {
                  "colorbar": {
                    "title": {
                      "text": "Cluster"
                    }
                  },
                  "colorscale": [
                    [
                      0,
                      "#0d0887"
                    ],
                    [
                      0.1111111111111111,
                      "#46039f"
                    ],
                    [
                      0.2222222222222222,
                      "#7201a8"
                    ],
                    [
                      0.3333333333333333,
                      "#9c179e"
                    ],
                    [
                      0.4444444444444444,
                      "#bd3786"
                    ],
                    [
                      0.5555555555555556,
                      "#d8576b"
                    ],
                    [
                      0.6666666666666666,
                      "#ed7953"
                    ],
                    [
                      0.7777777777777778,
                      "#fb9f3a"
                    ],
                    [
                      0.8888888888888888,
                      "#fdca26"
                    ],
                    [
                      1,
                      "#f0f921"
                    ]
                  ]
                },
                "height": 400,
                "legend": {
                  "tracegroupgap": 0
                },
                "template": {
                  "data": {
                    "bar": [
                      {
                        "error_x": {
                          "color": "#2a3f5f"
                        },
                        "error_y": {
                          "color": "#2a3f5f"
                        },
                        "marker": {
                          "line": {
                            "color": "white",
                            "width": 0.5
                          },
                          "pattern": {
                            "fillmode": "overlay",
                            "size": 10,
                            "solidity": 0.2
                          }
                        },
                        "type": "bar"
                      }
                    ],
                    "barpolar": [
                      {
                        "marker": {
                          "line": {
                            "color": "white",
                            "width": 0.5
                          },
                          "pattern": {
                            "fillmode": "overlay",
                            "size": 10,
                            "solidity": 0.2
                          }
                        },
                        "type": "barpolar"
                      }
                    ],
                    "carpet": [
                      {
                        "aaxis": {
                          "endlinecolor": "#2a3f5f",
                          "gridcolor": "#C8D4E3",
                          "linecolor": "#C8D4E3",
                          "minorgridcolor": "#C8D4E3",
                          "startlinecolor": "#2a3f5f"
                        },
                        "baxis": {
                          "endlinecolor": "#2a3f5f",
                          "gridcolor": "#C8D4E3",
                          "linecolor": "#C8D4E3",
                          "minorgridcolor": "#C8D4E3",
                          "startlinecolor": "#2a3f5f"
                        },
                        "type": "carpet"
                      }
                    ],
                    "choropleth": [
                      {
                        "colorbar": {
                          "outlinewidth": 0,
                          "ticks": ""
                        },
                        "type": "choropleth"
                      }
                    ],
                    "contour": [
                      {
                        "colorbar": {
                          "outlinewidth": 0,
                          "ticks": ""
                        },
                        "colorscale": [
                          [
                            0,
                            "#0d0887"
                          ],
                          [
                            0.1111111111111111,
                            "#46039f"
                          ],
                          [
                            0.2222222222222222,
                            "#7201a8"
                          ],
                          [
                            0.3333333333333333,
                            "#9c179e"
                          ],
                          [
                            0.4444444444444444,
                            "#bd3786"
                          ],
                          [
                            0.5555555555555556,
                            "#d8576b"
                          ],
                          [
                            0.6666666666666666,
                            "#ed7953"
                          ],
                          [
                            0.7777777777777778,
                            "#fb9f3a"
                          ],
                          [
                            0.8888888888888888,
                            "#fdca26"
                          ],
                          [
                            1,
                            "#f0f921"
                          ]
                        ],
                        "type": "contour"
                      }
                    ],
                    "contourcarpet": [
                      {
                        "colorbar": {
                          "outlinewidth": 0,
                          "ticks": ""
                        },
                        "type": "contourcarpet"
                      }
                    ],
                    "heatmap": [
                      {
                        "colorbar": {
                          "outlinewidth": 0,
                          "ticks": ""
                        },
                        "colorscale": [
                          [
                            0,
                            "#0d0887"
                          ],
                          [
                            0.1111111111111111,
                            "#46039f"
                          ],
                          [
                            0.2222222222222222,
                            "#7201a8"
                          ],
                          [
                            0.3333333333333333,
                            "#9c179e"
                          ],
                          [
                            0.4444444444444444,
                            "#bd3786"
                          ],
                          [
                            0.5555555555555556,
                            "#d8576b"
                          ],
                          [
                            0.6666666666666666,
                            "#ed7953"
                          ],
                          [
                            0.7777777777777778,
                            "#fb9f3a"
                          ],
                          [
                            0.8888888888888888,
                            "#fdca26"
                          ],
                          [
                            1,
                            "#f0f921"
                          ]
                        ],
                        "type": "heatmap"
                      }
                    ],
                    "histogram": [
                      {
                        "marker": {
                          "pattern": {
                            "fillmode": "overlay",
                            "size": 10,
                            "solidity": 0.2
                          }
                        },
                        "type": "histogram"
                      }
                    ],
                    "histogram2d": [
                      {
                        "colorbar": {
                          "outlinewidth": 0,
                          "ticks": ""
                        },
                        "colorscale": [
                          [
                            0,
                            "#0d0887"
                          ],
                          [
                            0.1111111111111111,
                            "#46039f"
                          ],
                          [
                            0.2222222222222222,
                            "#7201a8"
                          ],
                          [
                            0.3333333333333333,
                            "#9c179e"
                          ],
                          [
                            0.4444444444444444,
                            "#bd3786"
                          ],
                          [
                            0.5555555555555556,
                            "#d8576b"
                          ],
                          [
                            0.6666666666666666,
                            "#ed7953"
                          ],
                          [
                            0.7777777777777778,
                            "#fb9f3a"
                          ],
                          [
                            0.8888888888888888,
                            "#fdca26"
                          ],
                          [
                            1,
                            "#f0f921"
                          ]
                        ],
                        "type": "histogram2d"
                      }
                    ],
                    "histogram2dcontour": [
                      {
                        "colorbar": {
                          "outlinewidth": 0,
                          "ticks": ""
                        },
                        "colorscale": [
                          [
                            0,
                            "#0d0887"
                          ],
                          [
                            0.1111111111111111,
                            "#46039f"
                          ],
                          [
                            0.2222222222222222,
                            "#7201a8"
                          ],
                          [
                            0.3333333333333333,
                            "#9c179e"
                          ],
                          [
                            0.4444444444444444,
                            "#bd3786"
                          ],
                          [
                            0.5555555555555556,
                            "#d8576b"
                          ],
                          [
                            0.6666666666666666,
                            "#ed7953"
                          ],
                          [
                            0.7777777777777778,
                            "#fb9f3a"
                          ],
                          [
                            0.8888888888888888,
                            "#fdca26"
                          ],
                          [
                            1,
                            "#f0f921"
                          ]
                        ],
                        "type": "histogram2dcontour"
                      }
                    ],
                    "mesh3d": [
                      {
                        "colorbar": {
                          "outlinewidth": 0,
                          "ticks": ""
                        },
                        "type": "mesh3d"
                      }
                    ],
                    "parcoords": [
                      {
                        "line": {
                          "colorbar": {
                            "outlinewidth": 0,
                            "ticks": ""
                          }
                        },
                        "type": "parcoords"
                      }
                    ],
                    "pie": [
                      {
                        "automargin": true,
                        "type": "pie"
                      }
                    ],
                    "scatter": [
                      {
                        "fillpattern": {
                          "fillmode": "overlay",
                          "size": 10,
                          "solidity": 0.2
                        },
                        "type": "scatter"
                      }
                    ],
                    "scatter3d": [
                      {
                        "line": {
                          "colorbar": {
                            "outlinewidth": 0,
                            "ticks": ""
                          }
                        },
                        "marker": {
                          "colorbar": {
                            "outlinewidth": 0,
                            "ticks": ""
                          }
                        },
                        "type": "scatter3d"
                      }
                    ],
                    "scattercarpet": [
                      {
                        "marker": {
                          "colorbar": {
                            "outlinewidth": 0,
                            "ticks": ""
                          }
                        },
                        "type": "scattercarpet"
                      }
                    ],
                    "scattergeo": [
                      {
                        "marker": {
                          "colorbar": {
                            "outlinewidth": 0,
                            "ticks": ""
                          }
                        },
                        "type": "scattergeo"
                      }
                    ],
                    "scattergl": [
                      {
                        "marker": {
                          "colorbar": {
                            "outlinewidth": 0,
                            "ticks": ""
                          }
                        },
                        "type": "scattergl"
                      }
                    ],
                    "scattermap": [
                      {
                        "marker": {
                          "colorbar": {
                            "outlinewidth": 0,
                            "ticks": ""
                          }
                        },
                        "type": "scattermap"
                      }
                    ],
                    "scattermapbox": [
                      {
                        "marker": {
                          "colorbar": {
                            "outlinewidth": 0,
                            "ticks": ""
                          }
                        },
                        "type": "scattermapbox"
                      }
                    ],
                    "scatterpolar": [
                      {
                        "marker": {
                          "colorbar": {
                            "outlinewidth": 0,
                            "ticks": ""
                          }
                        },
                        "type": "scatterpolar"
                      }
                    ],
                    "scatterpolargl": [
                      {
                        "marker": {
                          "colorbar": {
                            "outlinewidth": 0,
                            "ticks": ""
                          }
                        },
                        "type": "scatterpolargl"
                      }
                    ],
                    "scatterternary": [
                      {
                        "marker": {
                          "colorbar": {
                            "outlinewidth": 0,
                            "ticks": ""
                          }
                        },
                        "type": "scatterternary"
                      }
                    ],
                    "surface": [
                      {
                        "colorbar": {
                          "outlinewidth": 0,
                          "ticks": ""
                        },
                        "colorscale": [
                          [
                            0,
                            "#0d0887"
                          ],
                          [
                            0.1111111111111111,
                            "#46039f"
                          ],
                          [
                            0.2222222222222222,
                            "#7201a8"
                          ],
                          [
                            0.3333333333333333,
                            "#9c179e"
                          ],
                          [
                            0.4444444444444444,
                            "#bd3786"
                          ],
                          [
                            0.5555555555555556,
                            "#d8576b"
                          ],
                          [
                            0.6666666666666666,
                            "#ed7953"
                          ],
                          [
                            0.7777777777777778,
                            "#fb9f3a"
                          ],
                          [
                            0.8888888888888888,
                            "#fdca26"
                          ],
                          [
                            1,
                            "#f0f921"
                          ]
                        ],
                        "type": "surface"
                      }
                    ],
                    "table": [
                      {
                        "cells": {
                          "fill": {
                            "color": "#EBF0F8"
                          },
                          "line": {
                            "color": "white"
                          }
                        },
                        "header": {
                          "fill": {
                            "color": "#C8D4E3"
                          },
                          "line": {
                            "color": "white"
                          }
                        },
                        "type": "table"
                      }
                    ]
                  },
                  "layout": {
                    "annotationdefaults": {
                      "arrowcolor": "#2a3f5f",
                      "arrowhead": 0,
                      "arrowwidth": 1
                    },
                    "autotypenumbers": "strict",
                    "coloraxis": {
                      "colorbar": {
                        "outlinewidth": 0,
                        "ticks": ""
                      }
                    },
                    "colorscale": {
                      "diverging": [
                        [
                          0,
                          "#8e0152"
                        ],
                        [
                          0.1,
                          "#c51b7d"
                        ],
                        [
                          0.2,
                          "#de77ae"
                        ],
                        [
                          0.3,
                          "#f1b6da"
                        ],
                        [
                          0.4,
                          "#fde0ef"
                        ],
                        [
                          0.5,
                          "#f7f7f7"
                        ],
                        [
                          0.6,
                          "#e6f5d0"
                        ],
                        [
                          0.7,
                          "#b8e186"
                        ],
                        [
                          0.8,
                          "#7fbc41"
                        ],
                        [
                          0.9,
                          "#4d9221"
                        ],
                        [
                          1,
                          "#276419"
                        ]
                      ],
                      "sequential": [
                        [
                          0,
                          "#0d0887"
                        ],
                        [
                          0.1111111111111111,
                          "#46039f"
                        ],
                        [
                          0.2222222222222222,
                          "#7201a8"
                        ],
                        [
                          0.3333333333333333,
                          "#9c179e"
                        ],
                        [
                          0.4444444444444444,
                          "#bd3786"
                        ],
                        [
                          0.5555555555555556,
                          "#d8576b"
                        ],
                        [
                          0.6666666666666666,
                          "#ed7953"
                        ],
                        [
                          0.7777777777777778,
                          "#fb9f3a"
                        ],
                        [
                          0.8888888888888888,
                          "#fdca26"
                        ],
                        [
                          1,
                          "#f0f921"
                        ]
                      ],
                      "sequentialminus": [
                        [
                          0,
                          "#0d0887"
                        ],
                        [
                          0.1111111111111111,
                          "#46039f"
                        ],
                        [
                          0.2222222222222222,
                          "#7201a8"
                        ],
                        [
                          0.3333333333333333,
                          "#9c179e"
                        ],
                        [
                          0.4444444444444444,
                          "#bd3786"
                        ],
                        [
                          0.5555555555555556,
                          "#d8576b"
                        ],
                        [
                          0.6666666666666666,
                          "#ed7953"
                        ],
                        [
                          0.7777777777777778,
                          "#fb9f3a"
                        ],
                        [
                          0.8888888888888888,
                          "#fdca26"
                        ],
                        [
                          1,
                          "#f0f921"
                        ]
                      ]
                    },
                    "colorway": [
                      "#636efa",
                      "#EF553B",
                      "#00cc96",
                      "#ab63fa",
                      "#FFA15A",
                      "#19d3f3",
                      "#FF6692",
                      "#B6E880",
                      "#FF97FF",
                      "#FECB52"
                    ],
                    "font": {
                      "color": "#2a3f5f"
                    },
                    "geo": {
                      "bgcolor": "white",
                      "lakecolor": "white",
                      "landcolor": "white",
                      "showlakes": true,
                      "showland": true,
                      "subunitcolor": "#C8D4E3"
                    },
                    "hoverlabel": {
                      "align": "left"
                    },
                    "hovermode": "closest",
                    "mapbox": {
                      "style": "light"
                    },
                    "paper_bgcolor": "white",
                    "plot_bgcolor": "white",
                    "polar": {
                      "angularaxis": {
                        "gridcolor": "#EBF0F8",
                        "linecolor": "#EBF0F8",
                        "ticks": ""
                      },
                      "bgcolor": "white",
                      "radialaxis": {
                        "gridcolor": "#EBF0F8",
                        "linecolor": "#EBF0F8",
                        "ticks": ""
                      }
                    },
                    "scene": {
                      "xaxis": {
                        "backgroundcolor": "white",
                        "gridcolor": "#DFE8F3",
                        "gridwidth": 2,
                        "linecolor": "#EBF0F8",
                        "showbackground": true,
                        "ticks": "",
                        "zerolinecolor": "#EBF0F8"
                      },
                      "yaxis": {
                        "backgroundcolor": "white",
                        "gridcolor": "#DFE8F3",
                        "gridwidth": 2,
                        "linecolor": "#EBF0F8",
                        "showbackground": true,
                        "ticks": "",
                        "zerolinecolor": "#EBF0F8"
                      },
                      "zaxis": {
                        "backgroundcolor": "white",
                        "gridcolor": "#DFE8F3",
                        "gridwidth": 2,
                        "linecolor": "#EBF0F8",
                        "showbackground": true,
                        "ticks": "",
                        "zerolinecolor": "#EBF0F8"
                      }
                    },
                    "shapedefaults": {
                      "line": {
                        "color": "#2a3f5f"
                      }
                    },
                    "ternary": {
                      "aaxis": {
                        "gridcolor": "#DFE8F3",
                        "linecolor": "#A2B1C6",
                        "ticks": ""
                      },
                      "baxis": {
                        "gridcolor": "#DFE8F3",
                        "linecolor": "#A2B1C6",
                        "ticks": ""
                      },
                      "bgcolor": "white",
                      "caxis": {
                        "gridcolor": "#DFE8F3",
                        "linecolor": "#A2B1C6",
                        "ticks": ""
                      }
                    },
                    "title": {
                      "x": 0.05
                    },
                    "xaxis": {
                      "automargin": true,
                      "gridcolor": "#EBF0F8",
                      "linecolor": "#EBF0F8",
                      "ticks": "",
                      "title": {
                        "standoff": 15
                      },
                      "zerolinecolor": "#EBF0F8",
                      "zerolinewidth": 2
                    },
                    "yaxis": {
                      "automargin": true,
                      "gridcolor": "#EBF0F8",
                      "linecolor": "#EBF0F8",
                      "ticks": "",
                      "title": {
                        "standoff": 15
                      },
                      "zerolinecolor": "#EBF0F8",
                      "zerolinewidth": 2
                    }
                  }
                },
                "title": {
                  "text": "Anteil Unausgewogener Ernährung je Cluster"
                },
                "xaxis": {
                  "anchor": "y",
                  "domain": [
                    0,
                    1
                  ],
                  "title": {
                    "text": "Cluster"
                  }
                },
                "yaxis": {
                  "anchor": "x",
                  "domain": [
                    0,
                    1
                  ],
                  "tickformat": ".0%",
                  "title": {
                    "text": "Anteil (%)"
                  }
                }
              }
            }
          },
          "metadata": {},
          "output_type": "display_data"
        },
        {
          "data": {
            "application/vnd.plotly.v1+json": {
              "config": {
                "plotlyServerURL": "https://plot.ly"
              },
              "data": [
                {
                  "hovertemplate": "Cluster=%{marker.color}<br>Anteil (%)=%{y}<extra></extra>",
                  "legendgroup": "",
                  "marker": {
                    "color": {
                      "bdata": "AAAAAAEAAAACAAAA",
                      "dtype": "i4"
                    },
                    "coloraxis": "coloraxis",
                    "pattern": {
                      "shape": ""
                    }
                  },
                  "name": "",
                  "orientation": "v",
                  "showlegend": false,
                  "textposition": "auto",
                  "texttemplate": "%{y:.1%}",
                  "type": "bar",
                  "x": {
                    "bdata": "AAAAAAEAAAACAAAA",
                    "dtype": "i4"
                  },
                  "xaxis": "x",
                  "y": {
                    "bdata": "/R6YMHrjtj+q0OhXvVzgP83MzMzMzNQ/",
                    "dtype": "f8"
                  },
                  "yaxis": "y"
                }
              ],
              "layout": {
                "barmode": "relative",
                "coloraxis": {
                  "colorbar": {
                    "title": {
                      "text": "Cluster"
                    }
                  },
                  "colorscale": [
                    [
                      0,
                      "#0d0887"
                    ],
                    [
                      0.1111111111111111,
                      "#46039f"
                    ],
                    [
                      0.2222222222222222,
                      "#7201a8"
                    ],
                    [
                      0.3333333333333333,
                      "#9c179e"
                    ],
                    [
                      0.4444444444444444,
                      "#bd3786"
                    ],
                    [
                      0.5555555555555556,
                      "#d8576b"
                    ],
                    [
                      0.6666666666666666,
                      "#ed7953"
                    ],
                    [
                      0.7777777777777778,
                      "#fb9f3a"
                    ],
                    [
                      0.8888888888888888,
                      "#fdca26"
                    ],
                    [
                      1,
                      "#f0f921"
                    ]
                  ]
                },
                "height": 400,
                "legend": {
                  "tracegroupgap": 0
                },
                "template": {
                  "data": {
                    "bar": [
                      {
                        "error_x": {
                          "color": "#2a3f5f"
                        },
                        "error_y": {
                          "color": "#2a3f5f"
                        },
                        "marker": {
                          "line": {
                            "color": "white",
                            "width": 0.5
                          },
                          "pattern": {
                            "fillmode": "overlay",
                            "size": 10,
                            "solidity": 0.2
                          }
                        },
                        "type": "bar"
                      }
                    ],
                    "barpolar": [
                      {
                        "marker": {
                          "line": {
                            "color": "white",
                            "width": 0.5
                          },
                          "pattern": {
                            "fillmode": "overlay",
                            "size": 10,
                            "solidity": 0.2
                          }
                        },
                        "type": "barpolar"
                      }
                    ],
                    "carpet": [
                      {
                        "aaxis": {
                          "endlinecolor": "#2a3f5f",
                          "gridcolor": "#C8D4E3",
                          "linecolor": "#C8D4E3",
                          "minorgridcolor": "#C8D4E3",
                          "startlinecolor": "#2a3f5f"
                        },
                        "baxis": {
                          "endlinecolor": "#2a3f5f",
                          "gridcolor": "#C8D4E3",
                          "linecolor": "#C8D4E3",
                          "minorgridcolor": "#C8D4E3",
                          "startlinecolor": "#2a3f5f"
                        },
                        "type": "carpet"
                      }
                    ],
                    "choropleth": [
                      {
                        "colorbar": {
                          "outlinewidth": 0,
                          "ticks": ""
                        },
                        "type": "choropleth"
                      }
                    ],
                    "contour": [
                      {
                        "colorbar": {
                          "outlinewidth": 0,
                          "ticks": ""
                        },
                        "colorscale": [
                          [
                            0,
                            "#0d0887"
                          ],
                          [
                            0.1111111111111111,
                            "#46039f"
                          ],
                          [
                            0.2222222222222222,
                            "#7201a8"
                          ],
                          [
                            0.3333333333333333,
                            "#9c179e"
                          ],
                          [
                            0.4444444444444444,
                            "#bd3786"
                          ],
                          [
                            0.5555555555555556,
                            "#d8576b"
                          ],
                          [
                            0.6666666666666666,
                            "#ed7953"
                          ],
                          [
                            0.7777777777777778,
                            "#fb9f3a"
                          ],
                          [
                            0.8888888888888888,
                            "#fdca26"
                          ],
                          [
                            1,
                            "#f0f921"
                          ]
                        ],
                        "type": "contour"
                      }
                    ],
                    "contourcarpet": [
                      {
                        "colorbar": {
                          "outlinewidth": 0,
                          "ticks": ""
                        },
                        "type": "contourcarpet"
                      }
                    ],
                    "heatmap": [
                      {
                        "colorbar": {
                          "outlinewidth": 0,
                          "ticks": ""
                        },
                        "colorscale": [
                          [
                            0,
                            "#0d0887"
                          ],
                          [
                            0.1111111111111111,
                            "#46039f"
                          ],
                          [
                            0.2222222222222222,
                            "#7201a8"
                          ],
                          [
                            0.3333333333333333,
                            "#9c179e"
                          ],
                          [
                            0.4444444444444444,
                            "#bd3786"
                          ],
                          [
                            0.5555555555555556,
                            "#d8576b"
                          ],
                          [
                            0.6666666666666666,
                            "#ed7953"
                          ],
                          [
                            0.7777777777777778,
                            "#fb9f3a"
                          ],
                          [
                            0.8888888888888888,
                            "#fdca26"
                          ],
                          [
                            1,
                            "#f0f921"
                          ]
                        ],
                        "type": "heatmap"
                      }
                    ],
                    "histogram": [
                      {
                        "marker": {
                          "pattern": {
                            "fillmode": "overlay",
                            "size": 10,
                            "solidity": 0.2
                          }
                        },
                        "type": "histogram"
                      }
                    ],
                    "histogram2d": [
                      {
                        "colorbar": {
                          "outlinewidth": 0,
                          "ticks": ""
                        },
                        "colorscale": [
                          [
                            0,
                            "#0d0887"
                          ],
                          [
                            0.1111111111111111,
                            "#46039f"
                          ],
                          [
                            0.2222222222222222,
                            "#7201a8"
                          ],
                          [
                            0.3333333333333333,
                            "#9c179e"
                          ],
                          [
                            0.4444444444444444,
                            "#bd3786"
                          ],
                          [
                            0.5555555555555556,
                            "#d8576b"
                          ],
                          [
                            0.6666666666666666,
                            "#ed7953"
                          ],
                          [
                            0.7777777777777778,
                            "#fb9f3a"
                          ],
                          [
                            0.8888888888888888,
                            "#fdca26"
                          ],
                          [
                            1,
                            "#f0f921"
                          ]
                        ],
                        "type": "histogram2d"
                      }
                    ],
                    "histogram2dcontour": [
                      {
                        "colorbar": {
                          "outlinewidth": 0,
                          "ticks": ""
                        },
                        "colorscale": [
                          [
                            0,
                            "#0d0887"
                          ],
                          [
                            0.1111111111111111,
                            "#46039f"
                          ],
                          [
                            0.2222222222222222,
                            "#7201a8"
                          ],
                          [
                            0.3333333333333333,
                            "#9c179e"
                          ],
                          [
                            0.4444444444444444,
                            "#bd3786"
                          ],
                          [
                            0.5555555555555556,
                            "#d8576b"
                          ],
                          [
                            0.6666666666666666,
                            "#ed7953"
                          ],
                          [
                            0.7777777777777778,
                            "#fb9f3a"
                          ],
                          [
                            0.8888888888888888,
                            "#fdca26"
                          ],
                          [
                            1,
                            "#f0f921"
                          ]
                        ],
                        "type": "histogram2dcontour"
                      }
                    ],
                    "mesh3d": [
                      {
                        "colorbar": {
                          "outlinewidth": 0,
                          "ticks": ""
                        },
                        "type": "mesh3d"
                      }
                    ],
                    "parcoords": [
                      {
                        "line": {
                          "colorbar": {
                            "outlinewidth": 0,
                            "ticks": ""
                          }
                        },
                        "type": "parcoords"
                      }
                    ],
                    "pie": [
                      {
                        "automargin": true,
                        "type": "pie"
                      }
                    ],
                    "scatter": [
                      {
                        "fillpattern": {
                          "fillmode": "overlay",
                          "size": 10,
                          "solidity": 0.2
                        },
                        "type": "scatter"
                      }
                    ],
                    "scatter3d": [
                      {
                        "line": {
                          "colorbar": {
                            "outlinewidth": 0,
                            "ticks": ""
                          }
                        },
                        "marker": {
                          "colorbar": {
                            "outlinewidth": 0,
                            "ticks": ""
                          }
                        },
                        "type": "scatter3d"
                      }
                    ],
                    "scattercarpet": [
                      {
                        "marker": {
                          "colorbar": {
                            "outlinewidth": 0,
                            "ticks": ""
                          }
                        },
                        "type": "scattercarpet"
                      }
                    ],
                    "scattergeo": [
                      {
                        "marker": {
                          "colorbar": {
                            "outlinewidth": 0,
                            "ticks": ""
                          }
                        },
                        "type": "scattergeo"
                      }
                    ],
                    "scattergl": [
                      {
                        "marker": {
                          "colorbar": {
                            "outlinewidth": 0,
                            "ticks": ""
                          }
                        },
                        "type": "scattergl"
                      }
                    ],
                    "scattermap": [
                      {
                        "marker": {
                          "colorbar": {
                            "outlinewidth": 0,
                            "ticks": ""
                          }
                        },
                        "type": "scattermap"
                      }
                    ],
                    "scattermapbox": [
                      {
                        "marker": {
                          "colorbar": {
                            "outlinewidth": 0,
                            "ticks": ""
                          }
                        },
                        "type": "scattermapbox"
                      }
                    ],
                    "scatterpolar": [
                      {
                        "marker": {
                          "colorbar": {
                            "outlinewidth": 0,
                            "ticks": ""
                          }
                        },
                        "type": "scatterpolar"
                      }
                    ],
                    "scatterpolargl": [
                      {
                        "marker": {
                          "colorbar": {
                            "outlinewidth": 0,
                            "ticks": ""
                          }
                        },
                        "type": "scatterpolargl"
                      }
                    ],
                    "scatterternary": [
                      {
                        "marker": {
                          "colorbar": {
                            "outlinewidth": 0,
                            "ticks": ""
                          }
                        },
                        "type": "scatterternary"
                      }
                    ],
                    "surface": [
                      {
                        "colorbar": {
                          "outlinewidth": 0,
                          "ticks": ""
                        },
                        "colorscale": [
                          [
                            0,
                            "#0d0887"
                          ],
                          [
                            0.1111111111111111,
                            "#46039f"
                          ],
                          [
                            0.2222222222222222,
                            "#7201a8"
                          ],
                          [
                            0.3333333333333333,
                            "#9c179e"
                          ],
                          [
                            0.4444444444444444,
                            "#bd3786"
                          ],
                          [
                            0.5555555555555556,
                            "#d8576b"
                          ],
                          [
                            0.6666666666666666,
                            "#ed7953"
                          ],
                          [
                            0.7777777777777778,
                            "#fb9f3a"
                          ],
                          [
                            0.8888888888888888,
                            "#fdca26"
                          ],
                          [
                            1,
                            "#f0f921"
                          ]
                        ],
                        "type": "surface"
                      }
                    ],
                    "table": [
                      {
                        "cells": {
                          "fill": {
                            "color": "#EBF0F8"
                          },
                          "line": {
                            "color": "white"
                          }
                        },
                        "header": {
                          "fill": {
                            "color": "#C8D4E3"
                          },
                          "line": {
                            "color": "white"
                          }
                        },
                        "type": "table"
                      }
                    ]
                  },
                  "layout": {
                    "annotationdefaults": {
                      "arrowcolor": "#2a3f5f",
                      "arrowhead": 0,
                      "arrowwidth": 1
                    },
                    "autotypenumbers": "strict",
                    "coloraxis": {
                      "colorbar": {
                        "outlinewidth": 0,
                        "ticks": ""
                      }
                    },
                    "colorscale": {
                      "diverging": [
                        [
                          0,
                          "#8e0152"
                        ],
                        [
                          0.1,
                          "#c51b7d"
                        ],
                        [
                          0.2,
                          "#de77ae"
                        ],
                        [
                          0.3,
                          "#f1b6da"
                        ],
                        [
                          0.4,
                          "#fde0ef"
                        ],
                        [
                          0.5,
                          "#f7f7f7"
                        ],
                        [
                          0.6,
                          "#e6f5d0"
                        ],
                        [
                          0.7,
                          "#b8e186"
                        ],
                        [
                          0.8,
                          "#7fbc41"
                        ],
                        [
                          0.9,
                          "#4d9221"
                        ],
                        [
                          1,
                          "#276419"
                        ]
                      ],
                      "sequential": [
                        [
                          0,
                          "#0d0887"
                        ],
                        [
                          0.1111111111111111,
                          "#46039f"
                        ],
                        [
                          0.2222222222222222,
                          "#7201a8"
                        ],
                        [
                          0.3333333333333333,
                          "#9c179e"
                        ],
                        [
                          0.4444444444444444,
                          "#bd3786"
                        ],
                        [
                          0.5555555555555556,
                          "#d8576b"
                        ],
                        [
                          0.6666666666666666,
                          "#ed7953"
                        ],
                        [
                          0.7777777777777778,
                          "#fb9f3a"
                        ],
                        [
                          0.8888888888888888,
                          "#fdca26"
                        ],
                        [
                          1,
                          "#f0f921"
                        ]
                      ],
                      "sequentialminus": [
                        [
                          0,
                          "#0d0887"
                        ],
                        [
                          0.1111111111111111,
                          "#46039f"
                        ],
                        [
                          0.2222222222222222,
                          "#7201a8"
                        ],
                        [
                          0.3333333333333333,
                          "#9c179e"
                        ],
                        [
                          0.4444444444444444,
                          "#bd3786"
                        ],
                        [
                          0.5555555555555556,
                          "#d8576b"
                        ],
                        [
                          0.6666666666666666,
                          "#ed7953"
                        ],
                        [
                          0.7777777777777778,
                          "#fb9f3a"
                        ],
                        [
                          0.8888888888888888,
                          "#fdca26"
                        ],
                        [
                          1,
                          "#f0f921"
                        ]
                      ]
                    },
                    "colorway": [
                      "#636efa",
                      "#EF553B",
                      "#00cc96",
                      "#ab63fa",
                      "#FFA15A",
                      "#19d3f3",
                      "#FF6692",
                      "#B6E880",
                      "#FF97FF",
                      "#FECB52"
                    ],
                    "font": {
                      "color": "#2a3f5f"
                    },
                    "geo": {
                      "bgcolor": "white",
                      "lakecolor": "white",
                      "landcolor": "white",
                      "showlakes": true,
                      "showland": true,
                      "subunitcolor": "#C8D4E3"
                    },
                    "hoverlabel": {
                      "align": "left"
                    },
                    "hovermode": "closest",
                    "mapbox": {
                      "style": "light"
                    },
                    "paper_bgcolor": "white",
                    "plot_bgcolor": "white",
                    "polar": {
                      "angularaxis": {
                        "gridcolor": "#EBF0F8",
                        "linecolor": "#EBF0F8",
                        "ticks": ""
                      },
                      "bgcolor": "white",
                      "radialaxis": {
                        "gridcolor": "#EBF0F8",
                        "linecolor": "#EBF0F8",
                        "ticks": ""
                      }
                    },
                    "scene": {
                      "xaxis": {
                        "backgroundcolor": "white",
                        "gridcolor": "#DFE8F3",
                        "gridwidth": 2,
                        "linecolor": "#EBF0F8",
                        "showbackground": true,
                        "ticks": "",
                        "zerolinecolor": "#EBF0F8"
                      },
                      "yaxis": {
                        "backgroundcolor": "white",
                        "gridcolor": "#DFE8F3",
                        "gridwidth": 2,
                        "linecolor": "#EBF0F8",
                        "showbackground": true,
                        "ticks": "",
                        "zerolinecolor": "#EBF0F8"
                      },
                      "zaxis": {
                        "backgroundcolor": "white",
                        "gridcolor": "#DFE8F3",
                        "gridwidth": 2,
                        "linecolor": "#EBF0F8",
                        "showbackground": true,
                        "ticks": "",
                        "zerolinecolor": "#EBF0F8"
                      }
                    },
                    "shapedefaults": {
                      "line": {
                        "color": "#2a3f5f"
                      }
                    },
                    "ternary": {
                      "aaxis": {
                        "gridcolor": "#DFE8F3",
                        "linecolor": "#A2B1C6",
                        "ticks": ""
                      },
                      "baxis": {
                        "gridcolor": "#DFE8F3",
                        "linecolor": "#A2B1C6",
                        "ticks": ""
                      },
                      "bgcolor": "white",
                      "caxis": {
                        "gridcolor": "#DFE8F3",
                        "linecolor": "#A2B1C6",
                        "ticks": ""
                      }
                    },
                    "title": {
                      "x": 0.05
                    },
                    "xaxis": {
                      "automargin": true,
                      "gridcolor": "#EBF0F8",
                      "linecolor": "#EBF0F8",
                      "ticks": "",
                      "title": {
                        "standoff": 15
                      },
                      "zerolinecolor": "#EBF0F8",
                      "zerolinewidth": 2
                    },
                    "yaxis": {
                      "automargin": true,
                      "gridcolor": "#EBF0F8",
                      "linecolor": "#EBF0F8",
                      "ticks": "",
                      "title": {
                        "standoff": 15
                      },
                      "zerolinecolor": "#EBF0F8",
                      "zerolinewidth": 2
                    }
                  }
                },
                "title": {
                  "text": "Anteil Unausgewogener Ernährung je Cluster"
                },
                "xaxis": {
                  "anchor": "y",
                  "domain": [
                    0,
                    1
                  ],
                  "title": {
                    "text": "Cluster"
                  }
                },
                "yaxis": {
                  "anchor": "x",
                  "domain": [
                    0,
                    1
                  ],
                  "tickformat": ".0%",
                  "title": {
                    "text": "Anteil (%)"
                  }
                }
              }
            }
          },
          "metadata": {},
          "output_type": "display_data"
        }
      ],
      "source": [
        "# =====================================\n",
        "# Schritt 5: Analyse KAQ 1: Welche Ernährungsmuster lassen sich aus individuellen Makronährstoffprofilen ableiten – und welche Krankheitsrisiken sind damit verbunden?\n",
        "# Methode: KMeans-Clusteranalyse auf Protein, Fett, Zucker, Kalorien, etc.\n",
        "# Ziel: Ernährungstypen identifizieren\n",
        "# Zusatzanalyse: Krankheitsverteilung je Cluster\n",
        "# Visualisierung: Clusterplot, Balkendiagramm Krankheitsprävalenz\n",
        "# =====================================\n",
        "\n",
        "# 🧠 Frage: xxxxxx\n",
        "# 🎯 Ziel: xxxxxx\n",
        "\n",
        "# 3. Clustering (KAQ 1) - 1\n",
        "# Clustering (KAQ 1) - 1 mit Beschriftung\n",
        "features_kaq1 = [\n",
        "    \"Protein_per_100kcal\", \"Fat_to_Protein_Ratio\", \"Sugar_per_Carb\",\n",
        "    \"Snack_Energy_Share\", \"Carb_ratio_breakfast\", \"Calories_exceed_target\",\n",
        "    \"Protein_deficit_ratio\"\n",
        "]\n",
        "\n",
        "df_kaq1 = df_meals[features_kaq1 + [\"Target_Chronic\", \"Risk_Flag\"]].dropna().copy()\n",
        "# Neue Flags für Unausgewogenheit erstellen\n",
        "df_kaq1[\"Under_Protein\"] = (df_kaq1[\"Protein_deficit_ratio\"] < 1.0).astype(int)\n",
        "df_kaq1[\"High_Sugar_Carb\"] = (df_kaq1[\"Sugar_per_Carb\"] > 0.3).astype(int)\n",
        "df_kaq1[\"High_Snacks\"] = (df_kaq1[\"Snack_Energy_Share\"] > 0.15).astype(int)\n",
        "df_kaq1[\"Fat_Heavy\"] = (df_kaq1[\"Fat_to_Protein_Ratio\"] > 1.0).astype(int)\n",
        "df_kaq1[\"Unausgewogen\"] = (\n",
        "    df_kaq1[\"Under_Protein\"] +\n",
        "    df_kaq1[\"High_Sugar_Carb\"] +\n",
        "    df_kaq1[\"High_Snacks\"] +\n",
        "    df_kaq1[\"Calories_exceed_target\"] +\n",
        "    df_kaq1[\"Fat_Heavy\"]\n",
        ")\n",
        "df_kaq1[\"Unausgewogen_Flag\"] = (df_kaq1[\"Unausgewogen\"] >= 2).astype(int)\n",
        "\n",
        "\n",
        "\n",
        "\n",
        "\n",
        "# Clustering + PCA\n",
        "scaler = StandardScaler()\n",
        "X_scaled = scaler.fit_transform(df_kaq1[features_kaq1])\n",
        "pca = PCA(n_components=2)\n",
        "X_pca = pca.fit_transform(X_scaled)\n",
        "kmeans = KMeans(n_clusters=3, random_state=42, n_init=10)\n",
        "clusters = kmeans.fit_predict(X_pca)\n",
        "\n",
        "df_kaq1[\"Cluster\"] = clusters\n",
        "df_kaq1[\"PCA1\"] = X_pca[:, 0]\n",
        "df_kaq1[\"PCA2\"] = X_pca[:, 1]\n",
        "\n",
        "farben = {0: \"green\", 1: \"orange\", 2: \"blue\"}\n",
        "farben_liste = df_kaq1[\"Cluster\"].map(farben)\n",
        "cluster_labels = {\n",
        "    0: \"🟢 Cluster 0:\\nProteinreich\\nNiedriges Risiko\",\n",
        "    1: \"🟠 Cluster 1:\\nSnacklastig\\nMittleres Risiko\",\n",
        "    2: \"🔵 Cluster 2:\\nCarb-Frühstück\\nHöchstes Risiko\"\n",
        "}\n",
        "\n",
        "plt.figure(figsize=(10, 6))\n",
        "plt.scatter(df_kaq1[\"PCA1\"], df_kaq1[\"PCA2\"], c=farben_liste, s=40, alpha=0.7)\n",
        "for cluster_id, label in cluster_labels.items():\n",
        "    x_mean = df_kaq1[df_kaq1[\"Cluster\"] == cluster_id][\"PCA1\"].mean()\n",
        "    y_mean = df_kaq1[df_kaq1[\"Cluster\"] == cluster_id][\"PCA2\"].mean()\n",
        "    plt.text(x_mean, y_mean, label, fontsize=10, weight='bold', ha='center', va='center',\n",
        "             bbox=dict(facecolor='white', alpha=0.7, boxstyle='round'))\n",
        "plt.title(\"KAQ 1: Ernährungsmuster-Clustering (beschriftet)\")\n",
        "plt.xlabel(\"PCA 1\")\n",
        "plt.ylabel(\"PCA 2\")\n",
        "plt.grid(True)\n",
        "plt.tight_layout()\n",
        "plt.show()\n",
        "\n",
        "\n",
        "\n",
        "# Definition der Basis-Nährstoff-Features\n",
        "features_basic = [\"Protein\", \"Fat\", \"Carbohydrates\", \"Sugar\"]\n",
        "\n",
        "# DataFrame für Basis-Clustering:\n",
        "df_basic = df_meals[features_basic].dropna().copy()\n",
        "\n",
        "\n",
        "# Clustering auf Basis-Nährstoffe mit Beschriftung\n",
        "scaler = StandardScaler()\n",
        "X_scaled_basic = scaler.fit_transform(df_basic)\n",
        "pca_basic = PCA(n_components=2)\n",
        "X_pca_basic = pca_basic.fit_transform(X_scaled_basic)\n",
        "kmeans_basic = KMeans(n_clusters=3, random_state=42, n_init=10)\n",
        "clusters_basic = kmeans_basic.fit_predict(X_pca_basic)\n",
        "\n",
        "df_basic[\"Cluster\"] = clusters_basic\n",
        "df_basic[\"PCA1\"] = X_pca_basic[:, 0]\n",
        "df_basic[\"PCA2\"] = X_pca_basic[:, 1]\n",
        "\n",
        "farben_basic = {0: \"green\", 1: \"orange\", 2: \"blue\"}\n",
        "farben_liste_basic = df_basic[\"Cluster\"].map(farben_basic)\n",
        "cluster_labels_basic = {\n",
        "    0: \"🟢 Cluster 0:\\nProteinreich\",\n",
        "    1: \"🟠 Cluster 1:\\nFett-/Zuckerreich\",\n",
        "    2: \"🔵 Cluster 2:\\nCarblastig\"\n",
        "}\n",
        "\n",
        "plt.figure(figsize=(10, 6))\n",
        "plt.scatter(df_basic[\"PCA1\"], df_basic[\"PCA2\"], c=farben_liste_basic, s=40, alpha=0.7)\n",
        "for cluster_id, label in cluster_labels_basic.items():\n",
        "    x_mean = df_basic[df_basic[\"Cluster\"] == cluster_id][\"PCA1\"].mean()\n",
        "    y_mean = df_basic[df_basic[\"Cluster\"] == cluster_id][\"PCA2\"].mean()\n",
        "    plt.text(x_mean, y_mean, label, fontsize=10, weight='bold', ha='center', va='center',\n",
        "             bbox=dict(facecolor='white', alpha=0.7, boxstyle='round'))\n",
        "plt.title(\"Clustering auf Protein, Fett, Carbs, Zucker (beschriftet)\")\n",
        "plt.xlabel(\"PCA 1\")\n",
        "plt.ylabel(\"PCA 2\")\n",
        "plt.grid(True)\n",
        "plt.tight_layout()\n",
        "plt.show()\n",
        "\n",
        "\n",
        "\n",
        "\n",
        "# Plotly HBar für KAQ 1 Features\n",
        "cluster_summary = df_kaq1.groupby(\"Cluster\")[features_kaq1].mean().reset_index()\n",
        "df_melt = cluster_summary.melt(id_vars=\"Cluster\", var_name=\"Feature\", value_name=\"Wert\")\n",
        "fig = px.bar(df_melt, x=\"Wert\", y=\"Feature\", color=\"Cluster\", orientation=\"h\", barmode=\"group\",\n",
        "             color_discrete_map={0: \"green\", 1: \"orange\", 2: \"blue\"}, height=600,\n",
        "             title=\"Ernährungsmuster je Cluster (features_kaq1)\")\n",
        "fig.update_layout(xaxis_title=\"Durchschnittlicher Wert\", yaxis_title=\"Feature\", legend_title=\"Cluster\", template=\"plotly_white\")\n",
        "fig.show()\n",
        "\n",
        "# Plotly HBar für Basis-Nährstoffe\n",
        "cluster_summary_basic = df_basic.groupby(\"Cluster\")[features_basic].mean().reset_index()\n",
        "df_melt_basic = cluster_summary_basic.melt(id_vars=\"Cluster\", var_name=\"Feature\", value_name=\"Wert\")\n",
        "fig_basic = px.bar(df_melt_basic, x=\"Wert\", y=\"Feature\", color=\"Cluster\", orientation=\"h\", barmode=\"group\",\n",
        "                   color_discrete_map={0: \"green\", 1: \"orange\", 2: \"blue\"}, height=500,\n",
        "                   title=\"Basis-Nährstoffe je Cluster\")\n",
        "fig_basic.update_layout(xaxis_title=\"Durchschnittlicher Wert (g)\", yaxis_title=\"Basis-Nährstoff\", legend_title=\"Cluster\", template=\"plotly_white\")\n",
        "fig_basic.show()\n",
        "\n",
        "\n",
        "\n",
        "\n",
        "# Anteil Unausgewogener je Cluster\n",
        "unausgewogen_summary = df_kaq1.groupby(\"Cluster\")[[\"Unausgewogen_Flag\"]].mean().reset_index()\n",
        "fig_unaus = px.bar(unausgewogen_summary, x=\"Cluster\", y=\"Unausgewogen_Flag\", color=\"Cluster\",\n",
        "                   color_discrete_map={0: \"green\", 1: \"orange\", 2: \"blue\"},\n",
        "                   title=\"Anteil Unausgewogener Ernährung je Cluster\",\n",
        "                   labels={\"Unausgewogen_Flag\": \"Anteil (%)\"}, text_auto=\".1%\", height=400)\n",
        "fig_unaus.update_layout(template=\"plotly_white\", yaxis_tickformat=\".0%\")\n",
        "fig_unaus.show()\n",
        "\n"
      ]
    },
    {
      "cell_type": "code",
      "execution_count": null,
      "metadata": {},
      "outputs": [],
      "source": []
    },
    {
      "cell_type": "code",
      "execution_count": null,
      "metadata": {
        "colab": {
          "base_uri": "https://localhost:8080/",
          "height": 571
        },
        "id": "t_Vmn9NOSvi4",
        "outputId": "1d0ff3f8-760d-4593-f2a7-ce44224fea43"
      },
      "outputs": [],
      "source": []
    },
    {
      "cell_type": "code",
      "execution_count": null,
      "metadata": {
        "id": "sQIEq0YyiYPE"
      },
      "outputs": [],
      "source": []
    },
    {
      "cell_type": "code",
      "execution_count": null,
      "metadata": {
        "colab": {
          "base_uri": "https://localhost:8080/"
        },
        "id": "BX18zSRvfIjd",
        "outputId": "4c86b7f6-b368-456e-87b5-43ecb1556d5b"
      },
      "outputs": [],
      "source": [
        "\n"
      ]
    },
    {
      "cell_type": "markdown",
      "metadata": {
        "id": "e5oMDyfyAnNc"
      },
      "source": []
    },
    {
      "cell_type": "code",
      "execution_count": null,
      "metadata": {
        "colab": {
          "base_uri": "https://localhost:8080/",
          "height": 1000
        },
        "id": "FkIif6Lieqd6",
        "outputId": "fe6791d8-df06-4f39-ca2d-576fa9c56fac"
      },
      "outputs": [],
      "source": []
    },
    {
      "cell_type": "code",
      "execution_count": null,
      "metadata": {
        "id": "llpU59M5eqd6"
      },
      "outputs": [],
      "source": [
        "# =====================================\n",
        "# Schritt 4: Desktripitve Statistik - Teil 2 Verteilung der Krankheiten & Ernährungsstile\n",
        "# =====================================\n",
        "\n"
      ]
    },
    {
      "cell_type": "code",
      "execution_count": null,
      "metadata": {
        "id": "tkzdq5ZOeqd8"
      },
      "outputs": [],
      "source": [
        "# =====================================\n",
        "# Schritt 3: Explorative Analyse nach IBCS\n",
        "# =====================================\n",
        "\n",
        "# 🧠 Frage: Unterscheiden sich kranke und gesunde Personen im Zuckerkonsum?\n",
        "# 🎯 Ziel: Visuelle Verteilung und Mittelwertunterschied zeigen\n",
        "\n",
        "sns.boxplot(data=df_meals, x=df_meals[\"Disease_Count\"] > 0, y=\"Sugar\")\n",
        "plt.title(\"Zuckerzufuhr bei Personen mit und ohne Krankheit\")\n",
        "plt.xlabel(\"Krankheit vorhanden?\")\n",
        "plt.ylabel(\"Zucker (g pro Tag)\")\n",
        "plt.grid(True)\n",
        "plt.show()\n",
        "\n",
        "# SAY-Prinzip (Kommentar zur Grafik)\n",
        "print(\"Personen mit Krankheit weisen im Median einen leicht höheren Zuckerkonsum auf.\")\n"
      ]
    },
    {
      "cell_type": "markdown",
      "metadata": {
        "id": "aT78c3WXB8e3"
      },
      "source": []
    },
    {
      "cell_type": "code",
      "execution_count": null,
      "metadata": {
        "colab": {
          "base_uri": "https://localhost:8080/",
          "height": 1000
        },
        "id": "VQ2iroYQeqd7",
        "outputId": "ef1df517-40cf-40e5-8c58-5e34d0e8dc63"
      },
      "outputs": [],
      "source": [
        "#Ernährungsmuster visuell erkennen (z. B. Cluster 1 = „Proteinreich und risikoarm“)\n",
        "#Krankheitsrisiken vorhersagen (RandomForest auf Basis deiner Features)\n",
        "#Datenqualität prüfen (z. B. ob Cluster mit Risk_Flag oder Target_Chronic übereinstimmen)\n",
        "#Zielgruppen ableiten für personalisierte Ernährungsempfehlungen\n",
        "\n",
        "\n",
        "# === 1. Feature-Auswahl ===\n",
        "features = [\n",
        "    \"Protein_per_100kcal\", \"Fat_to_Protein_Ratio\", \"Carb_to_Fat_Ratio\", \"Sugar_per_Carb\",\n",
        "    \"Calories_exceed_target\", \"Sugar_excess\", \"Protein_deficit_ratio\",\n",
        "    \"Protein_Lunch_vs_Dinner\", \"Snack_Energy_Share\", \"Carb_ratio_breakfast\",\n",
        "    \"Protein_std\", \"Macronutrient_Diversity\"\n",
        "]\n",
        "\n",
        "# ✅ Nur vollständige Zeilen verwenden\n",
        "df_cluster = df_meals[features + [\"Target_Chronic\"]].dropna().copy()\n",
        "\n",
        "# === 2. Standardisieren ===\n",
        "scaler = StandardScaler()\n",
        "X_scaled = scaler.fit_transform(df_cluster[features])\n",
        "\n",
        "# === 3. PCA → 2D-Reduktion\n",
        "pca = PCA(n_components=2)\n",
        "X_pca = pca.fit_transform(X_scaled)\n",
        "\n",
        "# === 4. KMeans Clustering\n",
        "kmeans = KMeans(n_clusters=3, random_state=42, n_init=10)\n",
        "clusters = kmeans.fit_predict(X_pca)\n",
        "\n",
        "# === 5. Cluster + PCA in df_meals schreiben\n",
        "df_meals_clean = df_meals.loc[df_cluster.index].copy()\n",
        "df_meals_clean[\"Cluster\"] = clusters\n",
        "df_meals_clean[\"PCA1\"] = X_pca[:, 0]\n",
        "df_meals_clean[\"PCA2\"] = X_pca[:, 1]\n",
        "\n",
        "# === 6. Cluster-Zusammenfassung\n",
        "cluster_summary = df_meals_clean.groupby(\"Cluster\")[features].mean()\n",
        "\n",
        "# === 7. Cluster-Visualisierung (PCA 2D)\n",
        "plt.figure(figsize=(10, 6))\n",
        "scatter = plt.scatter(X_pca[:, 0], X_pca[:, 1], c=clusters, cmap='Set2', s=40, alpha=0.7)\n",
        "plt.title(\"PCA + KMeans Clustering der Ernährungsmuster\")\n",
        "plt.xlabel(\"PCA 1\")\n",
        "plt.ylabel(\"PCA 2\")\n",
        "plt.grid(True)\n",
        "plt.legend(*scatter.legend_elements(), title=\"Cluster\")\n",
        "plt.tight_layout()\n",
        "plt.show()\n",
        "\n",
        "# === 8. Klassifikation: Target_Chronic\n",
        "X = df_cluster[features]\n",
        "y = df_cluster[\"Target_Chronic\"]\n",
        "X_train, X_test, y_train, y_test = train_test_split(X, y, random_state=42, test_size=0.2)\n",
        "\n",
        "\n",
        "clf = RandomForestClassifier(\n",
        "    n_estimators=300,\n",
        "    max_depth=22,\n",
        "    min_samples_split=5,\n",
        "    min_samples_leaf=2,\n",
        "    max_features='sqrt',\n",
        "    class_weight='balanced',\n",
        "    n_jobs=1,  # statt -1, um Fehler zu vermeiden\n",
        "    random_state=42\n",
        ")\n",
        "\n",
        "clf.fit(X_train, y_train)\n",
        "\n",
        "\n",
        "y_pred = clf.predict(X_test)\n",
        "\n",
        "# === 9. Klassifikationsmetriken\n",
        "report = classification_report(y_test, y_pred, output_dict=True)\n",
        "metrics = pd.DataFrame(report).T\n",
        "\n",
        "# === 10. Optional: Boxplot pro Cluster für ein Feature\n",
        "plt.figure(figsize=(8, 5))\n",
        "sns.boxplot(data=df_meals_clean, x=\"Cluster\", y=\"Protein_per_100kcal\", palette=\"Set2\")\n",
        "plt.title(\"Protein pro 100kcal nach Cluster\")\n",
        "plt.grid(True)\n",
        "plt.tight_layout()\n",
        "plt.show()\n",
        "\n",
        "# === 11. Ausgabe\n",
        "print(\"\\n📊 Cluster-Zusammenfassung:\")\n",
        "display(cluster_summary)\n",
        "\n",
        "print(\"\\n🎯 Klassifikationsmetriken:\")\n",
        "display(metrics)\n"
      ]
    },
    {
      "cell_type": "code",
      "execution_count": null,
      "metadata": {
        "id": "yqOvGTAqFymy"
      },
      "outputs": [],
      "source": [
        "def vorhersage_chronisches_risiko(input_dict, model, feature_list):\n",
        "    \"\"\"\n",
        "    Gibt eine Vorhersage für chronisches Risiko zurück (basierend auf Random Forest Modell).\n",
        "\n",
        "    :param input_dict: dict – Eingabewerte für eine Person (z. B. {\"Protein_per_100kcal\": 5.0, ...})\n",
        "    :param model: sklearn-Modell – z. B. trainierter RandomForestClassifier\n",
        "    :param feature_list: list – Liste der Feature-Namen in richtiger Reihenfolge\n",
        "    :return: Tuple (Label-Text, Wahrscheinlichkeit in %)\n",
        "    \"\"\"\n",
        "    import pandas as pd\n",
        "\n",
        "    # Eingabe in DataFrame umwandeln\n",
        "    input_df = pd.DataFrame([input_dict])[feature_list]\n",
        "\n",
        "    # Vorhersage & Wahrscheinlichkeit\n",
        "    prediction = model.predict(input_df)[0]\n",
        "    prob = model.predict_proba(input_df)[0][prediction]\n",
        "\n",
        "    # Label interpretieren\n",
        "    label_text = \"chronisches Risiko vorhanden\" if prediction == 1 else \"kein chronisches Risiko\"\n",
        "\n",
        "    return label_text, round(prob * 100, 2)\n"
      ]
    },
    {
      "cell_type": "code",
      "execution_count": null,
      "metadata": {
        "id": "KXa2MXoCITWj"
      },
      "outputs": [],
      "source": [
        "#Feature Enginerring nachträglich am 23.04.2025 von kay hinzugefügt\n",
        "#Altersbereiche (age_min, age_max) zu extrahieren, Den passenden Protein-Referenzwert (oder andere Nährstoffe) je Person aus df_meals zu matchen, Eine Abweichung als Verhältnis (Protein / Protein_BLV) zu berechnen\n",
        "\n",
        "\n",
        "\n",
        "# 2. Erste Zeile als Spaltenüberschriften setzen\n",
        "blv_nutrient_requirements.columns = blv_nutrient_requirements.iloc[0]\n",
        "blv_nutrient_requirements = blv_nutrient_requirements.drop(0)\n",
        "\n",
        "# 3. Spalten korrekt benennen\n",
        "blv_nutrient_requirements.rename(columns={\n",
        "    blv_nutrient_requirements.columns[0]: \"sex\",\n",
        "    blv_nutrient_requirements.columns[1]: \"age_range\"\n",
        "}, inplace=True)\n",
        "\n",
        "# 4. Altersbereich extrahieren\n",
        "def parse_age_range(age_str):\n",
        "    if pd.isna(age_str):\n",
        "        return (None, None)\n",
        "    age_str = str(age_str).strip().lower().replace(\"jahre\", \"\").replace(\"years\", \"\").replace(\"y\", \"\")\n",
        "    age_str = age_str.replace(\">\", \"\").replace(\"<\", \"\").replace(\"+\", \"\").replace(\"m\", \"\").strip()\n",
        "    try:\n",
        "        if \"to\" in age_str:\n",
        "            parts = age_str.split(\"to\")\n",
        "            min_age = float(parts[0].strip())\n",
        "            max_age = float(parts[1].strip())\n",
        "            return min_age / 12 if \"m\" in age_str else min_age, max_age / 12 if \"m\" in age_str else max_age\n",
        "        else:\n",
        "            val = float(age_str.strip())\n",
        "            return val, val\n",
        "    except:\n",
        "        return (None, None)\n",
        "\n",
        "blv_nutrient_requirements[[\"age_min\", \"age_max\"]] = blv_nutrient_requirements[\"age_range\"].apply(\n",
        "    lambda x: pd.Series(parse_age_range(x))\n",
        ")\n",
        "\n",
        "# 5. Protein-Spalte korrekt finden und umbenennen\n",
        "for col in blv_nutrient_requirements.columns:\n",
        "    if isinstance(col, str) and \"Protein\" in col and \"(g/kg/d)\" in col:\n",
        "        blv_nutrient_requirements.rename(columns={col: \"Protein_BLV\"}, inplace=True)\n",
        "\n",
        "\n",
        "# 7. Matching-Funktion\n",
        "def get_blv_protein(age, gender):\n",
        "    match = blv_nutrient_requirements[\n",
        "        (blv_nutrient_requirements[\"sex\"].str.lower() == gender.lower()) &\n",
        "        (blv_nutrient_requirements[\"age_min\"].astype(float) <= age) &\n",
        "        (blv_nutrient_requirements[\"age_max\"].astype(float) >= age)\n",
        "    ]\n",
        "    if not match.empty:\n",
        "        return float(match[\"Protein_BLV\"].values[0])\n",
        "    else:\n",
        "        return None\n",
        "\n",
        "# 8. Anwenden auf df_meals\n",
        "df_meals[\"Protein_BLV_Ref\"] = df_meals.apply(\n",
        "    lambda row: get_blv_protein(row[\"Ages\"], row[\"Gender\"]), axis=1\n",
        ")\n",
        "\n",
        "# 9. Verhältnis berechnen\n",
        "df_meals[\"Protein_to_BLV_ratio\"] = df_meals[\"Protein\"] / (df_meals[\"Protein_BLV_Ref\"] + 1e-6)\n",
        "\n",
        "# 10. Vorschau\n",
        "df_meals[[\"Ages\", \"Gender\", \"Protein\", \"Protein_BLV_Ref\", \"Protein_to_BLV_ratio\"]].head()\n",
        "\n",
        "print(blv_nutrient_requirements.columns.tolist())"
      ]
    },
    {
      "cell_type": "markdown",
      "metadata": {
        "id": "h2XID_HzIUNj"
      },
      "source": [
        "---\n",
        "\n",
        "## ✅ **Orientierungswerte für eine gesunde Ernährung**  \n",
        "(*Idealbereich – für Erwachsene mit normalem Energiebedarf, z. B. 2000–2500 kcal*)\n",
        "\n",
        "| Feature | Idealwert / Zielbereich | Bedeutung |\n",
        "|--------|--------------------------|-----------|\n",
        "| **Protein_per_100kcal** | **> 4.5** | Eiweißdicht – gute Sättigung, Muskelversorgung |\n",
        "| **Fat_to_Protein_Ratio** | **0.5–1.0** | Ausgewogen: weder zu fett- noch zu eiweißlastig |\n",
        "| **Carb_to_Fat_Ratio** | **3–5** | Kohlenhydrate überwiegen, aber nicht extrem |\n",
        "| **Sugar_per_Carb** | **< 0.2** | Max. 20 % der Carbs sollten Zucker sein |\n",
        "| **Calories_exceed_target** | **0** | Ziel sollte nicht regelmäßig überschritten werden |\n",
        "| **Sugar_excess** | **0** | Max. 50 g Zucker pro Tag, besser weniger |\n",
        "| **Protein_deficit_ratio** | **> 1.0** | Mindestens 100 % des Proteinbedarfs decken |\n",
        "| **Protein_Lunch_vs_Dinner** | **≈ 1.0** | Gleichmäßige Eiweißverteilung über den Tag |\n",
        "| **Snack_Energy_Share** | **< 0.10** | Snacks max. 10 % der Gesamtkalorien |\n",
        "| **Carb_ratio_breakfast** | **~ 0.2–0.3** | Ca. 20–30 % der Carbs zum Frühstück |\n",
        "| **Protein_std** | **< 10** | Gleichmäßige Proteinzufuhr über alle Mahlzeiten |\n",
        "| **Macronutrient_Diversity** | **5** | Alle 5 Makros vorhanden: Protein, Fett, Carbs, Zucker, Ballaststoffe |\n",
        "\n",
        "---\n",
        "\n",
        "### 🧠 Zusammengefasst:  \n",
        "Ein „gesundes“ Ernährungsprofil wäre z. B.:\n",
        "\n",
        "- **Viel Protein pro Kalorie** → gute Qualität\n",
        "- **Wenig Zucker im Verhältnis zu Carbs**\n",
        "- **Snacks moderat**\n",
        "- **Verteilung der Makros über den Tag**\n",
        "- **Kein Kalorienüberschuss**\n",
        "- **Alle Makronährstoffe dabei**\n",
        "\n",
        "---\n"
      ]
    },
    {
      "cell_type": "code",
      "execution_count": null,
      "metadata": {
        "colab": {
          "base_uri": "https://localhost:8080/"
        },
        "id": "kCE7sdwZFymy",
        "outputId": "603b123c-dafc-47c2-ff66-a89b5e20658a"
      },
      "outputs": [],
      "source": [
        "\n",
        "beispiel_input = {\n",
        "    # Anteil von Protein pro 100 kcal – zeigt Eiweißdichte der Ernährung\n",
        "    \"Protein_per_100kcal\": 5,  # z. B. 5g Eiweiß pro 100 kcal\n",
        "\n",
        "    # Verhältnis von Fett zu Eiweiß – höher = fettreiche, eiweißarme Ernährung\n",
        "    \"Fat_to_Protein_Ratio\": 0.6,  # z. B. 0.6g Fett pro 1g Eiweiß\n",
        "\n",
        "    # Verhältnis von Kohlenhydraten zu Fett – hoher Wert = viele Carbs, wenig Fett\n",
        "    \"Carb_to_Fat_Ratio\": 1.5,  # z. B. 4.5g Carbs pro 1g Fett\n",
        "\n",
        "    # Anteil Zucker an den gesamten Kohlenhydraten\n",
        "    \"Sugar_per_Carb\": 0.4,  # z. B. 40% der Kohlenhydrate sind Zucker\n",
        "\n",
        "    # 1 = Person hat Kalorienziel überschritten (Daily Calorie Target), 0 = nicht\n",
        "    \"Calories_exceed_target\": 1,  # Ja\n",
        "\n",
        "    # 1 = Person hat mehr als 50g Zucker aufgenommen, 0 = nein\n",
        "    \"Sugar_excess\": 0,  # Ja\n",
        "\n",
        "    # Verhältnis tatsächlicher Proteinzufuhr zur Empfehlung gem. BLV\n",
        "    \"Protein_deficit_ratio\": 0.7,  # z. B. nur 70% des benötigten Proteins aufgenommen\n",
        "\n",
        "    # Verhältnis Protein Mittagessen zu Abendessen – sagt was über Tagesverteilung\n",
        "    \"Protein_Lunch_vs_Dinner\": 2.0,  # doppelt so viel Eiweiß zu Mittag\n",
        "\n",
        "    # Anteil der Snacks an den gesamten Tageskalorien\n",
        "    \"Snack_Energy_Share\": 0.12,  # z. B. 12% der Kalorien stammen aus Snacks\n",
        "\n",
        "    # Anteil der Frühstücks-Carbs an allen Carbs\n",
        "    \"Carb_ratio_breakfast\": 0.2,  # 20% der Carbs werden beim Frühstück gegessen\n",
        "\n",
        "    # Streuung der Proteinwerte über die Mahlzeiten – je höher, desto ungleichmäßiger verteilt\n",
        "    \"Protein_std\": 15.0,  # z. B. starke Schwankungen bei Proteinzufuhr über den Tag\n",
        "\n",
        "    # Wie viele Makronährstoffe wurden überhaupt konsumiert (>0g)?\n",
        "    \"Macronutrient_Diversity\": 5  # alle 5 (Protein, Fett, Carbs, Zucker, Ballaststoffe)\n",
        "}\n",
        "\n",
        "\n",
        "# Aufruf mit deinem Modell (z. B. clf)\n",
        "text, proz = vorhersage_chronisches_risiko(beispiel_input, clf, features)\n",
        "\n",
        "print(f\"🧪 Vorhersage: {text} ({proz}% Wahrscheinlichkeit)\")\n"
      ]
    },
    {
      "cell_type": "code",
      "execution_count": null,
      "metadata": {
        "id": "t5q7G8jrwzDm"
      },
      "outputs": [],
      "source": [
        "#Welche Cluster sind eher „gesund“?\n",
        "df_meals_clean.explode(\"Disease_List\").groupby([\"Cluster\", \"Disease_List\"]).size().unstack().fillna(0)\n"
      ]
    },
    {
      "cell_type": "code",
      "execution_count": null,
      "metadata": {
        "id": "PgF2h7Coeqd7"
      },
      "outputs": [],
      "source": []
    },
    {
      "cell_type": "markdown",
      "metadata": {
        "id": "5_HrITaKCjLK"
      },
      "source": [
        "**Schritt 3: 3. Zusammenhang zwischen Ernährung und Krankheitsrisiken**\n",
        "\n",
        "- **Korrelationsanalyse:** Untersuchung der Korrelation zwischen Ernährungsmustern und Krankheitsrisiken.\n",
        "- **Regressionsmodelle:** Erstelle Regressionsmodelle, um den Einfluss der Ernährung auf Krankheitsrisiken zu quantifizieren."
      ]
    },
    {
      "cell_type": "code",
      "execution_count": null,
      "metadata": {
        "id": "5oBxCbG4eqd7"
      },
      "outputs": [],
      "source": [
        "# =====================================\n",
        "# Schritt 5: Analyse KAQ\n",
        "# =====================================\n",
        "\n",
        "# 🧠 Frage: xxxxxx\n",
        "# 🎯 Ziel: xxxxxx"
      ]
    },
    {
      "cell_type": "markdown",
      "metadata": {
        "id": "M5rilPLBCuVy"
      },
      "source": [
        "**Schritt 3: 4. Identifikation unausgewogener Ernährungsmuster**\n",
        "\n",
        "- **Vergleich mit Empfehlungen:** Vergleiche der identifizierten Ernährungsmuster mit offiziellen Ernährungsempfehlungen.\n",
        "- **Identifikation von Defizien/Überschüssen:** Bestimmung, welche Muster potenziell unausgewogen sind (z.B. zu wenig Protein, zu viel Zucker)."
      ]
    },
    {
      "cell_type": "code",
      "execution_count": null,
      "metadata": {
        "id": "Akn3L6Laeqd7"
      },
      "outputs": [],
      "source": [
        "# =====================================\n",
        "# Schritt 5: Analyse KAQ\n",
        "# =====================================\n",
        "\n",
        "# 🧠 Frage: xxxxxx\n",
        "# 🎯 Ziel: xxxxxx"
      ]
    },
    {
      "cell_type": "markdown",
      "metadata": {
        "id": "mV7UQMgNC6S7"
      },
      "source": [
        "**Schritt 3: 5. Vergleich von Personen mit und ohne Krankheit**\n",
        "\n",
        "- **Gruppenvergleich:** Vergleich der Ernähungsprofile von Personen mit und ohne Krankheiten.\n",
        "- **Statistische Tests:** Verwendung von Tests wie dem t-Test, um signifikante Unterschiede zu identifizieren."
      ]
    },
    {
      "cell_type": "code",
      "execution_count": null,
      "metadata": {
        "id": "0l0dMFEFeqd7"
      },
      "outputs": [],
      "source": [
        "# =====================================\n",
        "# Schritt 6: Analyse KAQ\n",
        "# =====================================\n",
        "\n",
        "# 🧠 Frage: xxxxxx\n",
        "# 🎯 Ziel: xxxxxx"
      ]
    },
    {
      "cell_type": "markdown",
      "metadata": {
        "id": "367sEq8KDIsq"
      },
      "source": [
        "**Schritt 3: 6. Empfehlungen basierend auf Clusterbildung**\n",
        "\n",
        "- **Personalisierte Empfehlungen:** Erstellung von personalisierten Ernährungsempfehlungen basierend auf den identifizierten Clustern.\n",
        "- **Berücksichtigung von Krankheiten:** Integration von offiziellen Empfehlungen für bestimmte Krankheiten in die personalisierten Empfehlungen."
      ]
    },
    {
      "cell_type": "code",
      "execution_count": null,
      "metadata": {
        "id": "Mkhxr15hDWyz"
      },
      "outputs": [],
      "source": [
        "# =====================================\n",
        "# Schritt 7: Analyse KAQ\n",
        "# =====================================\n",
        "\n",
        "# 🧠 Frage: xxxxxx\n",
        "# 🎯 Ziel: xxxxxx"
      ]
    },
    {
      "cell_type": "markdown",
      "metadata": {
        "id": "6mz6WHfEDUps"
      },
      "source": []
    },
    {
      "cell_type": "code",
      "execution_count": null,
      "metadata": {
        "id": "IgRyj7JZiF4j"
      },
      "outputs": [],
      "source": []
    },
    {
      "cell_type": "markdown",
      "metadata": {
        "id": "HipJFm4AEuMu"
      },
      "source": [
        "**Schritt 4: Kommunikation für Entscheider**\n",
        "\n",
        "- Visualisierung der Resultate (Dashboards, Diagramme)\n",
        "- Empfehlungen je Zielgruppe\n",
        "- Ableitung konkreter Maßnahmen oder Produktideen"
      ]
    },
    {
      "cell_type": "code",
      "execution_count": null,
      "metadata": {
        "id": "DuJtr7ariGAs"
      },
      "outputs": [],
      "source": []
    },
    {
      "cell_type": "code",
      "execution_count": null,
      "metadata": {
        "id": "fM7wnFTxiGDh"
      },
      "outputs": [],
      "source": []
    },
    {
      "cell_type": "code",
      "execution_count": null,
      "metadata": {
        "id": "Xng7R7CniGGZ"
      },
      "outputs": [],
      "source": []
    },
    {
      "cell_type": "code",
      "execution_count": null,
      "metadata": {
        "id": "4LXPWkvhiGIr"
      },
      "outputs": [],
      "source": []
    },
    {
      "cell_type": "code",
      "execution_count": null,
      "metadata": {
        "id": "rYQq8GZIiGL9"
      },
      "outputs": [],
      "source": []
    },
    {
      "cell_type": "code",
      "execution_count": null,
      "metadata": {
        "id": "q59Lvl-5iGNz"
      },
      "outputs": [],
      "source": []
    },
    {
      "cell_type": "markdown",
      "metadata": {
        "id": "8k6o9OsJiHeK"
      },
      "source": []
    },
    {
      "cell_type": "code",
      "execution_count": null,
      "metadata": {
        "id": "jujGt0yliIDA"
      },
      "outputs": [],
      "source": [
        " # Ab hier macht murat was"
      ]
    },
    {
      "cell_type": "code",
      "execution_count": null,
      "metadata": {
        "id": "cucGo43oiGQB"
      },
      "outputs": [],
      "source": [
        "import pandas as pd\n",
        "import plotly.express as px\n",
        "\n",
        "# 1. Histogramm – Kalorienverteilung\n",
        "px.histogram(df_meals, x=\"Calories\", nbins=30, title=\"Verteilung der Tageskalorien\").show()\n",
        "\n",
        "# 2. Boxplot – Zuckeraufnahme nach Geschlecht\n",
        "px.box(df_meals, x=\"Gender\", y=\"Sugar\", title=\"Zuckeraufnahme nach Geschlecht\").show()\n",
        "\n",
        "# 3. Scatterplot – Protein vs. Zucker nach Krankheit\n",
        "px.scatter(\n",
        "    df_meals,\n",
        "    x=\"Protein\",\n",
        "    y=\"Sugar\",\n",
        "    color=\"Disease\",\n",
        "    title=\"Protein vs. Zuckeraufnahme nach Krankheit\",\n",
        "    hover_data=[\"Ages\", \"Gender\"]\n",
        ").show()\n",
        "\n",
        "# 4. Violinplot – Fettzufuhr je Aktivitätslevel\n",
        "px.violin(\n",
        "    df_meals,\n",
        "    x=\"Activity Level\",\n",
        "    y=\"Fat\",\n",
        "    box=True,\n",
        "    points=\"all\",\n",
        "    title=\"Fettzufuhr je Aktivitätslevel\"\n",
        ").show()"
      ]
    },
    {
      "cell_type": "markdown",
      "metadata": {
        "id": "ODiYRHi99_M-"
      },
      "source": [
        "Super, danke fürs Teilen des Screenshots! Ich sehe sofort, was du meinst. Hier kommt die Analyse deiner **Scatterplot-Visualisierung (Protein vs. Zucker) mit Trendlinie**:\n",
        "\n",
        "---\n",
        "\n",
        "### 📊 **Was zeigt dieser Plot?**\n",
        "\n",
        "- **X-Achse:** Proteinaufnahme pro Tag (in g)\n",
        "- **Y-Achse:** Zuckeraufnahme pro Tag (in g)\n",
        "- **Jeder Punkt:** Eine Person aus dem Datensatz\n",
        "- **Farben:** Krankheit(en) der jeweiligen Person\n",
        "- **Gerade Linie:** Eine **Trendlinie (Regression)** → zeigt den **durchschnittlichen Zusammenhang**\n",
        "\n",
        "---\n",
        "\n",
        "### 📈 **Interpretation der steigenden Trendlinie**\n",
        "\n",
        "- Die **positive Steigung** der Linie bedeutet:  \n",
        "  **Mehr Protein → tendenziell auch mehr Zuckeraufnahme.**\n",
        "\n",
        "- Das kann ein Hinweis sein auf:\n",
        "  - Allgemein **höheren Energiebedarf** (z. B. sportliche oder junge Personen)\n",
        "  - Ernährungsmuster, bei denen **Makros insgesamt steigen** (z. B. durch große Portionen oder energie-dichte Lebensmittel)\n",
        "\n",
        "---\n",
        "\n",
        "### 🩺 **Bezug zu Krankheiten**\n",
        "\n",
        "- Der Datensatz zeigt:\n",
        "  - Auch Personen mit mehreren Krankheiten (z. B. *Diabetes*, *Heart Disease*) liegen in diesem Bereich mit **hoher Protein- und Zuckeraufnahme**.\n",
        "  - Diese Ballung könnte für **KAQ 1 und KAQ 3** interessant sein:\n",
        "    > Gibt es Cluster mit hohem Zucker & Protein, die **häufiger krank** sind?\n",
        "\n",
        "---\n",
        "\n",
        "### 🧠 **Ideen für weiterführende Schritte:**\n",
        "\n",
        "1. **Clustering:** Nutze K-Means oder DBSCAN, um Gruppen mit ähnlichem Makroprofil zu finden.\n",
        "2. **Split nach Krankheit:** Mache den gleichen Scatterplot **nur für Diabetiker** vs. **Nicht-Diabetiker**.\n",
        "3. **Korrelation berechnen:** z. B. Pearson- oder Spearman-Korrelation zwischen Protein & Zucker.\n",
        "4. **Deckungsgrade:** Wie gut erfüllen diese Gruppen die BLV-Empfehlungen?\n",
        "\n",
        "---\n",
        "\n",
        "Wenn du willst, kann ich dir den Code liefern, um das alles direkt im Notebook umzusetzen. Oder ich rechne dir als Nächstes die Korrelation aus – sag einfach, was dir lieber ist."
      ]
    },
    {
      "cell_type": "markdown",
      "metadata": {
        "id": "3pizWqCZXxgg"
      },
      "source": []
    },
    {
      "cell_type": "code",
      "execution_count": null,
      "metadata": {
        "id": "SBgQwWDbXx3s"
      },
      "outputs": [],
      "source": [
        "# 📦 Importiere notwendige Module\n",
        "import os\n",
        "from nbformat import read\n",
        "from nbformat.validator import validate\n",
        "\n",
        "# 📍 Definiere den vollständigen Pfad zu deinem Notebook\n",
        "notebook_path = r\"onlyAnalysis_Ernährung.ipynb\"\n",
        "\n",
        "# 🧪 Überprüfe, ob die Datei existiert\n",
        "if not os.path.exists(notebook_path):\n",
        "    print(f\"⚠️ Datei nicht gefunden: {notebook_path}\")\n",
        "    print(\"Bitte überprüfen Sie den Pfad und stellen Sie sicher, dass die Datei existiert.\")\n",
        "    # Exit the script gracefully\n",
        "    import sys\n",
        "    sys.exit(1)\n",
        "    # 🗂️ Zeige den absoluten Pfad der Datei\n",
        "    absolute_path = os.path.abspath(notebook_path)\n",
        "    print(f\"📂 Absoluter Pfad der Datei: {absolute_path}\")\n",
        "# 📖 Öffne das Notebook und lade den Inhalt\n",
        "with open(notebook_path, \"r\", encoding=\"utf-8\") as f:\n",
        "    nb = read(f, as_version=4)\n",
        "\n",
        "# ✅ Validierung durchführen\n",
        "validate(nb)\n",
        "print(\"✅ Das Notebook ist gültig und im richtigen Format!\")"
      ]
    }
  ],
  "metadata": {
    "colab": {
      "provenance": []
    },
    "kernelspec": {
      "display_name": "Python 3",
      "language": "python",
      "name": "python3"
    },
    "language_info": {
      "codemirror_mode": {
        "name": "ipython",
        "version": 3
      },
      "file_extension": ".py",
      "mimetype": "text/x-python",
      "name": "python",
      "nbconvert_exporter": "python",
      "pygments_lexer": "ipython3",
      "version": "3.9.6"
    }
  },
  "nbformat": 4,
  "nbformat_minor": 0
}
