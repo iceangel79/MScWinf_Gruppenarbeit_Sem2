{
 "cells": [
  {
   "cell_type": "markdown",
   "metadata": {},
   "source": [
    "<p style=\"text-align: center; font-weight: bold;\">\n",
    "    Trinkwasseranalyse<br>\n",
    "    von <br>\n",
    "    Gruppe 5 – Flavia De Solda, Kay Sheppard, Murat Ayhekim, Adrian Martic, Adrian Wegmann<br>\n",
    "    FFHS/BFH/HSLU und OST – Master of Science in Wirtschaftsinformatik<br>\n",
    "    März 2025\n",
    "</p>\n",
    "\n",
    "\n",
    "## Erklärung\n",
    "\n",
    "Wir erklären hiermit, dass wir die vorliegende Arbeit für das Modul BINA bzw. die von uns ausgewiesene Leistung selbständig, ohne unzulässige Hilfe Dritter und ausschließlich unter Verwendung der angegebenen Quellen verfasst bzw. erbracht haben. Zur sprachlichen Überprüfung, zur besseren Verständlichkeit der Zusammenhänge sowie zur Sicherstellung eines konsistenten roten Fadens wurde unterstützend ein KI-Tool eingesetzt.\n",
    "\n",
    "Zürich, 13.06.2025  \n",
    "Die unterschriebene Selbständigkeitserklärung befindet sich im Anhang.\n",
    "\n",
    "\n",
    "---"
   ]
  }
 ],
 "metadata": {
  "language_info": {
   "name": "python"
  }
 },
 "nbformat": 4,
 "nbformat_minor": 2
}
