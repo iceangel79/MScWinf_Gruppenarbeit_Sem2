{
 "cells": [
  {
   "cell_type": "code",
   "execution_count": 2,
   "metadata": {},
   "outputs": [
    {
     "name": "stdout",
     "output_type": "stream",
     "text": [
      "Defaulting to user installation because normal site-packages is not writeable\n",
      "Requirement already satisfied: pandas in /Users/muratayhekim/Library/Python/3.9/lib/python/site-packages (2.2.3)\n",
      "Requirement already satisfied: numpy>=1.22.4 in /Users/muratayhekim/Library/Python/3.9/lib/python/site-packages (from pandas) (2.0.2)\n",
      "Requirement already satisfied: python-dateutil>=2.8.2 in /Users/muratayhekim/Library/Python/3.9/lib/python/site-packages (from pandas) (2.9.0.post0)\n",
      "Requirement already satisfied: pytz>=2020.1 in /Users/muratayhekim/Library/Python/3.9/lib/python/site-packages (from pandas) (2025.1)\n",
      "Requirement already satisfied: tzdata>=2022.7 in /Users/muratayhekim/Library/Python/3.9/lib/python/site-packages (from pandas) (2025.1)\n",
      "Requirement already satisfied: six>=1.5 in /Applications/Xcode.app/Contents/Developer/Library/Frameworks/Python3.framework/Versions/3.9/lib/python3.9/site-packages (from python-dateutil>=2.8.2->pandas) (1.15.0)\n",
      "Note: you may need to restart the kernel to use updated packages.\n"
     ]
    }
   ],
   "source": [
    "pip install pandas\n"
   ]
  },
  {
   "cell_type": "code",
   "execution_count": 3,
   "metadata": {},
   "outputs": [
    {
     "name": "stdout",
     "output_type": "stream",
     "text": [
      "Defaulting to user installation because normal site-packages is not writeable\n",
      "Requirement already satisfied: kaggle in /Users/muratayhekim/Library/Python/3.9/lib/python/site-packages (1.6.17)\n",
      "Requirement already satisfied: six>=1.10 in /Applications/Xcode.app/Contents/Developer/Library/Frameworks/Python3.framework/Versions/3.9/lib/python3.9/site-packages (from kaggle) (1.15.0)\n",
      "Requirement already satisfied: certifi>=2023.7.22 in /Users/muratayhekim/Library/Python/3.9/lib/python/site-packages (from kaggle) (2025.1.31)\n",
      "Requirement already satisfied: python-dateutil in /Users/muratayhekim/Library/Python/3.9/lib/python/site-packages (from kaggle) (2.9.0.post0)\n",
      "Requirement already satisfied: requests in /Users/muratayhekim/Library/Python/3.9/lib/python/site-packages (from kaggle) (2.32.3)\n",
      "Requirement already satisfied: tqdm in /Users/muratayhekim/Library/Python/3.9/lib/python/site-packages (from kaggle) (4.67.1)\n",
      "Requirement already satisfied: python-slugify in /Users/muratayhekim/Library/Python/3.9/lib/python/site-packages (from kaggle) (8.0.4)\n",
      "Requirement already satisfied: urllib3 in /Users/muratayhekim/Library/Python/3.9/lib/python/site-packages (from kaggle) (2.3.0)\n",
      "Requirement already satisfied: bleach in /Users/muratayhekim/Library/Python/3.9/lib/python/site-packages (from kaggle) (6.2.0)\n",
      "Requirement already satisfied: webencodings in /Users/muratayhekim/Library/Python/3.9/lib/python/site-packages (from bleach->kaggle) (0.5.1)\n",
      "Requirement already satisfied: text-unidecode>=1.3 in /Users/muratayhekim/Library/Python/3.9/lib/python/site-packages (from python-slugify->kaggle) (1.3)\n",
      "Requirement already satisfied: charset-normalizer<4,>=2 in /Users/muratayhekim/Library/Python/3.9/lib/python/site-packages (from requests->kaggle) (3.4.1)\n",
      "Requirement already satisfied: idna<4,>=2.5 in /Users/muratayhekim/Library/Python/3.9/lib/python/site-packages (from requests->kaggle) (3.10)\n",
      "Note: you may need to restart the kernel to use updated packages.\n"
     ]
    }
   ],
   "source": [
    "pip install kaggle"
   ]
  },
  {
   "cell_type": "code",
   "execution_count": 4,
   "metadata": {},
   "outputs": [
    {
     "name": "stdout",
     "output_type": "stream",
     "text": [
      "Name: kaggle\n",
      "Version: 1.6.17\n",
      "Summary: Kaggle API\n",
      "Home-page: https://github.com/Kaggle/kaggle-api\n",
      "Author: Kaggle\n",
      "Author-email: support@kaggle.com\n",
      "License: Apache 2.0\n",
      "Location: /Users/muratayhekim/Library/Python/3.9/lib/python/site-packages\n",
      "Requires: bleach, certifi, python-dateutil, python-slugify, requests, six, tqdm, urllib3\n",
      "Required-by: \n",
      "Note: you may need to restart the kernel to use updated packages.\n"
     ]
    }
   ],
   "source": [
    "pip show kaggle\n"
   ]
  },
  {
   "cell_type": "code",
   "execution_count": 5,
   "metadata": {},
   "outputs": [
    {
     "name": "stdout",
     "output_type": "stream",
     "text": [
      "Warning: Your Kaggle API key is readable by other users on this system! To fix this, you can run 'chmod 600 /Users/muratayhekim/.kaggle/kaggle.json'\n"
     ]
    },
    {
     "name": "stderr",
     "output_type": "stream",
     "text": [
      "/Users/muratayhekim/Library/Python/3.9/lib/python/site-packages/urllib3/__init__.py:35: NotOpenSSLWarning: urllib3 v2 only supports OpenSSL 1.1.1+, currently the 'ssl' module is compiled with 'LibreSSL 2.8.3'. See: https://github.com/urllib3/urllib3/issues/3020\n",
      "  warnings.warn(\n"
     ]
    }
   ],
   "source": [
    "import numpy as np\n",
    "import pandas as pd\n",
    "import kaggle"
   ]
  },
  {
   "cell_type": "code",
   "execution_count": 12,
   "metadata": {},
   "outputs": [
    {
     "name": "stdout",
     "output_type": "stream",
     "text": [
      "Dataset URL: https://www.kaggle.com/datasets/farzadnekouei/gold-price-10-years-20132023\n",
      "['Murat.ipynb', 'Gold Price (2013-2023).csv']\n",
      "         Date     Price      Open      High       Low     Vol. Change %\n",
      "0  12/30/2022  1,826.20  1,821.80  1,832.40  1,819.80  107.50K    0.01%\n",
      "1  12/29/2022  1,826.00  1,812.30  1,827.30  1,811.20  105.99K    0.56%\n",
      "2  12/28/2022  1,815.80  1,822.40  1,822.80  1,804.20  118.08K   -0.40%\n",
      "3  12/27/2022  1,823.10  1,808.20  1,841.90  1,808.00  159.62K    0.74%\n",
      "4  12/26/2022  1,809.70  1,805.80  1,811.95  1,805.55      NaN    0.30%\n",
      "Date        object\n",
      "Price       object\n",
      "Open        object\n",
      "High        object\n",
      "Low         object\n",
      "Vol.        object\n",
      "Change %    object\n",
      "dtype: object\n",
      "<bound method DataFrame.info of             Date     Price      Open      High       Low     Vol. Change %\n",
      "0     12/30/2022  1,826.20  1,821.80  1,832.40  1,819.80  107.50K    0.01%\n",
      "1     12/29/2022  1,826.00  1,812.30  1,827.30  1,811.20  105.99K    0.56%\n",
      "2     12/28/2022  1,815.80  1,822.40  1,822.80  1,804.20  118.08K   -0.40%\n",
      "3     12/27/2022  1,823.10  1,808.20  1,841.90  1,808.00  159.62K    0.74%\n",
      "4     12/26/2022  1,809.70  1,805.80  1,811.95  1,805.55      NaN    0.30%\n",
      "...          ...       ...       ...       ...       ...      ...      ...\n",
      "2578  01/08/2013  1,663.20  1,651.50  1,662.60  1,648.80    0.13K    0.97%\n",
      "2579  01/07/2013  1,647.20  1,657.30  1,663.80  1,645.30    0.09K   -0.16%\n",
      "2580  01/04/2013  1,649.90  1,664.40  1,664.40  1,630.00    0.31K   -1.53%\n",
      "2581  01/03/2013  1,675.60  1,688.00  1,689.30  1,664.30    0.19K   -0.85%\n",
      "2582  01/02/2013  1,689.90  1,675.80  1,695.00  1,672.10    0.06K    0.78%\n",
      "\n",
      "[2583 rows x 7 columns]>\n",
      "Index(['Date', 'Price', 'Open', 'High', 'Low', 'Vol.', 'Change %'], dtype='object')\n",
      "<bound method NDFrame.describe of             Date     Price      Open      High       Low     Vol. Change %\n",
      "0     12/30/2022  1,826.20  1,821.80  1,832.40  1,819.80  107.50K    0.01%\n",
      "1     12/29/2022  1,826.00  1,812.30  1,827.30  1,811.20  105.99K    0.56%\n",
      "2     12/28/2022  1,815.80  1,822.40  1,822.80  1,804.20  118.08K   -0.40%\n",
      "3     12/27/2022  1,823.10  1,808.20  1,841.90  1,808.00  159.62K    0.74%\n",
      "4     12/26/2022  1,809.70  1,805.80  1,811.95  1,805.55      NaN    0.30%\n",
      "...          ...       ...       ...       ...       ...      ...      ...\n",
      "2578  01/08/2013  1,663.20  1,651.50  1,662.60  1,648.80    0.13K    0.97%\n",
      "2579  01/07/2013  1,647.20  1,657.30  1,663.80  1,645.30    0.09K   -0.16%\n",
      "2580  01/04/2013  1,649.90  1,664.40  1,664.40  1,630.00    0.31K   -1.53%\n",
      "2581  01/03/2013  1,675.60  1,688.00  1,689.30  1,664.30    0.19K   -0.85%\n",
      "2582  01/02/2013  1,689.90  1,675.80  1,695.00  1,672.10    0.06K    0.78%\n",
      "\n",
      "[2583 rows x 7 columns]>\n",
      "Date        0\n",
      "Price       0\n",
      "Open        0\n",
      "High        0\n",
      "Low         0\n",
      "Vol.        5\n",
      "Change %    0\n",
      "dtype: int64\n",
      "0\n"
     ]
    }
   ],
   "source": [
    "# Lade den Kaggle-Datensatz herunter\n",
    "dataset = \"farzadnekouei/gold-price-10-years-20132023\"\n",
    "kaggle.api.dataset_download_files(dataset, path=\".\", unzip=True)\n",
    "\n",
    "import pandas as pd\n",
    "import os\n",
    "\n",
    "# Zeige Dateien im aktuellen Verzeichnis an\n",
    "print(os.listdir(\".\"))\n",
    "\n",
    "# Angenommen, die Datei heißt \"gold_price.csv\"\n",
    "df = pd.read_csv(\"Gold Price (2013-2023).csv\")\n",
    "\n",
    "# Ersten 5 Zeilen anzeigen\n",
    "print(df.head())\n",
    "\n",
    "# Datentypen prüfen\n",
    "print(df.dtypes)\n",
    "\n",
    "# Info\n",
    "print(df.info)\n",
    "\n",
    "# columns prüfen\n",
    "print(df.columns)\n",
    "\n",
    "# describe prüfen\n",
    "print(df.describe)\n",
    "\n",
    "print(df.isnull().sum())\n",
    "print(df.duplicated().sum())"
   ]
  },
  {
   "cell_type": "code",
   "execution_count": null,
   "metadata": {},
   "outputs": [
    {
     "name": "stdout",
     "output_type": "stream",
     "text": [
      "Empty DataFrame\n",
      "Columns: []\n",
      "Index: [0, 1, 2, 3, 4]\n"
     ]
    },
    {
     "ename": "ValueError",
     "evalue": "could not convert string to float: '12/30/2022'",
     "output_type": "error",
     "traceback": [
      "\u001b[0;31m---------------------------------------------------------------------------\u001b[0m",
      "\u001b[0;31mValueError\u001b[0m                                Traceback (most recent call last)",
      "Cell \u001b[0;32mIn[13], line 2\u001b[0m\n\u001b[1;32m      1\u001b[0m \u001b[38;5;28mprint\u001b[39m(df\u001b[38;5;241m.\u001b[39mselect_dtypes(include\u001b[38;5;241m=\u001b[39m[\u001b[38;5;124m'\u001b[39m\u001b[38;5;124mnumber\u001b[39m\u001b[38;5;124m'\u001b[39m])\u001b[38;5;241m.\u001b[39mhead())\n\u001b[0;32m----> 2\u001b[0m \u001b[38;5;28mprint\u001b[39m(\u001b[43mdf\u001b[49m\u001b[38;5;241;43m.\u001b[39;49m\u001b[43mcorr\u001b[49m\u001b[43m(\u001b[49m\u001b[43m)\u001b[49m)\n\u001b[1;32m      5\u001b[0m \u001b[38;5;28;01mimport\u001b[39;00m\u001b[38;5;250m \u001b[39m\u001b[38;5;21;01mmatplotlib\u001b[39;00m\u001b[38;5;21;01m.\u001b[39;00m\u001b[38;5;21;01mpyplot\u001b[39;00m\u001b[38;5;250m \u001b[39m\u001b[38;5;28;01mas\u001b[39;00m\u001b[38;5;250m \u001b[39m\u001b[38;5;21;01mplt\u001b[39;00m\n\u001b[1;32m      6\u001b[0m \u001b[38;5;28;01mimport\u001b[39;00m\u001b[38;5;250m \u001b[39m\u001b[38;5;21;01mseaborn\u001b[39;00m\u001b[38;5;250m \u001b[39m\u001b[38;5;28;01mas\u001b[39;00m\u001b[38;5;250m \u001b[39m\u001b[38;5;21;01msns\u001b[39;00m\n",
      "File \u001b[0;32m~/Library/Python/3.9/lib/python/site-packages/pandas/core/frame.py:11049\u001b[0m, in \u001b[0;36mDataFrame.corr\u001b[0;34m(self, method, min_periods, numeric_only)\u001b[0m\n\u001b[1;32m  11047\u001b[0m cols \u001b[38;5;241m=\u001b[39m data\u001b[38;5;241m.\u001b[39mcolumns\n\u001b[1;32m  11048\u001b[0m idx \u001b[38;5;241m=\u001b[39m cols\u001b[38;5;241m.\u001b[39mcopy()\n\u001b[0;32m> 11049\u001b[0m mat \u001b[38;5;241m=\u001b[39m \u001b[43mdata\u001b[49m\u001b[38;5;241;43m.\u001b[39;49m\u001b[43mto_numpy\u001b[49m\u001b[43m(\u001b[49m\u001b[43mdtype\u001b[49m\u001b[38;5;241;43m=\u001b[39;49m\u001b[38;5;28;43mfloat\u001b[39;49m\u001b[43m,\u001b[49m\u001b[43m \u001b[49m\u001b[43mna_value\u001b[49m\u001b[38;5;241;43m=\u001b[39;49m\u001b[43mnp\u001b[49m\u001b[38;5;241;43m.\u001b[39;49m\u001b[43mnan\u001b[49m\u001b[43m,\u001b[49m\u001b[43m \u001b[49m\u001b[43mcopy\u001b[49m\u001b[38;5;241;43m=\u001b[39;49m\u001b[38;5;28;43;01mFalse\u001b[39;49;00m\u001b[43m)\u001b[49m\n\u001b[1;32m  11051\u001b[0m \u001b[38;5;28;01mif\u001b[39;00m method \u001b[38;5;241m==\u001b[39m \u001b[38;5;124m\"\u001b[39m\u001b[38;5;124mpearson\u001b[39m\u001b[38;5;124m\"\u001b[39m:\n\u001b[1;32m  11052\u001b[0m     correl \u001b[38;5;241m=\u001b[39m libalgos\u001b[38;5;241m.\u001b[39mnancorr(mat, minp\u001b[38;5;241m=\u001b[39mmin_periods)\n",
      "File \u001b[0;32m~/Library/Python/3.9/lib/python/site-packages/pandas/core/frame.py:1993\u001b[0m, in \u001b[0;36mDataFrame.to_numpy\u001b[0;34m(self, dtype, copy, na_value)\u001b[0m\n\u001b[1;32m   1991\u001b[0m \u001b[38;5;28;01mif\u001b[39;00m dtype \u001b[38;5;129;01mis\u001b[39;00m \u001b[38;5;129;01mnot\u001b[39;00m \u001b[38;5;28;01mNone\u001b[39;00m:\n\u001b[1;32m   1992\u001b[0m     dtype \u001b[38;5;241m=\u001b[39m np\u001b[38;5;241m.\u001b[39mdtype(dtype)\n\u001b[0;32m-> 1993\u001b[0m result \u001b[38;5;241m=\u001b[39m \u001b[38;5;28;43mself\u001b[39;49m\u001b[38;5;241;43m.\u001b[39;49m\u001b[43m_mgr\u001b[49m\u001b[38;5;241;43m.\u001b[39;49m\u001b[43mas_array\u001b[49m\u001b[43m(\u001b[49m\u001b[43mdtype\u001b[49m\u001b[38;5;241;43m=\u001b[39;49m\u001b[43mdtype\u001b[49m\u001b[43m,\u001b[49m\u001b[43m \u001b[49m\u001b[43mcopy\u001b[49m\u001b[38;5;241;43m=\u001b[39;49m\u001b[43mcopy\u001b[49m\u001b[43m,\u001b[49m\u001b[43m \u001b[49m\u001b[43mna_value\u001b[49m\u001b[38;5;241;43m=\u001b[39;49m\u001b[43mna_value\u001b[49m\u001b[43m)\u001b[49m\n\u001b[1;32m   1994\u001b[0m \u001b[38;5;28;01mif\u001b[39;00m result\u001b[38;5;241m.\u001b[39mdtype \u001b[38;5;129;01mis\u001b[39;00m \u001b[38;5;129;01mnot\u001b[39;00m dtype:\n\u001b[1;32m   1995\u001b[0m     result \u001b[38;5;241m=\u001b[39m np\u001b[38;5;241m.\u001b[39masarray(result, dtype\u001b[38;5;241m=\u001b[39mdtype)\n",
      "File \u001b[0;32m~/Library/Python/3.9/lib/python/site-packages/pandas/core/internals/managers.py:1688\u001b[0m, in \u001b[0;36mBlockManager.as_array\u001b[0;34m(self, dtype, copy, na_value)\u001b[0m\n\u001b[1;32m   1686\u001b[0m     arr \u001b[38;5;241m=\u001b[39m np\u001b[38;5;241m.\u001b[39masarray(blk\u001b[38;5;241m.\u001b[39mvalues, dtype\u001b[38;5;241m=\u001b[39mdtype)\n\u001b[1;32m   1687\u001b[0m \u001b[38;5;28;01melse\u001b[39;00m:\n\u001b[0;32m-> 1688\u001b[0m     arr \u001b[38;5;241m=\u001b[39m \u001b[43mnp\u001b[49m\u001b[38;5;241;43m.\u001b[39;49m\u001b[43marray\u001b[49m\u001b[43m(\u001b[49m\u001b[43mblk\u001b[49m\u001b[38;5;241;43m.\u001b[39;49m\u001b[43mvalues\u001b[49m\u001b[43m,\u001b[49m\u001b[43m \u001b[49m\u001b[43mdtype\u001b[49m\u001b[38;5;241;43m=\u001b[39;49m\u001b[43mdtype\u001b[49m\u001b[43m,\u001b[49m\u001b[43m \u001b[49m\u001b[43mcopy\u001b[49m\u001b[38;5;241;43m=\u001b[39;49m\u001b[43mcopy\u001b[49m\u001b[43m)\u001b[49m\n\u001b[1;32m   1690\u001b[0m \u001b[38;5;28;01mif\u001b[39;00m using_copy_on_write() \u001b[38;5;129;01mand\u001b[39;00m \u001b[38;5;129;01mnot\u001b[39;00m copy:\n\u001b[1;32m   1691\u001b[0m     arr \u001b[38;5;241m=\u001b[39m arr\u001b[38;5;241m.\u001b[39mview()\n",
      "\u001b[0;31mValueError\u001b[0m: could not convert string to float: '12/30/2022'"
     ]
    }
   ],
   "source": [
    "import matplotlib.pyplot as plt\n",
    "import seaborn as sns\n",
    "\n",
    "plt.figure(figsize=(10,6))\n",
    "sns.heatmap(df.corr(), annot=True, cmap='coolwarm')\n",
    "plt.show()\n",
    "\n",
    "\n",
    "df['Price'].hist(bins=30)\n",
    "plt.show()\n",
    "\n",
    "\n",
    "sns.boxplot(x=df['Price'])\n",
    "plt.show()\n",
    "\n",
    "from scipy.stats import shapiro\n",
    "\n",
    "stat, p = shapiro(df['Spaltenname'])\n",
    "print(f'Statistik: {stat}, p-Wert: {p}')"
   ]
  },
  {
   "cell_type": "code",
   "execution_count": null,
   "metadata": {},
   "outputs": [],
   "source": []
  },
  {
   "cell_type": "code",
   "execution_count": null,
   "metadata": {},
   "outputs": [],
   "source": []
  }
 ],
 "metadata": {
  "kernelspec": {
   "display_name": "Python 3",
   "language": "python",
   "name": "python3"
  },
  "language_info": {
   "codemirror_mode": {
    "name": "ipython",
    "version": 3
   },
   "file_extension": ".py",
   "mimetype": "text/x-python",
   "name": "python",
   "nbconvert_exporter": "python",
   "pygments_lexer": "ipython3",
   "version": "3.9.6"
  }
 },
 "nbformat": 4,
 "nbformat_minor": 2
}
